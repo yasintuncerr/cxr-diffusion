{
 "cells": [
  {
   "cell_type": "markdown",
   "metadata": {},
   "source": [
    "# ELIXRB 32x768 BASED"
   ]
  },
  {
   "cell_type": "code",
   "execution_count": 1,
   "metadata": {},
   "outputs": [
    {
     "name": "stdout",
     "output_type": "stream",
     "text": [
      "/home/yasin/Lfstorage/datasets/nih-cxr14\n"
     ]
    }
   ],
   "source": [
    "import os\n",
    "import sys\n",
    "import h5py\n",
    "from dotenv import load_dotenv \n",
    "from pathlib import Path\n",
    "\n",
    "project_root = Path(os.path.abspath('')).parent.parent\n",
    "sys.path.append(str(project_root))\n",
    "\n",
    "\n",
    "\n",
    "load_dotenv()\n",
    "\n",
    "NIH_CXR14_DATASET_DIR = os.getenv(\"NIH_CXR14_DATASET_DIR\")\n",
    "print(NIH_CXR14_DATASET_DIR)\n",
    "os.environ['CUDA_VISIBLE_DEVICES'] = '2' \n"
   ]
  },
  {
   "cell_type": "code",
   "execution_count": 2,
   "metadata": {},
   "outputs": [
    {
     "name": "stderr",
     "output_type": "stream",
     "text": [
      "/home/yasin/Lfstorage/Projects/cxr-diffusion/.venv/lib/python3.10/site-packages/transformers/utils/hub.py:106: FutureWarning: Using `TRANSFORMERS_CACHE` is deprecated and will be removed in v5 of Transformers. Use `HF_HOME` instead.\n",
      "  warnings.warn(\n",
      "2025-03-03 14:03:35.426379: E external/local_xla/xla/stream_executor/cuda/cuda_fft.cc:477] Unable to register cuFFT factory: Attempting to register factory for plugin cuFFT when one has already been registered\n",
      "WARNING: All log messages before absl::InitializeLog() is called are written to STDERR\n",
      "E0000 00:00:1740999815.448629  771707 cuda_dnn.cc:8310] Unable to register cuDNN factory: Attempting to register factory for plugin cuDNN when one has already been registered\n",
      "E0000 00:00:1740999815.455403  771707 cuda_blas.cc:1418] Unable to register cuBLAS factory: Attempting to register factory for plugin cuBLAS when one has already been registered\n",
      "2025-03-03 14:03:35.478302: I tensorflow/core/platform/cpu_feature_guard.cc:210] This TensorFlow binary is optimized to use available CPU instructions in performance-critical operations.\n",
      "To enable the following instructions: AVX2 FMA, in other operations, rebuild TensorFlow with the appropriate compiler flags.\n"
     ]
    }
   ],
   "source": [
    "from src.utils import Unet2DConditionalTrainerV2, TrainConfigV2, get_validation_samples_v2, create_validation_dataloader\n",
    "from diffusers import DDPMScheduler, UNet2DConditionModel\n",
    "import torch\n",
    "from torch.utils.data import Dataset\n",
    "import torch.optim as optim\n",
    "\n",
    "\n",
    "import numpy as np\n",
    "import os\n",
    "import torch\n",
    "from torch.utils.data import Dataset\n",
    "import h5py\n",
    "import pandas as pd\n",
    "\n",
    "class EmbeddingLatentDataset(Dataset):\n",
    "    def __init__(self, latent_dir, embedding_dir, csv_path):\n",
    "        \"\"\"\n",
    "        Memory-efficient dataset that loads latent vectors and embeddings on demand,\n",
    "        filtered by a CSV file with image IDs.\n",
    "        \n",
    "        Args:\n",
    "            latent_dir (str): Directory containing latent vector H5 files\n",
    "            embedding_dir (str): Directory containing embedding H5 files\n",
    "            csv_path (str): Path to the CSV file containing image IDs to filter by\n",
    "        \"\"\"\n",
    "        # Store directories\n",
    "        self.latent_dir = latent_dir\n",
    "        self.embedding_dir = embedding_dir\n",
    "        \n",
    "        # Read CSV file with selected image IDs\n",
    "        self.selected_image_df = pd.read_csv(csv_path)\n",
    "        self.selected_image_ids = self.selected_image_df['Image Index'].tolist()\n",
    "        print(f\"Loaded {len(self.selected_image_ids)} image IDs from CSV\")\n",
    "        \n",
    "        # Get all file paths\n",
    "        self.latent_files = [os.path.join(latent_dir, f) for f in os.listdir(latent_dir) if f.endswith(\".h5\")]\n",
    "        self.embedding_files = [os.path.join(embedding_dir, f) for f in os.listdir(embedding_dir) if f.endswith(\".h5\")]\n",
    "        \n",
    "        # Build index of image IDs to file locations\n",
    "        self.latent_id_map = self._build_id_map(self.latent_files, \"latents\")\n",
    "        self.embedding_id_map = self._build_id_map(self.embedding_files, \"CLIP Embeddings\")\n",
    "        \n",
    "        # Find common IDs between latents, embeddings, and the CSV\n",
    "        csv_set = set(self.selected_image_ids)\n",
    "        latent_set = set(self.latent_id_map.keys())\n",
    "        embedding_set = set(self.embedding_id_map.keys())\n",
    "        \n",
    "        # Filter to only include images in our CSV\n",
    "        self.common_ids = list(csv_set & latent_set & embedding_set)\n",
    "        \n",
    "        # Keep the order from the CSV\n",
    "        self.common_ids = [img_id for img_id in self.selected_image_ids if img_id in self.common_ids]\n",
    "        \n",
    "        print(f\"Total matching IDs after filtering: {len(self.common_ids)}\")\n",
    "        \n",
    "        # Statistics\n",
    "        print(f\"IDs in CSV but missing latents: {len(csv_set - latent_set)}\")\n",
    "        print(f\"IDs in CSV but missing embeddings: {len(csv_set - embedding_set)}\")\n",
    "    \n",
    "    def _build_id_map(self, files, dataset_name):\n",
    "        \"\"\"\n",
    "        Build a mapping from image IDs to file paths and indices within those files.\n",
    "        \n",
    "        Args:\n",
    "            files (list): List of H5 file paths\n",
    "            dataset_name (str): Name of dataset in H5 files (\"Latents\" or \"Embeddings\")\n",
    "            \n",
    "        Returns:\n",
    "            dict: Mapping from image ID to (file_path, index) tuple\n",
    "        \"\"\"\n",
    "        id_map = {}\n",
    "        \n",
    "        for file_path in files:\n",
    "            with h5py.File(file_path, \"r\") as hf:\n",
    "                try:\n",
    "                    image_indices = hf[\"Image index\"][:]\n",
    "                except:\n",
    "                    image_indices = hf[\"Image Index\"][:]\n",
    "                # Convert byte strings to regular strings if needed\n",
    "                if isinstance(image_indices[0], bytes):\n",
    "                    image_indices = [idx.decode(\"utf-8\") for idx in image_indices]\n",
    "                \n",
    "                # Map each ID to its file and position\n",
    "                for i, img_id in enumerate(image_indices):\n",
    "                    id_map[img_id] = (file_path, i)\n",
    "        \n",
    "        return id_map\n",
    "    \n",
    "    def __len__(self):\n",
    "        \"\"\"Return the number of matched image pairs\"\"\"\n",
    "        return len(self.common_ids)\n",
    "    \n",
    "    def __getitem__(self, idx):\n",
    "        \"\"\"\n",
    "        Get a latent and embedding pair by index.\n",
    "        \n",
    "        Args:\n",
    "            idx (int): Index in the dataset\n",
    "            \n",
    "        Returns:\n",
    "            tuple: (latent, cond_embed) pair as torch tensors\n",
    "        \"\"\"\n",
    "        # Get the image ID for this index\n",
    "        img_id = self.common_ids[idx]\n",
    "        \n",
    "        # Get file path and index for latent\n",
    "        latent_file, latent_idx = self.latent_id_map[img_id]\n",
    "        \n",
    "        # Get file path and index for embedding\n",
    "        embedding_file, embedding_idx = self.embedding_id_map[img_id]\n",
    "        \n",
    "        # Load latent vector\n",
    "        with h5py.File(latent_file, \"r\") as hf:\n",
    "            latent = hf[\"latents\"][latent_idx]\n",
    "        \n",
    "        # Load embedding\n",
    "        with h5py.File(embedding_file, \"r\") as hf:\n",
    "            cond_embed = hf[\"CLIP Embeddings\"][embedding_idx]\n",
    "        \n",
    "        # Convert to torch tensors\n",
    "        latent = torch.tensor(latent, dtype=torch.float32)\n",
    "        cond_embed = torch.tensor(cond_embed, dtype=torch.float32)\n",
    "        \n",
    "        # Ensure conditioning embeddings have the right shape\n",
    "        # This is crucial for the UNet cross-attention to work properly\n",
    "        cond_embed = cond_embed.unsqueeze(0)\n",
    "           \n",
    "        return latent, cond_embed"
   ]
  },
  {
   "cell_type": "code",
   "execution_count": 3,
   "metadata": {},
   "outputs": [],
   "source": [
    "clip_vision_embeds = os.path.join(NIH_CXR14_DATASET_DIR, \"clip_vision_embeddings\")\n",
    "latent_dir = os.path.join(NIH_CXR14_DATASET_DIR, \"vae_latents2\")\n",
    "csv_path = \"/home/yasin/Lfstorage/Projects/cxr-diffusion/intermediate_data/filtered_findings_label_data.csv\"\n"
   ]
  },
  {
   "cell_type": "code",
   "execution_count": 4,
   "metadata": {},
   "outputs": [
    {
     "name": "stdout",
     "output_type": "stream",
     "text": [
      "Loaded 48311 image IDs from CSV\n",
      "Total matching IDs after filtering: 48311\n",
      "IDs in CSV but missing latents: 0\n",
      "IDs in CSV but missing embeddings: 0\n"
     ]
    },
    {
     "data": {
      "text/plain": [
       "48311"
      ]
     },
     "execution_count": 4,
     "metadata": {},
     "output_type": "execute_result"
    }
   ],
   "source": [
    "dataset = EmbeddingLatentDataset(latent_dir, clip_vision_embeds, csv_path)\n",
    "len(dataset)"
   ]
  },
  {
   "cell_type": "code",
   "execution_count": 5,
   "metadata": {},
   "outputs": [
    {
     "name": "stdout",
     "output_type": "stream",
     "text": [
      "torch.Size([4, 64, 64]) torch.Size([1, 768])\n"
     ]
    }
   ],
   "source": [
    "sample = dataset[0]\n",
    "print(sample[0].shape, sample[1].shape)"
   ]
  },
  {
   "cell_type": "code",
   "execution_count": 6,
   "metadata": {},
   "outputs": [],
   "source": [
    "config = TrainConfigV2(\n",
    "    batch_size=4,\n",
    "    mixed_precision=True,\n",
    "    learning_rate=1e-4,\n",
    "    num_epochs=20,\n",
    "    gradient_accumulation_steps=64,  # Effective batch size of 128\n",
    "    scheduler_type=\"cosine\",\n",
    "    early_stopping_patience=5,\n",
    "    use_timestep_weights=True\n",
    ")"
   ]
  },
  {
   "cell_type": "code",
   "execution_count": 7,
   "metadata": {},
   "outputs": [],
   "source": [
    "unet = UNet2DConditionModel(act_fn=\"silu\",\n",
    "                                    attention_head_dim=8,\n",
    "                                    center_input_sample=False,\n",
    "                                    downsample_padding=1,\n",
    "                                    flip_sin_to_cos=True,\n",
    "                                    freq_shift=0,\n",
    "                                    mid_block_scale_factor=1,\n",
    "                                    norm_eps=1e-05,\n",
    "                                    norm_num_groups=32,\n",
    "                                    sample_size=64, # generated samples are 512x512\n",
    "                                    in_channels=4, \n",
    "                                    out_channels=4, \n",
    "                                    layers_per_block=2, \n",
    "                                    block_out_channels=(320, 640, 1280, 1280), \n",
    "                                    down_block_types=(\n",
    "                                    \"CrossAttnDownBlock2D\",\n",
    "                                    \"CrossAttnDownBlock2D\",\n",
    "                                    \"CrossAttnDownBlock2D\",\n",
    "                                    \"DownBlock2D\"), \n",
    "                                    up_block_types=(\"UpBlock2D\",\n",
    "                                    \"CrossAttnUpBlock2D\",\n",
    "                                    \"CrossAttnUpBlock2D\",\n",
    "                                    \"CrossAttnUpBlock2D\"),\n",
    "                                    cross_attention_dim=768\n",
    "                                )"
   ]
  },
  {
   "cell_type": "code",
   "execution_count": 8,
   "metadata": {},
   "outputs": [],
   "source": [
    "optimizer = torch.optim.AdamW(unet.parameters(), lr=config.learning_rate)\n",
    "noise_scheduler = DDPMScheduler(num_train_timesteps=1000)"
   ]
  },
  {
   "cell_type": "code",
   "execution_count": 9,
   "metadata": {},
   "outputs": [],
   "source": [
    "train_dataloader = torch.utils.data.DataLoader(dataset, batch_size=config.batch_size, num_workers=config.num_workers, shuffle=True, pin_memory=True)\n"
   ]
  },
  {
   "cell_type": "code",
   "execution_count": 10,
   "metadata": {},
   "outputs": [],
   "source": [
    "validation_samples = get_validation_samples_v2(dataset, num_samples=16)"
   ]
  },
  {
   "cell_type": "code",
   "execution_count": 11,
   "metadata": {},
   "outputs": [
    {
     "name": "stdout",
     "output_type": "stream",
     "text": [
      "torch.Size([77, 768])\n"
     ]
    }
   ],
   "source": [
    "print(validation_samples[0].shape)"
   ]
  },
  {
   "cell_type": "code",
   "execution_count": 12,
   "metadata": {},
   "outputs": [
    {
     "name": "stdout",
     "output_type": "stream",
     "text": [
      "Log directory is output/logs\n",
      "Output directory is output\n"
     ]
    }
   ],
   "source": [
    "import tensorboard\n",
    "trainer = Unet2DConditionalTrainerV2(\n",
    "    unet=unet,\n",
    "    train_config=config,\n",
    "    noise_scheduler=noise_scheduler,\n",
    "    optimizer=optimizer,\n",
    ")"
   ]
  },
  {
   "cell_type": "code",
   "execution_count": 13,
   "metadata": {},
   "outputs": [
    {
     "data": {
      "application/vnd.jupyter.widget-view+json": {
       "model_id": "3e3c1cf6adf646bbab95aed704422d42",
       "version_major": 2,
       "version_minor": 0
      },
      "text/plain": [
       "  0%|          | 0/20 [00:00<?, ?it/s]"
      ]
     },
     "metadata": {},
     "output_type": "display_data"
    },
    {
     "data": {
      "application/vnd.jupyter.widget-view+json": {
       "model_id": "5dc3c32c2f9a4494a4ff44449415c7d9",
       "version_major": 2,
       "version_minor": 0
      },
      "text/plain": [
       "  0%|          | 0/12078 [00:00<?, ?it/s]"
      ]
     },
     "metadata": {},
     "output_type": "display_data"
    },
    {
     "name": "stdout",
     "output_type": "stream",
     "text": [
      "Epoch 1/20 - Avg loss: 0.165842, Avg PSNR: 22.45\n",
      "Saving model to output/best/best\n",
      "New best model with loss: 0.165842\n",
      "Saving model to output/checkpoints/epoch_1\n",
      "Generating validation samples for epoch 1...\n",
      "Initialized VaeProcessor for sample generation\n"
     ]
    },
    {
     "data": {
      "application/vnd.jupyter.widget-view+json": {
       "model_id": "8bc6890229844a78832341e4707786a2",
       "version_major": 2,
       "version_minor": 0
      },
      "text/plain": [
       "Generating sample 1/16:   0%|          | 0/50 [00:00<?, ?it/s]"
      ]
     },
     "metadata": {},
     "output_type": "display_data"
    },
    {
     "data": {
      "application/vnd.jupyter.widget-view+json": {
       "model_id": "fd183d3acab54d94832432e2429246e4",
       "version_major": 2,
       "version_minor": 0
      },
      "text/plain": [
       "Generating sample 2/16:   0%|          | 0/50 [00:00<?, ?it/s]"
      ]
     },
     "metadata": {},
     "output_type": "display_data"
    },
    {
     "data": {
      "application/vnd.jupyter.widget-view+json": {
       "model_id": "90af6f3d3aae4eb4808ebca0d57d9978",
       "version_major": 2,
       "version_minor": 0
      },
      "text/plain": [
       "Generating sample 3/16:   0%|          | 0/50 [00:00<?, ?it/s]"
      ]
     },
     "metadata": {},
     "output_type": "display_data"
    },
    {
     "data": {
      "application/vnd.jupyter.widget-view+json": {
       "model_id": "530206999c9c4d94b08553260bd34cc2",
       "version_major": 2,
       "version_minor": 0
      },
      "text/plain": [
       "Generating sample 4/16:   0%|          | 0/50 [00:00<?, ?it/s]"
      ]
     },
     "metadata": {},
     "output_type": "display_data"
    },
    {
     "data": {
      "application/vnd.jupyter.widget-view+json": {
       "model_id": "196fd77af00a446e894971b9158a4016",
       "version_major": 2,
       "version_minor": 0
      },
      "text/plain": [
       "Generating sample 5/16:   0%|          | 0/50 [00:00<?, ?it/s]"
      ]
     },
     "metadata": {},
     "output_type": "display_data"
    },
    {
     "data": {
      "application/vnd.jupyter.widget-view+json": {
       "model_id": "eeac2c51e3e24c5ab8884571fe2db242",
       "version_major": 2,
       "version_minor": 0
      },
      "text/plain": [
       "Generating sample 6/16:   0%|          | 0/50 [00:00<?, ?it/s]"
      ]
     },
     "metadata": {},
     "output_type": "display_data"
    },
    {
     "data": {
      "application/vnd.jupyter.widget-view+json": {
       "model_id": "d061359f93c3493983e268eccea388a5",
       "version_major": 2,
       "version_minor": 0
      },
      "text/plain": [
       "Generating sample 7/16:   0%|          | 0/50 [00:00<?, ?it/s]"
      ]
     },
     "metadata": {},
     "output_type": "display_data"
    },
    {
     "data": {
      "application/vnd.jupyter.widget-view+json": {
       "model_id": "abf659111c2241a6ba9c2e73bb45deff",
       "version_major": 2,
       "version_minor": 0
      },
      "text/plain": [
       "Generating sample 8/16:   0%|          | 0/50 [00:00<?, ?it/s]"
      ]
     },
     "metadata": {},
     "output_type": "display_data"
    },
    {
     "data": {
      "application/vnd.jupyter.widget-view+json": {
       "model_id": "ff3d52248fd94e17a4c062cc96163d30",
       "version_major": 2,
       "version_minor": 0
      },
      "text/plain": [
       "Generating sample 9/16:   0%|          | 0/50 [00:00<?, ?it/s]"
      ]
     },
     "metadata": {},
     "output_type": "display_data"
    },
    {
     "data": {
      "application/vnd.jupyter.widget-view+json": {
       "model_id": "b2a300c955944acab4e577ddd011b30f",
       "version_major": 2,
       "version_minor": 0
      },
      "text/plain": [
       "Generating sample 10/16:   0%|          | 0/50 [00:00<?, ?it/s]"
      ]
     },
     "metadata": {},
     "output_type": "display_data"
    },
    {
     "data": {
      "application/vnd.jupyter.widget-view+json": {
       "model_id": "419264a5a5644f7b8b56c4fd24f42037",
       "version_major": 2,
       "version_minor": 0
      },
      "text/plain": [
       "Generating sample 11/16:   0%|          | 0/50 [00:00<?, ?it/s]"
      ]
     },
     "metadata": {},
     "output_type": "display_data"
    },
    {
     "data": {
      "application/vnd.jupyter.widget-view+json": {
       "model_id": "3b51fa9fccb74da38ef909744c722a74",
       "version_major": 2,
       "version_minor": 0
      },
      "text/plain": [
       "Generating sample 12/16:   0%|          | 0/50 [00:00<?, ?it/s]"
      ]
     },
     "metadata": {},
     "output_type": "display_data"
    },
    {
     "data": {
      "application/vnd.jupyter.widget-view+json": {
       "model_id": "8ef6a70b7488400c85f544e5351dba40",
       "version_major": 2,
       "version_minor": 0
      },
      "text/plain": [
       "Generating sample 13/16:   0%|          | 0/50 [00:00<?, ?it/s]"
      ]
     },
     "metadata": {},
     "output_type": "display_data"
    },
    {
     "data": {
      "application/vnd.jupyter.widget-view+json": {
       "model_id": "a33b45973dba468181f22191fc5c7612",
       "version_major": 2,
       "version_minor": 0
      },
      "text/plain": [
       "Generating sample 14/16:   0%|          | 0/50 [00:00<?, ?it/s]"
      ]
     },
     "metadata": {},
     "output_type": "display_data"
    },
    {
     "data": {
      "application/vnd.jupyter.widget-view+json": {
       "model_id": "f7923633731e4288aed1eb570e0877f5",
       "version_major": 2,
       "version_minor": 0
      },
      "text/plain": [
       "Generating sample 15/16:   0%|          | 0/50 [00:00<?, ?it/s]"
      ]
     },
     "metadata": {},
     "output_type": "display_data"
    },
    {
     "data": {
      "application/vnd.jupyter.widget-view+json": {
       "model_id": "98e2119e39f542ceb465279b669cf917",
       "version_major": 2,
       "version_minor": 0
      },
      "text/plain": [
       "Generating sample 16/16:   0%|          | 0/50 [00:00<?, ?it/s]"
      ]
     },
     "metadata": {},
     "output_type": "display_data"
    },
    {
     "name": "stdout",
     "output_type": "stream",
     "text": [
      "Saved sample grid to output/samples/samples_epoch_1.png\n"
     ]
    },
    {
     "data": {
      "application/vnd.jupyter.widget-view+json": {
       "model_id": "9b3c4e0a38474c57981a9044ad75c312",
       "version_major": 2,
       "version_minor": 0
      },
      "text/plain": [
       "  0%|          | 0/12078 [00:00<?, ?it/s]"
      ]
     },
     "metadata": {},
     "output_type": "display_data"
    },
    {
     "name": "stdout",
     "output_type": "stream",
     "text": [
      "Epoch 2/20 - Avg loss: 0.102723, Avg PSNR: 24.56\n",
      "Saving model to output/best/best\n",
      "New best model with loss: 0.102723\n",
      "Saving model to output/checkpoints/epoch_2\n",
      "Generating validation samples for epoch 2...\n"
     ]
    },
    {
     "data": {
      "application/vnd.jupyter.widget-view+json": {
       "model_id": "7aa2083d4c7342eeaf8c8ebb8745f6ef",
       "version_major": 2,
       "version_minor": 0
      },
      "text/plain": [
       "Generating sample 1/16:   0%|          | 0/50 [00:00<?, ?it/s]"
      ]
     },
     "metadata": {},
     "output_type": "display_data"
    },
    {
     "data": {
      "application/vnd.jupyter.widget-view+json": {
       "model_id": "91d966ceaf1841bb845be5c4318f7fa0",
       "version_major": 2,
       "version_minor": 0
      },
      "text/plain": [
       "Generating sample 2/16:   0%|          | 0/50 [00:00<?, ?it/s]"
      ]
     },
     "metadata": {},
     "output_type": "display_data"
    },
    {
     "data": {
      "application/vnd.jupyter.widget-view+json": {
       "model_id": "38b4d57e8df5462b851435869beceb93",
       "version_major": 2,
       "version_minor": 0
      },
      "text/plain": [
       "Generating sample 3/16:   0%|          | 0/50 [00:00<?, ?it/s]"
      ]
     },
     "metadata": {},
     "output_type": "display_data"
    },
    {
     "data": {
      "application/vnd.jupyter.widget-view+json": {
       "model_id": "d5ed151a91ad4a488aa6044441a31c15",
       "version_major": 2,
       "version_minor": 0
      },
      "text/plain": [
       "Generating sample 4/16:   0%|          | 0/50 [00:00<?, ?it/s]"
      ]
     },
     "metadata": {},
     "output_type": "display_data"
    },
    {
     "data": {
      "application/vnd.jupyter.widget-view+json": {
       "model_id": "82bf6b8be04442d2bd62f87a8a283585",
       "version_major": 2,
       "version_minor": 0
      },
      "text/plain": [
       "Generating sample 5/16:   0%|          | 0/50 [00:00<?, ?it/s]"
      ]
     },
     "metadata": {},
     "output_type": "display_data"
    },
    {
     "data": {
      "application/vnd.jupyter.widget-view+json": {
       "model_id": "e6cf3ef3c1f44eec8508bebba8408ac8",
       "version_major": 2,
       "version_minor": 0
      },
      "text/plain": [
       "Generating sample 6/16:   0%|          | 0/50 [00:00<?, ?it/s]"
      ]
     },
     "metadata": {},
     "output_type": "display_data"
    },
    {
     "data": {
      "application/vnd.jupyter.widget-view+json": {
       "model_id": "d1e9740b2a384401afe771ae99c9be3f",
       "version_major": 2,
       "version_minor": 0
      },
      "text/plain": [
       "Generating sample 7/16:   0%|          | 0/50 [00:00<?, ?it/s]"
      ]
     },
     "metadata": {},
     "output_type": "display_data"
    },
    {
     "data": {
      "application/vnd.jupyter.widget-view+json": {
       "model_id": "be6239c0c85f414984a8566d3392e8a1",
       "version_major": 2,
       "version_minor": 0
      },
      "text/plain": [
       "Generating sample 8/16:   0%|          | 0/50 [00:00<?, ?it/s]"
      ]
     },
     "metadata": {},
     "output_type": "display_data"
    },
    {
     "data": {
      "application/vnd.jupyter.widget-view+json": {
       "model_id": "658ac54bfd3a486ca3d17232bf18f377",
       "version_major": 2,
       "version_minor": 0
      },
      "text/plain": [
       "Generating sample 9/16:   0%|          | 0/50 [00:00<?, ?it/s]"
      ]
     },
     "metadata": {},
     "output_type": "display_data"
    },
    {
     "data": {
      "application/vnd.jupyter.widget-view+json": {
       "model_id": "08c3aaac1e7849aa8dc8b4c6a5a3ad57",
       "version_major": 2,
       "version_minor": 0
      },
      "text/plain": [
       "Generating sample 10/16:   0%|          | 0/50 [00:00<?, ?it/s]"
      ]
     },
     "metadata": {},
     "output_type": "display_data"
    },
    {
     "data": {
      "application/vnd.jupyter.widget-view+json": {
       "model_id": "123b94b966954d0eb9a4ea328b0a294a",
       "version_major": 2,
       "version_minor": 0
      },
      "text/plain": [
       "Generating sample 11/16:   0%|          | 0/50 [00:00<?, ?it/s]"
      ]
     },
     "metadata": {},
     "output_type": "display_data"
    },
    {
     "data": {
      "application/vnd.jupyter.widget-view+json": {
       "model_id": "9b382f7790b04e169bf5c8b638b3bc95",
       "version_major": 2,
       "version_minor": 0
      },
      "text/plain": [
       "Generating sample 12/16:   0%|          | 0/50 [00:00<?, ?it/s]"
      ]
     },
     "metadata": {},
     "output_type": "display_data"
    },
    {
     "data": {
      "application/vnd.jupyter.widget-view+json": {
       "model_id": "27b7f2f8c622415abd5297a6ffcb3b30",
       "version_major": 2,
       "version_minor": 0
      },
      "text/plain": [
       "Generating sample 13/16:   0%|          | 0/50 [00:00<?, ?it/s]"
      ]
     },
     "metadata": {},
     "output_type": "display_data"
    },
    {
     "data": {
      "application/vnd.jupyter.widget-view+json": {
       "model_id": "bb849f0c4bb54d868ca55f13ef400ca2",
       "version_major": 2,
       "version_minor": 0
      },
      "text/plain": [
       "Generating sample 14/16:   0%|          | 0/50 [00:00<?, ?it/s]"
      ]
     },
     "metadata": {},
     "output_type": "display_data"
    },
    {
     "data": {
      "application/vnd.jupyter.widget-view+json": {
       "model_id": "1b77db5ba6004346bddcea67379236a4",
       "version_major": 2,
       "version_minor": 0
      },
      "text/plain": [
       "Generating sample 15/16:   0%|          | 0/50 [00:00<?, ?it/s]"
      ]
     },
     "metadata": {},
     "output_type": "display_data"
    },
    {
     "data": {
      "application/vnd.jupyter.widget-view+json": {
       "model_id": "3e08bc093e5648b086ab06d84b8c43bb",
       "version_major": 2,
       "version_minor": 0
      },
      "text/plain": [
       "Generating sample 16/16:   0%|          | 0/50 [00:00<?, ?it/s]"
      ]
     },
     "metadata": {},
     "output_type": "display_data"
    },
    {
     "name": "stdout",
     "output_type": "stream",
     "text": [
      "Saved sample grid to output/samples/samples_epoch_2.png\n"
     ]
    },
    {
     "data": {
      "application/vnd.jupyter.widget-view+json": {
       "model_id": "970740dab6184bcc9ba6759dbe717fa5",
       "version_major": 2,
       "version_minor": 0
      },
      "text/plain": [
       "  0%|          | 0/12078 [00:00<?, ?it/s]"
      ]
     },
     "metadata": {},
     "output_type": "display_data"
    },
    {
     "name": "stdout",
     "output_type": "stream",
     "text": [
      "Epoch 3/20 - Avg loss: 0.096640, Avg PSNR: 24.90\n",
      "Saving model to output/best/best\n",
      "New best model with loss: 0.096640\n",
      "Saving model to output/checkpoints/epoch_3\n",
      "Generating validation samples for epoch 3...\n"
     ]
    },
    {
     "data": {
      "application/vnd.jupyter.widget-view+json": {
       "model_id": "be020f3e8aaf46f188104d81f30cbdbf",
       "version_major": 2,
       "version_minor": 0
      },
      "text/plain": [
       "Generating sample 1/16:   0%|          | 0/50 [00:00<?, ?it/s]"
      ]
     },
     "metadata": {},
     "output_type": "display_data"
    },
    {
     "data": {
      "application/vnd.jupyter.widget-view+json": {
       "model_id": "114c95a4bb474c9b81f54c6b6d4cb416",
       "version_major": 2,
       "version_minor": 0
      },
      "text/plain": [
       "Generating sample 2/16:   0%|          | 0/50 [00:00<?, ?it/s]"
      ]
     },
     "metadata": {},
     "output_type": "display_data"
    },
    {
     "data": {
      "application/vnd.jupyter.widget-view+json": {
       "model_id": "f0ac77297b8b4f69b0faf7789f04ab76",
       "version_major": 2,
       "version_minor": 0
      },
      "text/plain": [
       "Generating sample 3/16:   0%|          | 0/50 [00:00<?, ?it/s]"
      ]
     },
     "metadata": {},
     "output_type": "display_data"
    },
    {
     "data": {
      "application/vnd.jupyter.widget-view+json": {
       "model_id": "2f70e7c917b34d45a2b9497fa9653edf",
       "version_major": 2,
       "version_minor": 0
      },
      "text/plain": [
       "Generating sample 4/16:   0%|          | 0/50 [00:00<?, ?it/s]"
      ]
     },
     "metadata": {},
     "output_type": "display_data"
    },
    {
     "data": {
      "application/vnd.jupyter.widget-view+json": {
       "model_id": "fb5839ee3b4a4211b26fc4b558f8caeb",
       "version_major": 2,
       "version_minor": 0
      },
      "text/plain": [
       "Generating sample 5/16:   0%|          | 0/50 [00:00<?, ?it/s]"
      ]
     },
     "metadata": {},
     "output_type": "display_data"
    },
    {
     "data": {
      "application/vnd.jupyter.widget-view+json": {
       "model_id": "68f249afc8a744ac8a83a5b8aac72400",
       "version_major": 2,
       "version_minor": 0
      },
      "text/plain": [
       "Generating sample 6/16:   0%|          | 0/50 [00:00<?, ?it/s]"
      ]
     },
     "metadata": {},
     "output_type": "display_data"
    },
    {
     "data": {
      "application/vnd.jupyter.widget-view+json": {
       "model_id": "93e364f483894530a661c68ce0922ea2",
       "version_major": 2,
       "version_minor": 0
      },
      "text/plain": [
       "Generating sample 7/16:   0%|          | 0/50 [00:00<?, ?it/s]"
      ]
     },
     "metadata": {},
     "output_type": "display_data"
    },
    {
     "data": {
      "application/vnd.jupyter.widget-view+json": {
       "model_id": "096b420631624404a40a63da094f0aec",
       "version_major": 2,
       "version_minor": 0
      },
      "text/plain": [
       "Generating sample 8/16:   0%|          | 0/50 [00:00<?, ?it/s]"
      ]
     },
     "metadata": {},
     "output_type": "display_data"
    },
    {
     "data": {
      "application/vnd.jupyter.widget-view+json": {
       "model_id": "72b7cfcdb12c4b3b80787b6bae909535",
       "version_major": 2,
       "version_minor": 0
      },
      "text/plain": [
       "Generating sample 9/16:   0%|          | 0/50 [00:00<?, ?it/s]"
      ]
     },
     "metadata": {},
     "output_type": "display_data"
    },
    {
     "data": {
      "application/vnd.jupyter.widget-view+json": {
       "model_id": "68c0098aba1940bd9004d7c5ac675986",
       "version_major": 2,
       "version_minor": 0
      },
      "text/plain": [
       "Generating sample 10/16:   0%|          | 0/50 [00:00<?, ?it/s]"
      ]
     },
     "metadata": {},
     "output_type": "display_data"
    },
    {
     "data": {
      "application/vnd.jupyter.widget-view+json": {
       "model_id": "29e11cabf6a74843a0b7b55d1a1652d6",
       "version_major": 2,
       "version_minor": 0
      },
      "text/plain": [
       "Generating sample 11/16:   0%|          | 0/50 [00:00<?, ?it/s]"
      ]
     },
     "metadata": {},
     "output_type": "display_data"
    },
    {
     "data": {
      "application/vnd.jupyter.widget-view+json": {
       "model_id": "aceda73038df42a0ad3a8e73c3b7f2c9",
       "version_major": 2,
       "version_minor": 0
      },
      "text/plain": [
       "Generating sample 12/16:   0%|          | 0/50 [00:00<?, ?it/s]"
      ]
     },
     "metadata": {},
     "output_type": "display_data"
    },
    {
     "data": {
      "application/vnd.jupyter.widget-view+json": {
       "model_id": "16222ab9cde542b6b45013bc729693c1",
       "version_major": 2,
       "version_minor": 0
      },
      "text/plain": [
       "Generating sample 13/16:   0%|          | 0/50 [00:00<?, ?it/s]"
      ]
     },
     "metadata": {},
     "output_type": "display_data"
    },
    {
     "data": {
      "application/vnd.jupyter.widget-view+json": {
       "model_id": "37f3b5c3c8b64b1aa4a525623018297b",
       "version_major": 2,
       "version_minor": 0
      },
      "text/plain": [
       "Generating sample 14/16:   0%|          | 0/50 [00:00<?, ?it/s]"
      ]
     },
     "metadata": {},
     "output_type": "display_data"
    },
    {
     "data": {
      "application/vnd.jupyter.widget-view+json": {
       "model_id": "a58c42d440db4866aa4df0e6fdc46d6a",
       "version_major": 2,
       "version_minor": 0
      },
      "text/plain": [
       "Generating sample 15/16:   0%|          | 0/50 [00:00<?, ?it/s]"
      ]
     },
     "metadata": {},
     "output_type": "display_data"
    },
    {
     "data": {
      "application/vnd.jupyter.widget-view+json": {
       "model_id": "9a78e5d56e564a22a1f7e543e15378c6",
       "version_major": 2,
       "version_minor": 0
      },
      "text/plain": [
       "Generating sample 16/16:   0%|          | 0/50 [00:00<?, ?it/s]"
      ]
     },
     "metadata": {},
     "output_type": "display_data"
    },
    {
     "name": "stdout",
     "output_type": "stream",
     "text": [
      "Saved sample grid to output/samples/samples_epoch_3.png\n"
     ]
    },
    {
     "data": {
      "application/vnd.jupyter.widget-view+json": {
       "model_id": "d81ff52c9e6f4d6ea663fd8a39207ce0",
       "version_major": 2,
       "version_minor": 0
      },
      "text/plain": [
       "  0%|          | 0/12078 [00:00<?, ?it/s]"
      ]
     },
     "metadata": {},
     "output_type": "display_data"
    },
    {
     "name": "stdout",
     "output_type": "stream",
     "text": [
      "Epoch 4/20 - Avg loss: 0.091587, Avg PSNR: 25.17\n",
      "Saving model to output/best/best\n",
      "New best model with loss: 0.091587\n",
      "Saving model to output/checkpoints/epoch_4\n",
      "Generating validation samples for epoch 4...\n"
     ]
    },
    {
     "data": {
      "application/vnd.jupyter.widget-view+json": {
       "model_id": "06476fc1e4bd4bfd8d0f1ef8c2d73e1c",
       "version_major": 2,
       "version_minor": 0
      },
      "text/plain": [
       "Generating sample 1/16:   0%|          | 0/50 [00:00<?, ?it/s]"
      ]
     },
     "metadata": {},
     "output_type": "display_data"
    },
    {
     "data": {
      "application/vnd.jupyter.widget-view+json": {
       "model_id": "829e73a1077748ef97cae78c045b5c3c",
       "version_major": 2,
       "version_minor": 0
      },
      "text/plain": [
       "Generating sample 2/16:   0%|          | 0/50 [00:00<?, ?it/s]"
      ]
     },
     "metadata": {},
     "output_type": "display_data"
    },
    {
     "data": {
      "application/vnd.jupyter.widget-view+json": {
       "model_id": "214d7abb3d2743ad93ac8cb4b944834a",
       "version_major": 2,
       "version_minor": 0
      },
      "text/plain": [
       "Generating sample 3/16:   0%|          | 0/50 [00:00<?, ?it/s]"
      ]
     },
     "metadata": {},
     "output_type": "display_data"
    },
    {
     "data": {
      "application/vnd.jupyter.widget-view+json": {
       "model_id": "2561f747a3ce4e2e851d708eb6d4a12c",
       "version_major": 2,
       "version_minor": 0
      },
      "text/plain": [
       "Generating sample 4/16:   0%|          | 0/50 [00:00<?, ?it/s]"
      ]
     },
     "metadata": {},
     "output_type": "display_data"
    },
    {
     "data": {
      "application/vnd.jupyter.widget-view+json": {
       "model_id": "163eff833f44477ea7e06de9af9cd17d",
       "version_major": 2,
       "version_minor": 0
      },
      "text/plain": [
       "Generating sample 5/16:   0%|          | 0/50 [00:00<?, ?it/s]"
      ]
     },
     "metadata": {},
     "output_type": "display_data"
    },
    {
     "data": {
      "application/vnd.jupyter.widget-view+json": {
       "model_id": "c0065eb40c464cf3b2223c099ed31e38",
       "version_major": 2,
       "version_minor": 0
      },
      "text/plain": [
       "Generating sample 6/16:   0%|          | 0/50 [00:00<?, ?it/s]"
      ]
     },
     "metadata": {},
     "output_type": "display_data"
    },
    {
     "data": {
      "application/vnd.jupyter.widget-view+json": {
       "model_id": "472d807e640e42f2a125816275cc8329",
       "version_major": 2,
       "version_minor": 0
      },
      "text/plain": [
       "Generating sample 7/16:   0%|          | 0/50 [00:00<?, ?it/s]"
      ]
     },
     "metadata": {},
     "output_type": "display_data"
    },
    {
     "data": {
      "application/vnd.jupyter.widget-view+json": {
       "model_id": "eb6580e638c341b3808d1fa392f71b8f",
       "version_major": 2,
       "version_minor": 0
      },
      "text/plain": [
       "Generating sample 8/16:   0%|          | 0/50 [00:00<?, ?it/s]"
      ]
     },
     "metadata": {},
     "output_type": "display_data"
    },
    {
     "data": {
      "application/vnd.jupyter.widget-view+json": {
       "model_id": "2945ba3895b048b6b5c44ee0775df90a",
       "version_major": 2,
       "version_minor": 0
      },
      "text/plain": [
       "Generating sample 9/16:   0%|          | 0/50 [00:00<?, ?it/s]"
      ]
     },
     "metadata": {},
     "output_type": "display_data"
    },
    {
     "data": {
      "application/vnd.jupyter.widget-view+json": {
       "model_id": "bd92aa69c27246fba3aa1ec77b7fdb3d",
       "version_major": 2,
       "version_minor": 0
      },
      "text/plain": [
       "Generating sample 10/16:   0%|          | 0/50 [00:00<?, ?it/s]"
      ]
     },
     "metadata": {},
     "output_type": "display_data"
    },
    {
     "data": {
      "application/vnd.jupyter.widget-view+json": {
       "model_id": "2dfbb127dfa34625a99b2410e51ac813",
       "version_major": 2,
       "version_minor": 0
      },
      "text/plain": [
       "Generating sample 11/16:   0%|          | 0/50 [00:00<?, ?it/s]"
      ]
     },
     "metadata": {},
     "output_type": "display_data"
    },
    {
     "data": {
      "application/vnd.jupyter.widget-view+json": {
       "model_id": "8e4edbadd5ea4669bac93e5eeeee7c0d",
       "version_major": 2,
       "version_minor": 0
      },
      "text/plain": [
       "Generating sample 12/16:   0%|          | 0/50 [00:00<?, ?it/s]"
      ]
     },
     "metadata": {},
     "output_type": "display_data"
    },
    {
     "data": {
      "application/vnd.jupyter.widget-view+json": {
       "model_id": "c7586a7a522346a5838d3b21503a9048",
       "version_major": 2,
       "version_minor": 0
      },
      "text/plain": [
       "Generating sample 13/16:   0%|          | 0/50 [00:00<?, ?it/s]"
      ]
     },
     "metadata": {},
     "output_type": "display_data"
    },
    {
     "data": {
      "application/vnd.jupyter.widget-view+json": {
       "model_id": "210d8ec2ca544ea3bf5f5e9fb9d456fe",
       "version_major": 2,
       "version_minor": 0
      },
      "text/plain": [
       "Generating sample 14/16:   0%|          | 0/50 [00:00<?, ?it/s]"
      ]
     },
     "metadata": {},
     "output_type": "display_data"
    },
    {
     "data": {
      "application/vnd.jupyter.widget-view+json": {
       "model_id": "4e4f77a8dc0b4d1291fa20045bda4c57",
       "version_major": 2,
       "version_minor": 0
      },
      "text/plain": [
       "Generating sample 15/16:   0%|          | 0/50 [00:00<?, ?it/s]"
      ]
     },
     "metadata": {},
     "output_type": "display_data"
    },
    {
     "data": {
      "application/vnd.jupyter.widget-view+json": {
       "model_id": "32ce5f64d1cb4f5c826bbfe21db65a75",
       "version_major": 2,
       "version_minor": 0
      },
      "text/plain": [
       "Generating sample 16/16:   0%|          | 0/50 [00:00<?, ?it/s]"
      ]
     },
     "metadata": {},
     "output_type": "display_data"
    },
    {
     "name": "stdout",
     "output_type": "stream",
     "text": [
      "Saved sample grid to output/samples/samples_epoch_4.png\n"
     ]
    },
    {
     "data": {
      "application/vnd.jupyter.widget-view+json": {
       "model_id": "2058ee51351a4c3fb1ab763c3e955d05",
       "version_major": 2,
       "version_minor": 0
      },
      "text/plain": [
       "  0%|          | 0/12078 [00:00<?, ?it/s]"
      ]
     },
     "metadata": {},
     "output_type": "display_data"
    },
    {
     "name": "stdout",
     "output_type": "stream",
     "text": [
      "Epoch 5/20 - Avg loss: 0.089256, Avg PSNR: 25.26\n",
      "Saving model to output/best/best\n",
      "New best model with loss: 0.089256\n",
      "Saving model to output/checkpoints/epoch_5\n",
      "Generating validation samples for epoch 5...\n"
     ]
    },
    {
     "data": {
      "application/vnd.jupyter.widget-view+json": {
       "model_id": "c3cc51f26b1f465f802be9d23424daa8",
       "version_major": 2,
       "version_minor": 0
      },
      "text/plain": [
       "Generating sample 1/16:   0%|          | 0/50 [00:00<?, ?it/s]"
      ]
     },
     "metadata": {},
     "output_type": "display_data"
    },
    {
     "data": {
      "application/vnd.jupyter.widget-view+json": {
       "model_id": "4bd3ea5b01a74d99ad76e29e2b29e0a2",
       "version_major": 2,
       "version_minor": 0
      },
      "text/plain": [
       "Generating sample 2/16:   0%|          | 0/50 [00:00<?, ?it/s]"
      ]
     },
     "metadata": {},
     "output_type": "display_data"
    },
    {
     "data": {
      "application/vnd.jupyter.widget-view+json": {
       "model_id": "5c67401acee54b12a9fdc3fa3e5bec33",
       "version_major": 2,
       "version_minor": 0
      },
      "text/plain": [
       "Generating sample 3/16:   0%|          | 0/50 [00:00<?, ?it/s]"
      ]
     },
     "metadata": {},
     "output_type": "display_data"
    },
    {
     "data": {
      "application/vnd.jupyter.widget-view+json": {
       "model_id": "56f816c96c6848e089391141e8368f70",
       "version_major": 2,
       "version_minor": 0
      },
      "text/plain": [
       "Generating sample 4/16:   0%|          | 0/50 [00:00<?, ?it/s]"
      ]
     },
     "metadata": {},
     "output_type": "display_data"
    },
    {
     "data": {
      "application/vnd.jupyter.widget-view+json": {
       "model_id": "8410ef45a27742ed9dd9e3053d1783b5",
       "version_major": 2,
       "version_minor": 0
      },
      "text/plain": [
       "Generating sample 5/16:   0%|          | 0/50 [00:00<?, ?it/s]"
      ]
     },
     "metadata": {},
     "output_type": "display_data"
    },
    {
     "data": {
      "application/vnd.jupyter.widget-view+json": {
       "model_id": "c58283836375429dbcc1728245b41527",
       "version_major": 2,
       "version_minor": 0
      },
      "text/plain": [
       "Generating sample 6/16:   0%|          | 0/50 [00:00<?, ?it/s]"
      ]
     },
     "metadata": {},
     "output_type": "display_data"
    },
    {
     "data": {
      "application/vnd.jupyter.widget-view+json": {
       "model_id": "f004e1d7245f41adab7395ad21cbfd0b",
       "version_major": 2,
       "version_minor": 0
      },
      "text/plain": [
       "Generating sample 7/16:   0%|          | 0/50 [00:00<?, ?it/s]"
      ]
     },
     "metadata": {},
     "output_type": "display_data"
    },
    {
     "data": {
      "application/vnd.jupyter.widget-view+json": {
       "model_id": "50728fbe8511471a9c6f0db702f7e3a5",
       "version_major": 2,
       "version_minor": 0
      },
      "text/plain": [
       "Generating sample 8/16:   0%|          | 0/50 [00:00<?, ?it/s]"
      ]
     },
     "metadata": {},
     "output_type": "display_data"
    },
    {
     "data": {
      "application/vnd.jupyter.widget-view+json": {
       "model_id": "a8ce8c8ae3804020992e3a9d6987cc5d",
       "version_major": 2,
       "version_minor": 0
      },
      "text/plain": [
       "Generating sample 9/16:   0%|          | 0/50 [00:00<?, ?it/s]"
      ]
     },
     "metadata": {},
     "output_type": "display_data"
    },
    {
     "data": {
      "application/vnd.jupyter.widget-view+json": {
       "model_id": "6e72fb06cb69425b8cb85318365133c4",
       "version_major": 2,
       "version_minor": 0
      },
      "text/plain": [
       "Generating sample 10/16:   0%|          | 0/50 [00:00<?, ?it/s]"
      ]
     },
     "metadata": {},
     "output_type": "display_data"
    },
    {
     "data": {
      "application/vnd.jupyter.widget-view+json": {
       "model_id": "d67ce4242a7344f1b89a6a57e8e569fa",
       "version_major": 2,
       "version_minor": 0
      },
      "text/plain": [
       "Generating sample 11/16:   0%|          | 0/50 [00:00<?, ?it/s]"
      ]
     },
     "metadata": {},
     "output_type": "display_data"
    },
    {
     "data": {
      "application/vnd.jupyter.widget-view+json": {
       "model_id": "57915983a2ee43e2bf8a54e126e4d07e",
       "version_major": 2,
       "version_minor": 0
      },
      "text/plain": [
       "Generating sample 12/16:   0%|          | 0/50 [00:00<?, ?it/s]"
      ]
     },
     "metadata": {},
     "output_type": "display_data"
    },
    {
     "data": {
      "application/vnd.jupyter.widget-view+json": {
       "model_id": "7a1e3014158f4e36ba14f6c10a14a0ad",
       "version_major": 2,
       "version_minor": 0
      },
      "text/plain": [
       "Generating sample 13/16:   0%|          | 0/50 [00:00<?, ?it/s]"
      ]
     },
     "metadata": {},
     "output_type": "display_data"
    },
    {
     "data": {
      "application/vnd.jupyter.widget-view+json": {
       "model_id": "92f2ec2c48074268b16895367fbb5327",
       "version_major": 2,
       "version_minor": 0
      },
      "text/plain": [
       "Generating sample 14/16:   0%|          | 0/50 [00:00<?, ?it/s]"
      ]
     },
     "metadata": {},
     "output_type": "display_data"
    },
    {
     "data": {
      "application/vnd.jupyter.widget-view+json": {
       "model_id": "b0d848f5977e4bc39bc4caa74d24ed17",
       "version_major": 2,
       "version_minor": 0
      },
      "text/plain": [
       "Generating sample 15/16:   0%|          | 0/50 [00:00<?, ?it/s]"
      ]
     },
     "metadata": {},
     "output_type": "display_data"
    },
    {
     "data": {
      "application/vnd.jupyter.widget-view+json": {
       "model_id": "2bd7744e3e2847cc9da1e9efa3df349d",
       "version_major": 2,
       "version_minor": 0
      },
      "text/plain": [
       "Generating sample 16/16:   0%|          | 0/50 [00:00<?, ?it/s]"
      ]
     },
     "metadata": {},
     "output_type": "display_data"
    },
    {
     "name": "stdout",
     "output_type": "stream",
     "text": [
      "Saved sample grid to output/samples/samples_epoch_5.png\n"
     ]
    },
    {
     "data": {
      "application/vnd.jupyter.widget-view+json": {
       "model_id": "7e714370b8744496b84be38ab4d57f8b",
       "version_major": 2,
       "version_minor": 0
      },
      "text/plain": [
       "  0%|          | 0/12078 [00:00<?, ?it/s]"
      ]
     },
     "metadata": {},
     "output_type": "display_data"
    },
    {
     "name": "stdout",
     "output_type": "stream",
     "text": [
      "Epoch 6/20 - Avg loss: 0.086625, Avg PSNR: 25.40\n",
      "Saving model to output/best/best\n",
      "New best model with loss: 0.086625\n",
      "Saving model to output/checkpoints/epoch_6\n",
      "Generating validation samples for epoch 6...\n"
     ]
    },
    {
     "data": {
      "application/vnd.jupyter.widget-view+json": {
       "model_id": "b5a864213eb24e8e9207c380d41da858",
       "version_major": 2,
       "version_minor": 0
      },
      "text/plain": [
       "Generating sample 1/16:   0%|          | 0/50 [00:00<?, ?it/s]"
      ]
     },
     "metadata": {},
     "output_type": "display_data"
    },
    {
     "data": {
      "application/vnd.jupyter.widget-view+json": {
       "model_id": "d30cb064c9334031a678d2a6259e1975",
       "version_major": 2,
       "version_minor": 0
      },
      "text/plain": [
       "Generating sample 2/16:   0%|          | 0/50 [00:00<?, ?it/s]"
      ]
     },
     "metadata": {},
     "output_type": "display_data"
    },
    {
     "data": {
      "application/vnd.jupyter.widget-view+json": {
       "model_id": "fd3ed5bae21840f48af4293fb52eab55",
       "version_major": 2,
       "version_minor": 0
      },
      "text/plain": [
       "Generating sample 3/16:   0%|          | 0/50 [00:00<?, ?it/s]"
      ]
     },
     "metadata": {},
     "output_type": "display_data"
    },
    {
     "data": {
      "application/vnd.jupyter.widget-view+json": {
       "model_id": "b4e98dc160ac438884e444ced5734b16",
       "version_major": 2,
       "version_minor": 0
      },
      "text/plain": [
       "Generating sample 4/16:   0%|          | 0/50 [00:00<?, ?it/s]"
      ]
     },
     "metadata": {},
     "output_type": "display_data"
    },
    {
     "data": {
      "application/vnd.jupyter.widget-view+json": {
       "model_id": "eeca16e947e54bd69a8a295174c31170",
       "version_major": 2,
       "version_minor": 0
      },
      "text/plain": [
       "Generating sample 5/16:   0%|          | 0/50 [00:00<?, ?it/s]"
      ]
     },
     "metadata": {},
     "output_type": "display_data"
    },
    {
     "data": {
      "application/vnd.jupyter.widget-view+json": {
       "model_id": "dc0ecb4f865c41dd8961d5619cffaf5b",
       "version_major": 2,
       "version_minor": 0
      },
      "text/plain": [
       "Generating sample 6/16:   0%|          | 0/50 [00:00<?, ?it/s]"
      ]
     },
     "metadata": {},
     "output_type": "display_data"
    },
    {
     "data": {
      "application/vnd.jupyter.widget-view+json": {
       "model_id": "eee968193e9b46c185b6b5282c20a403",
       "version_major": 2,
       "version_minor": 0
      },
      "text/plain": [
       "Generating sample 7/16:   0%|          | 0/50 [00:00<?, ?it/s]"
      ]
     },
     "metadata": {},
     "output_type": "display_data"
    },
    {
     "data": {
      "application/vnd.jupyter.widget-view+json": {
       "model_id": "1b6d6fadacfc4511810d47688c608cbc",
       "version_major": 2,
       "version_minor": 0
      },
      "text/plain": [
       "Generating sample 8/16:   0%|          | 0/50 [00:00<?, ?it/s]"
      ]
     },
     "metadata": {},
     "output_type": "display_data"
    },
    {
     "data": {
      "application/vnd.jupyter.widget-view+json": {
       "model_id": "e066ac01a992440aa10e5f340f95d389",
       "version_major": 2,
       "version_minor": 0
      },
      "text/plain": [
       "Generating sample 9/16:   0%|          | 0/50 [00:00<?, ?it/s]"
      ]
     },
     "metadata": {},
     "output_type": "display_data"
    },
    {
     "data": {
      "application/vnd.jupyter.widget-view+json": {
       "model_id": "bfc0aca51b7a43beae85f8dedd9e77d7",
       "version_major": 2,
       "version_minor": 0
      },
      "text/plain": [
       "Generating sample 10/16:   0%|          | 0/50 [00:00<?, ?it/s]"
      ]
     },
     "metadata": {},
     "output_type": "display_data"
    },
    {
     "data": {
      "application/vnd.jupyter.widget-view+json": {
       "model_id": "af26faaf853c4dbf8f609ba7c331330a",
       "version_major": 2,
       "version_minor": 0
      },
      "text/plain": [
       "Generating sample 11/16:   0%|          | 0/50 [00:00<?, ?it/s]"
      ]
     },
     "metadata": {},
     "output_type": "display_data"
    },
    {
     "data": {
      "application/vnd.jupyter.widget-view+json": {
       "model_id": "60055852878d413994144448479d6b5c",
       "version_major": 2,
       "version_minor": 0
      },
      "text/plain": [
       "Generating sample 12/16:   0%|          | 0/50 [00:00<?, ?it/s]"
      ]
     },
     "metadata": {},
     "output_type": "display_data"
    },
    {
     "data": {
      "application/vnd.jupyter.widget-view+json": {
       "model_id": "864cd10f25c847a38f7455dba6415894",
       "version_major": 2,
       "version_minor": 0
      },
      "text/plain": [
       "Generating sample 13/16:   0%|          | 0/50 [00:00<?, ?it/s]"
      ]
     },
     "metadata": {},
     "output_type": "display_data"
    },
    {
     "data": {
      "application/vnd.jupyter.widget-view+json": {
       "model_id": "0a41dfadc7ee4a849e13b6defe6a8301",
       "version_major": 2,
       "version_minor": 0
      },
      "text/plain": [
       "Generating sample 14/16:   0%|          | 0/50 [00:00<?, ?it/s]"
      ]
     },
     "metadata": {},
     "output_type": "display_data"
    },
    {
     "data": {
      "application/vnd.jupyter.widget-view+json": {
       "model_id": "678bddc637384406a7ea498cebe61aa7",
       "version_major": 2,
       "version_minor": 0
      },
      "text/plain": [
       "Generating sample 15/16:   0%|          | 0/50 [00:00<?, ?it/s]"
      ]
     },
     "metadata": {},
     "output_type": "display_data"
    },
    {
     "data": {
      "application/vnd.jupyter.widget-view+json": {
       "model_id": "5886277506504699b124215d4e7b1724",
       "version_major": 2,
       "version_minor": 0
      },
      "text/plain": [
       "Generating sample 16/16:   0%|          | 0/50 [00:00<?, ?it/s]"
      ]
     },
     "metadata": {},
     "output_type": "display_data"
    },
    {
     "name": "stdout",
     "output_type": "stream",
     "text": [
      "Saved sample grid to output/samples/samples_epoch_6.png\n"
     ]
    },
    {
     "data": {
      "application/vnd.jupyter.widget-view+json": {
       "model_id": "ac64156193794290ba37ac73a0c0a3c9",
       "version_major": 2,
       "version_minor": 0
      },
      "text/plain": [
       "  0%|          | 0/12078 [00:00<?, ?it/s]"
      ]
     },
     "metadata": {},
     "output_type": "display_data"
    },
    {
     "name": "stdout",
     "output_type": "stream",
     "text": [
      "Epoch 7/20 - Avg loss: 0.086041, Avg PSNR: 25.46\n",
      "Saving model to output/best/best\n",
      "New best model with loss: 0.086041\n",
      "Saving model to output/checkpoints/epoch_7\n",
      "Generating validation samples for epoch 7...\n"
     ]
    },
    {
     "data": {
      "application/vnd.jupyter.widget-view+json": {
       "model_id": "874ded448a7948f9b483369c16bbb870",
       "version_major": 2,
       "version_minor": 0
      },
      "text/plain": [
       "Generating sample 1/16:   0%|          | 0/50 [00:00<?, ?it/s]"
      ]
     },
     "metadata": {},
     "output_type": "display_data"
    },
    {
     "data": {
      "application/vnd.jupyter.widget-view+json": {
       "model_id": "90ae9dc0294f489abe35b03b786a34fd",
       "version_major": 2,
       "version_minor": 0
      },
      "text/plain": [
       "Generating sample 2/16:   0%|          | 0/50 [00:00<?, ?it/s]"
      ]
     },
     "metadata": {},
     "output_type": "display_data"
    },
    {
     "data": {
      "application/vnd.jupyter.widget-view+json": {
       "model_id": "6e61273fd6d141c38041aa2d5eb19eef",
       "version_major": 2,
       "version_minor": 0
      },
      "text/plain": [
       "Generating sample 3/16:   0%|          | 0/50 [00:00<?, ?it/s]"
      ]
     },
     "metadata": {},
     "output_type": "display_data"
    },
    {
     "data": {
      "application/vnd.jupyter.widget-view+json": {
       "model_id": "eb0f3871a94744db8f9de36a27e4a9eb",
       "version_major": 2,
       "version_minor": 0
      },
      "text/plain": [
       "Generating sample 4/16:   0%|          | 0/50 [00:00<?, ?it/s]"
      ]
     },
     "metadata": {},
     "output_type": "display_data"
    },
    {
     "data": {
      "application/vnd.jupyter.widget-view+json": {
       "model_id": "2b9f67a2c20b445abc0fbc840dd36ce3",
       "version_major": 2,
       "version_minor": 0
      },
      "text/plain": [
       "Generating sample 5/16:   0%|          | 0/50 [00:00<?, ?it/s]"
      ]
     },
     "metadata": {},
     "output_type": "display_data"
    },
    {
     "data": {
      "application/vnd.jupyter.widget-view+json": {
       "model_id": "20ec61dd4d0a46ecbdd26d5d9d538a68",
       "version_major": 2,
       "version_minor": 0
      },
      "text/plain": [
       "Generating sample 6/16:   0%|          | 0/50 [00:00<?, ?it/s]"
      ]
     },
     "metadata": {},
     "output_type": "display_data"
    },
    {
     "data": {
      "application/vnd.jupyter.widget-view+json": {
       "model_id": "387465a389c145f68c86698fb4239dba",
       "version_major": 2,
       "version_minor": 0
      },
      "text/plain": [
       "Generating sample 7/16:   0%|          | 0/50 [00:00<?, ?it/s]"
      ]
     },
     "metadata": {},
     "output_type": "display_data"
    },
    {
     "data": {
      "application/vnd.jupyter.widget-view+json": {
       "model_id": "eddcb7e3eb404bf4b52f19a34e88da44",
       "version_major": 2,
       "version_minor": 0
      },
      "text/plain": [
       "Generating sample 8/16:   0%|          | 0/50 [00:00<?, ?it/s]"
      ]
     },
     "metadata": {},
     "output_type": "display_data"
    },
    {
     "data": {
      "application/vnd.jupyter.widget-view+json": {
       "model_id": "5f1bcce18736430682e8e8afd0e26d5c",
       "version_major": 2,
       "version_minor": 0
      },
      "text/plain": [
       "Generating sample 9/16:   0%|          | 0/50 [00:00<?, ?it/s]"
      ]
     },
     "metadata": {},
     "output_type": "display_data"
    },
    {
     "data": {
      "application/vnd.jupyter.widget-view+json": {
       "model_id": "7f6e885b4a3e48758e37cd4619673d71",
       "version_major": 2,
       "version_minor": 0
      },
      "text/plain": [
       "Generating sample 10/16:   0%|          | 0/50 [00:00<?, ?it/s]"
      ]
     },
     "metadata": {},
     "output_type": "display_data"
    },
    {
     "data": {
      "application/vnd.jupyter.widget-view+json": {
       "model_id": "cfbb697e95bd4cb2b02ec9dd161f62bb",
       "version_major": 2,
       "version_minor": 0
      },
      "text/plain": [
       "Generating sample 11/16:   0%|          | 0/50 [00:00<?, ?it/s]"
      ]
     },
     "metadata": {},
     "output_type": "display_data"
    },
    {
     "data": {
      "application/vnd.jupyter.widget-view+json": {
       "model_id": "5eba47cee21a42c1bc453d5ceff5994f",
       "version_major": 2,
       "version_minor": 0
      },
      "text/plain": [
       "Generating sample 12/16:   0%|          | 0/50 [00:00<?, ?it/s]"
      ]
     },
     "metadata": {},
     "output_type": "display_data"
    },
    {
     "data": {
      "application/vnd.jupyter.widget-view+json": {
       "model_id": "618d414a55984c45a5e0de894918bd63",
       "version_major": 2,
       "version_minor": 0
      },
      "text/plain": [
       "Generating sample 13/16:   0%|          | 0/50 [00:00<?, ?it/s]"
      ]
     },
     "metadata": {},
     "output_type": "display_data"
    },
    {
     "data": {
      "application/vnd.jupyter.widget-view+json": {
       "model_id": "90f9411970e540b6b707d20f6f76c7cd",
       "version_major": 2,
       "version_minor": 0
      },
      "text/plain": [
       "Generating sample 14/16:   0%|          | 0/50 [00:00<?, ?it/s]"
      ]
     },
     "metadata": {},
     "output_type": "display_data"
    },
    {
     "data": {
      "application/vnd.jupyter.widget-view+json": {
       "model_id": "ea09507a57c24605a8c52b3e4522812d",
       "version_major": 2,
       "version_minor": 0
      },
      "text/plain": [
       "Generating sample 15/16:   0%|          | 0/50 [00:00<?, ?it/s]"
      ]
     },
     "metadata": {},
     "output_type": "display_data"
    },
    {
     "data": {
      "application/vnd.jupyter.widget-view+json": {
       "model_id": "30df996474654b62a7c60c5e1891f269",
       "version_major": 2,
       "version_minor": 0
      },
      "text/plain": [
       "Generating sample 16/16:   0%|          | 0/50 [00:00<?, ?it/s]"
      ]
     },
     "metadata": {},
     "output_type": "display_data"
    },
    {
     "name": "stdout",
     "output_type": "stream",
     "text": [
      "Saved sample grid to output/samples/samples_epoch_7.png\n"
     ]
    },
    {
     "data": {
      "application/vnd.jupyter.widget-view+json": {
       "model_id": "05543ec504204451adbe71275d86fecb",
       "version_major": 2,
       "version_minor": 0
      },
      "text/plain": [
       "  0%|          | 0/12078 [00:00<?, ?it/s]"
      ]
     },
     "metadata": {},
     "output_type": "display_data"
    },
    {
     "name": "stdout",
     "output_type": "stream",
     "text": [
      "Epoch 8/20 - Avg loss: 0.085452, Avg PSNR: 25.50\n",
      "Saving model to output/best/best\n",
      "New best model with loss: 0.085452\n",
      "Saving model to output/checkpoints/epoch_8\n",
      "Generating validation samples for epoch 8...\n"
     ]
    },
    {
     "data": {
      "application/vnd.jupyter.widget-view+json": {
       "model_id": "245e658109b347d489ea4a20a81dc073",
       "version_major": 2,
       "version_minor": 0
      },
      "text/plain": [
       "Generating sample 1/16:   0%|          | 0/50 [00:00<?, ?it/s]"
      ]
     },
     "metadata": {},
     "output_type": "display_data"
    },
    {
     "data": {
      "application/vnd.jupyter.widget-view+json": {
       "model_id": "867a682a07f64a8f86298d0c04a6207b",
       "version_major": 2,
       "version_minor": 0
      },
      "text/plain": [
       "Generating sample 2/16:   0%|          | 0/50 [00:00<?, ?it/s]"
      ]
     },
     "metadata": {},
     "output_type": "display_data"
    },
    {
     "data": {
      "application/vnd.jupyter.widget-view+json": {
       "model_id": "969017c90a1440cd87e75f1ed2157a10",
       "version_major": 2,
       "version_minor": 0
      },
      "text/plain": [
       "Generating sample 3/16:   0%|          | 0/50 [00:00<?, ?it/s]"
      ]
     },
     "metadata": {},
     "output_type": "display_data"
    },
    {
     "data": {
      "application/vnd.jupyter.widget-view+json": {
       "model_id": "5889350a082844c4b36d495093fe7525",
       "version_major": 2,
       "version_minor": 0
      },
      "text/plain": [
       "Generating sample 4/16:   0%|          | 0/50 [00:00<?, ?it/s]"
      ]
     },
     "metadata": {},
     "output_type": "display_data"
    },
    {
     "data": {
      "application/vnd.jupyter.widget-view+json": {
       "model_id": "d4649e2ac2fe4745a6d4ae613ed7e9fe",
       "version_major": 2,
       "version_minor": 0
      },
      "text/plain": [
       "Generating sample 5/16:   0%|          | 0/50 [00:00<?, ?it/s]"
      ]
     },
     "metadata": {},
     "output_type": "display_data"
    },
    {
     "data": {
      "application/vnd.jupyter.widget-view+json": {
       "model_id": "09847161a5724545bc1379f0b25357bd",
       "version_major": 2,
       "version_minor": 0
      },
      "text/plain": [
       "Generating sample 6/16:   0%|          | 0/50 [00:00<?, ?it/s]"
      ]
     },
     "metadata": {},
     "output_type": "display_data"
    },
    {
     "data": {
      "application/vnd.jupyter.widget-view+json": {
       "model_id": "b650f7fd83064d87a06b63c4e2da45fc",
       "version_major": 2,
       "version_minor": 0
      },
      "text/plain": [
       "Generating sample 7/16:   0%|          | 0/50 [00:00<?, ?it/s]"
      ]
     },
     "metadata": {},
     "output_type": "display_data"
    },
    {
     "data": {
      "application/vnd.jupyter.widget-view+json": {
       "model_id": "d447e0fa5fbd4d48875a6d7d1e64c617",
       "version_major": 2,
       "version_minor": 0
      },
      "text/plain": [
       "Generating sample 8/16:   0%|          | 0/50 [00:00<?, ?it/s]"
      ]
     },
     "metadata": {},
     "output_type": "display_data"
    },
    {
     "data": {
      "application/vnd.jupyter.widget-view+json": {
       "model_id": "d1b7d096658e4cb6a59287dda17e0904",
       "version_major": 2,
       "version_minor": 0
      },
      "text/plain": [
       "Generating sample 9/16:   0%|          | 0/50 [00:00<?, ?it/s]"
      ]
     },
     "metadata": {},
     "output_type": "display_data"
    },
    {
     "data": {
      "application/vnd.jupyter.widget-view+json": {
       "model_id": "be7602a1570a4f688c5e39af77368cc2",
       "version_major": 2,
       "version_minor": 0
      },
      "text/plain": [
       "Generating sample 10/16:   0%|          | 0/50 [00:00<?, ?it/s]"
      ]
     },
     "metadata": {},
     "output_type": "display_data"
    },
    {
     "data": {
      "application/vnd.jupyter.widget-view+json": {
       "model_id": "261ed42aacf249f98e9f86979a2ff1c0",
       "version_major": 2,
       "version_minor": 0
      },
      "text/plain": [
       "Generating sample 11/16:   0%|          | 0/50 [00:00<?, ?it/s]"
      ]
     },
     "metadata": {},
     "output_type": "display_data"
    },
    {
     "data": {
      "application/vnd.jupyter.widget-view+json": {
       "model_id": "d7f0cb78f22541a2adc691f1dcc38408",
       "version_major": 2,
       "version_minor": 0
      },
      "text/plain": [
       "Generating sample 12/16:   0%|          | 0/50 [00:00<?, ?it/s]"
      ]
     },
     "metadata": {},
     "output_type": "display_data"
    },
    {
     "data": {
      "application/vnd.jupyter.widget-view+json": {
       "model_id": "dd2ccebd8a3849ce84d01593edf92c53",
       "version_major": 2,
       "version_minor": 0
      },
      "text/plain": [
       "Generating sample 13/16:   0%|          | 0/50 [00:00<?, ?it/s]"
      ]
     },
     "metadata": {},
     "output_type": "display_data"
    },
    {
     "data": {
      "application/vnd.jupyter.widget-view+json": {
       "model_id": "c37bcf6198714de78abb49e0568071b6",
       "version_major": 2,
       "version_minor": 0
      },
      "text/plain": [
       "Generating sample 14/16:   0%|          | 0/50 [00:00<?, ?it/s]"
      ]
     },
     "metadata": {},
     "output_type": "display_data"
    },
    {
     "data": {
      "application/vnd.jupyter.widget-view+json": {
       "model_id": "fed20e57058044ba970542293b1a1e55",
       "version_major": 2,
       "version_minor": 0
      },
      "text/plain": [
       "Generating sample 15/16:   0%|          | 0/50 [00:00<?, ?it/s]"
      ]
     },
     "metadata": {},
     "output_type": "display_data"
    },
    {
     "data": {
      "application/vnd.jupyter.widget-view+json": {
       "model_id": "0be6f741f6a64db6998cac78a02ee5ea",
       "version_major": 2,
       "version_minor": 0
      },
      "text/plain": [
       "Generating sample 16/16:   0%|          | 0/50 [00:00<?, ?it/s]"
      ]
     },
     "metadata": {},
     "output_type": "display_data"
    },
    {
     "name": "stdout",
     "output_type": "stream",
     "text": [
      "Saved sample grid to output/samples/samples_epoch_8.png\n"
     ]
    },
    {
     "data": {
      "application/vnd.jupyter.widget-view+json": {
       "model_id": "368fd06616fa43aaa00d88ceb1777f7f",
       "version_major": 2,
       "version_minor": 0
      },
      "text/plain": [
       "  0%|          | 0/12078 [00:00<?, ?it/s]"
      ]
     },
     "metadata": {},
     "output_type": "display_data"
    },
    {
     "name": "stdout",
     "output_type": "stream",
     "text": [
      "Epoch 9/20 - Avg loss: 0.084354, Avg PSNR: 25.60\n",
      "Saving model to output/best/best\n",
      "New best model with loss: 0.084354\n",
      "Saving model to output/checkpoints/epoch_9\n",
      "Generating validation samples for epoch 9...\n"
     ]
    },
    {
     "data": {
      "application/vnd.jupyter.widget-view+json": {
       "model_id": "38eb8489faf14707a76e0be4081df89f",
       "version_major": 2,
       "version_minor": 0
      },
      "text/plain": [
       "Generating sample 1/16:   0%|          | 0/50 [00:00<?, ?it/s]"
      ]
     },
     "metadata": {},
     "output_type": "display_data"
    },
    {
     "data": {
      "application/vnd.jupyter.widget-view+json": {
       "model_id": "485d8ec1ad1d49428b7ad4b9353de831",
       "version_major": 2,
       "version_minor": 0
      },
      "text/plain": [
       "Generating sample 2/16:   0%|          | 0/50 [00:00<?, ?it/s]"
      ]
     },
     "metadata": {},
     "output_type": "display_data"
    },
    {
     "data": {
      "application/vnd.jupyter.widget-view+json": {
       "model_id": "20f736a577eb4d319ef5f668adae44b2",
       "version_major": 2,
       "version_minor": 0
      },
      "text/plain": [
       "Generating sample 3/16:   0%|          | 0/50 [00:00<?, ?it/s]"
      ]
     },
     "metadata": {},
     "output_type": "display_data"
    },
    {
     "data": {
      "application/vnd.jupyter.widget-view+json": {
       "model_id": "3932dae2e8984683b3fe287a8b06fb54",
       "version_major": 2,
       "version_minor": 0
      },
      "text/plain": [
       "Generating sample 4/16:   0%|          | 0/50 [00:00<?, ?it/s]"
      ]
     },
     "metadata": {},
     "output_type": "display_data"
    },
    {
     "data": {
      "application/vnd.jupyter.widget-view+json": {
       "model_id": "2e535f9169ce42a2b87012ddfa31c532",
       "version_major": 2,
       "version_minor": 0
      },
      "text/plain": [
       "Generating sample 5/16:   0%|          | 0/50 [00:00<?, ?it/s]"
      ]
     },
     "metadata": {},
     "output_type": "display_data"
    },
    {
     "data": {
      "application/vnd.jupyter.widget-view+json": {
       "model_id": "b08be3a49f1e4bbb9dc6222520a1e872",
       "version_major": 2,
       "version_minor": 0
      },
      "text/plain": [
       "Generating sample 6/16:   0%|          | 0/50 [00:00<?, ?it/s]"
      ]
     },
     "metadata": {},
     "output_type": "display_data"
    },
    {
     "data": {
      "application/vnd.jupyter.widget-view+json": {
       "model_id": "680b9ea3a127420cadf87c34534951b4",
       "version_major": 2,
       "version_minor": 0
      },
      "text/plain": [
       "Generating sample 7/16:   0%|          | 0/50 [00:00<?, ?it/s]"
      ]
     },
     "metadata": {},
     "output_type": "display_data"
    },
    {
     "data": {
      "application/vnd.jupyter.widget-view+json": {
       "model_id": "cc4da8e902a74fdfbad20d50767820dd",
       "version_major": 2,
       "version_minor": 0
      },
      "text/plain": [
       "Generating sample 8/16:   0%|          | 0/50 [00:00<?, ?it/s]"
      ]
     },
     "metadata": {},
     "output_type": "display_data"
    },
    {
     "data": {
      "application/vnd.jupyter.widget-view+json": {
       "model_id": "81023ab25405473cb1737b312862fadd",
       "version_major": 2,
       "version_minor": 0
      },
      "text/plain": [
       "Generating sample 9/16:   0%|          | 0/50 [00:00<?, ?it/s]"
      ]
     },
     "metadata": {},
     "output_type": "display_data"
    },
    {
     "data": {
      "application/vnd.jupyter.widget-view+json": {
       "model_id": "07c2ca91acf941f4a0cf27731a9fae1b",
       "version_major": 2,
       "version_minor": 0
      },
      "text/plain": [
       "Generating sample 10/16:   0%|          | 0/50 [00:00<?, ?it/s]"
      ]
     },
     "metadata": {},
     "output_type": "display_data"
    },
    {
     "data": {
      "application/vnd.jupyter.widget-view+json": {
       "model_id": "90a4b28178cd48f281bd99a9aae7e1aa",
       "version_major": 2,
       "version_minor": 0
      },
      "text/plain": [
       "Generating sample 11/16:   0%|          | 0/50 [00:00<?, ?it/s]"
      ]
     },
     "metadata": {},
     "output_type": "display_data"
    },
    {
     "data": {
      "application/vnd.jupyter.widget-view+json": {
       "model_id": "f14dda17f362440da6572c3227eb89d4",
       "version_major": 2,
       "version_minor": 0
      },
      "text/plain": [
       "Generating sample 12/16:   0%|          | 0/50 [00:00<?, ?it/s]"
      ]
     },
     "metadata": {},
     "output_type": "display_data"
    },
    {
     "data": {
      "application/vnd.jupyter.widget-view+json": {
       "model_id": "d1f8dce064094b5e92aad13501d2fee0",
       "version_major": 2,
       "version_minor": 0
      },
      "text/plain": [
       "Generating sample 13/16:   0%|          | 0/50 [00:00<?, ?it/s]"
      ]
     },
     "metadata": {},
     "output_type": "display_data"
    },
    {
     "data": {
      "application/vnd.jupyter.widget-view+json": {
       "model_id": "1b1eecf053ab4da6a540b42d5a80b58f",
       "version_major": 2,
       "version_minor": 0
      },
      "text/plain": [
       "Generating sample 14/16:   0%|          | 0/50 [00:00<?, ?it/s]"
      ]
     },
     "metadata": {},
     "output_type": "display_data"
    },
    {
     "data": {
      "application/vnd.jupyter.widget-view+json": {
       "model_id": "a9161809915f4e0e9c1c94de94391e5f",
       "version_major": 2,
       "version_minor": 0
      },
      "text/plain": [
       "Generating sample 15/16:   0%|          | 0/50 [00:00<?, ?it/s]"
      ]
     },
     "metadata": {},
     "output_type": "display_data"
    },
    {
     "data": {
      "application/vnd.jupyter.widget-view+json": {
       "model_id": "664d3b6bcf864401a18f99accfa5d1ba",
       "version_major": 2,
       "version_minor": 0
      },
      "text/plain": [
       "Generating sample 16/16:   0%|          | 0/50 [00:00<?, ?it/s]"
      ]
     },
     "metadata": {},
     "output_type": "display_data"
    },
    {
     "name": "stdout",
     "output_type": "stream",
     "text": [
      "Saved sample grid to output/samples/samples_epoch_9.png\n"
     ]
    },
    {
     "data": {
      "application/vnd.jupyter.widget-view+json": {
       "model_id": "00a0162225e94c18b604e735abbbcb29",
       "version_major": 2,
       "version_minor": 0
      },
      "text/plain": [
       "  0%|          | 0/12078 [00:00<?, ?it/s]"
      ]
     },
     "metadata": {},
     "output_type": "display_data"
    },
    {
     "name": "stdout",
     "output_type": "stream",
     "text": [
      "Epoch 10/20 - Avg loss: 0.082448, Avg PSNR: 25.67\n",
      "Saving model to output/best/best\n",
      "New best model with loss: 0.082448\n",
      "Saving model to output/checkpoints/epoch_10\n",
      "Generating validation samples for epoch 10...\n"
     ]
    },
    {
     "data": {
      "application/vnd.jupyter.widget-view+json": {
       "model_id": "2f4332289967486ea5d1778da95815ed",
       "version_major": 2,
       "version_minor": 0
      },
      "text/plain": [
       "Generating sample 1/16:   0%|          | 0/50 [00:00<?, ?it/s]"
      ]
     },
     "metadata": {},
     "output_type": "display_data"
    },
    {
     "data": {
      "application/vnd.jupyter.widget-view+json": {
       "model_id": "8e0453f457894187b037363f62a2dec4",
       "version_major": 2,
       "version_minor": 0
      },
      "text/plain": [
       "Generating sample 2/16:   0%|          | 0/50 [00:00<?, ?it/s]"
      ]
     },
     "metadata": {},
     "output_type": "display_data"
    },
    {
     "data": {
      "application/vnd.jupyter.widget-view+json": {
       "model_id": "ce023ab7fa96438ab28082d17396562c",
       "version_major": 2,
       "version_minor": 0
      },
      "text/plain": [
       "Generating sample 3/16:   0%|          | 0/50 [00:00<?, ?it/s]"
      ]
     },
     "metadata": {},
     "output_type": "display_data"
    },
    {
     "data": {
      "application/vnd.jupyter.widget-view+json": {
       "model_id": "77ecfc070bbe47559b176381fad5582c",
       "version_major": 2,
       "version_minor": 0
      },
      "text/plain": [
       "Generating sample 4/16:   0%|          | 0/50 [00:00<?, ?it/s]"
      ]
     },
     "metadata": {},
     "output_type": "display_data"
    },
    {
     "data": {
      "application/vnd.jupyter.widget-view+json": {
       "model_id": "ef757070b57f486d8bf81cc9913effcf",
       "version_major": 2,
       "version_minor": 0
      },
      "text/plain": [
       "Generating sample 5/16:   0%|          | 0/50 [00:00<?, ?it/s]"
      ]
     },
     "metadata": {},
     "output_type": "display_data"
    },
    {
     "data": {
      "application/vnd.jupyter.widget-view+json": {
       "model_id": "612d11522467410594b7bdf9ae68d1c4",
       "version_major": 2,
       "version_minor": 0
      },
      "text/plain": [
       "Generating sample 6/16:   0%|          | 0/50 [00:00<?, ?it/s]"
      ]
     },
     "metadata": {},
     "output_type": "display_data"
    },
    {
     "data": {
      "application/vnd.jupyter.widget-view+json": {
       "model_id": "4324b9768da644cf827e47a97b32da23",
       "version_major": 2,
       "version_minor": 0
      },
      "text/plain": [
       "Generating sample 7/16:   0%|          | 0/50 [00:00<?, ?it/s]"
      ]
     },
     "metadata": {},
     "output_type": "display_data"
    },
    {
     "data": {
      "application/vnd.jupyter.widget-view+json": {
       "model_id": "98d9b16fffe44371a114ab86a03ce996",
       "version_major": 2,
       "version_minor": 0
      },
      "text/plain": [
       "Generating sample 8/16:   0%|          | 0/50 [00:00<?, ?it/s]"
      ]
     },
     "metadata": {},
     "output_type": "display_data"
    },
    {
     "data": {
      "application/vnd.jupyter.widget-view+json": {
       "model_id": "8c9f7f8c50554b3fbf76d5f16438b9eb",
       "version_major": 2,
       "version_minor": 0
      },
      "text/plain": [
       "Generating sample 9/16:   0%|          | 0/50 [00:00<?, ?it/s]"
      ]
     },
     "metadata": {},
     "output_type": "display_data"
    },
    {
     "data": {
      "application/vnd.jupyter.widget-view+json": {
       "model_id": "6b70de9d82ca4e3cba3f9f15ae4713c6",
       "version_major": 2,
       "version_minor": 0
      },
      "text/plain": [
       "Generating sample 10/16:   0%|          | 0/50 [00:00<?, ?it/s]"
      ]
     },
     "metadata": {},
     "output_type": "display_data"
    },
    {
     "data": {
      "application/vnd.jupyter.widget-view+json": {
       "model_id": "102ece341ef9459e8dffed9b51b53e25",
       "version_major": 2,
       "version_minor": 0
      },
      "text/plain": [
       "Generating sample 11/16:   0%|          | 0/50 [00:00<?, ?it/s]"
      ]
     },
     "metadata": {},
     "output_type": "display_data"
    },
    {
     "data": {
      "application/vnd.jupyter.widget-view+json": {
       "model_id": "e129f508c62942d8ad0c4ce8d7a44637",
       "version_major": 2,
       "version_minor": 0
      },
      "text/plain": [
       "Generating sample 12/16:   0%|          | 0/50 [00:00<?, ?it/s]"
      ]
     },
     "metadata": {},
     "output_type": "display_data"
    },
    {
     "data": {
      "application/vnd.jupyter.widget-view+json": {
       "model_id": "37cda9e7c7964a6d80e784dec7a61fd1",
       "version_major": 2,
       "version_minor": 0
      },
      "text/plain": [
       "Generating sample 13/16:   0%|          | 0/50 [00:00<?, ?it/s]"
      ]
     },
     "metadata": {},
     "output_type": "display_data"
    },
    {
     "data": {
      "application/vnd.jupyter.widget-view+json": {
       "model_id": "9a1929257fa04efdbd1a8062ab89e71c",
       "version_major": 2,
       "version_minor": 0
      },
      "text/plain": [
       "Generating sample 14/16:   0%|          | 0/50 [00:00<?, ?it/s]"
      ]
     },
     "metadata": {},
     "output_type": "display_data"
    },
    {
     "data": {
      "application/vnd.jupyter.widget-view+json": {
       "model_id": "f5083be720514b719edb7ebe3375bc43",
       "version_major": 2,
       "version_minor": 0
      },
      "text/plain": [
       "Generating sample 15/16:   0%|          | 0/50 [00:00<?, ?it/s]"
      ]
     },
     "metadata": {},
     "output_type": "display_data"
    },
    {
     "data": {
      "application/vnd.jupyter.widget-view+json": {
       "model_id": "721691aee9474fc6a2b0cc859183871a",
       "version_major": 2,
       "version_minor": 0
      },
      "text/plain": [
       "Generating sample 16/16:   0%|          | 0/50 [00:00<?, ?it/s]"
      ]
     },
     "metadata": {},
     "output_type": "display_data"
    },
    {
     "name": "stdout",
     "output_type": "stream",
     "text": [
      "Saved sample grid to output/samples/samples_epoch_10.png\n"
     ]
    },
    {
     "data": {
      "application/vnd.jupyter.widget-view+json": {
       "model_id": "8653c72098444c1f966dcb57830ab279",
       "version_major": 2,
       "version_minor": 0
      },
      "text/plain": [
       "  0%|          | 0/12078 [00:00<?, ?it/s]"
      ]
     },
     "metadata": {},
     "output_type": "display_data"
    },
    {
     "name": "stdout",
     "output_type": "stream",
     "text": [
      "Epoch 11/20 - Avg loss: 0.083510, Avg PSNR: 25.60\n",
      "No improvement. Early stopping counter: 1/5\n",
      "Saving model to output/checkpoints/epoch_11\n",
      "Generating validation samples for epoch 11...\n"
     ]
    },
    {
     "data": {
      "application/vnd.jupyter.widget-view+json": {
       "model_id": "ffb05ea36ec448f98abde5f56fba4da0",
       "version_major": 2,
       "version_minor": 0
      },
      "text/plain": [
       "Generating sample 1/16:   0%|          | 0/50 [00:00<?, ?it/s]"
      ]
     },
     "metadata": {},
     "output_type": "display_data"
    },
    {
     "data": {
      "application/vnd.jupyter.widget-view+json": {
       "model_id": "84472df109384321add4fb700edee6b9",
       "version_major": 2,
       "version_minor": 0
      },
      "text/plain": [
       "Generating sample 2/16:   0%|          | 0/50 [00:00<?, ?it/s]"
      ]
     },
     "metadata": {},
     "output_type": "display_data"
    },
    {
     "data": {
      "application/vnd.jupyter.widget-view+json": {
       "model_id": "9bf4bc746de84d5ba11223aaeb531b3c",
       "version_major": 2,
       "version_minor": 0
      },
      "text/plain": [
       "Generating sample 3/16:   0%|          | 0/50 [00:00<?, ?it/s]"
      ]
     },
     "metadata": {},
     "output_type": "display_data"
    },
    {
     "data": {
      "application/vnd.jupyter.widget-view+json": {
       "model_id": "758d06dff2ed4f1c9326b7cd78185c98",
       "version_major": 2,
       "version_minor": 0
      },
      "text/plain": [
       "Generating sample 4/16:   0%|          | 0/50 [00:00<?, ?it/s]"
      ]
     },
     "metadata": {},
     "output_type": "display_data"
    },
    {
     "data": {
      "application/vnd.jupyter.widget-view+json": {
       "model_id": "7d84921a3e0143cbabd687c6169202cf",
       "version_major": 2,
       "version_minor": 0
      },
      "text/plain": [
       "Generating sample 5/16:   0%|          | 0/50 [00:00<?, ?it/s]"
      ]
     },
     "metadata": {},
     "output_type": "display_data"
    },
    {
     "data": {
      "application/vnd.jupyter.widget-view+json": {
       "model_id": "4c670ccf29e14b839c56e61ba0827091",
       "version_major": 2,
       "version_minor": 0
      },
      "text/plain": [
       "Generating sample 6/16:   0%|          | 0/50 [00:00<?, ?it/s]"
      ]
     },
     "metadata": {},
     "output_type": "display_data"
    },
    {
     "data": {
      "application/vnd.jupyter.widget-view+json": {
       "model_id": "f6524241fc8844a29f42dca564b77529",
       "version_major": 2,
       "version_minor": 0
      },
      "text/plain": [
       "Generating sample 7/16:   0%|          | 0/50 [00:00<?, ?it/s]"
      ]
     },
     "metadata": {},
     "output_type": "display_data"
    },
    {
     "data": {
      "application/vnd.jupyter.widget-view+json": {
       "model_id": "983540583fe740c19239d48d82807ac6",
       "version_major": 2,
       "version_minor": 0
      },
      "text/plain": [
       "Generating sample 8/16:   0%|          | 0/50 [00:00<?, ?it/s]"
      ]
     },
     "metadata": {},
     "output_type": "display_data"
    },
    {
     "data": {
      "application/vnd.jupyter.widget-view+json": {
       "model_id": "12009d71c47841aa975584995d064dcc",
       "version_major": 2,
       "version_minor": 0
      },
      "text/plain": [
       "Generating sample 9/16:   0%|          | 0/50 [00:00<?, ?it/s]"
      ]
     },
     "metadata": {},
     "output_type": "display_data"
    },
    {
     "data": {
      "application/vnd.jupyter.widget-view+json": {
       "model_id": "7fe792ba13e749148dcde800e47f2c86",
       "version_major": 2,
       "version_minor": 0
      },
      "text/plain": [
       "Generating sample 10/16:   0%|          | 0/50 [00:00<?, ?it/s]"
      ]
     },
     "metadata": {},
     "output_type": "display_data"
    },
    {
     "data": {
      "application/vnd.jupyter.widget-view+json": {
       "model_id": "4f1c818e8ef74d52bcfc1520fcc4dfeb",
       "version_major": 2,
       "version_minor": 0
      },
      "text/plain": [
       "Generating sample 11/16:   0%|          | 0/50 [00:00<?, ?it/s]"
      ]
     },
     "metadata": {},
     "output_type": "display_data"
    },
    {
     "data": {
      "application/vnd.jupyter.widget-view+json": {
       "model_id": "3b628477fa884d2e80e6012d719163d0",
       "version_major": 2,
       "version_minor": 0
      },
      "text/plain": [
       "Generating sample 12/16:   0%|          | 0/50 [00:00<?, ?it/s]"
      ]
     },
     "metadata": {},
     "output_type": "display_data"
    },
    {
     "data": {
      "application/vnd.jupyter.widget-view+json": {
       "model_id": "8d465469d7be4f97bc435f797b853987",
       "version_major": 2,
       "version_minor": 0
      },
      "text/plain": [
       "Generating sample 13/16:   0%|          | 0/50 [00:00<?, ?it/s]"
      ]
     },
     "metadata": {},
     "output_type": "display_data"
    },
    {
     "data": {
      "application/vnd.jupyter.widget-view+json": {
       "model_id": "2a7a15b2f737402e953087723b878afe",
       "version_major": 2,
       "version_minor": 0
      },
      "text/plain": [
       "Generating sample 14/16:   0%|          | 0/50 [00:00<?, ?it/s]"
      ]
     },
     "metadata": {},
     "output_type": "display_data"
    },
    {
     "data": {
      "application/vnd.jupyter.widget-view+json": {
       "model_id": "1ff0fbb49fbc45c9873a5a0e14d60e16",
       "version_major": 2,
       "version_minor": 0
      },
      "text/plain": [
       "Generating sample 15/16:   0%|          | 0/50 [00:00<?, ?it/s]"
      ]
     },
     "metadata": {},
     "output_type": "display_data"
    },
    {
     "data": {
      "application/vnd.jupyter.widget-view+json": {
       "model_id": "0a9616a4a55e4cc2844e022be5466647",
       "version_major": 2,
       "version_minor": 0
      },
      "text/plain": [
       "Generating sample 16/16:   0%|          | 0/50 [00:00<?, ?it/s]"
      ]
     },
     "metadata": {},
     "output_type": "display_data"
    },
    {
     "name": "stdout",
     "output_type": "stream",
     "text": [
      "Saved sample grid to output/samples/samples_epoch_11.png\n"
     ]
    },
    {
     "data": {
      "application/vnd.jupyter.widget-view+json": {
       "model_id": "48c721e8e8e847749fd9e30c325f23a4",
       "version_major": 2,
       "version_minor": 0
      },
      "text/plain": [
       "  0%|          | 0/12078 [00:00<?, ?it/s]"
      ]
     },
     "metadata": {},
     "output_type": "display_data"
    },
    {
     "name": "stdout",
     "output_type": "stream",
     "text": [
      "Epoch 12/20 - Avg loss: 0.081691, Avg PSNR: 25.69\n",
      "Saving model to output/best/best\n",
      "New best model with loss: 0.081691\n",
      "Saving model to output/checkpoints/epoch_12\n",
      "Generating validation samples for epoch 12...\n"
     ]
    },
    {
     "data": {
      "application/vnd.jupyter.widget-view+json": {
       "model_id": "70d8144bd5514f2f9b5eef895b7f2a1b",
       "version_major": 2,
       "version_minor": 0
      },
      "text/plain": [
       "Generating sample 1/16:   0%|          | 0/50 [00:00<?, ?it/s]"
      ]
     },
     "metadata": {},
     "output_type": "display_data"
    },
    {
     "data": {
      "application/vnd.jupyter.widget-view+json": {
       "model_id": "2c74039563de4ae6906946054fb2b8c6",
       "version_major": 2,
       "version_minor": 0
      },
      "text/plain": [
       "Generating sample 2/16:   0%|          | 0/50 [00:00<?, ?it/s]"
      ]
     },
     "metadata": {},
     "output_type": "display_data"
    },
    {
     "data": {
      "application/vnd.jupyter.widget-view+json": {
       "model_id": "6273d194cbe0453587a20016ca88c855",
       "version_major": 2,
       "version_minor": 0
      },
      "text/plain": [
       "Generating sample 3/16:   0%|          | 0/50 [00:00<?, ?it/s]"
      ]
     },
     "metadata": {},
     "output_type": "display_data"
    },
    {
     "data": {
      "application/vnd.jupyter.widget-view+json": {
       "model_id": "01e68a68e40b405fa073f5e0e0a62f5b",
       "version_major": 2,
       "version_minor": 0
      },
      "text/plain": [
       "Generating sample 4/16:   0%|          | 0/50 [00:00<?, ?it/s]"
      ]
     },
     "metadata": {},
     "output_type": "display_data"
    },
    {
     "data": {
      "application/vnd.jupyter.widget-view+json": {
       "model_id": "7873c811b8ef45e19819726e89c17368",
       "version_major": 2,
       "version_minor": 0
      },
      "text/plain": [
       "Generating sample 5/16:   0%|          | 0/50 [00:00<?, ?it/s]"
      ]
     },
     "metadata": {},
     "output_type": "display_data"
    },
    {
     "data": {
      "application/vnd.jupyter.widget-view+json": {
       "model_id": "ec43c573c986424285ff84c09cb490a4",
       "version_major": 2,
       "version_minor": 0
      },
      "text/plain": [
       "Generating sample 6/16:   0%|          | 0/50 [00:00<?, ?it/s]"
      ]
     },
     "metadata": {},
     "output_type": "display_data"
    },
    {
     "data": {
      "application/vnd.jupyter.widget-view+json": {
       "model_id": "2f6780568ee0469898ad8e004addaf01",
       "version_major": 2,
       "version_minor": 0
      },
      "text/plain": [
       "Generating sample 7/16:   0%|          | 0/50 [00:00<?, ?it/s]"
      ]
     },
     "metadata": {},
     "output_type": "display_data"
    },
    {
     "data": {
      "application/vnd.jupyter.widget-view+json": {
       "model_id": "d5a8d5877b274ff4ab7488b16c5c32a8",
       "version_major": 2,
       "version_minor": 0
      },
      "text/plain": [
       "Generating sample 8/16:   0%|          | 0/50 [00:00<?, ?it/s]"
      ]
     },
     "metadata": {},
     "output_type": "display_data"
    },
    {
     "data": {
      "application/vnd.jupyter.widget-view+json": {
       "model_id": "c31b8d78a0484092933578003a3bbd2c",
       "version_major": 2,
       "version_minor": 0
      },
      "text/plain": [
       "Generating sample 9/16:   0%|          | 0/50 [00:00<?, ?it/s]"
      ]
     },
     "metadata": {},
     "output_type": "display_data"
    },
    {
     "data": {
      "application/vnd.jupyter.widget-view+json": {
       "model_id": "514216017c204910895541ce652b1487",
       "version_major": 2,
       "version_minor": 0
      },
      "text/plain": [
       "Generating sample 10/16:   0%|          | 0/50 [00:00<?, ?it/s]"
      ]
     },
     "metadata": {},
     "output_type": "display_data"
    },
    {
     "data": {
      "application/vnd.jupyter.widget-view+json": {
       "model_id": "5b7c8d3af86a4b7596f69f23690a4ec8",
       "version_major": 2,
       "version_minor": 0
      },
      "text/plain": [
       "Generating sample 11/16:   0%|          | 0/50 [00:00<?, ?it/s]"
      ]
     },
     "metadata": {},
     "output_type": "display_data"
    },
    {
     "data": {
      "application/vnd.jupyter.widget-view+json": {
       "model_id": "8d5d003e2ad64b5cbf631e76b6b235b0",
       "version_major": 2,
       "version_minor": 0
      },
      "text/plain": [
       "Generating sample 12/16:   0%|          | 0/50 [00:00<?, ?it/s]"
      ]
     },
     "metadata": {},
     "output_type": "display_data"
    },
    {
     "data": {
      "application/vnd.jupyter.widget-view+json": {
       "model_id": "b99a11ab4102420e8983f72cafd18a36",
       "version_major": 2,
       "version_minor": 0
      },
      "text/plain": [
       "Generating sample 13/16:   0%|          | 0/50 [00:00<?, ?it/s]"
      ]
     },
     "metadata": {},
     "output_type": "display_data"
    },
    {
     "data": {
      "application/vnd.jupyter.widget-view+json": {
       "model_id": "e5e0b3d0c42e411a87b96c3265f3bbd7",
       "version_major": 2,
       "version_minor": 0
      },
      "text/plain": [
       "Generating sample 14/16:   0%|          | 0/50 [00:00<?, ?it/s]"
      ]
     },
     "metadata": {},
     "output_type": "display_data"
    },
    {
     "data": {
      "application/vnd.jupyter.widget-view+json": {
       "model_id": "6e219079a05e4ab3b94c286e2202a780",
       "version_major": 2,
       "version_minor": 0
      },
      "text/plain": [
       "Generating sample 15/16:   0%|          | 0/50 [00:00<?, ?it/s]"
      ]
     },
     "metadata": {},
     "output_type": "display_data"
    },
    {
     "data": {
      "application/vnd.jupyter.widget-view+json": {
       "model_id": "da3913c679fe4d1a9a903d838c939d19",
       "version_major": 2,
       "version_minor": 0
      },
      "text/plain": [
       "Generating sample 16/16:   0%|          | 0/50 [00:00<?, ?it/s]"
      ]
     },
     "metadata": {},
     "output_type": "display_data"
    },
    {
     "name": "stdout",
     "output_type": "stream",
     "text": [
      "Saved sample grid to output/samples/samples_epoch_12.png\n"
     ]
    },
    {
     "data": {
      "application/vnd.jupyter.widget-view+json": {
       "model_id": "a7c815bc58c1473fafc98b3176f6f036",
       "version_major": 2,
       "version_minor": 0
      },
      "text/plain": [
       "  0%|          | 0/12078 [00:00<?, ?it/s]"
      ]
     },
     "metadata": {},
     "output_type": "display_data"
    },
    {
     "name": "stdout",
     "output_type": "stream",
     "text": [
      "Epoch 13/20 - Avg loss: 0.081701, Avg PSNR: 25.73\n",
      "No improvement. Early stopping counter: 1/5\n",
      "Saving model to output/checkpoints/epoch_13\n",
      "Generating validation samples for epoch 13...\n"
     ]
    },
    {
     "data": {
      "application/vnd.jupyter.widget-view+json": {
       "model_id": "a7681f35ad4e4d6586cb77eb74d0f2c4",
       "version_major": 2,
       "version_minor": 0
      },
      "text/plain": [
       "Generating sample 1/16:   0%|          | 0/50 [00:00<?, ?it/s]"
      ]
     },
     "metadata": {},
     "output_type": "display_data"
    },
    {
     "data": {
      "application/vnd.jupyter.widget-view+json": {
       "model_id": "9c3b8838c5934d7799966805ac6ab9ff",
       "version_major": 2,
       "version_minor": 0
      },
      "text/plain": [
       "Generating sample 2/16:   0%|          | 0/50 [00:00<?, ?it/s]"
      ]
     },
     "metadata": {},
     "output_type": "display_data"
    },
    {
     "data": {
      "application/vnd.jupyter.widget-view+json": {
       "model_id": "2b002075f26247e38cc72e711cd75648",
       "version_major": 2,
       "version_minor": 0
      },
      "text/plain": [
       "Generating sample 3/16:   0%|          | 0/50 [00:00<?, ?it/s]"
      ]
     },
     "metadata": {},
     "output_type": "display_data"
    },
    {
     "data": {
      "application/vnd.jupyter.widget-view+json": {
       "model_id": "cb35116df67147ebb2dde9985201977a",
       "version_major": 2,
       "version_minor": 0
      },
      "text/plain": [
       "Generating sample 4/16:   0%|          | 0/50 [00:00<?, ?it/s]"
      ]
     },
     "metadata": {},
     "output_type": "display_data"
    },
    {
     "data": {
      "application/vnd.jupyter.widget-view+json": {
       "model_id": "0eef6867c4ca4eb3866180a2cb1efe39",
       "version_major": 2,
       "version_minor": 0
      },
      "text/plain": [
       "Generating sample 5/16:   0%|          | 0/50 [00:00<?, ?it/s]"
      ]
     },
     "metadata": {},
     "output_type": "display_data"
    },
    {
     "data": {
      "application/vnd.jupyter.widget-view+json": {
       "model_id": "7c680cf949a4436e99fc1029c736616f",
       "version_major": 2,
       "version_minor": 0
      },
      "text/plain": [
       "Generating sample 6/16:   0%|          | 0/50 [00:00<?, ?it/s]"
      ]
     },
     "metadata": {},
     "output_type": "display_data"
    },
    {
     "data": {
      "application/vnd.jupyter.widget-view+json": {
       "model_id": "4901c87d20a34166b32392d24103ff0c",
       "version_major": 2,
       "version_minor": 0
      },
      "text/plain": [
       "Generating sample 7/16:   0%|          | 0/50 [00:00<?, ?it/s]"
      ]
     },
     "metadata": {},
     "output_type": "display_data"
    },
    {
     "data": {
      "application/vnd.jupyter.widget-view+json": {
       "model_id": "89bc9a751abb4832a42710e276e2c83a",
       "version_major": 2,
       "version_minor": 0
      },
      "text/plain": [
       "Generating sample 8/16:   0%|          | 0/50 [00:00<?, ?it/s]"
      ]
     },
     "metadata": {},
     "output_type": "display_data"
    },
    {
     "data": {
      "application/vnd.jupyter.widget-view+json": {
       "model_id": "d111204b262543cd802797c10d4c1e8f",
       "version_major": 2,
       "version_minor": 0
      },
      "text/plain": [
       "Generating sample 9/16:   0%|          | 0/50 [00:00<?, ?it/s]"
      ]
     },
     "metadata": {},
     "output_type": "display_data"
    },
    {
     "data": {
      "application/vnd.jupyter.widget-view+json": {
       "model_id": "f61f98e08535451987798b160ea09cce",
       "version_major": 2,
       "version_minor": 0
      },
      "text/plain": [
       "Generating sample 10/16:   0%|          | 0/50 [00:00<?, ?it/s]"
      ]
     },
     "metadata": {},
     "output_type": "display_data"
    },
    {
     "data": {
      "application/vnd.jupyter.widget-view+json": {
       "model_id": "8d763fd2cb6147f98e9c60daf30128f8",
       "version_major": 2,
       "version_minor": 0
      },
      "text/plain": [
       "Generating sample 11/16:   0%|          | 0/50 [00:00<?, ?it/s]"
      ]
     },
     "metadata": {},
     "output_type": "display_data"
    },
    {
     "data": {
      "application/vnd.jupyter.widget-view+json": {
       "model_id": "00b02ac565ab427db144e85002c1a209",
       "version_major": 2,
       "version_minor": 0
      },
      "text/plain": [
       "Generating sample 12/16:   0%|          | 0/50 [00:00<?, ?it/s]"
      ]
     },
     "metadata": {},
     "output_type": "display_data"
    },
    {
     "data": {
      "application/vnd.jupyter.widget-view+json": {
       "model_id": "f2fdca5fe55d4c5f9ded2d2da67527b0",
       "version_major": 2,
       "version_minor": 0
      },
      "text/plain": [
       "Generating sample 13/16:   0%|          | 0/50 [00:00<?, ?it/s]"
      ]
     },
     "metadata": {},
     "output_type": "display_data"
    },
    {
     "data": {
      "application/vnd.jupyter.widget-view+json": {
       "model_id": "ac287382fe13475c96ee6f9db50f6046",
       "version_major": 2,
       "version_minor": 0
      },
      "text/plain": [
       "Generating sample 14/16:   0%|          | 0/50 [00:00<?, ?it/s]"
      ]
     },
     "metadata": {},
     "output_type": "display_data"
    },
    {
     "data": {
      "application/vnd.jupyter.widget-view+json": {
       "model_id": "96b5866e7b3649a78e6ef1f3d3c3a92f",
       "version_major": 2,
       "version_minor": 0
      },
      "text/plain": [
       "Generating sample 15/16:   0%|          | 0/50 [00:00<?, ?it/s]"
      ]
     },
     "metadata": {},
     "output_type": "display_data"
    },
    {
     "data": {
      "application/vnd.jupyter.widget-view+json": {
       "model_id": "eb9eeb9a971543be99c57dcabc9bc942",
       "version_major": 2,
       "version_minor": 0
      },
      "text/plain": [
       "Generating sample 16/16:   0%|          | 0/50 [00:00<?, ?it/s]"
      ]
     },
     "metadata": {},
     "output_type": "display_data"
    },
    {
     "name": "stdout",
     "output_type": "stream",
     "text": [
      "Saved sample grid to output/samples/samples_epoch_13.png\n"
     ]
    },
    {
     "data": {
      "application/vnd.jupyter.widget-view+json": {
       "model_id": "f541ea2a67d44e21a369de565c23d28f",
       "version_major": 2,
       "version_minor": 0
      },
      "text/plain": [
       "  0%|          | 0/12078 [00:00<?, ?it/s]"
      ]
     },
     "metadata": {},
     "output_type": "display_data"
    },
    {
     "name": "stdout",
     "output_type": "stream",
     "text": [
      "Epoch 14/20 - Avg loss: 0.081063, Avg PSNR: 25.77\n",
      "Saving model to output/best/best\n",
      "New best model with loss: 0.081063\n",
      "Saving model to output/checkpoints/epoch_14\n",
      "Generating validation samples for epoch 14...\n"
     ]
    },
    {
     "data": {
      "application/vnd.jupyter.widget-view+json": {
       "model_id": "31ea87b583e746cc8c8446cd587bfe6a",
       "version_major": 2,
       "version_minor": 0
      },
      "text/plain": [
       "Generating sample 1/16:   0%|          | 0/50 [00:00<?, ?it/s]"
      ]
     },
     "metadata": {},
     "output_type": "display_data"
    },
    {
     "data": {
      "application/vnd.jupyter.widget-view+json": {
       "model_id": "00ddfa3438e443d5a2e65c068cb81e10",
       "version_major": 2,
       "version_minor": 0
      },
      "text/plain": [
       "Generating sample 2/16:   0%|          | 0/50 [00:00<?, ?it/s]"
      ]
     },
     "metadata": {},
     "output_type": "display_data"
    },
    {
     "data": {
      "application/vnd.jupyter.widget-view+json": {
       "model_id": "6aff544dba154b75ae5b46a58f9a3ea2",
       "version_major": 2,
       "version_minor": 0
      },
      "text/plain": [
       "Generating sample 3/16:   0%|          | 0/50 [00:00<?, ?it/s]"
      ]
     },
     "metadata": {},
     "output_type": "display_data"
    },
    {
     "data": {
      "application/vnd.jupyter.widget-view+json": {
       "model_id": "adac5a07465243b7a52ec548f818ee1c",
       "version_major": 2,
       "version_minor": 0
      },
      "text/plain": [
       "Generating sample 4/16:   0%|          | 0/50 [00:00<?, ?it/s]"
      ]
     },
     "metadata": {},
     "output_type": "display_data"
    },
    {
     "data": {
      "application/vnd.jupyter.widget-view+json": {
       "model_id": "0b78ea8b9c964f5c8c4ecf8d9f47ed81",
       "version_major": 2,
       "version_minor": 0
      },
      "text/plain": [
       "Generating sample 5/16:   0%|          | 0/50 [00:00<?, ?it/s]"
      ]
     },
     "metadata": {},
     "output_type": "display_data"
    },
    {
     "data": {
      "application/vnd.jupyter.widget-view+json": {
       "model_id": "506b5a8883fb4ba58a8964746728daf6",
       "version_major": 2,
       "version_minor": 0
      },
      "text/plain": [
       "Generating sample 6/16:   0%|          | 0/50 [00:00<?, ?it/s]"
      ]
     },
     "metadata": {},
     "output_type": "display_data"
    },
    {
     "data": {
      "application/vnd.jupyter.widget-view+json": {
       "model_id": "5d02b22698b14415b9770e8e97494dff",
       "version_major": 2,
       "version_minor": 0
      },
      "text/plain": [
       "Generating sample 7/16:   0%|          | 0/50 [00:00<?, ?it/s]"
      ]
     },
     "metadata": {},
     "output_type": "display_data"
    },
    {
     "data": {
      "application/vnd.jupyter.widget-view+json": {
       "model_id": "ac2b5436172247b690ee18184d26aa29",
       "version_major": 2,
       "version_minor": 0
      },
      "text/plain": [
       "Generating sample 8/16:   0%|          | 0/50 [00:00<?, ?it/s]"
      ]
     },
     "metadata": {},
     "output_type": "display_data"
    },
    {
     "data": {
      "application/vnd.jupyter.widget-view+json": {
       "model_id": "f2c94b958c9949efaed7202ec76a304b",
       "version_major": 2,
       "version_minor": 0
      },
      "text/plain": [
       "Generating sample 9/16:   0%|          | 0/50 [00:00<?, ?it/s]"
      ]
     },
     "metadata": {},
     "output_type": "display_data"
    },
    {
     "data": {
      "application/vnd.jupyter.widget-view+json": {
       "model_id": "48290fec8c054f5dbd7121f22d393058",
       "version_major": 2,
       "version_minor": 0
      },
      "text/plain": [
       "Generating sample 10/16:   0%|          | 0/50 [00:00<?, ?it/s]"
      ]
     },
     "metadata": {},
     "output_type": "display_data"
    },
    {
     "data": {
      "application/vnd.jupyter.widget-view+json": {
       "model_id": "579496206f4f4dc2bc6af32bc6670e92",
       "version_major": 2,
       "version_minor": 0
      },
      "text/plain": [
       "Generating sample 11/16:   0%|          | 0/50 [00:00<?, ?it/s]"
      ]
     },
     "metadata": {},
     "output_type": "display_data"
    },
    {
     "data": {
      "application/vnd.jupyter.widget-view+json": {
       "model_id": "b88cbbee7b0e471bb667edacee5d2c93",
       "version_major": 2,
       "version_minor": 0
      },
      "text/plain": [
       "Generating sample 12/16:   0%|          | 0/50 [00:00<?, ?it/s]"
      ]
     },
     "metadata": {},
     "output_type": "display_data"
    },
    {
     "data": {
      "application/vnd.jupyter.widget-view+json": {
       "model_id": "0195c00f3491474a915ed714eb7465e0",
       "version_major": 2,
       "version_minor": 0
      },
      "text/plain": [
       "Generating sample 13/16:   0%|          | 0/50 [00:00<?, ?it/s]"
      ]
     },
     "metadata": {},
     "output_type": "display_data"
    },
    {
     "data": {
      "application/vnd.jupyter.widget-view+json": {
       "model_id": "6176d11da3534cfbb19d2afc99712193",
       "version_major": 2,
       "version_minor": 0
      },
      "text/plain": [
       "Generating sample 14/16:   0%|          | 0/50 [00:00<?, ?it/s]"
      ]
     },
     "metadata": {},
     "output_type": "display_data"
    },
    {
     "data": {
      "application/vnd.jupyter.widget-view+json": {
       "model_id": "7cc8e729f9384d40a9c85611c5a65b36",
       "version_major": 2,
       "version_minor": 0
      },
      "text/plain": [
       "Generating sample 15/16:   0%|          | 0/50 [00:00<?, ?it/s]"
      ]
     },
     "metadata": {},
     "output_type": "display_data"
    },
    {
     "data": {
      "application/vnd.jupyter.widget-view+json": {
       "model_id": "b5807918adeb41a391978c27cc00636c",
       "version_major": 2,
       "version_minor": 0
      },
      "text/plain": [
       "Generating sample 16/16:   0%|          | 0/50 [00:00<?, ?it/s]"
      ]
     },
     "metadata": {},
     "output_type": "display_data"
    },
    {
     "name": "stdout",
     "output_type": "stream",
     "text": [
      "Saved sample grid to output/samples/samples_epoch_14.png\n"
     ]
    },
    {
     "data": {
      "application/vnd.jupyter.widget-view+json": {
       "model_id": "228b2eb550fd46889861cc0a3cdc4845",
       "version_major": 2,
       "version_minor": 0
      },
      "text/plain": [
       "  0%|          | 0/12078 [00:00<?, ?it/s]"
      ]
     },
     "metadata": {},
     "output_type": "display_data"
    },
    {
     "name": "stdout",
     "output_type": "stream",
     "text": [
      "Epoch 15/20 - Avg loss: 0.081508, Avg PSNR: 25.76\n",
      "No improvement. Early stopping counter: 1/5\n",
      "Saving model to output/checkpoints/epoch_15\n",
      "Generating validation samples for epoch 15...\n"
     ]
    },
    {
     "data": {
      "application/vnd.jupyter.widget-view+json": {
       "model_id": "3fcb9f3276234cdf84117274bbc75bb2",
       "version_major": 2,
       "version_minor": 0
      },
      "text/plain": [
       "Generating sample 1/16:   0%|          | 0/50 [00:00<?, ?it/s]"
      ]
     },
     "metadata": {},
     "output_type": "display_data"
    },
    {
     "data": {
      "application/vnd.jupyter.widget-view+json": {
       "model_id": "60ea2ed80aac4499945dc8835b7a4cbe",
       "version_major": 2,
       "version_minor": 0
      },
      "text/plain": [
       "Generating sample 2/16:   0%|          | 0/50 [00:00<?, ?it/s]"
      ]
     },
     "metadata": {},
     "output_type": "display_data"
    },
    {
     "data": {
      "application/vnd.jupyter.widget-view+json": {
       "model_id": "1aca2c1b3134453b8a25a12b454999bb",
       "version_major": 2,
       "version_minor": 0
      },
      "text/plain": [
       "Generating sample 3/16:   0%|          | 0/50 [00:00<?, ?it/s]"
      ]
     },
     "metadata": {},
     "output_type": "display_data"
    },
    {
     "data": {
      "application/vnd.jupyter.widget-view+json": {
       "model_id": "288eb427a5da4a7ea564255c0d0afe2f",
       "version_major": 2,
       "version_minor": 0
      },
      "text/plain": [
       "Generating sample 4/16:   0%|          | 0/50 [00:00<?, ?it/s]"
      ]
     },
     "metadata": {},
     "output_type": "display_data"
    },
    {
     "data": {
      "application/vnd.jupyter.widget-view+json": {
       "model_id": "bd1698d7c9324adabf727851dc24f276",
       "version_major": 2,
       "version_minor": 0
      },
      "text/plain": [
       "Generating sample 5/16:   0%|          | 0/50 [00:00<?, ?it/s]"
      ]
     },
     "metadata": {},
     "output_type": "display_data"
    },
    {
     "data": {
      "application/vnd.jupyter.widget-view+json": {
       "model_id": "19f531acdb104b438e37929e181f40a0",
       "version_major": 2,
       "version_minor": 0
      },
      "text/plain": [
       "Generating sample 6/16:   0%|          | 0/50 [00:00<?, ?it/s]"
      ]
     },
     "metadata": {},
     "output_type": "display_data"
    },
    {
     "data": {
      "application/vnd.jupyter.widget-view+json": {
       "model_id": "50d7296bedc74911b8f6c4a590379f20",
       "version_major": 2,
       "version_minor": 0
      },
      "text/plain": [
       "Generating sample 7/16:   0%|          | 0/50 [00:00<?, ?it/s]"
      ]
     },
     "metadata": {},
     "output_type": "display_data"
    },
    {
     "data": {
      "application/vnd.jupyter.widget-view+json": {
       "model_id": "7031e64e231648dca4695188c7e4851d",
       "version_major": 2,
       "version_minor": 0
      },
      "text/plain": [
       "Generating sample 8/16:   0%|          | 0/50 [00:00<?, ?it/s]"
      ]
     },
     "metadata": {},
     "output_type": "display_data"
    },
    {
     "data": {
      "application/vnd.jupyter.widget-view+json": {
       "model_id": "cf89bbb162b2442e80586317bc2de511",
       "version_major": 2,
       "version_minor": 0
      },
      "text/plain": [
       "Generating sample 9/16:   0%|          | 0/50 [00:00<?, ?it/s]"
      ]
     },
     "metadata": {},
     "output_type": "display_data"
    },
    {
     "data": {
      "application/vnd.jupyter.widget-view+json": {
       "model_id": "b514cc4d3b5c4ae39fad64975f93c9e1",
       "version_major": 2,
       "version_minor": 0
      },
      "text/plain": [
       "Generating sample 10/16:   0%|          | 0/50 [00:00<?, ?it/s]"
      ]
     },
     "metadata": {},
     "output_type": "display_data"
    },
    {
     "data": {
      "application/vnd.jupyter.widget-view+json": {
       "model_id": "6af96d882b324feb93666c763d39ffa4",
       "version_major": 2,
       "version_minor": 0
      },
      "text/plain": [
       "Generating sample 11/16:   0%|          | 0/50 [00:00<?, ?it/s]"
      ]
     },
     "metadata": {},
     "output_type": "display_data"
    },
    {
     "data": {
      "application/vnd.jupyter.widget-view+json": {
       "model_id": "6245ee6b52984bcd89a939b41bdfe42c",
       "version_major": 2,
       "version_minor": 0
      },
      "text/plain": [
       "Generating sample 12/16:   0%|          | 0/50 [00:00<?, ?it/s]"
      ]
     },
     "metadata": {},
     "output_type": "display_data"
    },
    {
     "data": {
      "application/vnd.jupyter.widget-view+json": {
       "model_id": "0d673297c7bd4f0293012d8c8ebf827d",
       "version_major": 2,
       "version_minor": 0
      },
      "text/plain": [
       "Generating sample 13/16:   0%|          | 0/50 [00:00<?, ?it/s]"
      ]
     },
     "metadata": {},
     "output_type": "display_data"
    },
    {
     "data": {
      "application/vnd.jupyter.widget-view+json": {
       "model_id": "22e1e60f3a4241c8b13750b17e042cc5",
       "version_major": 2,
       "version_minor": 0
      },
      "text/plain": [
       "Generating sample 14/16:   0%|          | 0/50 [00:00<?, ?it/s]"
      ]
     },
     "metadata": {},
     "output_type": "display_data"
    },
    {
     "data": {
      "application/vnd.jupyter.widget-view+json": {
       "model_id": "7f943e23930344da9795f83cfa4e831e",
       "version_major": 2,
       "version_minor": 0
      },
      "text/plain": [
       "Generating sample 15/16:   0%|          | 0/50 [00:00<?, ?it/s]"
      ]
     },
     "metadata": {},
     "output_type": "display_data"
    },
    {
     "data": {
      "application/vnd.jupyter.widget-view+json": {
       "model_id": "b147bb828b1849dc98cd028d69abc602",
       "version_major": 2,
       "version_minor": 0
      },
      "text/plain": [
       "Generating sample 16/16:   0%|          | 0/50 [00:00<?, ?it/s]"
      ]
     },
     "metadata": {},
     "output_type": "display_data"
    },
    {
     "name": "stdout",
     "output_type": "stream",
     "text": [
      "Saved sample grid to output/samples/samples_epoch_15.png\n"
     ]
    },
    {
     "data": {
      "application/vnd.jupyter.widget-view+json": {
       "model_id": "a35c5f4542824a9f875391d6911ee0d5",
       "version_major": 2,
       "version_minor": 0
      },
      "text/plain": [
       "  0%|          | 0/12078 [00:00<?, ?it/s]"
      ]
     },
     "metadata": {},
     "output_type": "display_data"
    },
    {
     "name": "stdout",
     "output_type": "stream",
     "text": [
      "Epoch 16/20 - Avg loss: 0.080880, Avg PSNR: 25.80\n",
      "Saving model to output/best/best\n",
      "New best model with loss: 0.080880\n",
      "Saving model to output/checkpoints/epoch_16\n",
      "Generating validation samples for epoch 16...\n"
     ]
    },
    {
     "data": {
      "application/vnd.jupyter.widget-view+json": {
       "model_id": "78004aba4c6b47abaa2182201eb1f6cb",
       "version_major": 2,
       "version_minor": 0
      },
      "text/plain": [
       "Generating sample 1/16:   0%|          | 0/50 [00:00<?, ?it/s]"
      ]
     },
     "metadata": {},
     "output_type": "display_data"
    },
    {
     "data": {
      "application/vnd.jupyter.widget-view+json": {
       "model_id": "61e8934643f34cb7862cf289d74bf49f",
       "version_major": 2,
       "version_minor": 0
      },
      "text/plain": [
       "Generating sample 2/16:   0%|          | 0/50 [00:00<?, ?it/s]"
      ]
     },
     "metadata": {},
     "output_type": "display_data"
    },
    {
     "data": {
      "application/vnd.jupyter.widget-view+json": {
       "model_id": "e38614ebe0e545c69a6781fb09734f1c",
       "version_major": 2,
       "version_minor": 0
      },
      "text/plain": [
       "Generating sample 3/16:   0%|          | 0/50 [00:00<?, ?it/s]"
      ]
     },
     "metadata": {},
     "output_type": "display_data"
    },
    {
     "data": {
      "application/vnd.jupyter.widget-view+json": {
       "model_id": "12029b995c854c8eb22faa6a8fc13e1e",
       "version_major": 2,
       "version_minor": 0
      },
      "text/plain": [
       "Generating sample 4/16:   0%|          | 0/50 [00:00<?, ?it/s]"
      ]
     },
     "metadata": {},
     "output_type": "display_data"
    },
    {
     "data": {
      "application/vnd.jupyter.widget-view+json": {
       "model_id": "328c55585d244b76b2bfd60b7a20a943",
       "version_major": 2,
       "version_minor": 0
      },
      "text/plain": [
       "Generating sample 5/16:   0%|          | 0/50 [00:00<?, ?it/s]"
      ]
     },
     "metadata": {},
     "output_type": "display_data"
    },
    {
     "data": {
      "application/vnd.jupyter.widget-view+json": {
       "model_id": "702ed3354e00445f8dd162d9d8d698d4",
       "version_major": 2,
       "version_minor": 0
      },
      "text/plain": [
       "Generating sample 6/16:   0%|          | 0/50 [00:00<?, ?it/s]"
      ]
     },
     "metadata": {},
     "output_type": "display_data"
    },
    {
     "data": {
      "application/vnd.jupyter.widget-view+json": {
       "model_id": "6f59e05f5dff4565b84ea183cc4899b8",
       "version_major": 2,
       "version_minor": 0
      },
      "text/plain": [
       "Generating sample 7/16:   0%|          | 0/50 [00:00<?, ?it/s]"
      ]
     },
     "metadata": {},
     "output_type": "display_data"
    },
    {
     "data": {
      "application/vnd.jupyter.widget-view+json": {
       "model_id": "084ec85ef7e44fd5a7509014c6311d30",
       "version_major": 2,
       "version_minor": 0
      },
      "text/plain": [
       "Generating sample 8/16:   0%|          | 0/50 [00:00<?, ?it/s]"
      ]
     },
     "metadata": {},
     "output_type": "display_data"
    },
    {
     "data": {
      "application/vnd.jupyter.widget-view+json": {
       "model_id": "cb387e1902244495a883ad1328777a3e",
       "version_major": 2,
       "version_minor": 0
      },
      "text/plain": [
       "Generating sample 9/16:   0%|          | 0/50 [00:00<?, ?it/s]"
      ]
     },
     "metadata": {},
     "output_type": "display_data"
    },
    {
     "data": {
      "application/vnd.jupyter.widget-view+json": {
       "model_id": "b7c313f4c1924a5db42f0dc05b541fd0",
       "version_major": 2,
       "version_minor": 0
      },
      "text/plain": [
       "Generating sample 10/16:   0%|          | 0/50 [00:00<?, ?it/s]"
      ]
     },
     "metadata": {},
     "output_type": "display_data"
    },
    {
     "data": {
      "application/vnd.jupyter.widget-view+json": {
       "model_id": "601ab1eea2e54a91878290fc26c0d850",
       "version_major": 2,
       "version_minor": 0
      },
      "text/plain": [
       "Generating sample 11/16:   0%|          | 0/50 [00:00<?, ?it/s]"
      ]
     },
     "metadata": {},
     "output_type": "display_data"
    },
    {
     "data": {
      "application/vnd.jupyter.widget-view+json": {
       "model_id": "6a079039911c47af9ac11670963b3566",
       "version_major": 2,
       "version_minor": 0
      },
      "text/plain": [
       "Generating sample 12/16:   0%|          | 0/50 [00:00<?, ?it/s]"
      ]
     },
     "metadata": {},
     "output_type": "display_data"
    },
    {
     "data": {
      "application/vnd.jupyter.widget-view+json": {
       "model_id": "bad0e03caf99472a8695bf53ce8a9a6b",
       "version_major": 2,
       "version_minor": 0
      },
      "text/plain": [
       "Generating sample 13/16:   0%|          | 0/50 [00:00<?, ?it/s]"
      ]
     },
     "metadata": {},
     "output_type": "display_data"
    },
    {
     "data": {
      "application/vnd.jupyter.widget-view+json": {
       "model_id": "b739df668dfc46ad9076a49245336c20",
       "version_major": 2,
       "version_minor": 0
      },
      "text/plain": [
       "Generating sample 14/16:   0%|          | 0/50 [00:00<?, ?it/s]"
      ]
     },
     "metadata": {},
     "output_type": "display_data"
    },
    {
     "data": {
      "application/vnd.jupyter.widget-view+json": {
       "model_id": "41815b9aafaa40acb11af0f6d297b44d",
       "version_major": 2,
       "version_minor": 0
      },
      "text/plain": [
       "Generating sample 15/16:   0%|          | 0/50 [00:00<?, ?it/s]"
      ]
     },
     "metadata": {},
     "output_type": "display_data"
    },
    {
     "data": {
      "application/vnd.jupyter.widget-view+json": {
       "model_id": "9a7428820efe49f68abc946d16730316",
       "version_major": 2,
       "version_minor": 0
      },
      "text/plain": [
       "Generating sample 16/16:   0%|          | 0/50 [00:00<?, ?it/s]"
      ]
     },
     "metadata": {},
     "output_type": "display_data"
    },
    {
     "name": "stdout",
     "output_type": "stream",
     "text": [
      "Saved sample grid to output/samples/samples_epoch_16.png\n"
     ]
    },
    {
     "data": {
      "application/vnd.jupyter.widget-view+json": {
       "model_id": "c5d1ed87020e4bdd9158b0d0dbc44ba2",
       "version_major": 2,
       "version_minor": 0
      },
      "text/plain": [
       "  0%|          | 0/12078 [00:00<?, ?it/s]"
      ]
     },
     "metadata": {},
     "output_type": "display_data"
    },
    {
     "name": "stdout",
     "output_type": "stream",
     "text": [
      "Epoch 17/20 - Avg loss: 0.079760, Avg PSNR: 25.83\n",
      "Saving model to output/best/best\n",
      "New best model with loss: 0.079760\n",
      "Saving model to output/checkpoints/epoch_17\n",
      "Generating validation samples for epoch 17...\n"
     ]
    },
    {
     "data": {
      "application/vnd.jupyter.widget-view+json": {
       "model_id": "4787dd179b984bd8986d2459ee92b12b",
       "version_major": 2,
       "version_minor": 0
      },
      "text/plain": [
       "Generating sample 1/16:   0%|          | 0/50 [00:00<?, ?it/s]"
      ]
     },
     "metadata": {},
     "output_type": "display_data"
    },
    {
     "data": {
      "application/vnd.jupyter.widget-view+json": {
       "model_id": "21d9d5b120714e01a947baf7204f13df",
       "version_major": 2,
       "version_minor": 0
      },
      "text/plain": [
       "Generating sample 2/16:   0%|          | 0/50 [00:00<?, ?it/s]"
      ]
     },
     "metadata": {},
     "output_type": "display_data"
    },
    {
     "data": {
      "application/vnd.jupyter.widget-view+json": {
       "model_id": "0932f60b15904c8b855475b053994f38",
       "version_major": 2,
       "version_minor": 0
      },
      "text/plain": [
       "Generating sample 3/16:   0%|          | 0/50 [00:00<?, ?it/s]"
      ]
     },
     "metadata": {},
     "output_type": "display_data"
    },
    {
     "data": {
      "application/vnd.jupyter.widget-view+json": {
       "model_id": "51957a8eb91741c0b178b4a1a6a4dc1f",
       "version_major": 2,
       "version_minor": 0
      },
      "text/plain": [
       "Generating sample 4/16:   0%|          | 0/50 [00:00<?, ?it/s]"
      ]
     },
     "metadata": {},
     "output_type": "display_data"
    },
    {
     "data": {
      "application/vnd.jupyter.widget-view+json": {
       "model_id": "e0a89a522c364f2b999efcb7568abb28",
       "version_major": 2,
       "version_minor": 0
      },
      "text/plain": [
       "Generating sample 5/16:   0%|          | 0/50 [00:00<?, ?it/s]"
      ]
     },
     "metadata": {},
     "output_type": "display_data"
    },
    {
     "data": {
      "application/vnd.jupyter.widget-view+json": {
       "model_id": "96bce264ea264ca99e855f33f3ca3240",
       "version_major": 2,
       "version_minor": 0
      },
      "text/plain": [
       "Generating sample 6/16:   0%|          | 0/50 [00:00<?, ?it/s]"
      ]
     },
     "metadata": {},
     "output_type": "display_data"
    },
    {
     "data": {
      "application/vnd.jupyter.widget-view+json": {
       "model_id": "05bda353876645ebabe289850b4a9159",
       "version_major": 2,
       "version_minor": 0
      },
      "text/plain": [
       "Generating sample 7/16:   0%|          | 0/50 [00:00<?, ?it/s]"
      ]
     },
     "metadata": {},
     "output_type": "display_data"
    },
    {
     "data": {
      "application/vnd.jupyter.widget-view+json": {
       "model_id": "11209534359242b692f6ac88a12d84ac",
       "version_major": 2,
       "version_minor": 0
      },
      "text/plain": [
       "Generating sample 8/16:   0%|          | 0/50 [00:00<?, ?it/s]"
      ]
     },
     "metadata": {},
     "output_type": "display_data"
    },
    {
     "data": {
      "application/vnd.jupyter.widget-view+json": {
       "model_id": "024fe5ef944d4f639a0e1adde65a46ea",
       "version_major": 2,
       "version_minor": 0
      },
      "text/plain": [
       "Generating sample 9/16:   0%|          | 0/50 [00:00<?, ?it/s]"
      ]
     },
     "metadata": {},
     "output_type": "display_data"
    },
    {
     "data": {
      "application/vnd.jupyter.widget-view+json": {
       "model_id": "ae4a5a03a48843929579cbc256264e17",
       "version_major": 2,
       "version_minor": 0
      },
      "text/plain": [
       "Generating sample 10/16:   0%|          | 0/50 [00:00<?, ?it/s]"
      ]
     },
     "metadata": {},
     "output_type": "display_data"
    },
    {
     "data": {
      "application/vnd.jupyter.widget-view+json": {
       "model_id": "a2dab615ede44a719534e39e6a547fed",
       "version_major": 2,
       "version_minor": 0
      },
      "text/plain": [
       "Generating sample 11/16:   0%|          | 0/50 [00:00<?, ?it/s]"
      ]
     },
     "metadata": {},
     "output_type": "display_data"
    },
    {
     "data": {
      "application/vnd.jupyter.widget-view+json": {
       "model_id": "5ff44394bb3d456695769e7cebd9349b",
       "version_major": 2,
       "version_minor": 0
      },
      "text/plain": [
       "Generating sample 12/16:   0%|          | 0/50 [00:00<?, ?it/s]"
      ]
     },
     "metadata": {},
     "output_type": "display_data"
    },
    {
     "data": {
      "application/vnd.jupyter.widget-view+json": {
       "model_id": "9e9229cc7ad3481da91c8933d5459a0c",
       "version_major": 2,
       "version_minor": 0
      },
      "text/plain": [
       "Generating sample 13/16:   0%|          | 0/50 [00:00<?, ?it/s]"
      ]
     },
     "metadata": {},
     "output_type": "display_data"
    },
    {
     "data": {
      "application/vnd.jupyter.widget-view+json": {
       "model_id": "f22147f473184a548edb310ebd43dbc5",
       "version_major": 2,
       "version_minor": 0
      },
      "text/plain": [
       "Generating sample 14/16:   0%|          | 0/50 [00:00<?, ?it/s]"
      ]
     },
     "metadata": {},
     "output_type": "display_data"
    },
    {
     "data": {
      "application/vnd.jupyter.widget-view+json": {
       "model_id": "124f5e8d6412458c94b8bb723534f9b4",
       "version_major": 2,
       "version_minor": 0
      },
      "text/plain": [
       "Generating sample 15/16:   0%|          | 0/50 [00:00<?, ?it/s]"
      ]
     },
     "metadata": {},
     "output_type": "display_data"
    },
    {
     "data": {
      "application/vnd.jupyter.widget-view+json": {
       "model_id": "10e0411cfe5b454db81b28b3342d399c",
       "version_major": 2,
       "version_minor": 0
      },
      "text/plain": [
       "Generating sample 16/16:   0%|          | 0/50 [00:00<?, ?it/s]"
      ]
     },
     "metadata": {},
     "output_type": "display_data"
    },
    {
     "name": "stdout",
     "output_type": "stream",
     "text": [
      "Saved sample grid to output/samples/samples_epoch_17.png\n"
     ]
    },
    {
     "data": {
      "application/vnd.jupyter.widget-view+json": {
       "model_id": "a43e7a4cc8874c429e893105baa29d21",
       "version_major": 2,
       "version_minor": 0
      },
      "text/plain": [
       "  0%|          | 0/12078 [00:00<?, ?it/s]"
      ]
     },
     "metadata": {},
     "output_type": "display_data"
    },
    {
     "name": "stdout",
     "output_type": "stream",
     "text": [
      "Epoch 18/20 - Avg loss: 0.079759, Avg PSNR: 25.85\n",
      "Saving model to output/best/best\n",
      "New best model with loss: 0.079759\n",
      "Saving model to output/checkpoints/epoch_18\n",
      "Generating validation samples for epoch 18...\n"
     ]
    },
    {
     "data": {
      "application/vnd.jupyter.widget-view+json": {
       "model_id": "57fff84119eb458bb17163fb1fccd6ca",
       "version_major": 2,
       "version_minor": 0
      },
      "text/plain": [
       "Generating sample 1/16:   0%|          | 0/50 [00:00<?, ?it/s]"
      ]
     },
     "metadata": {},
     "output_type": "display_data"
    },
    {
     "data": {
      "application/vnd.jupyter.widget-view+json": {
       "model_id": "cc8c43da564540afb7563ba4b4494700",
       "version_major": 2,
       "version_minor": 0
      },
      "text/plain": [
       "Generating sample 2/16:   0%|          | 0/50 [00:00<?, ?it/s]"
      ]
     },
     "metadata": {},
     "output_type": "display_data"
    },
    {
     "data": {
      "application/vnd.jupyter.widget-view+json": {
       "model_id": "6da1b4c8a1c84cff82265ec2cd543ecc",
       "version_major": 2,
       "version_minor": 0
      },
      "text/plain": [
       "Generating sample 3/16:   0%|          | 0/50 [00:00<?, ?it/s]"
      ]
     },
     "metadata": {},
     "output_type": "display_data"
    },
    {
     "data": {
      "application/vnd.jupyter.widget-view+json": {
       "model_id": "0eddb0c9092349f79b7feae8df4cf1f6",
       "version_major": 2,
       "version_minor": 0
      },
      "text/plain": [
       "Generating sample 4/16:   0%|          | 0/50 [00:00<?, ?it/s]"
      ]
     },
     "metadata": {},
     "output_type": "display_data"
    },
    {
     "data": {
      "application/vnd.jupyter.widget-view+json": {
       "model_id": "518552dbc5044d5cb3a12fe05a28a269",
       "version_major": 2,
       "version_minor": 0
      },
      "text/plain": [
       "Generating sample 5/16:   0%|          | 0/50 [00:00<?, ?it/s]"
      ]
     },
     "metadata": {},
     "output_type": "display_data"
    },
    {
     "data": {
      "application/vnd.jupyter.widget-view+json": {
       "model_id": "9ea8226df1274b2cae53f59117dda527",
       "version_major": 2,
       "version_minor": 0
      },
      "text/plain": [
       "Generating sample 6/16:   0%|          | 0/50 [00:00<?, ?it/s]"
      ]
     },
     "metadata": {},
     "output_type": "display_data"
    },
    {
     "data": {
      "application/vnd.jupyter.widget-view+json": {
       "model_id": "ef17425154a348ffb837ea70932c72aa",
       "version_major": 2,
       "version_minor": 0
      },
      "text/plain": [
       "Generating sample 7/16:   0%|          | 0/50 [00:00<?, ?it/s]"
      ]
     },
     "metadata": {},
     "output_type": "display_data"
    },
    {
     "data": {
      "application/vnd.jupyter.widget-view+json": {
       "model_id": "77a8fe9e6c924c8d9f0ca6c9c0b44fd3",
       "version_major": 2,
       "version_minor": 0
      },
      "text/plain": [
       "Generating sample 8/16:   0%|          | 0/50 [00:00<?, ?it/s]"
      ]
     },
     "metadata": {},
     "output_type": "display_data"
    },
    {
     "data": {
      "application/vnd.jupyter.widget-view+json": {
       "model_id": "98e5907ef56a47f1aad79202bc5ae250",
       "version_major": 2,
       "version_minor": 0
      },
      "text/plain": [
       "Generating sample 9/16:   0%|          | 0/50 [00:00<?, ?it/s]"
      ]
     },
     "metadata": {},
     "output_type": "display_data"
    },
    {
     "data": {
      "application/vnd.jupyter.widget-view+json": {
       "model_id": "c7806e3f98ad479aba249c8a21b5feff",
       "version_major": 2,
       "version_minor": 0
      },
      "text/plain": [
       "Generating sample 10/16:   0%|          | 0/50 [00:00<?, ?it/s]"
      ]
     },
     "metadata": {},
     "output_type": "display_data"
    },
    {
     "data": {
      "application/vnd.jupyter.widget-view+json": {
       "model_id": "710e56b96e7643b89ac0e669197c3dbe",
       "version_major": 2,
       "version_minor": 0
      },
      "text/plain": [
       "Generating sample 11/16:   0%|          | 0/50 [00:00<?, ?it/s]"
      ]
     },
     "metadata": {},
     "output_type": "display_data"
    },
    {
     "data": {
      "application/vnd.jupyter.widget-view+json": {
       "model_id": "7056915823b4419c8540125c8243c66c",
       "version_major": 2,
       "version_minor": 0
      },
      "text/plain": [
       "Generating sample 12/16:   0%|          | 0/50 [00:00<?, ?it/s]"
      ]
     },
     "metadata": {},
     "output_type": "display_data"
    },
    {
     "data": {
      "application/vnd.jupyter.widget-view+json": {
       "model_id": "2c5fff5c08964d41bde80418426e322c",
       "version_major": 2,
       "version_minor": 0
      },
      "text/plain": [
       "Generating sample 13/16:   0%|          | 0/50 [00:00<?, ?it/s]"
      ]
     },
     "metadata": {},
     "output_type": "display_data"
    },
    {
     "data": {
      "application/vnd.jupyter.widget-view+json": {
       "model_id": "abe1c55f3f0a4de4b78f833da4961d01",
       "version_major": 2,
       "version_minor": 0
      },
      "text/plain": [
       "Generating sample 14/16:   0%|          | 0/50 [00:00<?, ?it/s]"
      ]
     },
     "metadata": {},
     "output_type": "display_data"
    },
    {
     "data": {
      "application/vnd.jupyter.widget-view+json": {
       "model_id": "0de5788721054178b37e28f4c59b2ede",
       "version_major": 2,
       "version_minor": 0
      },
      "text/plain": [
       "Generating sample 15/16:   0%|          | 0/50 [00:00<?, ?it/s]"
      ]
     },
     "metadata": {},
     "output_type": "display_data"
    },
    {
     "data": {
      "application/vnd.jupyter.widget-view+json": {
       "model_id": "856a7e3a5f7c4c50a055c92d75ca3cf2",
       "version_major": 2,
       "version_minor": 0
      },
      "text/plain": [
       "Generating sample 16/16:   0%|          | 0/50 [00:00<?, ?it/s]"
      ]
     },
     "metadata": {},
     "output_type": "display_data"
    },
    {
     "name": "stdout",
     "output_type": "stream",
     "text": [
      "Saved sample grid to output/samples/samples_epoch_18.png\n"
     ]
    },
    {
     "data": {
      "application/vnd.jupyter.widget-view+json": {
       "model_id": "a14db01d12ab4251b6708599fb027479",
       "version_major": 2,
       "version_minor": 0
      },
      "text/plain": [
       "  0%|          | 0/12078 [00:00<?, ?it/s]"
      ]
     },
     "metadata": {},
     "output_type": "display_data"
    },
    {
     "name": "stdout",
     "output_type": "stream",
     "text": [
      "Epoch 19/20 - Avg loss: 0.079039, Avg PSNR: 25.93\n",
      "Saving model to output/best/best\n",
      "New best model with loss: 0.079039\n",
      "Saving model to output/checkpoints/epoch_19\n",
      "Generating validation samples for epoch 19...\n"
     ]
    },
    {
     "data": {
      "application/vnd.jupyter.widget-view+json": {
       "model_id": "4c57386291b24729b8c5afd4dea417ab",
       "version_major": 2,
       "version_minor": 0
      },
      "text/plain": [
       "Generating sample 1/16:   0%|          | 0/50 [00:00<?, ?it/s]"
      ]
     },
     "metadata": {},
     "output_type": "display_data"
    },
    {
     "data": {
      "application/vnd.jupyter.widget-view+json": {
       "model_id": "1e2791a2d4a044a395778b5bd7efdfaa",
       "version_major": 2,
       "version_minor": 0
      },
      "text/plain": [
       "Generating sample 2/16:   0%|          | 0/50 [00:00<?, ?it/s]"
      ]
     },
     "metadata": {},
     "output_type": "display_data"
    },
    {
     "data": {
      "application/vnd.jupyter.widget-view+json": {
       "model_id": "dfe06ad97263427ca098c37855dbc8e5",
       "version_major": 2,
       "version_minor": 0
      },
      "text/plain": [
       "Generating sample 3/16:   0%|          | 0/50 [00:00<?, ?it/s]"
      ]
     },
     "metadata": {},
     "output_type": "display_data"
    },
    {
     "data": {
      "application/vnd.jupyter.widget-view+json": {
       "model_id": "5fbbd61d47ef44b2b2c6c56c1df29923",
       "version_major": 2,
       "version_minor": 0
      },
      "text/plain": [
       "Generating sample 4/16:   0%|          | 0/50 [00:00<?, ?it/s]"
      ]
     },
     "metadata": {},
     "output_type": "display_data"
    },
    {
     "data": {
      "application/vnd.jupyter.widget-view+json": {
       "model_id": "cf95255bd63541b3b9c886d3e2fe68fd",
       "version_major": 2,
       "version_minor": 0
      },
      "text/plain": [
       "Generating sample 5/16:   0%|          | 0/50 [00:00<?, ?it/s]"
      ]
     },
     "metadata": {},
     "output_type": "display_data"
    },
    {
     "data": {
      "application/vnd.jupyter.widget-view+json": {
       "model_id": "09468ae9e37d44adb9d1242067f4e9b8",
       "version_major": 2,
       "version_minor": 0
      },
      "text/plain": [
       "Generating sample 6/16:   0%|          | 0/50 [00:00<?, ?it/s]"
      ]
     },
     "metadata": {},
     "output_type": "display_data"
    },
    {
     "data": {
      "application/vnd.jupyter.widget-view+json": {
       "model_id": "63c2af663a1a497196c7822a208dec24",
       "version_major": 2,
       "version_minor": 0
      },
      "text/plain": [
       "Generating sample 7/16:   0%|          | 0/50 [00:00<?, ?it/s]"
      ]
     },
     "metadata": {},
     "output_type": "display_data"
    },
    {
     "data": {
      "application/vnd.jupyter.widget-view+json": {
       "model_id": "b36ad45f181c427186da510f0eca2bcc",
       "version_major": 2,
       "version_minor": 0
      },
      "text/plain": [
       "Generating sample 8/16:   0%|          | 0/50 [00:00<?, ?it/s]"
      ]
     },
     "metadata": {},
     "output_type": "display_data"
    },
    {
     "data": {
      "application/vnd.jupyter.widget-view+json": {
       "model_id": "d646e98910c745ec8a9fbd3dd5b9fba6",
       "version_major": 2,
       "version_minor": 0
      },
      "text/plain": [
       "Generating sample 9/16:   0%|          | 0/50 [00:00<?, ?it/s]"
      ]
     },
     "metadata": {},
     "output_type": "display_data"
    },
    {
     "data": {
      "application/vnd.jupyter.widget-view+json": {
       "model_id": "2860bb79d76847b08eb2ef47f6841942",
       "version_major": 2,
       "version_minor": 0
      },
      "text/plain": [
       "Generating sample 10/16:   0%|          | 0/50 [00:00<?, ?it/s]"
      ]
     },
     "metadata": {},
     "output_type": "display_data"
    },
    {
     "data": {
      "application/vnd.jupyter.widget-view+json": {
       "model_id": "dfc0b2d56e4d481aa5c181a5fba1554a",
       "version_major": 2,
       "version_minor": 0
      },
      "text/plain": [
       "Generating sample 11/16:   0%|          | 0/50 [00:00<?, ?it/s]"
      ]
     },
     "metadata": {},
     "output_type": "display_data"
    },
    {
     "data": {
      "application/vnd.jupyter.widget-view+json": {
       "model_id": "0f9c0d96de754f0199cf3c4344cb2422",
       "version_major": 2,
       "version_minor": 0
      },
      "text/plain": [
       "Generating sample 12/16:   0%|          | 0/50 [00:00<?, ?it/s]"
      ]
     },
     "metadata": {},
     "output_type": "display_data"
    },
    {
     "data": {
      "application/vnd.jupyter.widget-view+json": {
       "model_id": "a5555675b0334e40b4c7aee07b53da98",
       "version_major": 2,
       "version_minor": 0
      },
      "text/plain": [
       "Generating sample 13/16:   0%|          | 0/50 [00:00<?, ?it/s]"
      ]
     },
     "metadata": {},
     "output_type": "display_data"
    },
    {
     "data": {
      "application/vnd.jupyter.widget-view+json": {
       "model_id": "baa2bfe2c3b647428432172a6d47ef11",
       "version_major": 2,
       "version_minor": 0
      },
      "text/plain": [
       "Generating sample 14/16:   0%|          | 0/50 [00:00<?, ?it/s]"
      ]
     },
     "metadata": {},
     "output_type": "display_data"
    },
    {
     "data": {
      "application/vnd.jupyter.widget-view+json": {
       "model_id": "a9fd146383bc42948102744a89692386",
       "version_major": 2,
       "version_minor": 0
      },
      "text/plain": [
       "Generating sample 15/16:   0%|          | 0/50 [00:00<?, ?it/s]"
      ]
     },
     "metadata": {},
     "output_type": "display_data"
    },
    {
     "data": {
      "application/vnd.jupyter.widget-view+json": {
       "model_id": "4f036598b7a34e67ae906fa4094ee6ed",
       "version_major": 2,
       "version_minor": 0
      },
      "text/plain": [
       "Generating sample 16/16:   0%|          | 0/50 [00:00<?, ?it/s]"
      ]
     },
     "metadata": {},
     "output_type": "display_data"
    },
    {
     "name": "stdout",
     "output_type": "stream",
     "text": [
      "Saved sample grid to output/samples/samples_epoch_19.png\n"
     ]
    },
    {
     "data": {
      "application/vnd.jupyter.widget-view+json": {
       "model_id": "50381ade489d4a129c0efbc2645f8f13",
       "version_major": 2,
       "version_minor": 0
      },
      "text/plain": [
       "  0%|          | 0/12078 [00:00<?, ?it/s]"
      ]
     },
     "metadata": {},
     "output_type": "display_data"
    },
    {
     "name": "stdout",
     "output_type": "stream",
     "text": [
      "Epoch 20/20 - Avg loss: 0.079677, Avg PSNR: 25.87\n",
      "No improvement. Early stopping counter: 1/5\n",
      "Saving model to output/checkpoints/epoch_20\n",
      "Generating validation samples for epoch 20...\n"
     ]
    },
    {
     "data": {
      "application/vnd.jupyter.widget-view+json": {
       "model_id": "904d74f264a442d685511651dc7e78d7",
       "version_major": 2,
       "version_minor": 0
      },
      "text/plain": [
       "Generating sample 1/16:   0%|          | 0/50 [00:00<?, ?it/s]"
      ]
     },
     "metadata": {},
     "output_type": "display_data"
    },
    {
     "data": {
      "application/vnd.jupyter.widget-view+json": {
       "model_id": "73020c92acba4e37a7262a0906d29380",
       "version_major": 2,
       "version_minor": 0
      },
      "text/plain": [
       "Generating sample 2/16:   0%|          | 0/50 [00:00<?, ?it/s]"
      ]
     },
     "metadata": {},
     "output_type": "display_data"
    },
    {
     "data": {
      "application/vnd.jupyter.widget-view+json": {
       "model_id": "3592cc126e0d44fdaf267e7abd610799",
       "version_major": 2,
       "version_minor": 0
      },
      "text/plain": [
       "Generating sample 3/16:   0%|          | 0/50 [00:00<?, ?it/s]"
      ]
     },
     "metadata": {},
     "output_type": "display_data"
    },
    {
     "data": {
      "application/vnd.jupyter.widget-view+json": {
       "model_id": "24898eea5a124829b32fffcd115a6d5f",
       "version_major": 2,
       "version_minor": 0
      },
      "text/plain": [
       "Generating sample 4/16:   0%|          | 0/50 [00:00<?, ?it/s]"
      ]
     },
     "metadata": {},
     "output_type": "display_data"
    },
    {
     "data": {
      "application/vnd.jupyter.widget-view+json": {
       "model_id": "de17c45ede1641a0a9ead39889098c24",
       "version_major": 2,
       "version_minor": 0
      },
      "text/plain": [
       "Generating sample 5/16:   0%|          | 0/50 [00:00<?, ?it/s]"
      ]
     },
     "metadata": {},
     "output_type": "display_data"
    },
    {
     "data": {
      "application/vnd.jupyter.widget-view+json": {
       "model_id": "30a800aa85974e45b24376c8c79e942f",
       "version_major": 2,
       "version_minor": 0
      },
      "text/plain": [
       "Generating sample 6/16:   0%|          | 0/50 [00:00<?, ?it/s]"
      ]
     },
     "metadata": {},
     "output_type": "display_data"
    },
    {
     "data": {
      "application/vnd.jupyter.widget-view+json": {
       "model_id": "909bda74918f4654b4e3f4330a638e43",
       "version_major": 2,
       "version_minor": 0
      },
      "text/plain": [
       "Generating sample 7/16:   0%|          | 0/50 [00:00<?, ?it/s]"
      ]
     },
     "metadata": {},
     "output_type": "display_data"
    },
    {
     "data": {
      "application/vnd.jupyter.widget-view+json": {
       "model_id": "24c4a04f585d452c8a6167f70456ba4d",
       "version_major": 2,
       "version_minor": 0
      },
      "text/plain": [
       "Generating sample 8/16:   0%|          | 0/50 [00:00<?, ?it/s]"
      ]
     },
     "metadata": {},
     "output_type": "display_data"
    },
    {
     "data": {
      "application/vnd.jupyter.widget-view+json": {
       "model_id": "601a4709fa47476fa8a54ddf30cafd0c",
       "version_major": 2,
       "version_minor": 0
      },
      "text/plain": [
       "Generating sample 9/16:   0%|          | 0/50 [00:00<?, ?it/s]"
      ]
     },
     "metadata": {},
     "output_type": "display_data"
    },
    {
     "data": {
      "application/vnd.jupyter.widget-view+json": {
       "model_id": "257f0cc763e24d8194a5ca1de98b173e",
       "version_major": 2,
       "version_minor": 0
      },
      "text/plain": [
       "Generating sample 10/16:   0%|          | 0/50 [00:00<?, ?it/s]"
      ]
     },
     "metadata": {},
     "output_type": "display_data"
    },
    {
     "data": {
      "application/vnd.jupyter.widget-view+json": {
       "model_id": "c0f6530a9e3e4600b07c6d204f9ae87c",
       "version_major": 2,
       "version_minor": 0
      },
      "text/plain": [
       "Generating sample 11/16:   0%|          | 0/50 [00:00<?, ?it/s]"
      ]
     },
     "metadata": {},
     "output_type": "display_data"
    },
    {
     "data": {
      "application/vnd.jupyter.widget-view+json": {
       "model_id": "068087659edf4782be8a94d6e9b4066c",
       "version_major": 2,
       "version_minor": 0
      },
      "text/plain": [
       "Generating sample 12/16:   0%|          | 0/50 [00:00<?, ?it/s]"
      ]
     },
     "metadata": {},
     "output_type": "display_data"
    },
    {
     "data": {
      "application/vnd.jupyter.widget-view+json": {
       "model_id": "f77e9670c2524ab28beb3c9016afa0a6",
       "version_major": 2,
       "version_minor": 0
      },
      "text/plain": [
       "Generating sample 13/16:   0%|          | 0/50 [00:00<?, ?it/s]"
      ]
     },
     "metadata": {},
     "output_type": "display_data"
    },
    {
     "data": {
      "application/vnd.jupyter.widget-view+json": {
       "model_id": "67419046f0a941cfa651c781fe1749ae",
       "version_major": 2,
       "version_minor": 0
      },
      "text/plain": [
       "Generating sample 14/16:   0%|          | 0/50 [00:00<?, ?it/s]"
      ]
     },
     "metadata": {},
     "output_type": "display_data"
    },
    {
     "data": {
      "application/vnd.jupyter.widget-view+json": {
       "model_id": "13621cf006e14805a3a8071cfb2c12c1",
       "version_major": 2,
       "version_minor": 0
      },
      "text/plain": [
       "Generating sample 15/16:   0%|          | 0/50 [00:00<?, ?it/s]"
      ]
     },
     "metadata": {},
     "output_type": "display_data"
    },
    {
     "data": {
      "application/vnd.jupyter.widget-view+json": {
       "model_id": "8c305329f26841be8163509f1ee165fb",
       "version_major": 2,
       "version_minor": 0
      },
      "text/plain": [
       "Generating sample 16/16:   0%|          | 0/50 [00:00<?, ?it/s]"
      ]
     },
     "metadata": {},
     "output_type": "display_data"
    },
    {
     "name": "stdout",
     "output_type": "stream",
     "text": [
      "Saved sample grid to output/samples/samples_epoch_20.png\n",
      "Saving model to output/final\n",
      "Generating samples with final model...\n"
     ]
    },
    {
     "data": {
      "application/vnd.jupyter.widget-view+json": {
       "model_id": "cf06ebec2db74245bfff12668b0fdfa1",
       "version_major": 2,
       "version_minor": 0
      },
      "text/plain": [
       "Generating sample 1/16:   0%|          | 0/50 [00:00<?, ?it/s]"
      ]
     },
     "metadata": {},
     "output_type": "display_data"
    },
    {
     "data": {
      "application/vnd.jupyter.widget-view+json": {
       "model_id": "171e5fd83fbf49fb9801b3d12af2164f",
       "version_major": 2,
       "version_minor": 0
      },
      "text/plain": [
       "Generating sample 2/16:   0%|          | 0/50 [00:00<?, ?it/s]"
      ]
     },
     "metadata": {},
     "output_type": "display_data"
    },
    {
     "data": {
      "application/vnd.jupyter.widget-view+json": {
       "model_id": "8c6cfc0da6a64199ae195fb33852a262",
       "version_major": 2,
       "version_minor": 0
      },
      "text/plain": [
       "Generating sample 3/16:   0%|          | 0/50 [00:00<?, ?it/s]"
      ]
     },
     "metadata": {},
     "output_type": "display_data"
    },
    {
     "data": {
      "application/vnd.jupyter.widget-view+json": {
       "model_id": "a1471c4a7e544a6a82e94036ab9c2f2a",
       "version_major": 2,
       "version_minor": 0
      },
      "text/plain": [
       "Generating sample 4/16:   0%|          | 0/50 [00:00<?, ?it/s]"
      ]
     },
     "metadata": {},
     "output_type": "display_data"
    },
    {
     "data": {
      "application/vnd.jupyter.widget-view+json": {
       "model_id": "fa9a45e58ecb482d8a3365782a041abe",
       "version_major": 2,
       "version_minor": 0
      },
      "text/plain": [
       "Generating sample 5/16:   0%|          | 0/50 [00:00<?, ?it/s]"
      ]
     },
     "metadata": {},
     "output_type": "display_data"
    },
    {
     "data": {
      "application/vnd.jupyter.widget-view+json": {
       "model_id": "2b56412acf7542248b90941aff97bee2",
       "version_major": 2,
       "version_minor": 0
      },
      "text/plain": [
       "Generating sample 6/16:   0%|          | 0/50 [00:00<?, ?it/s]"
      ]
     },
     "metadata": {},
     "output_type": "display_data"
    },
    {
     "data": {
      "application/vnd.jupyter.widget-view+json": {
       "model_id": "5aef2db8851b4a3f8b2fa159987eb0ac",
       "version_major": 2,
       "version_minor": 0
      },
      "text/plain": [
       "Generating sample 7/16:   0%|          | 0/50 [00:00<?, ?it/s]"
      ]
     },
     "metadata": {},
     "output_type": "display_data"
    },
    {
     "data": {
      "application/vnd.jupyter.widget-view+json": {
       "model_id": "05be9dbef288421a862a6e2769c40202",
       "version_major": 2,
       "version_minor": 0
      },
      "text/plain": [
       "Generating sample 8/16:   0%|          | 0/50 [00:00<?, ?it/s]"
      ]
     },
     "metadata": {},
     "output_type": "display_data"
    },
    {
     "data": {
      "application/vnd.jupyter.widget-view+json": {
       "model_id": "997d717b91ca4311a9a07e2df12f2885",
       "version_major": 2,
       "version_minor": 0
      },
      "text/plain": [
       "Generating sample 9/16:   0%|          | 0/50 [00:00<?, ?it/s]"
      ]
     },
     "metadata": {},
     "output_type": "display_data"
    },
    {
     "data": {
      "application/vnd.jupyter.widget-view+json": {
       "model_id": "56cccacdbb724bc8ac71460ee93feee1",
       "version_major": 2,
       "version_minor": 0
      },
      "text/plain": [
       "Generating sample 10/16:   0%|          | 0/50 [00:00<?, ?it/s]"
      ]
     },
     "metadata": {},
     "output_type": "display_data"
    },
    {
     "data": {
      "application/vnd.jupyter.widget-view+json": {
       "model_id": "c8fe3bb43f0246538d20f2750fcf4496",
       "version_major": 2,
       "version_minor": 0
      },
      "text/plain": [
       "Generating sample 11/16:   0%|          | 0/50 [00:00<?, ?it/s]"
      ]
     },
     "metadata": {},
     "output_type": "display_data"
    },
    {
     "data": {
      "application/vnd.jupyter.widget-view+json": {
       "model_id": "976507095d7c41de9b1f5b00648b0719",
       "version_major": 2,
       "version_minor": 0
      },
      "text/plain": [
       "Generating sample 12/16:   0%|          | 0/50 [00:00<?, ?it/s]"
      ]
     },
     "metadata": {},
     "output_type": "display_data"
    },
    {
     "data": {
      "application/vnd.jupyter.widget-view+json": {
       "model_id": "c46629b2bf6148c6afc228aa3ff56fbf",
       "version_major": 2,
       "version_minor": 0
      },
      "text/plain": [
       "Generating sample 13/16:   0%|          | 0/50 [00:00<?, ?it/s]"
      ]
     },
     "metadata": {},
     "output_type": "display_data"
    },
    {
     "data": {
      "application/vnd.jupyter.widget-view+json": {
       "model_id": "0596e608c5bc4a219e256c2c78765195",
       "version_major": 2,
       "version_minor": 0
      },
      "text/plain": [
       "Generating sample 14/16:   0%|          | 0/50 [00:00<?, ?it/s]"
      ]
     },
     "metadata": {},
     "output_type": "display_data"
    },
    {
     "data": {
      "application/vnd.jupyter.widget-view+json": {
       "model_id": "f1561b9b9fe64d0cadbfe5b9c052c807",
       "version_major": 2,
       "version_minor": 0
      },
      "text/plain": [
       "Generating sample 15/16:   0%|          | 0/50 [00:00<?, ?it/s]"
      ]
     },
     "metadata": {},
     "output_type": "display_data"
    },
    {
     "data": {
      "application/vnd.jupyter.widget-view+json": {
       "model_id": "b901b9d493da4b5b87748f19b09104bc",
       "version_major": 2,
       "version_minor": 0
      },
      "text/plain": [
       "Generating sample 16/16:   0%|          | 0/50 [00:00<?, ?it/s]"
      ]
     },
     "metadata": {},
     "output_type": "display_data"
    },
    {
     "name": "stdout",
     "output_type": "stream",
     "text": [
      "Saved sample grid to output/samples/final_samples.png\n",
      "Loading best model\n",
      "Error loading model: Error no file named config.json found in directory output/best.\n"
     ]
    },
    {
     "name": "stderr",
     "output_type": "stream",
     "text": [
      "Traceback (most recent call last):\n",
      "  File \"/home/yasin/Lfstorage/Projects/cxr-diffusion/src/utils/train_v2.py\", line 166, in load\n",
      "    self.unet.from_pretrained(path)\n",
      "  File \"/home/yasin/Lfstorage/Projects/cxr-diffusion/.venv/lib/python3.10/site-packages/huggingface_hub/utils/_validators.py\", line 114, in _inner_fn\n",
      "    return fn(*args, **kwargs)\n",
      "  File \"/home/yasin/Lfstorage/Projects/cxr-diffusion/.venv/lib/python3.10/site-packages/diffusers/models/modeling_utils.py\", line 687, in from_pretrained\n",
      "    config, unused_kwargs, commit_hash = cls.load_config(\n",
      "  File \"/home/yasin/Lfstorage/Projects/cxr-diffusion/.venv/lib/python3.10/site-packages/huggingface_hub/utils/_validators.py\", line 114, in _inner_fn\n",
      "    return fn(*args, **kwargs)\n",
      "  File \"/home/yasin/Lfstorage/Projects/cxr-diffusion/.venv/lib/python3.10/site-packages/diffusers/configuration_utils.py\", line 373, in load_config\n",
      "    raise EnvironmentError(\n",
      "OSError: Error no file named config.json found in directory output/best.\n"
     ]
    },
    {
     "data": {
      "text/plain": [
       "UNet2DConditionModel(\n",
       "  (conv_in): Conv2d(4, 320, kernel_size=(3, 3), stride=(1, 1), padding=(1, 1))\n",
       "  (time_proj): Timesteps()\n",
       "  (time_embedding): TimestepEmbedding(\n",
       "    (linear_1): Linear(in_features=320, out_features=1280, bias=True)\n",
       "    (act): SiLU()\n",
       "    (linear_2): Linear(in_features=1280, out_features=1280, bias=True)\n",
       "  )\n",
       "  (down_blocks): ModuleList(\n",
       "    (0): CrossAttnDownBlock2D(\n",
       "      (attentions): ModuleList(\n",
       "        (0-1): 2 x Transformer2DModel(\n",
       "          (norm): GroupNorm(32, 320, eps=1e-06, affine=True)\n",
       "          (proj_in): Conv2d(320, 320, kernel_size=(1, 1), stride=(1, 1))\n",
       "          (transformer_blocks): ModuleList(\n",
       "            (0): BasicTransformerBlock(\n",
       "              (norm1): LayerNorm((320,), eps=1e-05, elementwise_affine=True)\n",
       "              (attn1): Attention(\n",
       "                (to_q): Linear(in_features=320, out_features=320, bias=False)\n",
       "                (to_k): Linear(in_features=320, out_features=320, bias=False)\n",
       "                (to_v): Linear(in_features=320, out_features=320, bias=False)\n",
       "                (to_out): ModuleList(\n",
       "                  (0): Linear(in_features=320, out_features=320, bias=True)\n",
       "                  (1): Dropout(p=0.0, inplace=False)\n",
       "                )\n",
       "              )\n",
       "              (norm2): LayerNorm((320,), eps=1e-05, elementwise_affine=True)\n",
       "              (attn2): Attention(\n",
       "                (to_q): Linear(in_features=320, out_features=320, bias=False)\n",
       "                (to_k): Linear(in_features=768, out_features=320, bias=False)\n",
       "                (to_v): Linear(in_features=768, out_features=320, bias=False)\n",
       "                (to_out): ModuleList(\n",
       "                  (0): Linear(in_features=320, out_features=320, bias=True)\n",
       "                  (1): Dropout(p=0.0, inplace=False)\n",
       "                )\n",
       "              )\n",
       "              (norm3): LayerNorm((320,), eps=1e-05, elementwise_affine=True)\n",
       "              (ff): FeedForward(\n",
       "                (net): ModuleList(\n",
       "                  (0): GEGLU(\n",
       "                    (proj): Linear(in_features=320, out_features=2560, bias=True)\n",
       "                  )\n",
       "                  (1): Dropout(p=0.0, inplace=False)\n",
       "                  (2): Linear(in_features=1280, out_features=320, bias=True)\n",
       "                )\n",
       "              )\n",
       "            )\n",
       "          )\n",
       "          (proj_out): Conv2d(320, 320, kernel_size=(1, 1), stride=(1, 1))\n",
       "        )\n",
       "      )\n",
       "      (resnets): ModuleList(\n",
       "        (0-1): 2 x ResnetBlock2D(\n",
       "          (norm1): GroupNorm(32, 320, eps=1e-05, affine=True)\n",
       "          (conv1): Conv2d(320, 320, kernel_size=(3, 3), stride=(1, 1), padding=(1, 1))\n",
       "          (time_emb_proj): Linear(in_features=1280, out_features=320, bias=True)\n",
       "          (norm2): GroupNorm(32, 320, eps=1e-05, affine=True)\n",
       "          (dropout): Dropout(p=0.0, inplace=False)\n",
       "          (conv2): Conv2d(320, 320, kernel_size=(3, 3), stride=(1, 1), padding=(1, 1))\n",
       "          (nonlinearity): SiLU()\n",
       "        )\n",
       "      )\n",
       "      (downsamplers): ModuleList(\n",
       "        (0): Downsample2D(\n",
       "          (conv): Conv2d(320, 320, kernel_size=(3, 3), stride=(2, 2), padding=(1, 1))\n",
       "        )\n",
       "      )\n",
       "    )\n",
       "    (1): CrossAttnDownBlock2D(\n",
       "      (attentions): ModuleList(\n",
       "        (0-1): 2 x Transformer2DModel(\n",
       "          (norm): GroupNorm(32, 640, eps=1e-06, affine=True)\n",
       "          (proj_in): Conv2d(640, 640, kernel_size=(1, 1), stride=(1, 1))\n",
       "          (transformer_blocks): ModuleList(\n",
       "            (0): BasicTransformerBlock(\n",
       "              (norm1): LayerNorm((640,), eps=1e-05, elementwise_affine=True)\n",
       "              (attn1): Attention(\n",
       "                (to_q): Linear(in_features=640, out_features=640, bias=False)\n",
       "                (to_k): Linear(in_features=640, out_features=640, bias=False)\n",
       "                (to_v): Linear(in_features=640, out_features=640, bias=False)\n",
       "                (to_out): ModuleList(\n",
       "                  (0): Linear(in_features=640, out_features=640, bias=True)\n",
       "                  (1): Dropout(p=0.0, inplace=False)\n",
       "                )\n",
       "              )\n",
       "              (norm2): LayerNorm((640,), eps=1e-05, elementwise_affine=True)\n",
       "              (attn2): Attention(\n",
       "                (to_q): Linear(in_features=640, out_features=640, bias=False)\n",
       "                (to_k): Linear(in_features=768, out_features=640, bias=False)\n",
       "                (to_v): Linear(in_features=768, out_features=640, bias=False)\n",
       "                (to_out): ModuleList(\n",
       "                  (0): Linear(in_features=640, out_features=640, bias=True)\n",
       "                  (1): Dropout(p=0.0, inplace=False)\n",
       "                )\n",
       "              )\n",
       "              (norm3): LayerNorm((640,), eps=1e-05, elementwise_affine=True)\n",
       "              (ff): FeedForward(\n",
       "                (net): ModuleList(\n",
       "                  (0): GEGLU(\n",
       "                    (proj): Linear(in_features=640, out_features=5120, bias=True)\n",
       "                  )\n",
       "                  (1): Dropout(p=0.0, inplace=False)\n",
       "                  (2): Linear(in_features=2560, out_features=640, bias=True)\n",
       "                )\n",
       "              )\n",
       "            )\n",
       "          )\n",
       "          (proj_out): Conv2d(640, 640, kernel_size=(1, 1), stride=(1, 1))\n",
       "        )\n",
       "      )\n",
       "      (resnets): ModuleList(\n",
       "        (0): ResnetBlock2D(\n",
       "          (norm1): GroupNorm(32, 320, eps=1e-05, affine=True)\n",
       "          (conv1): Conv2d(320, 640, kernel_size=(3, 3), stride=(1, 1), padding=(1, 1))\n",
       "          (time_emb_proj): Linear(in_features=1280, out_features=640, bias=True)\n",
       "          (norm2): GroupNorm(32, 640, eps=1e-05, affine=True)\n",
       "          (dropout): Dropout(p=0.0, inplace=False)\n",
       "          (conv2): Conv2d(640, 640, kernel_size=(3, 3), stride=(1, 1), padding=(1, 1))\n",
       "          (nonlinearity): SiLU()\n",
       "          (conv_shortcut): Conv2d(320, 640, kernel_size=(1, 1), stride=(1, 1))\n",
       "        )\n",
       "        (1): ResnetBlock2D(\n",
       "          (norm1): GroupNorm(32, 640, eps=1e-05, affine=True)\n",
       "          (conv1): Conv2d(640, 640, kernel_size=(3, 3), stride=(1, 1), padding=(1, 1))\n",
       "          (time_emb_proj): Linear(in_features=1280, out_features=640, bias=True)\n",
       "          (norm2): GroupNorm(32, 640, eps=1e-05, affine=True)\n",
       "          (dropout): Dropout(p=0.0, inplace=False)\n",
       "          (conv2): Conv2d(640, 640, kernel_size=(3, 3), stride=(1, 1), padding=(1, 1))\n",
       "          (nonlinearity): SiLU()\n",
       "        )\n",
       "      )\n",
       "      (downsamplers): ModuleList(\n",
       "        (0): Downsample2D(\n",
       "          (conv): Conv2d(640, 640, kernel_size=(3, 3), stride=(2, 2), padding=(1, 1))\n",
       "        )\n",
       "      )\n",
       "    )\n",
       "    (2): CrossAttnDownBlock2D(\n",
       "      (attentions): ModuleList(\n",
       "        (0-1): 2 x Transformer2DModel(\n",
       "          (norm): GroupNorm(32, 1280, eps=1e-06, affine=True)\n",
       "          (proj_in): Conv2d(1280, 1280, kernel_size=(1, 1), stride=(1, 1))\n",
       "          (transformer_blocks): ModuleList(\n",
       "            (0): BasicTransformerBlock(\n",
       "              (norm1): LayerNorm((1280,), eps=1e-05, elementwise_affine=True)\n",
       "              (attn1): Attention(\n",
       "                (to_q): Linear(in_features=1280, out_features=1280, bias=False)\n",
       "                (to_k): Linear(in_features=1280, out_features=1280, bias=False)\n",
       "                (to_v): Linear(in_features=1280, out_features=1280, bias=False)\n",
       "                (to_out): ModuleList(\n",
       "                  (0): Linear(in_features=1280, out_features=1280, bias=True)\n",
       "                  (1): Dropout(p=0.0, inplace=False)\n",
       "                )\n",
       "              )\n",
       "              (norm2): LayerNorm((1280,), eps=1e-05, elementwise_affine=True)\n",
       "              (attn2): Attention(\n",
       "                (to_q): Linear(in_features=1280, out_features=1280, bias=False)\n",
       "                (to_k): Linear(in_features=768, out_features=1280, bias=False)\n",
       "                (to_v): Linear(in_features=768, out_features=1280, bias=False)\n",
       "                (to_out): ModuleList(\n",
       "                  (0): Linear(in_features=1280, out_features=1280, bias=True)\n",
       "                  (1): Dropout(p=0.0, inplace=False)\n",
       "                )\n",
       "              )\n",
       "              (norm3): LayerNorm((1280,), eps=1e-05, elementwise_affine=True)\n",
       "              (ff): FeedForward(\n",
       "                (net): ModuleList(\n",
       "                  (0): GEGLU(\n",
       "                    (proj): Linear(in_features=1280, out_features=10240, bias=True)\n",
       "                  )\n",
       "                  (1): Dropout(p=0.0, inplace=False)\n",
       "                  (2): Linear(in_features=5120, out_features=1280, bias=True)\n",
       "                )\n",
       "              )\n",
       "            )\n",
       "          )\n",
       "          (proj_out): Conv2d(1280, 1280, kernel_size=(1, 1), stride=(1, 1))\n",
       "        )\n",
       "      )\n",
       "      (resnets): ModuleList(\n",
       "        (0): ResnetBlock2D(\n",
       "          (norm1): GroupNorm(32, 640, eps=1e-05, affine=True)\n",
       "          (conv1): Conv2d(640, 1280, kernel_size=(3, 3), stride=(1, 1), padding=(1, 1))\n",
       "          (time_emb_proj): Linear(in_features=1280, out_features=1280, bias=True)\n",
       "          (norm2): GroupNorm(32, 1280, eps=1e-05, affine=True)\n",
       "          (dropout): Dropout(p=0.0, inplace=False)\n",
       "          (conv2): Conv2d(1280, 1280, kernel_size=(3, 3), stride=(1, 1), padding=(1, 1))\n",
       "          (nonlinearity): SiLU()\n",
       "          (conv_shortcut): Conv2d(640, 1280, kernel_size=(1, 1), stride=(1, 1))\n",
       "        )\n",
       "        (1): ResnetBlock2D(\n",
       "          (norm1): GroupNorm(32, 1280, eps=1e-05, affine=True)\n",
       "          (conv1): Conv2d(1280, 1280, kernel_size=(3, 3), stride=(1, 1), padding=(1, 1))\n",
       "          (time_emb_proj): Linear(in_features=1280, out_features=1280, bias=True)\n",
       "          (norm2): GroupNorm(32, 1280, eps=1e-05, affine=True)\n",
       "          (dropout): Dropout(p=0.0, inplace=False)\n",
       "          (conv2): Conv2d(1280, 1280, kernel_size=(3, 3), stride=(1, 1), padding=(1, 1))\n",
       "          (nonlinearity): SiLU()\n",
       "        )\n",
       "      )\n",
       "      (downsamplers): ModuleList(\n",
       "        (0): Downsample2D(\n",
       "          (conv): Conv2d(1280, 1280, kernel_size=(3, 3), stride=(2, 2), padding=(1, 1))\n",
       "        )\n",
       "      )\n",
       "    )\n",
       "    (3): DownBlock2D(\n",
       "      (resnets): ModuleList(\n",
       "        (0-1): 2 x ResnetBlock2D(\n",
       "          (norm1): GroupNorm(32, 1280, eps=1e-05, affine=True)\n",
       "          (conv1): Conv2d(1280, 1280, kernel_size=(3, 3), stride=(1, 1), padding=(1, 1))\n",
       "          (time_emb_proj): Linear(in_features=1280, out_features=1280, bias=True)\n",
       "          (norm2): GroupNorm(32, 1280, eps=1e-05, affine=True)\n",
       "          (dropout): Dropout(p=0.0, inplace=False)\n",
       "          (conv2): Conv2d(1280, 1280, kernel_size=(3, 3), stride=(1, 1), padding=(1, 1))\n",
       "          (nonlinearity): SiLU()\n",
       "        )\n",
       "      )\n",
       "    )\n",
       "  )\n",
       "  (up_blocks): ModuleList(\n",
       "    (0): UpBlock2D(\n",
       "      (resnets): ModuleList(\n",
       "        (0-2): 3 x ResnetBlock2D(\n",
       "          (norm1): GroupNorm(32, 2560, eps=1e-05, affine=True)\n",
       "          (conv1): Conv2d(2560, 1280, kernel_size=(3, 3), stride=(1, 1), padding=(1, 1))\n",
       "          (time_emb_proj): Linear(in_features=1280, out_features=1280, bias=True)\n",
       "          (norm2): GroupNorm(32, 1280, eps=1e-05, affine=True)\n",
       "          (dropout): Dropout(p=0.0, inplace=False)\n",
       "          (conv2): Conv2d(1280, 1280, kernel_size=(3, 3), stride=(1, 1), padding=(1, 1))\n",
       "          (nonlinearity): SiLU()\n",
       "          (conv_shortcut): Conv2d(2560, 1280, kernel_size=(1, 1), stride=(1, 1))\n",
       "        )\n",
       "      )\n",
       "      (upsamplers): ModuleList(\n",
       "        (0): Upsample2D(\n",
       "          (conv): Conv2d(1280, 1280, kernel_size=(3, 3), stride=(1, 1), padding=(1, 1))\n",
       "        )\n",
       "      )\n",
       "    )\n",
       "    (1): CrossAttnUpBlock2D(\n",
       "      (attentions): ModuleList(\n",
       "        (0-2): 3 x Transformer2DModel(\n",
       "          (norm): GroupNorm(32, 1280, eps=1e-06, affine=True)\n",
       "          (proj_in): Conv2d(1280, 1280, kernel_size=(1, 1), stride=(1, 1))\n",
       "          (transformer_blocks): ModuleList(\n",
       "            (0): BasicTransformerBlock(\n",
       "              (norm1): LayerNorm((1280,), eps=1e-05, elementwise_affine=True)\n",
       "              (attn1): Attention(\n",
       "                (to_q): Linear(in_features=1280, out_features=1280, bias=False)\n",
       "                (to_k): Linear(in_features=1280, out_features=1280, bias=False)\n",
       "                (to_v): Linear(in_features=1280, out_features=1280, bias=False)\n",
       "                (to_out): ModuleList(\n",
       "                  (0): Linear(in_features=1280, out_features=1280, bias=True)\n",
       "                  (1): Dropout(p=0.0, inplace=False)\n",
       "                )\n",
       "              )\n",
       "              (norm2): LayerNorm((1280,), eps=1e-05, elementwise_affine=True)\n",
       "              (attn2): Attention(\n",
       "                (to_q): Linear(in_features=1280, out_features=1280, bias=False)\n",
       "                (to_k): Linear(in_features=768, out_features=1280, bias=False)\n",
       "                (to_v): Linear(in_features=768, out_features=1280, bias=False)\n",
       "                (to_out): ModuleList(\n",
       "                  (0): Linear(in_features=1280, out_features=1280, bias=True)\n",
       "                  (1): Dropout(p=0.0, inplace=False)\n",
       "                )\n",
       "              )\n",
       "              (norm3): LayerNorm((1280,), eps=1e-05, elementwise_affine=True)\n",
       "              (ff): FeedForward(\n",
       "                (net): ModuleList(\n",
       "                  (0): GEGLU(\n",
       "                    (proj): Linear(in_features=1280, out_features=10240, bias=True)\n",
       "                  )\n",
       "                  (1): Dropout(p=0.0, inplace=False)\n",
       "                  (2): Linear(in_features=5120, out_features=1280, bias=True)\n",
       "                )\n",
       "              )\n",
       "            )\n",
       "          )\n",
       "          (proj_out): Conv2d(1280, 1280, kernel_size=(1, 1), stride=(1, 1))\n",
       "        )\n",
       "      )\n",
       "      (resnets): ModuleList(\n",
       "        (0-1): 2 x ResnetBlock2D(\n",
       "          (norm1): GroupNorm(32, 2560, eps=1e-05, affine=True)\n",
       "          (conv1): Conv2d(2560, 1280, kernel_size=(3, 3), stride=(1, 1), padding=(1, 1))\n",
       "          (time_emb_proj): Linear(in_features=1280, out_features=1280, bias=True)\n",
       "          (norm2): GroupNorm(32, 1280, eps=1e-05, affine=True)\n",
       "          (dropout): Dropout(p=0.0, inplace=False)\n",
       "          (conv2): Conv2d(1280, 1280, kernel_size=(3, 3), stride=(1, 1), padding=(1, 1))\n",
       "          (nonlinearity): SiLU()\n",
       "          (conv_shortcut): Conv2d(2560, 1280, kernel_size=(1, 1), stride=(1, 1))\n",
       "        )\n",
       "        (2): ResnetBlock2D(\n",
       "          (norm1): GroupNorm(32, 1920, eps=1e-05, affine=True)\n",
       "          (conv1): Conv2d(1920, 1280, kernel_size=(3, 3), stride=(1, 1), padding=(1, 1))\n",
       "          (time_emb_proj): Linear(in_features=1280, out_features=1280, bias=True)\n",
       "          (norm2): GroupNorm(32, 1280, eps=1e-05, affine=True)\n",
       "          (dropout): Dropout(p=0.0, inplace=False)\n",
       "          (conv2): Conv2d(1280, 1280, kernel_size=(3, 3), stride=(1, 1), padding=(1, 1))\n",
       "          (nonlinearity): SiLU()\n",
       "          (conv_shortcut): Conv2d(1920, 1280, kernel_size=(1, 1), stride=(1, 1))\n",
       "        )\n",
       "      )\n",
       "      (upsamplers): ModuleList(\n",
       "        (0): Upsample2D(\n",
       "          (conv): Conv2d(1280, 1280, kernel_size=(3, 3), stride=(1, 1), padding=(1, 1))\n",
       "        )\n",
       "      )\n",
       "    )\n",
       "    (2): CrossAttnUpBlock2D(\n",
       "      (attentions): ModuleList(\n",
       "        (0-2): 3 x Transformer2DModel(\n",
       "          (norm): GroupNorm(32, 640, eps=1e-06, affine=True)\n",
       "          (proj_in): Conv2d(640, 640, kernel_size=(1, 1), stride=(1, 1))\n",
       "          (transformer_blocks): ModuleList(\n",
       "            (0): BasicTransformerBlock(\n",
       "              (norm1): LayerNorm((640,), eps=1e-05, elementwise_affine=True)\n",
       "              (attn1): Attention(\n",
       "                (to_q): Linear(in_features=640, out_features=640, bias=False)\n",
       "                (to_k): Linear(in_features=640, out_features=640, bias=False)\n",
       "                (to_v): Linear(in_features=640, out_features=640, bias=False)\n",
       "                (to_out): ModuleList(\n",
       "                  (0): Linear(in_features=640, out_features=640, bias=True)\n",
       "                  (1): Dropout(p=0.0, inplace=False)\n",
       "                )\n",
       "              )\n",
       "              (norm2): LayerNorm((640,), eps=1e-05, elementwise_affine=True)\n",
       "              (attn2): Attention(\n",
       "                (to_q): Linear(in_features=640, out_features=640, bias=False)\n",
       "                (to_k): Linear(in_features=768, out_features=640, bias=False)\n",
       "                (to_v): Linear(in_features=768, out_features=640, bias=False)\n",
       "                (to_out): ModuleList(\n",
       "                  (0): Linear(in_features=640, out_features=640, bias=True)\n",
       "                  (1): Dropout(p=0.0, inplace=False)\n",
       "                )\n",
       "              )\n",
       "              (norm3): LayerNorm((640,), eps=1e-05, elementwise_affine=True)\n",
       "              (ff): FeedForward(\n",
       "                (net): ModuleList(\n",
       "                  (0): GEGLU(\n",
       "                    (proj): Linear(in_features=640, out_features=5120, bias=True)\n",
       "                  )\n",
       "                  (1): Dropout(p=0.0, inplace=False)\n",
       "                  (2): Linear(in_features=2560, out_features=640, bias=True)\n",
       "                )\n",
       "              )\n",
       "            )\n",
       "          )\n",
       "          (proj_out): Conv2d(640, 640, kernel_size=(1, 1), stride=(1, 1))\n",
       "        )\n",
       "      )\n",
       "      (resnets): ModuleList(\n",
       "        (0): ResnetBlock2D(\n",
       "          (norm1): GroupNorm(32, 1920, eps=1e-05, affine=True)\n",
       "          (conv1): Conv2d(1920, 640, kernel_size=(3, 3), stride=(1, 1), padding=(1, 1))\n",
       "          (time_emb_proj): Linear(in_features=1280, out_features=640, bias=True)\n",
       "          (norm2): GroupNorm(32, 640, eps=1e-05, affine=True)\n",
       "          (dropout): Dropout(p=0.0, inplace=False)\n",
       "          (conv2): Conv2d(640, 640, kernel_size=(3, 3), stride=(1, 1), padding=(1, 1))\n",
       "          (nonlinearity): SiLU()\n",
       "          (conv_shortcut): Conv2d(1920, 640, kernel_size=(1, 1), stride=(1, 1))\n",
       "        )\n",
       "        (1): ResnetBlock2D(\n",
       "          (norm1): GroupNorm(32, 1280, eps=1e-05, affine=True)\n",
       "          (conv1): Conv2d(1280, 640, kernel_size=(3, 3), stride=(1, 1), padding=(1, 1))\n",
       "          (time_emb_proj): Linear(in_features=1280, out_features=640, bias=True)\n",
       "          (norm2): GroupNorm(32, 640, eps=1e-05, affine=True)\n",
       "          (dropout): Dropout(p=0.0, inplace=False)\n",
       "          (conv2): Conv2d(640, 640, kernel_size=(3, 3), stride=(1, 1), padding=(1, 1))\n",
       "          (nonlinearity): SiLU()\n",
       "          (conv_shortcut): Conv2d(1280, 640, kernel_size=(1, 1), stride=(1, 1))\n",
       "        )\n",
       "        (2): ResnetBlock2D(\n",
       "          (norm1): GroupNorm(32, 960, eps=1e-05, affine=True)\n",
       "          (conv1): Conv2d(960, 640, kernel_size=(3, 3), stride=(1, 1), padding=(1, 1))\n",
       "          (time_emb_proj): Linear(in_features=1280, out_features=640, bias=True)\n",
       "          (norm2): GroupNorm(32, 640, eps=1e-05, affine=True)\n",
       "          (dropout): Dropout(p=0.0, inplace=False)\n",
       "          (conv2): Conv2d(640, 640, kernel_size=(3, 3), stride=(1, 1), padding=(1, 1))\n",
       "          (nonlinearity): SiLU()\n",
       "          (conv_shortcut): Conv2d(960, 640, kernel_size=(1, 1), stride=(1, 1))\n",
       "        )\n",
       "      )\n",
       "      (upsamplers): ModuleList(\n",
       "        (0): Upsample2D(\n",
       "          (conv): Conv2d(640, 640, kernel_size=(3, 3), stride=(1, 1), padding=(1, 1))\n",
       "        )\n",
       "      )\n",
       "    )\n",
       "    (3): CrossAttnUpBlock2D(\n",
       "      (attentions): ModuleList(\n",
       "        (0-2): 3 x Transformer2DModel(\n",
       "          (norm): GroupNorm(32, 320, eps=1e-06, affine=True)\n",
       "          (proj_in): Conv2d(320, 320, kernel_size=(1, 1), stride=(1, 1))\n",
       "          (transformer_blocks): ModuleList(\n",
       "            (0): BasicTransformerBlock(\n",
       "              (norm1): LayerNorm((320,), eps=1e-05, elementwise_affine=True)\n",
       "              (attn1): Attention(\n",
       "                (to_q): Linear(in_features=320, out_features=320, bias=False)\n",
       "                (to_k): Linear(in_features=320, out_features=320, bias=False)\n",
       "                (to_v): Linear(in_features=320, out_features=320, bias=False)\n",
       "                (to_out): ModuleList(\n",
       "                  (0): Linear(in_features=320, out_features=320, bias=True)\n",
       "                  (1): Dropout(p=0.0, inplace=False)\n",
       "                )\n",
       "              )\n",
       "              (norm2): LayerNorm((320,), eps=1e-05, elementwise_affine=True)\n",
       "              (attn2): Attention(\n",
       "                (to_q): Linear(in_features=320, out_features=320, bias=False)\n",
       "                (to_k): Linear(in_features=768, out_features=320, bias=False)\n",
       "                (to_v): Linear(in_features=768, out_features=320, bias=False)\n",
       "                (to_out): ModuleList(\n",
       "                  (0): Linear(in_features=320, out_features=320, bias=True)\n",
       "                  (1): Dropout(p=0.0, inplace=False)\n",
       "                )\n",
       "              )\n",
       "              (norm3): LayerNorm((320,), eps=1e-05, elementwise_affine=True)\n",
       "              (ff): FeedForward(\n",
       "                (net): ModuleList(\n",
       "                  (0): GEGLU(\n",
       "                    (proj): Linear(in_features=320, out_features=2560, bias=True)\n",
       "                  )\n",
       "                  (1): Dropout(p=0.0, inplace=False)\n",
       "                  (2): Linear(in_features=1280, out_features=320, bias=True)\n",
       "                )\n",
       "              )\n",
       "            )\n",
       "          )\n",
       "          (proj_out): Conv2d(320, 320, kernel_size=(1, 1), stride=(1, 1))\n",
       "        )\n",
       "      )\n",
       "      (resnets): ModuleList(\n",
       "        (0): ResnetBlock2D(\n",
       "          (norm1): GroupNorm(32, 960, eps=1e-05, affine=True)\n",
       "          (conv1): Conv2d(960, 320, kernel_size=(3, 3), stride=(1, 1), padding=(1, 1))\n",
       "          (time_emb_proj): Linear(in_features=1280, out_features=320, bias=True)\n",
       "          (norm2): GroupNorm(32, 320, eps=1e-05, affine=True)\n",
       "          (dropout): Dropout(p=0.0, inplace=False)\n",
       "          (conv2): Conv2d(320, 320, kernel_size=(3, 3), stride=(1, 1), padding=(1, 1))\n",
       "          (nonlinearity): SiLU()\n",
       "          (conv_shortcut): Conv2d(960, 320, kernel_size=(1, 1), stride=(1, 1))\n",
       "        )\n",
       "        (1-2): 2 x ResnetBlock2D(\n",
       "          (norm1): GroupNorm(32, 640, eps=1e-05, affine=True)\n",
       "          (conv1): Conv2d(640, 320, kernel_size=(3, 3), stride=(1, 1), padding=(1, 1))\n",
       "          (time_emb_proj): Linear(in_features=1280, out_features=320, bias=True)\n",
       "          (norm2): GroupNorm(32, 320, eps=1e-05, affine=True)\n",
       "          (dropout): Dropout(p=0.0, inplace=False)\n",
       "          (conv2): Conv2d(320, 320, kernel_size=(3, 3), stride=(1, 1), padding=(1, 1))\n",
       "          (nonlinearity): SiLU()\n",
       "          (conv_shortcut): Conv2d(640, 320, kernel_size=(1, 1), stride=(1, 1))\n",
       "        )\n",
       "      )\n",
       "    )\n",
       "  )\n",
       "  (mid_block): UNetMidBlock2DCrossAttn(\n",
       "    (attentions): ModuleList(\n",
       "      (0): Transformer2DModel(\n",
       "        (norm): GroupNorm(32, 1280, eps=1e-06, affine=True)\n",
       "        (proj_in): Conv2d(1280, 1280, kernel_size=(1, 1), stride=(1, 1))\n",
       "        (transformer_blocks): ModuleList(\n",
       "          (0): BasicTransformerBlock(\n",
       "            (norm1): LayerNorm((1280,), eps=1e-05, elementwise_affine=True)\n",
       "            (attn1): Attention(\n",
       "              (to_q): Linear(in_features=1280, out_features=1280, bias=False)\n",
       "              (to_k): Linear(in_features=1280, out_features=1280, bias=False)\n",
       "              (to_v): Linear(in_features=1280, out_features=1280, bias=False)\n",
       "              (to_out): ModuleList(\n",
       "                (0): Linear(in_features=1280, out_features=1280, bias=True)\n",
       "                (1): Dropout(p=0.0, inplace=False)\n",
       "              )\n",
       "            )\n",
       "            (norm2): LayerNorm((1280,), eps=1e-05, elementwise_affine=True)\n",
       "            (attn2): Attention(\n",
       "              (to_q): Linear(in_features=1280, out_features=1280, bias=False)\n",
       "              (to_k): Linear(in_features=768, out_features=1280, bias=False)\n",
       "              (to_v): Linear(in_features=768, out_features=1280, bias=False)\n",
       "              (to_out): ModuleList(\n",
       "                (0): Linear(in_features=1280, out_features=1280, bias=True)\n",
       "                (1): Dropout(p=0.0, inplace=False)\n",
       "              )\n",
       "            )\n",
       "            (norm3): LayerNorm((1280,), eps=1e-05, elementwise_affine=True)\n",
       "            (ff): FeedForward(\n",
       "              (net): ModuleList(\n",
       "                (0): GEGLU(\n",
       "                  (proj): Linear(in_features=1280, out_features=10240, bias=True)\n",
       "                )\n",
       "                (1): Dropout(p=0.0, inplace=False)\n",
       "                (2): Linear(in_features=5120, out_features=1280, bias=True)\n",
       "              )\n",
       "            )\n",
       "          )\n",
       "        )\n",
       "        (proj_out): Conv2d(1280, 1280, kernel_size=(1, 1), stride=(1, 1))\n",
       "      )\n",
       "    )\n",
       "    (resnets): ModuleList(\n",
       "      (0-1): 2 x ResnetBlock2D(\n",
       "        (norm1): GroupNorm(32, 1280, eps=1e-05, affine=True)\n",
       "        (conv1): Conv2d(1280, 1280, kernel_size=(3, 3), stride=(1, 1), padding=(1, 1))\n",
       "        (time_emb_proj): Linear(in_features=1280, out_features=1280, bias=True)\n",
       "        (norm2): GroupNorm(32, 1280, eps=1e-05, affine=True)\n",
       "        (dropout): Dropout(p=0.0, inplace=False)\n",
       "        (conv2): Conv2d(1280, 1280, kernel_size=(3, 3), stride=(1, 1), padding=(1, 1))\n",
       "        (nonlinearity): SiLU()\n",
       "      )\n",
       "    )\n",
       "  )\n",
       "  (conv_norm_out): GroupNorm(32, 320, eps=1e-05, affine=True)\n",
       "  (conv_act): SiLU()\n",
       "  (conv_out): Conv2d(320, 4, kernel_size=(3, 3), stride=(1, 1), padding=(1, 1))\n",
       ")"
      ]
     },
     "execution_count": 13,
     "metadata": {},
     "output_type": "execute_result"
    }
   ],
   "source": [
    "trainer.train(dataloader = train_dataloader,  validation_samples = validation_samples)"
   ]
  },
  {
   "cell_type": "code",
   "execution_count": null,
   "metadata": {},
   "outputs": [],
   "source": []
  },
  {
   "cell_type": "code",
   "execution_count": null,
   "metadata": {},
   "outputs": [],
   "source": []
  }
 ],
 "metadata": {
  "kernelspec": {
   "display_name": ".venv",
   "language": "python",
   "name": "python3"
  },
  "language_info": {
   "codemirror_mode": {
    "name": "ipython",
    "version": 3
   },
   "file_extension": ".py",
   "mimetype": "text/x-python",
   "name": "python",
   "nbconvert_exporter": "python",
   "pygments_lexer": "ipython3",
   "version": "3.10.12"
  }
 },
 "nbformat": 4,
 "nbformat_minor": 2
}
