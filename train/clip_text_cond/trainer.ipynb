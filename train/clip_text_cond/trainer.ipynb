{
 "cells": [
  {
   "cell_type": "markdown",
   "metadata": {},
   "source": [
    "# CLIP TEXT BASED 77x768 BASED"
   ]
  },
  {
   "cell_type": "code",
   "execution_count": 1,
   "metadata": {},
   "outputs": [
    {
     "name": "stdout",
     "output_type": "stream",
     "text": [
      "/home/yasin/Lfstorage/datasets/nih-cxr14\n"
     ]
    }
   ],
   "source": [
    "import os\n",
    "import sys\n",
    "import h5py\n",
    "from dotenv import load_dotenv \n",
    "from pathlib import Path\n",
    "load_dotenv()\n",
    "\n",
    "\n",
    "project_root = Path(os.path.abspath('')).parent.parent\n",
    "sys.path.append(str(project_root))\n",
    "\n",
    "\n",
    "\n",
    "intermediate_output_dir = project_root / 'data'\n",
    "\n",
    "NIH_CXR14_DATASET_DIR = os.getenv(\"NIH_CXR14_DATASET_DIR\")\n",
    "print(NIH_CXR14_DATASET_DIR)\n",
    "\n"
   ]
  },
  {
   "cell_type": "code",
   "execution_count": 2,
   "metadata": {},
   "outputs": [],
   "source": [
    "import h5py\n",
    "import pickle\n",
    "import pandas as pd\n",
    "import numpy as np"
   ]
  },
  {
   "cell_type": "code",
   "execution_count": 3,
   "metadata": {},
   "outputs": [
    {
     "name": "stderr",
     "output_type": "stream",
     "text": [
      "/home/yasin/Lfstorage/Projects/cxr-diffusion/.venv/lib/python3.10/site-packages/transformers/utils/hub.py:106: FutureWarning: Using `TRANSFORMERS_CACHE` is deprecated and will be removed in v5 of Transformers. Use `HF_HOME` instead.\n",
      "  warnings.warn(\n",
      "2025-03-09 03:30:49.916935: E external/local_xla/xla/stream_executor/cuda/cuda_fft.cc:477] Unable to register cuFFT factory: Attempting to register factory for plugin cuFFT when one has already been registered\n",
      "WARNING: All log messages before absl::InitializeLog() is called are written to STDERR\n",
      "E0000 00:00:1741480249.939576  934738 cuda_dnn.cc:8310] Unable to register cuDNN factory: Attempting to register factory for plugin cuDNN when one has already been registered\n",
      "E0000 00:00:1741480249.946434  934738 cuda_blas.cc:1418] Unable to register cuBLAS factory: Attempting to register factory for plugin cuBLAS when one has already been registered\n",
      "2025-03-09 03:30:49.970953: I tensorflow/core/platform/cpu_feature_guard.cc:210] This TensorFlow binary is optimized to use available CPU instructions in performance-critical operations.\n",
      "To enable the following instructions: AVX2 FMA, in other operations, rebuild TensorFlow with the appropriate compiler flags.\n"
     ]
    }
   ],
   "source": [
    "from src.utils import Unet2DConditionalTrainer, TrainConfig, get_validation_samples, create_validation_dataloader"
   ]
  },
  {
   "cell_type": "markdown",
   "metadata": {},
   "source": [
    "# Load Latents\n",
    "For the training optimization and efficient in this training we used prepared latents. They generated from `nih-cxr14-dataset` with using `VaeProccessor` which in this repository"
   ]
  },
  {
   "cell_type": "code",
   "execution_count": null,
   "metadata": {},
   "outputs": [],
   "source": [
    "latent"
   ]
  },
  {
   "cell_type": "code",
   "execution_count": null,
   "metadata": {},
   "outputs": [
    {
     "name": "stderr",
     "output_type": "stream",
     "text": [
      "/home/yasin/Lfstorage/Projects/cxr-diffusion/.venv/lib/python3.10/site-packages/transformers/utils/hub.py:106: FutureWarning: Using `TRANSFORMERS_CACHE` is deprecated and will be removed in v5 of Transformers. Use `HF_HOME` instead.\n",
      "  warnings.warn(\n",
      "2025-03-02 14:01:16.816808: E external/local_xla/xla/stream_executor/cuda/cuda_fft.cc:477] Unable to register cuFFT factory: Attempting to register factory for plugin cuFFT when one has already been registered\n",
      "WARNING: All log messages before absl::InitializeLog() is called are written to STDERR\n",
      "E0000 00:00:1740913276.841590 3480791 cuda_dnn.cc:8310] Unable to register cuDNN factory: Attempting to register factory for plugin cuDNN when one has already been registered\n",
      "E0000 00:00:1740913276.849015 3480791 cuda_blas.cc:1418] Unable to register cuBLAS factory: Attempting to register factory for plugin cuBLAS when one has already been registered\n",
      "2025-03-02 14:01:16.874316: I tensorflow/core/platform/cpu_feature_guard.cc:210] This TensorFlow binary is optimized to use available CPU instructions in performance-critical operations.\n",
      "To enable the following instructions: AVX2 FMA, in other operations, rebuild TensorFlow with the appropriate compiler flags.\n"
     ]
    }
   ],
   "source": [
    "from diffusers import DDPMScheduler, UNet2DConditionModel\n",
    "from torch.utils.data import Dataset\n",
    "\n",
    "import numpy as np\n",
    "import os\n",
    "import torch\n",
    "class EmbeddingLatentDataset(Dataset):\n",
    "    def __init__(self, latent_dir, text_embeddings_path):\n",
    "        \"\"\"\n",
    "        Dataset to load latent vectors and text embeddings for medical images.\n",
    "        \n",
    "        Args:\n",
    "            latent_dir (str): Directory containing latent vector H5 files\n",
    "            text_embeddings_path (str): Path to pickled text embeddings map\n",
    "        \"\"\"\n",
    "        # Load text embeddings from pickle file\n",
    "        with open(text_embeddings_path, 'rb') as f:\n",
    "            self.text_embeddings_map = pickle.load(f)\n",
    "\n",
    "        self.latent_dir = latent_dir\n",
    "        self.latent_maps = self._load_latent_maps()\n",
    "        \n",
    "        # Create a flat list of all available image IDs for indexing\n",
    "        self.image_ids = []\n",
    "        self.file_indices = []  # Store (file_name, index) tuples for fast lookup\n",
    "        \n",
    "        for file_name, id_map in self.latent_maps.items():\n",
    "            for image_id, idx in id_map.items():\n",
    "                self.image_ids.append(image_id)\n",
    "                self.file_indices.append((file_name, idx))\n",
    "        \n",
    "        print(f\"Found {len(self.image_ids)} valid images with both latents and text embeddings\")\n",
    "    \n",
    "    def _load_latent_maps(self):\n",
    "        \"\"\"\n",
    "        Load mapping from image IDs to their location in latent files.\n",
    "        \n",
    "        Returns:\n",
    "            dict: Nested dictionary mapping file names to image IDs to indices\n",
    "        \"\"\"\n",
    "        latent_files = os.listdir(self.latent_dir)\n",
    "        latent_maps = {}\n",
    "\n",
    "        text_embedding_ids = list(self.text_embeddings_map.keys())\n",
    "        print(f\"Total text embeddings available: {len(text_embedding_ids)}\")\n",
    "        \n",
    "        matches_found = 0\n",
    "        \n",
    "        for latent_file in latent_files:\n",
    "            if not latent_file.endswith('.h5'):\n",
    "                continue\n",
    "                \n",
    "            with h5py.File(os.path.join(self.latent_dir, latent_file), 'r') as f:\n",
    "                image_ids = f['Image index'][:]\n",
    "                # Convert byte strings to regular strings if needed\n",
    "                if isinstance(image_ids[0], bytes):\n",
    "                    image_ids = [idx.decode('utf-8') for idx in image_ids]\n",
    "                    \n",
    "                latent_maps[latent_file] = {}\n",
    "                for i, image_id in enumerate(image_ids):\n",
    "                    if image_id in text_embedding_ids:\n",
    "                        latent_maps[latent_file][image_id] = i\n",
    "                        matches_found += 1\n",
    "        \n",
    "        print(f\"Found {matches_found} matches between latent files and text embeddings\")\n",
    "        return latent_maps\n",
    "    \n",
    "    def __len__(self):\n",
    "        \"\"\"Return the total number of available image pairs\"\"\"\n",
    "        return len(self.image_ids)\n",
    "    \n",
    "    def __getitem__(self, index):\n",
    "        \"\"\"\n",
    "        Get a latent vector and text embedding pair by index.\n",
    "        \n",
    "        Args:\n",
    "            index (int): Index in the dataset\n",
    "            \n",
    "        Returns:\n",
    "            tuple: (latent, text_embed) pair as torch tensors\n",
    "        \"\"\"\n",
    "        # Get the image ID and file location info for this index\n",
    "        image_id = self.image_ids[index]\n",
    "        file_name, file_index = self.file_indices[index]\n",
    "        \n",
    "        # Load the latent vector from the H5 file\n",
    "        with h5py.File(os.path.join(self.latent_dir, file_name), 'r') as f:\n",
    "            latent = f['latents'][file_index]\n",
    "        \n",
    "        # Get the corresponding text embedding\n",
    "        text_embed = self.text_embeddings_map[image_id]\n",
    "        \n",
    "        # Convert to torch tensors\n",
    "        latent_tensor = torch.tensor(latent, dtype=torch.float32)\n",
    "        \n",
    "        # Convert text embedding to tensor if it's not already\n",
    "        if not isinstance(text_embed, torch.Tensor):\n",
    "            text_embed_tensor = torch.tensor(text_embed, dtype=torch.float32)\n",
    "        else:\n",
    "            text_embed_tensor = text_embed\n",
    "            \n",
    "        # Make sure text embedding has the right shape for the UNet model\n",
    "        # If it's a 2D tensor [seq_len, hidden_dim], we're good\n",
    "        # If it's a 3D tensor with batch dim [1, seq_len, hidden_dim], we squeeze it\n",
    "        if len(text_embed_tensor.shape) == 3 and text_embed_tensor.shape[0] == 1:\n",
    "            text_embed_tensor = text_embed_tensor.squeeze(0)\n",
    "\n",
    "        ## complete the seq length to 77 for each text embedding\n",
    "        seq_len = 77\n",
    "        if text_embed_tensor.shape[0] < seq_len:\n",
    "            pad_len = seq_len - text_embed_tensor.shape[0]\n",
    "            padding = torch.zeros((pad_len, text_embed_tensor.shape[1]))\n",
    "            text_embed_tensor = torch.cat([text_embed_tensor, padding], dim=0)\n",
    "\n",
    "\n",
    "        return latent_tensor, text_embed_tensor\n"
   ]
  },
  {
   "cell_type": "code",
   "execution_count": null,
   "metadata": {},
   "outputs": [],
   "source": [
    "clip_text_embeddings_path = intermediate_output_dir / \"clip_text_embeds.pkl\"\n",
    "latent_dir = os.path.join(NIH_CXR14_DATASET_DIR, \"vae_latents2\")\n"
   ]
  },
  {
   "cell_type": "code",
   "execution_count": 4,
   "metadata": {},
   "outputs": [
    {
     "name": "stdout",
     "output_type": "stream",
     "text": [
      "Total text embeddings available: 48311\n",
      "Found 48311 matches between latent files and text embeddings\n",
      "Found 48311 valid images with both latents and text embeddings\n"
     ]
    },
    {
     "data": {
      "text/plain": [
       "48311"
      ]
     },
     "execution_count": 4,
     "metadata": {},
     "output_type": "execute_result"
    }
   ],
   "source": [
    "dataset = EmbeddingLatentDataset(latent_dir, clip_text_embeddings_path)\n",
    "len(dataset)"
   ]
  },
  {
   "cell_type": "code",
   "execution_count": 5,
   "metadata": {},
   "outputs": [],
   "source": [
    "config = TrainConfigV2(\n",
    "    batch_size=4,\n",
    "    mixed_precision=True,\n",
    "    learning_rate=1e-4,\n",
    "    num_epochs=20,\n",
    "    gradient_accumulation_steps=64,  # Effective batch size of 128\n",
    "    scheduler_type=\"cosine\",\n",
    "    early_stopping_patience=5,\n",
    "    use_timestep_weights=True\n",
    ")"
   ]
  },
  {
   "cell_type": "code",
   "execution_count": 6,
   "metadata": {},
   "outputs": [],
   "source": [
    "unet = UNet2DConditionModel(act_fn=\"silu\",\n",
    "                                    attention_head_dim=8,\n",
    "                                    center_input_sample=False,\n",
    "                                    downsample_padding=1,\n",
    "                                    flip_sin_to_cos=True,\n",
    "                                    freq_shift=0,\n",
    "                                    mid_block_scale_factor=1,\n",
    "                                    norm_eps=1e-05,\n",
    "                                    norm_num_groups=32,\n",
    "                                    sample_size=64, # generated samples are 512x512\n",
    "                                    in_channels=4, \n",
    "                                    out_channels=4, \n",
    "                                    layers_per_block=2, \n",
    "                                    block_out_channels=(320, 640, 1280, 1280), \n",
    "                                    down_block_types=(\n",
    "                                    \"CrossAttnDownBlock2D\",\n",
    "                                    \"CrossAttnDownBlock2D\",\n",
    "                                    \"CrossAttnDownBlock2D\",\n",
    "                                    \"DownBlock2D\"), \n",
    "                                    up_block_types=(\"UpBlock2D\",\n",
    "                                    \"CrossAttnUpBlock2D\",\n",
    "                                    \"CrossAttnUpBlock2D\",\n",
    "                                    \"CrossAttnUpBlock2D\"),\n",
    "                                    cross_attention_dim=768\n",
    "                                )"
   ]
  },
  {
   "cell_type": "code",
   "execution_count": 7,
   "metadata": {},
   "outputs": [],
   "source": [
    "optimizer = torch.optim.AdamW(unet.parameters(), lr=config.learning_rate)\n",
    "noise_scheduler = DDPMScheduler(num_train_timesteps=1000)"
   ]
  },
  {
   "cell_type": "code",
   "execution_count": 8,
   "metadata": {},
   "outputs": [],
   "source": [
    "train_dataloader = torch.utils.data.DataLoader(dataset, batch_size=config.batch_size, num_workers=config.num_workers, shuffle=True, pin_memory=True)\n"
   ]
  },
  {
   "cell_type": "code",
   "execution_count": 9,
   "metadata": {},
   "outputs": [],
   "source": [
    "validation_samples = get_validation_samples_v2(dataset, num_samples=16)"
   ]
  },
  {
   "cell_type": "code",
   "execution_count": 10,
   "metadata": {},
   "outputs": [
    {
     "name": "stdout",
     "output_type": "stream",
     "text": [
      "torch.Size([77, 768])\n"
     ]
    }
   ],
   "source": [
    "print(validation_samples[0].shape)"
   ]
  },
  {
   "cell_type": "code",
   "execution_count": 11,
   "metadata": {},
   "outputs": [
    {
     "name": "stdout",
     "output_type": "stream",
     "text": [
      "Log directory is output/logs\n",
      "Output directory is output\n"
     ]
    }
   ],
   "source": [
    "import tensorboard\n",
    "trainer = Unet2DConditionalTrainerV2(\n",
    "    unet=unet,\n",
    "    train_config=config,\n",
    "    noise_scheduler=noise_scheduler,\n",
    "    optimizer=optimizer,\n",
    ")\n",
    "\n"
   ]
  },
  {
   "cell_type": "code",
   "execution_count": null,
   "metadata": {},
   "outputs": [
    {
     "data": {
      "application/vnd.jupyter.widget-view+json": {
       "model_id": "c304021833944a09aeb52afc78a6929f",
       "version_major": 2,
       "version_minor": 0
      },
      "text/plain": [
       "  0%|          | 0/20 [00:00<?, ?it/s]"
      ]
     },
     "metadata": {},
     "output_type": "display_data"
    },
    {
     "data": {
      "application/vnd.jupyter.widget-view+json": {
       "model_id": "6222fe5a084d4562a2b3a9785b4baf9d",
       "version_major": 2,
       "version_minor": 0
      },
      "text/plain": [
       "  0%|          | 0/12078 [00:00<?, ?it/s]"
      ]
     },
     "metadata": {},
     "output_type": "display_data"
    },
    {
     "name": "stdout",
     "output_type": "stream",
     "text": [
      "Epoch 1/20 - Avg loss: 0.158840, Avg PSNR: 22.58\n",
      "Saving model to output/best/best_model.safetensors\n",
      "New best model with loss: 0.158840\n",
      "Saving model to output/checkpoints/epoch_1_model.safetensors\n",
      "Generating validation samples for epoch 1...\n",
      "Initialized VaeProcessor for sample generation\n"
     ]
    },
    {
     "data": {
      "application/vnd.jupyter.widget-view+json": {
       "model_id": "9de02dd683494b47be6c63a927573afe",
       "version_major": 2,
       "version_minor": 0
      },
      "text/plain": [
       "Generating sample 1/16:   0%|          | 0/50 [00:00<?, ?it/s]"
      ]
     },
     "metadata": {},
     "output_type": "display_data"
    },
    {
     "data": {
      "application/vnd.jupyter.widget-view+json": {
       "model_id": "6a690d12435847ddb1502db4ab09de88",
       "version_major": 2,
       "version_minor": 0
      },
      "text/plain": [
       "Generating sample 2/16:   0%|          | 0/50 [00:00<?, ?it/s]"
      ]
     },
     "metadata": {},
     "output_type": "display_data"
    },
    {
     "data": {
      "application/vnd.jupyter.widget-view+json": {
       "model_id": "b9d9bb1415ae46c5804b7055d718460f",
       "version_major": 2,
       "version_minor": 0
      },
      "text/plain": [
       "Generating sample 3/16:   0%|          | 0/50 [00:00<?, ?it/s]"
      ]
     },
     "metadata": {},
     "output_type": "display_data"
    },
    {
     "data": {
      "application/vnd.jupyter.widget-view+json": {
       "model_id": "0bee82e941484b599d2d85a695d49606",
       "version_major": 2,
       "version_minor": 0
      },
      "text/plain": [
       "Generating sample 4/16:   0%|          | 0/50 [00:00<?, ?it/s]"
      ]
     },
     "metadata": {},
     "output_type": "display_data"
    },
    {
     "data": {
      "application/vnd.jupyter.widget-view+json": {
       "model_id": "977d4c1f21244de8935b28b64658ac97",
       "version_major": 2,
       "version_minor": 0
      },
      "text/plain": [
       "Generating sample 5/16:   0%|          | 0/50 [00:00<?, ?it/s]"
      ]
     },
     "metadata": {},
     "output_type": "display_data"
    },
    {
     "data": {
      "application/vnd.jupyter.widget-view+json": {
       "model_id": "5dd0831b486e4d0da279888d4d6ed8d0",
       "version_major": 2,
       "version_minor": 0
      },
      "text/plain": [
       "Generating sample 6/16:   0%|          | 0/50 [00:00<?, ?it/s]"
      ]
     },
     "metadata": {},
     "output_type": "display_data"
    },
    {
     "data": {
      "application/vnd.jupyter.widget-view+json": {
       "model_id": "75bb2eedb6dc4d61816facc8e84628c2",
       "version_major": 2,
       "version_minor": 0
      },
      "text/plain": [
       "Generating sample 7/16:   0%|          | 0/50 [00:00<?, ?it/s]"
      ]
     },
     "metadata": {},
     "output_type": "display_data"
    },
    {
     "data": {
      "application/vnd.jupyter.widget-view+json": {
       "model_id": "983ca178fbe846a7b29bcd400baf6b55",
       "version_major": 2,
       "version_minor": 0
      },
      "text/plain": [
       "Generating sample 8/16:   0%|          | 0/50 [00:00<?, ?it/s]"
      ]
     },
     "metadata": {},
     "output_type": "display_data"
    },
    {
     "data": {
      "application/vnd.jupyter.widget-view+json": {
       "model_id": "048ad1de0e1b45fb9d7de8637b7bf84b",
       "version_major": 2,
       "version_minor": 0
      },
      "text/plain": [
       "Generating sample 9/16:   0%|          | 0/50 [00:00<?, ?it/s]"
      ]
     },
     "metadata": {},
     "output_type": "display_data"
    },
    {
     "data": {
      "application/vnd.jupyter.widget-view+json": {
       "model_id": "f4c7f48ca39c481a9b29324451be2a92",
       "version_major": 2,
       "version_minor": 0
      },
      "text/plain": [
       "Generating sample 10/16:   0%|          | 0/50 [00:00<?, ?it/s]"
      ]
     },
     "metadata": {},
     "output_type": "display_data"
    },
    {
     "data": {
      "application/vnd.jupyter.widget-view+json": {
       "model_id": "4303eeb8cf154c69bd55f90a8e75bf02",
       "version_major": 2,
       "version_minor": 0
      },
      "text/plain": [
       "Generating sample 11/16:   0%|          | 0/50 [00:00<?, ?it/s]"
      ]
     },
     "metadata": {},
     "output_type": "display_data"
    },
    {
     "data": {
      "application/vnd.jupyter.widget-view+json": {
       "model_id": "f696b5a5163f42039242b57fa1dc7e26",
       "version_major": 2,
       "version_minor": 0
      },
      "text/plain": [
       "Generating sample 12/16:   0%|          | 0/50 [00:00<?, ?it/s]"
      ]
     },
     "metadata": {},
     "output_type": "display_data"
    },
    {
     "data": {
      "application/vnd.jupyter.widget-view+json": {
       "model_id": "6cbf17afb085421d9dbedaeb151b1c7c",
       "version_major": 2,
       "version_minor": 0
      },
      "text/plain": [
       "Generating sample 13/16:   0%|          | 0/50 [00:00<?, ?it/s]"
      ]
     },
     "metadata": {},
     "output_type": "display_data"
    },
    {
     "data": {
      "application/vnd.jupyter.widget-view+json": {
       "model_id": "937c7eff2854481a832031810f033291",
       "version_major": 2,
       "version_minor": 0
      },
      "text/plain": [
       "Generating sample 14/16:   0%|          | 0/50 [00:00<?, ?it/s]"
      ]
     },
     "metadata": {},
     "output_type": "display_data"
    },
    {
     "data": {
      "application/vnd.jupyter.widget-view+json": {
       "model_id": "d4d8cc61f52c4975b5d81111523f0fdd",
       "version_major": 2,
       "version_minor": 0
      },
      "text/plain": [
       "Generating sample 15/16:   0%|          | 0/50 [00:00<?, ?it/s]"
      ]
     },
     "metadata": {},
     "output_type": "display_data"
    },
    {
     "data": {
      "application/vnd.jupyter.widget-view+json": {
       "model_id": "e769dc426532497e87b9652687b618a5",
       "version_major": 2,
       "version_minor": 0
      },
      "text/plain": [
       "Generating sample 16/16:   0%|          | 0/50 [00:00<?, ?it/s]"
      ]
     },
     "metadata": {},
     "output_type": "display_data"
    },
    {
     "name": "stdout",
     "output_type": "stream",
     "text": [
      "Saved sample grid to output/samples/samples_epoch_1.png\n"
     ]
    },
    {
     "data": {
      "application/vnd.jupyter.widget-view+json": {
       "model_id": "4edf0111a70243f89c93d5dfdf402bdd",
       "version_major": 2,
       "version_minor": 0
      },
      "text/plain": [
       "  0%|          | 0/12078 [00:00<?, ?it/s]"
      ]
     },
     "metadata": {},
     "output_type": "display_data"
    },
    {
     "name": "stdout",
     "output_type": "stream",
     "text": [
      "Epoch 2/20 - Avg loss: 0.103363, Avg PSNR: 24.51\n",
      "Saving model to output/best/best_model.safetensors\n",
      "New best model with loss: 0.103363\n",
      "Saving model to output/checkpoints/epoch_2_model.safetensors\n",
      "Generating validation samples for epoch 2...\n"
     ]
    },
    {
     "data": {
      "application/vnd.jupyter.widget-view+json": {
       "model_id": "ca29a50355f04595a56f2821689bc808",
       "version_major": 2,
       "version_minor": 0
      },
      "text/plain": [
       "Generating sample 1/16:   0%|          | 0/50 [00:00<?, ?it/s]"
      ]
     },
     "metadata": {},
     "output_type": "display_data"
    },
    {
     "data": {
      "application/vnd.jupyter.widget-view+json": {
       "model_id": "85bfd5f6f38740d2affb2d894b3fdcd4",
       "version_major": 2,
       "version_minor": 0
      },
      "text/plain": [
       "Generating sample 2/16:   0%|          | 0/50 [00:00<?, ?it/s]"
      ]
     },
     "metadata": {},
     "output_type": "display_data"
    },
    {
     "data": {
      "application/vnd.jupyter.widget-view+json": {
       "model_id": "e9890a0ed8b441589b445ef90d4fb828",
       "version_major": 2,
       "version_minor": 0
      },
      "text/plain": [
       "Generating sample 3/16:   0%|          | 0/50 [00:00<?, ?it/s]"
      ]
     },
     "metadata": {},
     "output_type": "display_data"
    },
    {
     "data": {
      "application/vnd.jupyter.widget-view+json": {
       "model_id": "9cb3c0f8d1f94cdaa4994d46d67c9d3d",
       "version_major": 2,
       "version_minor": 0
      },
      "text/plain": [
       "Generating sample 4/16:   0%|          | 0/50 [00:00<?, ?it/s]"
      ]
     },
     "metadata": {},
     "output_type": "display_data"
    },
    {
     "data": {
      "application/vnd.jupyter.widget-view+json": {
       "model_id": "2248076a86b744b5b066475a59e207e1",
       "version_major": 2,
       "version_minor": 0
      },
      "text/plain": [
       "Generating sample 5/16:   0%|          | 0/50 [00:00<?, ?it/s]"
      ]
     },
     "metadata": {},
     "output_type": "display_data"
    },
    {
     "data": {
      "application/vnd.jupyter.widget-view+json": {
       "model_id": "1fecf9a19d7443759ef1fa71682cc766",
       "version_major": 2,
       "version_minor": 0
      },
      "text/plain": [
       "Generating sample 6/16:   0%|          | 0/50 [00:00<?, ?it/s]"
      ]
     },
     "metadata": {},
     "output_type": "display_data"
    },
    {
     "data": {
      "application/vnd.jupyter.widget-view+json": {
       "model_id": "b9400c6f89be46edb4cb53f8413a7d89",
       "version_major": 2,
       "version_minor": 0
      },
      "text/plain": [
       "Generating sample 7/16:   0%|          | 0/50 [00:00<?, ?it/s]"
      ]
     },
     "metadata": {},
     "output_type": "display_data"
    },
    {
     "data": {
      "application/vnd.jupyter.widget-view+json": {
       "model_id": "9a2d35792da145a8abec19a40c9d64f1",
       "version_major": 2,
       "version_minor": 0
      },
      "text/plain": [
       "Generating sample 8/16:   0%|          | 0/50 [00:00<?, ?it/s]"
      ]
     },
     "metadata": {},
     "output_type": "display_data"
    },
    {
     "data": {
      "application/vnd.jupyter.widget-view+json": {
       "model_id": "0510b0292a844d05809734edddecef4d",
       "version_major": 2,
       "version_minor": 0
      },
      "text/plain": [
       "Generating sample 9/16:   0%|          | 0/50 [00:00<?, ?it/s]"
      ]
     },
     "metadata": {},
     "output_type": "display_data"
    },
    {
     "data": {
      "application/vnd.jupyter.widget-view+json": {
       "model_id": "ff4b4a8cce3942c6a1b3dcecb768ae03",
       "version_major": 2,
       "version_minor": 0
      },
      "text/plain": [
       "Generating sample 10/16:   0%|          | 0/50 [00:00<?, ?it/s]"
      ]
     },
     "metadata": {},
     "output_type": "display_data"
    },
    {
     "data": {
      "application/vnd.jupyter.widget-view+json": {
       "model_id": "bb084754762e446b87f615f3bee7d92b",
       "version_major": 2,
       "version_minor": 0
      },
      "text/plain": [
       "Generating sample 11/16:   0%|          | 0/50 [00:00<?, ?it/s]"
      ]
     },
     "metadata": {},
     "output_type": "display_data"
    },
    {
     "data": {
      "application/vnd.jupyter.widget-view+json": {
       "model_id": "88857a7185c544ac9d301ba72a6016ed",
       "version_major": 2,
       "version_minor": 0
      },
      "text/plain": [
       "Generating sample 12/16:   0%|          | 0/50 [00:00<?, ?it/s]"
      ]
     },
     "metadata": {},
     "output_type": "display_data"
    },
    {
     "data": {
      "application/vnd.jupyter.widget-view+json": {
       "model_id": "30b39033bf694ddc86cd3ff5adbb2d36",
       "version_major": 2,
       "version_minor": 0
      },
      "text/plain": [
       "Generating sample 13/16:   0%|          | 0/50 [00:00<?, ?it/s]"
      ]
     },
     "metadata": {},
     "output_type": "display_data"
    },
    {
     "data": {
      "application/vnd.jupyter.widget-view+json": {
       "model_id": "0badccc9487e4cafbce81023f3e331a3",
       "version_major": 2,
       "version_minor": 0
      },
      "text/plain": [
       "Generating sample 14/16:   0%|          | 0/50 [00:00<?, ?it/s]"
      ]
     },
     "metadata": {},
     "output_type": "display_data"
    },
    {
     "data": {
      "application/vnd.jupyter.widget-view+json": {
       "model_id": "f3246d90d4af47279bf0c446087ec46e",
       "version_major": 2,
       "version_minor": 0
      },
      "text/plain": [
       "Generating sample 15/16:   0%|          | 0/50 [00:00<?, ?it/s]"
      ]
     },
     "metadata": {},
     "output_type": "display_data"
    },
    {
     "data": {
      "application/vnd.jupyter.widget-view+json": {
       "model_id": "4ae81dd4075c4cfd8064eae9d122db7b",
       "version_major": 2,
       "version_minor": 0
      },
      "text/plain": [
       "Generating sample 16/16:   0%|          | 0/50 [00:00<?, ?it/s]"
      ]
     },
     "metadata": {},
     "output_type": "display_data"
    },
    {
     "name": "stdout",
     "output_type": "stream",
     "text": [
      "Saved sample grid to output/samples/samples_epoch_2.png\n"
     ]
    },
    {
     "data": {
      "application/vnd.jupyter.widget-view+json": {
       "model_id": "c4da50b7cb2e42de8c10b3aed258e95f",
       "version_major": 2,
       "version_minor": 0
      },
      "text/plain": [
       "  0%|          | 0/12078 [00:00<?, ?it/s]"
      ]
     },
     "metadata": {},
     "output_type": "display_data"
    },
    {
     "name": "stdout",
     "output_type": "stream",
     "text": [
      "Epoch 3/20 - Avg loss: 0.097074, Avg PSNR: 24.86\n",
      "Saving model to output/best/best_model.safetensors\n",
      "New best model with loss: 0.097074\n",
      "Saving model to output/checkpoints/epoch_3_model.safetensors\n",
      "Generating validation samples for epoch 3...\n"
     ]
    },
    {
     "data": {
      "application/vnd.jupyter.widget-view+json": {
       "model_id": "c64b6866fe1e4539af6da6332d0866ef",
       "version_major": 2,
       "version_minor": 0
      },
      "text/plain": [
       "Generating sample 1/16:   0%|          | 0/50 [00:00<?, ?it/s]"
      ]
     },
     "metadata": {},
     "output_type": "display_data"
    },
    {
     "data": {
      "application/vnd.jupyter.widget-view+json": {
       "model_id": "a25d334b234c40cca839ed90fba20a57",
       "version_major": 2,
       "version_minor": 0
      },
      "text/plain": [
       "Generating sample 2/16:   0%|          | 0/50 [00:00<?, ?it/s]"
      ]
     },
     "metadata": {},
     "output_type": "display_data"
    },
    {
     "data": {
      "application/vnd.jupyter.widget-view+json": {
       "model_id": "e24f2ffd27e54b00b88e0ab112b4dc3e",
       "version_major": 2,
       "version_minor": 0
      },
      "text/plain": [
       "Generating sample 3/16:   0%|          | 0/50 [00:00<?, ?it/s]"
      ]
     },
     "metadata": {},
     "output_type": "display_data"
    },
    {
     "data": {
      "application/vnd.jupyter.widget-view+json": {
       "model_id": "403e4a61572844b584bbc5eb2f7c9239",
       "version_major": 2,
       "version_minor": 0
      },
      "text/plain": [
       "Generating sample 4/16:   0%|          | 0/50 [00:00<?, ?it/s]"
      ]
     },
     "metadata": {},
     "output_type": "display_data"
    },
    {
     "data": {
      "application/vnd.jupyter.widget-view+json": {
       "model_id": "bc85fc809f9645a98eb327108d1ed791",
       "version_major": 2,
       "version_minor": 0
      },
      "text/plain": [
       "Generating sample 5/16:   0%|          | 0/50 [00:00<?, ?it/s]"
      ]
     },
     "metadata": {},
     "output_type": "display_data"
    },
    {
     "data": {
      "application/vnd.jupyter.widget-view+json": {
       "model_id": "2a449470d6bb451398adc393e1a119c5",
       "version_major": 2,
       "version_minor": 0
      },
      "text/plain": [
       "Generating sample 6/16:   0%|          | 0/50 [00:00<?, ?it/s]"
      ]
     },
     "metadata": {},
     "output_type": "display_data"
    },
    {
     "data": {
      "application/vnd.jupyter.widget-view+json": {
       "model_id": "9a52af28f8144132a063d67782ae428c",
       "version_major": 2,
       "version_minor": 0
      },
      "text/plain": [
       "Generating sample 7/16:   0%|          | 0/50 [00:00<?, ?it/s]"
      ]
     },
     "metadata": {},
     "output_type": "display_data"
    },
    {
     "data": {
      "application/vnd.jupyter.widget-view+json": {
       "model_id": "abb9f0fe19e34341a8d5fc3d836ab7a1",
       "version_major": 2,
       "version_minor": 0
      },
      "text/plain": [
       "Generating sample 8/16:   0%|          | 0/50 [00:00<?, ?it/s]"
      ]
     },
     "metadata": {},
     "output_type": "display_data"
    },
    {
     "data": {
      "application/vnd.jupyter.widget-view+json": {
       "model_id": "fd981fa7ee84427fad22f6874f5cdbd2",
       "version_major": 2,
       "version_minor": 0
      },
      "text/plain": [
       "Generating sample 9/16:   0%|          | 0/50 [00:00<?, ?it/s]"
      ]
     },
     "metadata": {},
     "output_type": "display_data"
    },
    {
     "data": {
      "application/vnd.jupyter.widget-view+json": {
       "model_id": "177b9c196be545a0ab691c7266988c61",
       "version_major": 2,
       "version_minor": 0
      },
      "text/plain": [
       "Generating sample 10/16:   0%|          | 0/50 [00:00<?, ?it/s]"
      ]
     },
     "metadata": {},
     "output_type": "display_data"
    },
    {
     "data": {
      "application/vnd.jupyter.widget-view+json": {
       "model_id": "279e5f466d01474abe2d8d8daa91581e",
       "version_major": 2,
       "version_minor": 0
      },
      "text/plain": [
       "Generating sample 11/16:   0%|          | 0/50 [00:00<?, ?it/s]"
      ]
     },
     "metadata": {},
     "output_type": "display_data"
    },
    {
     "data": {
      "application/vnd.jupyter.widget-view+json": {
       "model_id": "5515ad14e4cb4809a7d3862a02de7b86",
       "version_major": 2,
       "version_minor": 0
      },
      "text/plain": [
       "Generating sample 12/16:   0%|          | 0/50 [00:00<?, ?it/s]"
      ]
     },
     "metadata": {},
     "output_type": "display_data"
    },
    {
     "data": {
      "application/vnd.jupyter.widget-view+json": {
       "model_id": "a156ad834db14917b321e5cfd0b5c4b8",
       "version_major": 2,
       "version_minor": 0
      },
      "text/plain": [
       "Generating sample 13/16:   0%|          | 0/50 [00:00<?, ?it/s]"
      ]
     },
     "metadata": {},
     "output_type": "display_data"
    },
    {
     "data": {
      "application/vnd.jupyter.widget-view+json": {
       "model_id": "bb0b5c734e9f407c93c2312094312e4a",
       "version_major": 2,
       "version_minor": 0
      },
      "text/plain": [
       "Generating sample 14/16:   0%|          | 0/50 [00:00<?, ?it/s]"
      ]
     },
     "metadata": {},
     "output_type": "display_data"
    },
    {
     "data": {
      "application/vnd.jupyter.widget-view+json": {
       "model_id": "01beb22327db44b48d9feceeccb36596",
       "version_major": 2,
       "version_minor": 0
      },
      "text/plain": [
       "Generating sample 15/16:   0%|          | 0/50 [00:00<?, ?it/s]"
      ]
     },
     "metadata": {},
     "output_type": "display_data"
    },
    {
     "data": {
      "application/vnd.jupyter.widget-view+json": {
       "model_id": "9ee8e5df2e92465598c1085282c62097",
       "version_major": 2,
       "version_minor": 0
      },
      "text/plain": [
       "Generating sample 16/16:   0%|          | 0/50 [00:00<?, ?it/s]"
      ]
     },
     "metadata": {},
     "output_type": "display_data"
    },
    {
     "name": "stdout",
     "output_type": "stream",
     "text": [
      "Saved sample grid to output/samples/samples_epoch_3.png\n"
     ]
    },
    {
     "data": {
      "application/vnd.jupyter.widget-view+json": {
       "model_id": "4c859b8ef68e4412ab7fffff8251d0c7",
       "version_major": 2,
       "version_minor": 0
      },
      "text/plain": [
       "  0%|          | 0/12078 [00:00<?, ?it/s]"
      ]
     },
     "metadata": {},
     "output_type": "display_data"
    },
    {
     "name": "stdout",
     "output_type": "stream",
     "text": [
      "Epoch 4/20 - Avg loss: 0.093411, Avg PSNR: 25.03\n",
      "Saving model to output/best/best_model.safetensors\n",
      "New best model with loss: 0.093411\n",
      "Saving model to output/checkpoints/epoch_4_model.safetensors\n",
      "Generating validation samples for epoch 4...\n"
     ]
    },
    {
     "data": {
      "application/vnd.jupyter.widget-view+json": {
       "model_id": "87984f8393c149fba332aebad8c70baf",
       "version_major": 2,
       "version_minor": 0
      },
      "text/plain": [
       "Generating sample 1/16:   0%|          | 0/50 [00:00<?, ?it/s]"
      ]
     },
     "metadata": {},
     "output_type": "display_data"
    },
    {
     "data": {
      "application/vnd.jupyter.widget-view+json": {
       "model_id": "06762e85fd1e4546899b73e01a362e9d",
       "version_major": 2,
       "version_minor": 0
      },
      "text/plain": [
       "Generating sample 2/16:   0%|          | 0/50 [00:00<?, ?it/s]"
      ]
     },
     "metadata": {},
     "output_type": "display_data"
    },
    {
     "data": {
      "application/vnd.jupyter.widget-view+json": {
       "model_id": "4907872dd1154f619a9bd3d8ef104adb",
       "version_major": 2,
       "version_minor": 0
      },
      "text/plain": [
       "Generating sample 3/16:   0%|          | 0/50 [00:00<?, ?it/s]"
      ]
     },
     "metadata": {},
     "output_type": "display_data"
    },
    {
     "data": {
      "application/vnd.jupyter.widget-view+json": {
       "model_id": "49f4fc41abb54321bdb120132481523e",
       "version_major": 2,
       "version_minor": 0
      },
      "text/plain": [
       "Generating sample 4/16:   0%|          | 0/50 [00:00<?, ?it/s]"
      ]
     },
     "metadata": {},
     "output_type": "display_data"
    },
    {
     "data": {
      "application/vnd.jupyter.widget-view+json": {
       "model_id": "b46d4f1466894ad18f61c59a421d43b9",
       "version_major": 2,
       "version_minor": 0
      },
      "text/plain": [
       "Generating sample 5/16:   0%|          | 0/50 [00:00<?, ?it/s]"
      ]
     },
     "metadata": {},
     "output_type": "display_data"
    },
    {
     "data": {
      "application/vnd.jupyter.widget-view+json": {
       "model_id": "0bb21f92aa7a4eea91ded0fa9b18198f",
       "version_major": 2,
       "version_minor": 0
      },
      "text/plain": [
       "Generating sample 6/16:   0%|          | 0/50 [00:00<?, ?it/s]"
      ]
     },
     "metadata": {},
     "output_type": "display_data"
    },
    {
     "data": {
      "application/vnd.jupyter.widget-view+json": {
       "model_id": "428f923c78854f53901a7a6a7ee25fa2",
       "version_major": 2,
       "version_minor": 0
      },
      "text/plain": [
       "Generating sample 7/16:   0%|          | 0/50 [00:00<?, ?it/s]"
      ]
     },
     "metadata": {},
     "output_type": "display_data"
    },
    {
     "data": {
      "application/vnd.jupyter.widget-view+json": {
       "model_id": "414d60dec0c54d0291b1ec4288824158",
       "version_major": 2,
       "version_minor": 0
      },
      "text/plain": [
       "Generating sample 8/16:   0%|          | 0/50 [00:00<?, ?it/s]"
      ]
     },
     "metadata": {},
     "output_type": "display_data"
    },
    {
     "data": {
      "application/vnd.jupyter.widget-view+json": {
       "model_id": "233ef4a026064fe88ecfc2f0cd2ed4e2",
       "version_major": 2,
       "version_minor": 0
      },
      "text/plain": [
       "Generating sample 9/16:   0%|          | 0/50 [00:00<?, ?it/s]"
      ]
     },
     "metadata": {},
     "output_type": "display_data"
    },
    {
     "data": {
      "application/vnd.jupyter.widget-view+json": {
       "model_id": "d6d2be6d9bd44d3aba37bf0faaff8f87",
       "version_major": 2,
       "version_minor": 0
      },
      "text/plain": [
       "Generating sample 10/16:   0%|          | 0/50 [00:00<?, ?it/s]"
      ]
     },
     "metadata": {},
     "output_type": "display_data"
    },
    {
     "data": {
      "application/vnd.jupyter.widget-view+json": {
       "model_id": "d5e5bd5b087048a1ae0724f2799cc229",
       "version_major": 2,
       "version_minor": 0
      },
      "text/plain": [
       "Generating sample 11/16:   0%|          | 0/50 [00:00<?, ?it/s]"
      ]
     },
     "metadata": {},
     "output_type": "display_data"
    },
    {
     "data": {
      "application/vnd.jupyter.widget-view+json": {
       "model_id": "5967fc9bea1a45f3aca90b798c6091b6",
       "version_major": 2,
       "version_minor": 0
      },
      "text/plain": [
       "Generating sample 12/16:   0%|          | 0/50 [00:00<?, ?it/s]"
      ]
     },
     "metadata": {},
     "output_type": "display_data"
    },
    {
     "data": {
      "application/vnd.jupyter.widget-view+json": {
       "model_id": "6ce2a40848bf4c6c832651fe95ef7251",
       "version_major": 2,
       "version_minor": 0
      },
      "text/plain": [
       "Generating sample 13/16:   0%|          | 0/50 [00:00<?, ?it/s]"
      ]
     },
     "metadata": {},
     "output_type": "display_data"
    },
    {
     "data": {
      "application/vnd.jupyter.widget-view+json": {
       "model_id": "52b49a8fd0f947c98c68aef2ff23e4fb",
       "version_major": 2,
       "version_minor": 0
      },
      "text/plain": [
       "Generating sample 14/16:   0%|          | 0/50 [00:00<?, ?it/s]"
      ]
     },
     "metadata": {},
     "output_type": "display_data"
    },
    {
     "data": {
      "application/vnd.jupyter.widget-view+json": {
       "model_id": "792cce21485b4a61aaa275c430c84e62",
       "version_major": 2,
       "version_minor": 0
      },
      "text/plain": [
       "Generating sample 15/16:   0%|          | 0/50 [00:00<?, ?it/s]"
      ]
     },
     "metadata": {},
     "output_type": "display_data"
    },
    {
     "data": {
      "application/vnd.jupyter.widget-view+json": {
       "model_id": "85f7f48a8b9541faa646fd4316cb5a7b",
       "version_major": 2,
       "version_minor": 0
      },
      "text/plain": [
       "Generating sample 16/16:   0%|          | 0/50 [00:00<?, ?it/s]"
      ]
     },
     "metadata": {},
     "output_type": "display_data"
    },
    {
     "name": "stdout",
     "output_type": "stream",
     "text": [
      "Saved sample grid to output/samples/samples_epoch_4.png\n"
     ]
    },
    {
     "data": {
      "application/vnd.jupyter.widget-view+json": {
       "model_id": "fb431b5e09374871af5d4f53d01e963f",
       "version_major": 2,
       "version_minor": 0
      },
      "text/plain": [
       "  0%|          | 0/12078 [00:00<?, ?it/s]"
      ]
     },
     "metadata": {},
     "output_type": "display_data"
    },
    {
     "name": "stdout",
     "output_type": "stream",
     "text": [
      "Epoch 5/20 - Avg loss: 0.089390, Avg PSNR: 25.30\n",
      "Saving model to output/best/best_model.safetensors\n",
      "New best model with loss: 0.089390\n",
      "Saving model to output/checkpoints/epoch_5_model.safetensors\n",
      "Generating validation samples for epoch 5...\n"
     ]
    },
    {
     "data": {
      "application/vnd.jupyter.widget-view+json": {
       "model_id": "06bf3605f59644598dd4dc8db8551d7a",
       "version_major": 2,
       "version_minor": 0
      },
      "text/plain": [
       "Generating sample 1/16:   0%|          | 0/50 [00:00<?, ?it/s]"
      ]
     },
     "metadata": {},
     "output_type": "display_data"
    },
    {
     "data": {
      "application/vnd.jupyter.widget-view+json": {
       "model_id": "bde85242b7d54ffd8291769d06189821",
       "version_major": 2,
       "version_minor": 0
      },
      "text/plain": [
       "Generating sample 2/16:   0%|          | 0/50 [00:00<?, ?it/s]"
      ]
     },
     "metadata": {},
     "output_type": "display_data"
    },
    {
     "data": {
      "application/vnd.jupyter.widget-view+json": {
       "model_id": "aac8de55e3914936b90636666afbbba2",
       "version_major": 2,
       "version_minor": 0
      },
      "text/plain": [
       "Generating sample 3/16:   0%|          | 0/50 [00:00<?, ?it/s]"
      ]
     },
     "metadata": {},
     "output_type": "display_data"
    },
    {
     "data": {
      "application/vnd.jupyter.widget-view+json": {
       "model_id": "f196332282d24f2cb2515d48910cf8cb",
       "version_major": 2,
       "version_minor": 0
      },
      "text/plain": [
       "Generating sample 4/16:   0%|          | 0/50 [00:00<?, ?it/s]"
      ]
     },
     "metadata": {},
     "output_type": "display_data"
    },
    {
     "data": {
      "application/vnd.jupyter.widget-view+json": {
       "model_id": "5a39e6f80ad941aead90756d0b02fe27",
       "version_major": 2,
       "version_minor": 0
      },
      "text/plain": [
       "Generating sample 5/16:   0%|          | 0/50 [00:00<?, ?it/s]"
      ]
     },
     "metadata": {},
     "output_type": "display_data"
    },
    {
     "data": {
      "application/vnd.jupyter.widget-view+json": {
       "model_id": "e92a353240384c3bbdeeecd224acbe6e",
       "version_major": 2,
       "version_minor": 0
      },
      "text/plain": [
       "Generating sample 6/16:   0%|          | 0/50 [00:00<?, ?it/s]"
      ]
     },
     "metadata": {},
     "output_type": "display_data"
    },
    {
     "data": {
      "application/vnd.jupyter.widget-view+json": {
       "model_id": "8f4329577c8a40a185a84492c7172dc4",
       "version_major": 2,
       "version_minor": 0
      },
      "text/plain": [
       "Generating sample 7/16:   0%|          | 0/50 [00:00<?, ?it/s]"
      ]
     },
     "metadata": {},
     "output_type": "display_data"
    },
    {
     "data": {
      "application/vnd.jupyter.widget-view+json": {
       "model_id": "db7516570e304ffdb91852edfdc9f7d5",
       "version_major": 2,
       "version_minor": 0
      },
      "text/plain": [
       "Generating sample 8/16:   0%|          | 0/50 [00:00<?, ?it/s]"
      ]
     },
     "metadata": {},
     "output_type": "display_data"
    },
    {
     "data": {
      "application/vnd.jupyter.widget-view+json": {
       "model_id": "90f31ac30a5d47b6b2537623b4be235e",
       "version_major": 2,
       "version_minor": 0
      },
      "text/plain": [
       "Generating sample 9/16:   0%|          | 0/50 [00:00<?, ?it/s]"
      ]
     },
     "metadata": {},
     "output_type": "display_data"
    },
    {
     "data": {
      "application/vnd.jupyter.widget-view+json": {
       "model_id": "0529413b86a14dc5a3792f6be6a04427",
       "version_major": 2,
       "version_minor": 0
      },
      "text/plain": [
       "Generating sample 10/16:   0%|          | 0/50 [00:00<?, ?it/s]"
      ]
     },
     "metadata": {},
     "output_type": "display_data"
    },
    {
     "data": {
      "application/vnd.jupyter.widget-view+json": {
       "model_id": "1047b2c7658448e2b0be452502341894",
       "version_major": 2,
       "version_minor": 0
      },
      "text/plain": [
       "Generating sample 11/16:   0%|          | 0/50 [00:00<?, ?it/s]"
      ]
     },
     "metadata": {},
     "output_type": "display_data"
    },
    {
     "data": {
      "application/vnd.jupyter.widget-view+json": {
       "model_id": "b420b690570c47d785c5e6073da6c741",
       "version_major": 2,
       "version_minor": 0
      },
      "text/plain": [
       "Generating sample 12/16:   0%|          | 0/50 [00:00<?, ?it/s]"
      ]
     },
     "metadata": {},
     "output_type": "display_data"
    },
    {
     "data": {
      "application/vnd.jupyter.widget-view+json": {
       "model_id": "203b85e67d0b478aa29c0c27babce57f",
       "version_major": 2,
       "version_minor": 0
      },
      "text/plain": [
       "Generating sample 13/16:   0%|          | 0/50 [00:00<?, ?it/s]"
      ]
     },
     "metadata": {},
     "output_type": "display_data"
    },
    {
     "data": {
      "application/vnd.jupyter.widget-view+json": {
       "model_id": "ae57ff6191614e609caaf53557c12284",
       "version_major": 2,
       "version_minor": 0
      },
      "text/plain": [
       "Generating sample 14/16:   0%|          | 0/50 [00:00<?, ?it/s]"
      ]
     },
     "metadata": {},
     "output_type": "display_data"
    },
    {
     "data": {
      "application/vnd.jupyter.widget-view+json": {
       "model_id": "89f5e7770a59436db0d9da1d9a8efd4d",
       "version_major": 2,
       "version_minor": 0
      },
      "text/plain": [
       "Generating sample 15/16:   0%|          | 0/50 [00:00<?, ?it/s]"
      ]
     },
     "metadata": {},
     "output_type": "display_data"
    },
    {
     "data": {
      "application/vnd.jupyter.widget-view+json": {
       "model_id": "fa84260945a0429e8936401e042c5204",
       "version_major": 2,
       "version_minor": 0
      },
      "text/plain": [
       "Generating sample 16/16:   0%|          | 0/50 [00:00<?, ?it/s]"
      ]
     },
     "metadata": {},
     "output_type": "display_data"
    },
    {
     "name": "stdout",
     "output_type": "stream",
     "text": [
      "Saved sample grid to output/samples/samples_epoch_5.png\n"
     ]
    },
    {
     "data": {
      "application/vnd.jupyter.widget-view+json": {
       "model_id": "2de7270dab534588b3b3c90c82cae9cc",
       "version_major": 2,
       "version_minor": 0
      },
      "text/plain": [
       "  0%|          | 0/12078 [00:00<?, ?it/s]"
      ]
     },
     "metadata": {},
     "output_type": "display_data"
    },
    {
     "name": "stdout",
     "output_type": "stream",
     "text": [
      "Epoch 6/20 - Avg loss: 0.088983, Avg PSNR: 25.33\n",
      "Saving model to output/best/best_model.safetensors\n",
      "New best model with loss: 0.088983\n",
      "Saving model to output/checkpoints/epoch_6_model.safetensors\n",
      "Generating validation samples for epoch 6...\n"
     ]
    },
    {
     "data": {
      "application/vnd.jupyter.widget-view+json": {
       "model_id": "0c266680a5a34578a13fb521527d39d2",
       "version_major": 2,
       "version_minor": 0
      },
      "text/plain": [
       "Generating sample 1/16:   0%|          | 0/50 [00:00<?, ?it/s]"
      ]
     },
     "metadata": {},
     "output_type": "display_data"
    },
    {
     "data": {
      "application/vnd.jupyter.widget-view+json": {
       "model_id": "a8ed64a11ed647a5bfa79196af501cf0",
       "version_major": 2,
       "version_minor": 0
      },
      "text/plain": [
       "Generating sample 2/16:   0%|          | 0/50 [00:00<?, ?it/s]"
      ]
     },
     "metadata": {},
     "output_type": "display_data"
    },
    {
     "data": {
      "application/vnd.jupyter.widget-view+json": {
       "model_id": "b548329e8deb4b49aaea1569b11e10fc",
       "version_major": 2,
       "version_minor": 0
      },
      "text/plain": [
       "Generating sample 3/16:   0%|          | 0/50 [00:00<?, ?it/s]"
      ]
     },
     "metadata": {},
     "output_type": "display_data"
    },
    {
     "data": {
      "application/vnd.jupyter.widget-view+json": {
       "model_id": "6bb0b4c4f79e4af6b7e111035109da7a",
       "version_major": 2,
       "version_minor": 0
      },
      "text/plain": [
       "Generating sample 4/16:   0%|          | 0/50 [00:00<?, ?it/s]"
      ]
     },
     "metadata": {},
     "output_type": "display_data"
    },
    {
     "data": {
      "application/vnd.jupyter.widget-view+json": {
       "model_id": "10c95f29219e4c2282cb80a29e5efac9",
       "version_major": 2,
       "version_minor": 0
      },
      "text/plain": [
       "Generating sample 5/16:   0%|          | 0/50 [00:00<?, ?it/s]"
      ]
     },
     "metadata": {},
     "output_type": "display_data"
    },
    {
     "data": {
      "application/vnd.jupyter.widget-view+json": {
       "model_id": "09ce9e4f63f4403e8502ce87223b8916",
       "version_major": 2,
       "version_minor": 0
      },
      "text/plain": [
       "Generating sample 6/16:   0%|          | 0/50 [00:00<?, ?it/s]"
      ]
     },
     "metadata": {},
     "output_type": "display_data"
    },
    {
     "data": {
      "application/vnd.jupyter.widget-view+json": {
       "model_id": "7e9c25ddef424a75bd0a14abdeaab6db",
       "version_major": 2,
       "version_minor": 0
      },
      "text/plain": [
       "Generating sample 7/16:   0%|          | 0/50 [00:00<?, ?it/s]"
      ]
     },
     "metadata": {},
     "output_type": "display_data"
    },
    {
     "data": {
      "application/vnd.jupyter.widget-view+json": {
       "model_id": "01fd26562eea4e3685c2e862644e3265",
       "version_major": 2,
       "version_minor": 0
      },
      "text/plain": [
       "Generating sample 8/16:   0%|          | 0/50 [00:00<?, ?it/s]"
      ]
     },
     "metadata": {},
     "output_type": "display_data"
    },
    {
     "data": {
      "application/vnd.jupyter.widget-view+json": {
       "model_id": "7349447a15b049b1ac3a5b454d148a4e",
       "version_major": 2,
       "version_minor": 0
      },
      "text/plain": [
       "Generating sample 9/16:   0%|          | 0/50 [00:00<?, ?it/s]"
      ]
     },
     "metadata": {},
     "output_type": "display_data"
    },
    {
     "data": {
      "application/vnd.jupyter.widget-view+json": {
       "model_id": "2d3eafcd93914119bdac0862fc518f80",
       "version_major": 2,
       "version_minor": 0
      },
      "text/plain": [
       "Generating sample 10/16:   0%|          | 0/50 [00:00<?, ?it/s]"
      ]
     },
     "metadata": {},
     "output_type": "display_data"
    },
    {
     "data": {
      "application/vnd.jupyter.widget-view+json": {
       "model_id": "3cb3b0a649fb4f3a82d9b965f08d30b3",
       "version_major": 2,
       "version_minor": 0
      },
      "text/plain": [
       "Generating sample 11/16:   0%|          | 0/50 [00:00<?, ?it/s]"
      ]
     },
     "metadata": {},
     "output_type": "display_data"
    },
    {
     "data": {
      "application/vnd.jupyter.widget-view+json": {
       "model_id": "daccbc20b9bc410d8ba96cf908caed26",
       "version_major": 2,
       "version_minor": 0
      },
      "text/plain": [
       "Generating sample 12/16:   0%|          | 0/50 [00:00<?, ?it/s]"
      ]
     },
     "metadata": {},
     "output_type": "display_data"
    },
    {
     "data": {
      "application/vnd.jupyter.widget-view+json": {
       "model_id": "a4e1dbc74d174ad999fd488a19a11a7d",
       "version_major": 2,
       "version_minor": 0
      },
      "text/plain": [
       "Generating sample 13/16:   0%|          | 0/50 [00:00<?, ?it/s]"
      ]
     },
     "metadata": {},
     "output_type": "display_data"
    },
    {
     "data": {
      "application/vnd.jupyter.widget-view+json": {
       "model_id": "560fe9e84e20414ab57f018555aff6d9",
       "version_major": 2,
       "version_minor": 0
      },
      "text/plain": [
       "Generating sample 14/16:   0%|          | 0/50 [00:00<?, ?it/s]"
      ]
     },
     "metadata": {},
     "output_type": "display_data"
    },
    {
     "data": {
      "application/vnd.jupyter.widget-view+json": {
       "model_id": "b405427c0e9f4ac1b7b4468bb30ac2a9",
       "version_major": 2,
       "version_minor": 0
      },
      "text/plain": [
       "Generating sample 15/16:   0%|          | 0/50 [00:00<?, ?it/s]"
      ]
     },
     "metadata": {},
     "output_type": "display_data"
    },
    {
     "data": {
      "application/vnd.jupyter.widget-view+json": {
       "model_id": "f4c91921ea374955b73ca73cde802001",
       "version_major": 2,
       "version_minor": 0
      },
      "text/plain": [
       "Generating sample 16/16:   0%|          | 0/50 [00:00<?, ?it/s]"
      ]
     },
     "metadata": {},
     "output_type": "display_data"
    },
    {
     "name": "stdout",
     "output_type": "stream",
     "text": [
      "Saved sample grid to output/samples/samples_epoch_6.png\n"
     ]
    },
    {
     "data": {
      "application/vnd.jupyter.widget-view+json": {
       "model_id": "1468a6636f5140fab8b79e1491e5b2c6",
       "version_major": 2,
       "version_minor": 0
      },
      "text/plain": [
       "  0%|          | 0/12078 [00:00<?, ?it/s]"
      ]
     },
     "metadata": {},
     "output_type": "display_data"
    },
    {
     "name": "stdout",
     "output_type": "stream",
     "text": [
      "Epoch 7/20 - Avg loss: 0.085347, Avg PSNR: 25.48\n",
      "Saving model to output/best/best_model.safetensors\n",
      "New best model with loss: 0.085347\n",
      "Saving model to output/checkpoints/epoch_7_model.safetensors\n",
      "Generating validation samples for epoch 7...\n"
     ]
    },
    {
     "data": {
      "application/vnd.jupyter.widget-view+json": {
       "model_id": "5b9ed5df0a3c497f80e3cbd21bcefe5b",
       "version_major": 2,
       "version_minor": 0
      },
      "text/plain": [
       "Generating sample 1/16:   0%|          | 0/50 [00:00<?, ?it/s]"
      ]
     },
     "metadata": {},
     "output_type": "display_data"
    },
    {
     "data": {
      "application/vnd.jupyter.widget-view+json": {
       "model_id": "dbea083a27ee45fa8b554779a9c2e157",
       "version_major": 2,
       "version_minor": 0
      },
      "text/plain": [
       "Generating sample 2/16:   0%|          | 0/50 [00:00<?, ?it/s]"
      ]
     },
     "metadata": {},
     "output_type": "display_data"
    },
    {
     "data": {
      "application/vnd.jupyter.widget-view+json": {
       "model_id": "026ef1865a864b3dbfe25459869cffbd",
       "version_major": 2,
       "version_minor": 0
      },
      "text/plain": [
       "Generating sample 3/16:   0%|          | 0/50 [00:00<?, ?it/s]"
      ]
     },
     "metadata": {},
     "output_type": "display_data"
    },
    {
     "data": {
      "application/vnd.jupyter.widget-view+json": {
       "model_id": "b826c56788f94f0ea1b5165a6dc786a4",
       "version_major": 2,
       "version_minor": 0
      },
      "text/plain": [
       "Generating sample 4/16:   0%|          | 0/50 [00:00<?, ?it/s]"
      ]
     },
     "metadata": {},
     "output_type": "display_data"
    },
    {
     "data": {
      "application/vnd.jupyter.widget-view+json": {
       "model_id": "d7ae5488f86d4281b9d3d92e5b0fa818",
       "version_major": 2,
       "version_minor": 0
      },
      "text/plain": [
       "Generating sample 5/16:   0%|          | 0/50 [00:00<?, ?it/s]"
      ]
     },
     "metadata": {},
     "output_type": "display_data"
    },
    {
     "data": {
      "application/vnd.jupyter.widget-view+json": {
       "model_id": "d22dd19cd79547e9960438f28006fe1f",
       "version_major": 2,
       "version_minor": 0
      },
      "text/plain": [
       "Generating sample 6/16:   0%|          | 0/50 [00:00<?, ?it/s]"
      ]
     },
     "metadata": {},
     "output_type": "display_data"
    },
    {
     "data": {
      "application/vnd.jupyter.widget-view+json": {
       "model_id": "0d91ba82b7c044ac9c0c9f3798d151cc",
       "version_major": 2,
       "version_minor": 0
      },
      "text/plain": [
       "Generating sample 7/16:   0%|          | 0/50 [00:00<?, ?it/s]"
      ]
     },
     "metadata": {},
     "output_type": "display_data"
    },
    {
     "data": {
      "application/vnd.jupyter.widget-view+json": {
       "model_id": "e526d3a39f0c48659a9fd335165988d6",
       "version_major": 2,
       "version_minor": 0
      },
      "text/plain": [
       "Generating sample 8/16:   0%|          | 0/50 [00:00<?, ?it/s]"
      ]
     },
     "metadata": {},
     "output_type": "display_data"
    },
    {
     "data": {
      "application/vnd.jupyter.widget-view+json": {
       "model_id": "8ade29fd7dbc47ee9a6016ffd9732dbb",
       "version_major": 2,
       "version_minor": 0
      },
      "text/plain": [
       "Generating sample 9/16:   0%|          | 0/50 [00:00<?, ?it/s]"
      ]
     },
     "metadata": {},
     "output_type": "display_data"
    },
    {
     "data": {
      "application/vnd.jupyter.widget-view+json": {
       "model_id": "668e4db6ee6b4e7391d182f2b17a20df",
       "version_major": 2,
       "version_minor": 0
      },
      "text/plain": [
       "Generating sample 10/16:   0%|          | 0/50 [00:00<?, ?it/s]"
      ]
     },
     "metadata": {},
     "output_type": "display_data"
    },
    {
     "data": {
      "application/vnd.jupyter.widget-view+json": {
       "model_id": "338e1ac820df4bec8f4be87819926e27",
       "version_major": 2,
       "version_minor": 0
      },
      "text/plain": [
       "Generating sample 11/16:   0%|          | 0/50 [00:00<?, ?it/s]"
      ]
     },
     "metadata": {},
     "output_type": "display_data"
    },
    {
     "data": {
      "application/vnd.jupyter.widget-view+json": {
       "model_id": "182b9573653f45f393f08bdc7c2975ad",
       "version_major": 2,
       "version_minor": 0
      },
      "text/plain": [
       "Generating sample 12/16:   0%|          | 0/50 [00:00<?, ?it/s]"
      ]
     },
     "metadata": {},
     "output_type": "display_data"
    },
    {
     "data": {
      "application/vnd.jupyter.widget-view+json": {
       "model_id": "01298c42006f4081974af8b7b7483285",
       "version_major": 2,
       "version_minor": 0
      },
      "text/plain": [
       "Generating sample 13/16:   0%|          | 0/50 [00:00<?, ?it/s]"
      ]
     },
     "metadata": {},
     "output_type": "display_data"
    },
    {
     "data": {
      "application/vnd.jupyter.widget-view+json": {
       "model_id": "e898f207ec694d63bcc5734b6f1c0b72",
       "version_major": 2,
       "version_minor": 0
      },
      "text/plain": [
       "Generating sample 14/16:   0%|          | 0/50 [00:00<?, ?it/s]"
      ]
     },
     "metadata": {},
     "output_type": "display_data"
    },
    {
     "data": {
      "application/vnd.jupyter.widget-view+json": {
       "model_id": "d69a33f0dbd94e448b58fca4935e185b",
       "version_major": 2,
       "version_minor": 0
      },
      "text/plain": [
       "Generating sample 15/16:   0%|          | 0/50 [00:00<?, ?it/s]"
      ]
     },
     "metadata": {},
     "output_type": "display_data"
    },
    {
     "data": {
      "application/vnd.jupyter.widget-view+json": {
       "model_id": "a98fa8846f834ed2a0b0e86d8f29ab84",
       "version_major": 2,
       "version_minor": 0
      },
      "text/plain": [
       "Generating sample 16/16:   0%|          | 0/50 [00:00<?, ?it/s]"
      ]
     },
     "metadata": {},
     "output_type": "display_data"
    },
    {
     "name": "stdout",
     "output_type": "stream",
     "text": [
      "Saved sample grid to output/samples/samples_epoch_7.png\n"
     ]
    },
    {
     "data": {
      "application/vnd.jupyter.widget-view+json": {
       "model_id": "f93cb63b81cf42c0bb7535c4676a2191",
       "version_major": 2,
       "version_minor": 0
      },
      "text/plain": [
       "  0%|          | 0/12078 [00:00<?, ?it/s]"
      ]
     },
     "metadata": {},
     "output_type": "display_data"
    },
    {
     "name": "stdout",
     "output_type": "stream",
     "text": [
      "Epoch 8/20 - Avg loss: 0.086758, Avg PSNR: 25.40\n",
      "No improvement. Early stopping counter: 1/5\n",
      "Saving model to output/checkpoints/epoch_8_model.safetensors\n",
      "Generating validation samples for epoch 8...\n"
     ]
    },
    {
     "data": {
      "application/vnd.jupyter.widget-view+json": {
       "model_id": "dc8fd61b814643198ca744a16698b49d",
       "version_major": 2,
       "version_minor": 0
      },
      "text/plain": [
       "Generating sample 1/16:   0%|          | 0/50 [00:00<?, ?it/s]"
      ]
     },
     "metadata": {},
     "output_type": "display_data"
    },
    {
     "data": {
      "application/vnd.jupyter.widget-view+json": {
       "model_id": "fa70a164265d47368f6ef11eb1d3921b",
       "version_major": 2,
       "version_minor": 0
      },
      "text/plain": [
       "Generating sample 2/16:   0%|          | 0/50 [00:00<?, ?it/s]"
      ]
     },
     "metadata": {},
     "output_type": "display_data"
    },
    {
     "data": {
      "application/vnd.jupyter.widget-view+json": {
       "model_id": "5519b7a1d49c48b78f014ff635c5b296",
       "version_major": 2,
       "version_minor": 0
      },
      "text/plain": [
       "Generating sample 3/16:   0%|          | 0/50 [00:00<?, ?it/s]"
      ]
     },
     "metadata": {},
     "output_type": "display_data"
    },
    {
     "data": {
      "application/vnd.jupyter.widget-view+json": {
       "model_id": "0f056ab93e7e41a885324ffa51dfe4dd",
       "version_major": 2,
       "version_minor": 0
      },
      "text/plain": [
       "Generating sample 4/16:   0%|          | 0/50 [00:00<?, ?it/s]"
      ]
     },
     "metadata": {},
     "output_type": "display_data"
    },
    {
     "data": {
      "application/vnd.jupyter.widget-view+json": {
       "model_id": "895f70917f4843a2870fa26391fc94ba",
       "version_major": 2,
       "version_minor": 0
      },
      "text/plain": [
       "Generating sample 5/16:   0%|          | 0/50 [00:00<?, ?it/s]"
      ]
     },
     "metadata": {},
     "output_type": "display_data"
    },
    {
     "data": {
      "application/vnd.jupyter.widget-view+json": {
       "model_id": "7d9060f4759e4f70a665c31ef53671aa",
       "version_major": 2,
       "version_minor": 0
      },
      "text/plain": [
       "Generating sample 6/16:   0%|          | 0/50 [00:00<?, ?it/s]"
      ]
     },
     "metadata": {},
     "output_type": "display_data"
    },
    {
     "data": {
      "application/vnd.jupyter.widget-view+json": {
       "model_id": "8b5e26e662dc4b67badcd9fbb8463800",
       "version_major": 2,
       "version_minor": 0
      },
      "text/plain": [
       "Generating sample 7/16:   0%|          | 0/50 [00:00<?, ?it/s]"
      ]
     },
     "metadata": {},
     "output_type": "display_data"
    },
    {
     "data": {
      "application/vnd.jupyter.widget-view+json": {
       "model_id": "910d447c063946099c86ee938dc0c6fc",
       "version_major": 2,
       "version_minor": 0
      },
      "text/plain": [
       "Generating sample 8/16:   0%|          | 0/50 [00:00<?, ?it/s]"
      ]
     },
     "metadata": {},
     "output_type": "display_data"
    },
    {
     "data": {
      "application/vnd.jupyter.widget-view+json": {
       "model_id": "4a4741bf57a649c9bb87f1cb885fcda3",
       "version_major": 2,
       "version_minor": 0
      },
      "text/plain": [
       "Generating sample 9/16:   0%|          | 0/50 [00:00<?, ?it/s]"
      ]
     },
     "metadata": {},
     "output_type": "display_data"
    },
    {
     "data": {
      "application/vnd.jupyter.widget-view+json": {
       "model_id": "327f41d69a7e4b9e9b28a9e09a2599f2",
       "version_major": 2,
       "version_minor": 0
      },
      "text/plain": [
       "Generating sample 10/16:   0%|          | 0/50 [00:00<?, ?it/s]"
      ]
     },
     "metadata": {},
     "output_type": "display_data"
    },
    {
     "data": {
      "application/vnd.jupyter.widget-view+json": {
       "model_id": "7d5805cba93145309a61b44a3ae8d7ec",
       "version_major": 2,
       "version_minor": 0
      },
      "text/plain": [
       "Generating sample 11/16:   0%|          | 0/50 [00:00<?, ?it/s]"
      ]
     },
     "metadata": {},
     "output_type": "display_data"
    },
    {
     "data": {
      "application/vnd.jupyter.widget-view+json": {
       "model_id": "c50f3c2e27724c8c9bb2695e12c19ff1",
       "version_major": 2,
       "version_minor": 0
      },
      "text/plain": [
       "Generating sample 12/16:   0%|          | 0/50 [00:00<?, ?it/s]"
      ]
     },
     "metadata": {},
     "output_type": "display_data"
    },
    {
     "data": {
      "application/vnd.jupyter.widget-view+json": {
       "model_id": "18759ba43b7e4d29899c3cc4ad676bfc",
       "version_major": 2,
       "version_minor": 0
      },
      "text/plain": [
       "Generating sample 13/16:   0%|          | 0/50 [00:00<?, ?it/s]"
      ]
     },
     "metadata": {},
     "output_type": "display_data"
    },
    {
     "data": {
      "application/vnd.jupyter.widget-view+json": {
       "model_id": "0b5f87473a224642894279be6d24df85",
       "version_major": 2,
       "version_minor": 0
      },
      "text/plain": [
       "Generating sample 14/16:   0%|          | 0/50 [00:00<?, ?it/s]"
      ]
     },
     "metadata": {},
     "output_type": "display_data"
    },
    {
     "data": {
      "application/vnd.jupyter.widget-view+json": {
       "model_id": "0498589f76c04e18a492c7df8a5aa17b",
       "version_major": 2,
       "version_minor": 0
      },
      "text/plain": [
       "Generating sample 15/16:   0%|          | 0/50 [00:00<?, ?it/s]"
      ]
     },
     "metadata": {},
     "output_type": "display_data"
    },
    {
     "data": {
      "application/vnd.jupyter.widget-view+json": {
       "model_id": "6789dd755b6b4205b8c5465901b8ae40",
       "version_major": 2,
       "version_minor": 0
      },
      "text/plain": [
       "Generating sample 16/16:   0%|          | 0/50 [00:00<?, ?it/s]"
      ]
     },
     "metadata": {},
     "output_type": "display_data"
    },
    {
     "name": "stdout",
     "output_type": "stream",
     "text": [
      "Saved sample grid to output/samples/samples_epoch_8.png\n"
     ]
    },
    {
     "data": {
      "application/vnd.jupyter.widget-view+json": {
       "model_id": "a187997fea9647a7a58ab40eec7c973c",
       "version_major": 2,
       "version_minor": 0
      },
      "text/plain": [
       "  0%|          | 0/12078 [00:00<?, ?it/s]"
      ]
     },
     "metadata": {},
     "output_type": "display_data"
    },
    {
     "name": "stdout",
     "output_type": "stream",
     "text": [
      "Epoch 9/20 - Avg loss: 0.083919, Avg PSNR: 25.54\n",
      "Saving model to output/best/best_model.safetensors\n",
      "New best model with loss: 0.083919\n",
      "Saving model to output/checkpoints/epoch_9_model.safetensors\n",
      "Generating validation samples for epoch 9...\n"
     ]
    },
    {
     "data": {
      "application/vnd.jupyter.widget-view+json": {
       "model_id": "959e92eb2d5d4533a3cdc59c991a58e0",
       "version_major": 2,
       "version_minor": 0
      },
      "text/plain": [
       "Generating sample 1/16:   0%|          | 0/50 [00:00<?, ?it/s]"
      ]
     },
     "metadata": {},
     "output_type": "display_data"
    },
    {
     "data": {
      "application/vnd.jupyter.widget-view+json": {
       "model_id": "fb453b01491740d6b5191567f411821a",
       "version_major": 2,
       "version_minor": 0
      },
      "text/plain": [
       "Generating sample 2/16:   0%|          | 0/50 [00:00<?, ?it/s]"
      ]
     },
     "metadata": {},
     "output_type": "display_data"
    },
    {
     "data": {
      "application/vnd.jupyter.widget-view+json": {
       "model_id": "4460ae7b41894e86b2c6b460779ccfbf",
       "version_major": 2,
       "version_minor": 0
      },
      "text/plain": [
       "Generating sample 3/16:   0%|          | 0/50 [00:00<?, ?it/s]"
      ]
     },
     "metadata": {},
     "output_type": "display_data"
    },
    {
     "data": {
      "application/vnd.jupyter.widget-view+json": {
       "model_id": "bac0e16711ca40009076cfab3eca456b",
       "version_major": 2,
       "version_minor": 0
      },
      "text/plain": [
       "Generating sample 4/16:   0%|          | 0/50 [00:00<?, ?it/s]"
      ]
     },
     "metadata": {},
     "output_type": "display_data"
    },
    {
     "data": {
      "application/vnd.jupyter.widget-view+json": {
       "model_id": "7b7db38b67da4d9f9c05cdf9c8de1c1c",
       "version_major": 2,
       "version_minor": 0
      },
      "text/plain": [
       "Generating sample 5/16:   0%|          | 0/50 [00:00<?, ?it/s]"
      ]
     },
     "metadata": {},
     "output_type": "display_data"
    },
    {
     "data": {
      "application/vnd.jupyter.widget-view+json": {
       "model_id": "a9b590349c414c56a5af3a6e499aadd8",
       "version_major": 2,
       "version_minor": 0
      },
      "text/plain": [
       "Generating sample 6/16:   0%|          | 0/50 [00:00<?, ?it/s]"
      ]
     },
     "metadata": {},
     "output_type": "display_data"
    },
    {
     "data": {
      "application/vnd.jupyter.widget-view+json": {
       "model_id": "4f5e0b281ca649c0b3bad8b763f826d5",
       "version_major": 2,
       "version_minor": 0
      },
      "text/plain": [
       "Generating sample 7/16:   0%|          | 0/50 [00:00<?, ?it/s]"
      ]
     },
     "metadata": {},
     "output_type": "display_data"
    },
    {
     "data": {
      "application/vnd.jupyter.widget-view+json": {
       "model_id": "a0e0d646424142b0a50e5c1d4a3c8af0",
       "version_major": 2,
       "version_minor": 0
      },
      "text/plain": [
       "Generating sample 8/16:   0%|          | 0/50 [00:00<?, ?it/s]"
      ]
     },
     "metadata": {},
     "output_type": "display_data"
    },
    {
     "data": {
      "application/vnd.jupyter.widget-view+json": {
       "model_id": "b04297778a5e4c98b2d1ea34a582f87f",
       "version_major": 2,
       "version_minor": 0
      },
      "text/plain": [
       "Generating sample 9/16:   0%|          | 0/50 [00:00<?, ?it/s]"
      ]
     },
     "metadata": {},
     "output_type": "display_data"
    },
    {
     "data": {
      "application/vnd.jupyter.widget-view+json": {
       "model_id": "9aed1e64c77d48b39a782cf1a6f0ef5e",
       "version_major": 2,
       "version_minor": 0
      },
      "text/plain": [
       "Generating sample 10/16:   0%|          | 0/50 [00:00<?, ?it/s]"
      ]
     },
     "metadata": {},
     "output_type": "display_data"
    },
    {
     "data": {
      "application/vnd.jupyter.widget-view+json": {
       "model_id": "a724ea3a11b844778d18df95df772b9e",
       "version_major": 2,
       "version_minor": 0
      },
      "text/plain": [
       "Generating sample 11/16:   0%|          | 0/50 [00:00<?, ?it/s]"
      ]
     },
     "metadata": {},
     "output_type": "display_data"
    },
    {
     "data": {
      "application/vnd.jupyter.widget-view+json": {
       "model_id": "04bb89c60f3c40ac8fdcdb1d2558b3c7",
       "version_major": 2,
       "version_minor": 0
      },
      "text/plain": [
       "Generating sample 12/16:   0%|          | 0/50 [00:00<?, ?it/s]"
      ]
     },
     "metadata": {},
     "output_type": "display_data"
    },
    {
     "data": {
      "application/vnd.jupyter.widget-view+json": {
       "model_id": "ca5dd52448b54048bedd5daa6c167881",
       "version_major": 2,
       "version_minor": 0
      },
      "text/plain": [
       "Generating sample 13/16:   0%|          | 0/50 [00:00<?, ?it/s]"
      ]
     },
     "metadata": {},
     "output_type": "display_data"
    },
    {
     "data": {
      "application/vnd.jupyter.widget-view+json": {
       "model_id": "c831f10698af41a29fe79977cdf28d37",
       "version_major": 2,
       "version_minor": 0
      },
      "text/plain": [
       "Generating sample 14/16:   0%|          | 0/50 [00:00<?, ?it/s]"
      ]
     },
     "metadata": {},
     "output_type": "display_data"
    },
    {
     "data": {
      "application/vnd.jupyter.widget-view+json": {
       "model_id": "3e4089389c8d492889cdbeb019a3240c",
       "version_major": 2,
       "version_minor": 0
      },
      "text/plain": [
       "Generating sample 15/16:   0%|          | 0/50 [00:00<?, ?it/s]"
      ]
     },
     "metadata": {},
     "output_type": "display_data"
    },
    {
     "data": {
      "application/vnd.jupyter.widget-view+json": {
       "model_id": "78d5f3c260824eecb0bbf05345021c01",
       "version_major": 2,
       "version_minor": 0
      },
      "text/plain": [
       "Generating sample 16/16:   0%|          | 0/50 [00:00<?, ?it/s]"
      ]
     },
     "metadata": {},
     "output_type": "display_data"
    },
    {
     "name": "stdout",
     "output_type": "stream",
     "text": [
      "Saved sample grid to output/samples/samples_epoch_9.png\n"
     ]
    },
    {
     "data": {
      "application/vnd.jupyter.widget-view+json": {
       "model_id": "73c9357bcc584ca9967f29d7d9af11f1",
       "version_major": 2,
       "version_minor": 0
      },
      "text/plain": [
       "  0%|          | 0/12078 [00:00<?, ?it/s]"
      ]
     },
     "metadata": {},
     "output_type": "display_data"
    },
    {
     "name": "stdout",
     "output_type": "stream",
     "text": [
      "Epoch 10/20 - Avg loss: 0.082963, Avg PSNR: 25.62\n",
      "Saving model to output/best/best_model.safetensors\n",
      "New best model with loss: 0.082963\n",
      "Saving model to output/checkpoints/epoch_10_model.safetensors\n",
      "Generating validation samples for epoch 10...\n"
     ]
    },
    {
     "data": {
      "application/vnd.jupyter.widget-view+json": {
       "model_id": "e0d5d8a16c5c472995d6d842abb43a6c",
       "version_major": 2,
       "version_minor": 0
      },
      "text/plain": [
       "Generating sample 1/16:   0%|          | 0/50 [00:00<?, ?it/s]"
      ]
     },
     "metadata": {},
     "output_type": "display_data"
    },
    {
     "data": {
      "application/vnd.jupyter.widget-view+json": {
       "model_id": "0034719921c9469fa2b8006e70a16d99",
       "version_major": 2,
       "version_minor": 0
      },
      "text/plain": [
       "Generating sample 2/16:   0%|          | 0/50 [00:00<?, ?it/s]"
      ]
     },
     "metadata": {},
     "output_type": "display_data"
    },
    {
     "data": {
      "application/vnd.jupyter.widget-view+json": {
       "model_id": "2926d0362afc4b67a9b7736bf91fdc3d",
       "version_major": 2,
       "version_minor": 0
      },
      "text/plain": [
       "Generating sample 3/16:   0%|          | 0/50 [00:00<?, ?it/s]"
      ]
     },
     "metadata": {},
     "output_type": "display_data"
    },
    {
     "data": {
      "application/vnd.jupyter.widget-view+json": {
       "model_id": "faa5446b4c404f4d85469e7174590718",
       "version_major": 2,
       "version_minor": 0
      },
      "text/plain": [
       "Generating sample 4/16:   0%|          | 0/50 [00:00<?, ?it/s]"
      ]
     },
     "metadata": {},
     "output_type": "display_data"
    },
    {
     "data": {
      "application/vnd.jupyter.widget-view+json": {
       "model_id": "284e52ebc59c4b0b8835214c03dcd0cc",
       "version_major": 2,
       "version_minor": 0
      },
      "text/plain": [
       "Generating sample 5/16:   0%|          | 0/50 [00:00<?, ?it/s]"
      ]
     },
     "metadata": {},
     "output_type": "display_data"
    },
    {
     "data": {
      "application/vnd.jupyter.widget-view+json": {
       "model_id": "f926f298e13f453192f4baf3b7a4f4ae",
       "version_major": 2,
       "version_minor": 0
      },
      "text/plain": [
       "Generating sample 6/16:   0%|          | 0/50 [00:00<?, ?it/s]"
      ]
     },
     "metadata": {},
     "output_type": "display_data"
    },
    {
     "data": {
      "application/vnd.jupyter.widget-view+json": {
       "model_id": "d910f675adca45e88192dc62acfe390a",
       "version_major": 2,
       "version_minor": 0
      },
      "text/plain": [
       "Generating sample 7/16:   0%|          | 0/50 [00:00<?, ?it/s]"
      ]
     },
     "metadata": {},
     "output_type": "display_data"
    },
    {
     "data": {
      "application/vnd.jupyter.widget-view+json": {
       "model_id": "93785dafe36e4248897e822e194fbdf1",
       "version_major": 2,
       "version_minor": 0
      },
      "text/plain": [
       "Generating sample 8/16:   0%|          | 0/50 [00:00<?, ?it/s]"
      ]
     },
     "metadata": {},
     "output_type": "display_data"
    },
    {
     "data": {
      "application/vnd.jupyter.widget-view+json": {
       "model_id": "697d49e7a6a541aca16eb96850a65a88",
       "version_major": 2,
       "version_minor": 0
      },
      "text/plain": [
       "Generating sample 9/16:   0%|          | 0/50 [00:00<?, ?it/s]"
      ]
     },
     "metadata": {},
     "output_type": "display_data"
    },
    {
     "data": {
      "application/vnd.jupyter.widget-view+json": {
       "model_id": "d525e813ad9d4319b0b69aa37937fdb1",
       "version_major": 2,
       "version_minor": 0
      },
      "text/plain": [
       "Generating sample 10/16:   0%|          | 0/50 [00:00<?, ?it/s]"
      ]
     },
     "metadata": {},
     "output_type": "display_data"
    },
    {
     "data": {
      "application/vnd.jupyter.widget-view+json": {
       "model_id": "c4b6ddc908d7471cbe2cc8fd32a97947",
       "version_major": 2,
       "version_minor": 0
      },
      "text/plain": [
       "Generating sample 11/16:   0%|          | 0/50 [00:00<?, ?it/s]"
      ]
     },
     "metadata": {},
     "output_type": "display_data"
    },
    {
     "data": {
      "application/vnd.jupyter.widget-view+json": {
       "model_id": "6169346fd24f4a28bfa5fbbdc894ee8b",
       "version_major": 2,
       "version_minor": 0
      },
      "text/plain": [
       "Generating sample 12/16:   0%|          | 0/50 [00:00<?, ?it/s]"
      ]
     },
     "metadata": {},
     "output_type": "display_data"
    },
    {
     "data": {
      "application/vnd.jupyter.widget-view+json": {
       "model_id": "1d7aea1024144effb5a0691539ded358",
       "version_major": 2,
       "version_minor": 0
      },
      "text/plain": [
       "Generating sample 13/16:   0%|          | 0/50 [00:00<?, ?it/s]"
      ]
     },
     "metadata": {},
     "output_type": "display_data"
    },
    {
     "data": {
      "application/vnd.jupyter.widget-view+json": {
       "model_id": "9cdb2bc4432c4297bffba7de1879baab",
       "version_major": 2,
       "version_minor": 0
      },
      "text/plain": [
       "Generating sample 14/16:   0%|          | 0/50 [00:00<?, ?it/s]"
      ]
     },
     "metadata": {},
     "output_type": "display_data"
    },
    {
     "data": {
      "application/vnd.jupyter.widget-view+json": {
       "model_id": "694323d034f14082843a422b2a004345",
       "version_major": 2,
       "version_minor": 0
      },
      "text/plain": [
       "Generating sample 15/16:   0%|          | 0/50 [00:00<?, ?it/s]"
      ]
     },
     "metadata": {},
     "output_type": "display_data"
    },
    {
     "data": {
      "application/vnd.jupyter.widget-view+json": {
       "model_id": "667e908dc63a41659649a37d0d5b031c",
       "version_major": 2,
       "version_minor": 0
      },
      "text/plain": [
       "Generating sample 16/16:   0%|          | 0/50 [00:00<?, ?it/s]"
      ]
     },
     "metadata": {},
     "output_type": "display_data"
    },
    {
     "name": "stdout",
     "output_type": "stream",
     "text": [
      "Saved sample grid to output/samples/samples_epoch_10.png\n"
     ]
    },
    {
     "data": {
      "application/vnd.jupyter.widget-view+json": {
       "model_id": "16296072c7024b8599a8400d13d7d819",
       "version_major": 2,
       "version_minor": 0
      },
      "text/plain": [
       "  0%|          | 0/12078 [00:00<?, ?it/s]"
      ]
     },
     "metadata": {},
     "output_type": "display_data"
    },
    {
     "name": "stdout",
     "output_type": "stream",
     "text": [
      "Epoch 11/20 - Avg loss: 0.083389, Avg PSNR: 25.59\n",
      "No improvement. Early stopping counter: 1/5\n",
      "Saving model to output/checkpoints/epoch_11_model.safetensors\n",
      "Generating validation samples for epoch 11...\n"
     ]
    },
    {
     "data": {
      "application/vnd.jupyter.widget-view+json": {
       "model_id": "926e28b1f93742589960b3f1e7bd319e",
       "version_major": 2,
       "version_minor": 0
      },
      "text/plain": [
       "Generating sample 1/16:   0%|          | 0/50 [00:00<?, ?it/s]"
      ]
     },
     "metadata": {},
     "output_type": "display_data"
    },
    {
     "data": {
      "application/vnd.jupyter.widget-view+json": {
       "model_id": "4400de29ac7a443e9984ae3207339dcf",
       "version_major": 2,
       "version_minor": 0
      },
      "text/plain": [
       "Generating sample 2/16:   0%|          | 0/50 [00:00<?, ?it/s]"
      ]
     },
     "metadata": {},
     "output_type": "display_data"
    },
    {
     "data": {
      "application/vnd.jupyter.widget-view+json": {
       "model_id": "056905c411a74a889676765bfd51a5aa",
       "version_major": 2,
       "version_minor": 0
      },
      "text/plain": [
       "Generating sample 3/16:   0%|          | 0/50 [00:00<?, ?it/s]"
      ]
     },
     "metadata": {},
     "output_type": "display_data"
    },
    {
     "data": {
      "application/vnd.jupyter.widget-view+json": {
       "model_id": "1bfe3794e6d9426ea1c589751b50e6a3",
       "version_major": 2,
       "version_minor": 0
      },
      "text/plain": [
       "Generating sample 4/16:   0%|          | 0/50 [00:00<?, ?it/s]"
      ]
     },
     "metadata": {},
     "output_type": "display_data"
    },
    {
     "data": {
      "application/vnd.jupyter.widget-view+json": {
       "model_id": "7b7dc3786e7e4f66a2b81d226996ccc5",
       "version_major": 2,
       "version_minor": 0
      },
      "text/plain": [
       "Generating sample 5/16:   0%|          | 0/50 [00:00<?, ?it/s]"
      ]
     },
     "metadata": {},
     "output_type": "display_data"
    },
    {
     "data": {
      "application/vnd.jupyter.widget-view+json": {
       "model_id": "e76b42b4dc18450386dccf98838332cd",
       "version_major": 2,
       "version_minor": 0
      },
      "text/plain": [
       "Generating sample 6/16:   0%|          | 0/50 [00:00<?, ?it/s]"
      ]
     },
     "metadata": {},
     "output_type": "display_data"
    },
    {
     "data": {
      "application/vnd.jupyter.widget-view+json": {
       "model_id": "e52c5a3df27f464a992955dbb21e0061",
       "version_major": 2,
       "version_minor": 0
      },
      "text/plain": [
       "Generating sample 7/16:   0%|          | 0/50 [00:00<?, ?it/s]"
      ]
     },
     "metadata": {},
     "output_type": "display_data"
    },
    {
     "data": {
      "application/vnd.jupyter.widget-view+json": {
       "model_id": "3592f7258203463e976c894d9d3e61ce",
       "version_major": 2,
       "version_minor": 0
      },
      "text/plain": [
       "Generating sample 8/16:   0%|          | 0/50 [00:00<?, ?it/s]"
      ]
     },
     "metadata": {},
     "output_type": "display_data"
    },
    {
     "data": {
      "application/vnd.jupyter.widget-view+json": {
       "model_id": "f9d710417b4f48de9271988060954085",
       "version_major": 2,
       "version_minor": 0
      },
      "text/plain": [
       "Generating sample 9/16:   0%|          | 0/50 [00:00<?, ?it/s]"
      ]
     },
     "metadata": {},
     "output_type": "display_data"
    },
    {
     "data": {
      "application/vnd.jupyter.widget-view+json": {
       "model_id": "e945c80ff0d948aea45651982d72991c",
       "version_major": 2,
       "version_minor": 0
      },
      "text/plain": [
       "Generating sample 10/16:   0%|          | 0/50 [00:00<?, ?it/s]"
      ]
     },
     "metadata": {},
     "output_type": "display_data"
    },
    {
     "data": {
      "application/vnd.jupyter.widget-view+json": {
       "model_id": "91992831af0c4d068b58857d8c32bb3e",
       "version_major": 2,
       "version_minor": 0
      },
      "text/plain": [
       "Generating sample 11/16:   0%|          | 0/50 [00:00<?, ?it/s]"
      ]
     },
     "metadata": {},
     "output_type": "display_data"
    },
    {
     "data": {
      "application/vnd.jupyter.widget-view+json": {
       "model_id": "de3f695950a746e3b4cad585f0b5c275",
       "version_major": 2,
       "version_minor": 0
      },
      "text/plain": [
       "Generating sample 12/16:   0%|          | 0/50 [00:00<?, ?it/s]"
      ]
     },
     "metadata": {},
     "output_type": "display_data"
    },
    {
     "data": {
      "application/vnd.jupyter.widget-view+json": {
       "model_id": "b14164644a5a4640bff792e88d6f259f",
       "version_major": 2,
       "version_minor": 0
      },
      "text/plain": [
       "Generating sample 13/16:   0%|          | 0/50 [00:00<?, ?it/s]"
      ]
     },
     "metadata": {},
     "output_type": "display_data"
    },
    {
     "data": {
      "application/vnd.jupyter.widget-view+json": {
       "model_id": "d31e5db4eea34244a39cbe2bf1599a08",
       "version_major": 2,
       "version_minor": 0
      },
      "text/plain": [
       "Generating sample 14/16:   0%|          | 0/50 [00:00<?, ?it/s]"
      ]
     },
     "metadata": {},
     "output_type": "display_data"
    },
    {
     "data": {
      "application/vnd.jupyter.widget-view+json": {
       "model_id": "35b5534223c342329bf0bdd7cf707af1",
       "version_major": 2,
       "version_minor": 0
      },
      "text/plain": [
       "Generating sample 15/16:   0%|          | 0/50 [00:00<?, ?it/s]"
      ]
     },
     "metadata": {},
     "output_type": "display_data"
    },
    {
     "data": {
      "application/vnd.jupyter.widget-view+json": {
       "model_id": "a40cfc16748640d7ac2d7db196648de5",
       "version_major": 2,
       "version_minor": 0
      },
      "text/plain": [
       "Generating sample 16/16:   0%|          | 0/50 [00:00<?, ?it/s]"
      ]
     },
     "metadata": {},
     "output_type": "display_data"
    },
    {
     "name": "stdout",
     "output_type": "stream",
     "text": [
      "Saved sample grid to output/samples/samples_epoch_11.png\n"
     ]
    },
    {
     "data": {
      "application/vnd.jupyter.widget-view+json": {
       "model_id": "c329949b2b274516835506f2ce361cca",
       "version_major": 2,
       "version_minor": 0
      },
      "text/plain": [
       "  0%|          | 0/12078 [00:00<?, ?it/s]"
      ]
     },
     "metadata": {},
     "output_type": "display_data"
    },
    {
     "name": "stdout",
     "output_type": "stream",
     "text": [
      "Epoch 12/20 - Avg loss: 0.082009, Avg PSNR: 25.73\n",
      "Saving model to output/best/best_model.safetensors\n",
      "New best model with loss: 0.082009\n",
      "Saving model to output/checkpoints/epoch_12_model.safetensors\n",
      "Generating validation samples for epoch 12...\n"
     ]
    },
    {
     "data": {
      "application/vnd.jupyter.widget-view+json": {
       "model_id": "455f5e774f6a4af9a3cc1de631c916e1",
       "version_major": 2,
       "version_minor": 0
      },
      "text/plain": [
       "Generating sample 1/16:   0%|          | 0/50 [00:00<?, ?it/s]"
      ]
     },
     "metadata": {},
     "output_type": "display_data"
    },
    {
     "data": {
      "application/vnd.jupyter.widget-view+json": {
       "model_id": "6571dcc642144bc9bb2e11e7e9508c83",
       "version_major": 2,
       "version_minor": 0
      },
      "text/plain": [
       "Generating sample 2/16:   0%|          | 0/50 [00:00<?, ?it/s]"
      ]
     },
     "metadata": {},
     "output_type": "display_data"
    },
    {
     "data": {
      "application/vnd.jupyter.widget-view+json": {
       "model_id": "31f6a193045d4122b4ae682aa6876278",
       "version_major": 2,
       "version_minor": 0
      },
      "text/plain": [
       "Generating sample 3/16:   0%|          | 0/50 [00:00<?, ?it/s]"
      ]
     },
     "metadata": {},
     "output_type": "display_data"
    },
    {
     "data": {
      "application/vnd.jupyter.widget-view+json": {
       "model_id": "a4447a59f4e74833a6e447de25d0a155",
       "version_major": 2,
       "version_minor": 0
      },
      "text/plain": [
       "Generating sample 4/16:   0%|          | 0/50 [00:00<?, ?it/s]"
      ]
     },
     "metadata": {},
     "output_type": "display_data"
    },
    {
     "data": {
      "application/vnd.jupyter.widget-view+json": {
       "model_id": "9aa3e735e28149e3af9ffa122e71f269",
       "version_major": 2,
       "version_minor": 0
      },
      "text/plain": [
       "Generating sample 5/16:   0%|          | 0/50 [00:00<?, ?it/s]"
      ]
     },
     "metadata": {},
     "output_type": "display_data"
    },
    {
     "data": {
      "application/vnd.jupyter.widget-view+json": {
       "model_id": "1878e30da0264873b273ab11d8d15593",
       "version_major": 2,
       "version_minor": 0
      },
      "text/plain": [
       "Generating sample 6/16:   0%|          | 0/50 [00:00<?, ?it/s]"
      ]
     },
     "metadata": {},
     "output_type": "display_data"
    },
    {
     "data": {
      "application/vnd.jupyter.widget-view+json": {
       "model_id": "ba99bee8255c49c9b7eb11f237ba3a03",
       "version_major": 2,
       "version_minor": 0
      },
      "text/plain": [
       "Generating sample 7/16:   0%|          | 0/50 [00:00<?, ?it/s]"
      ]
     },
     "metadata": {},
     "output_type": "display_data"
    },
    {
     "data": {
      "application/vnd.jupyter.widget-view+json": {
       "model_id": "0cd2baa3a5b844e997f3a99451d2164e",
       "version_major": 2,
       "version_minor": 0
      },
      "text/plain": [
       "Generating sample 8/16:   0%|          | 0/50 [00:00<?, ?it/s]"
      ]
     },
     "metadata": {},
     "output_type": "display_data"
    },
    {
     "data": {
      "application/vnd.jupyter.widget-view+json": {
       "model_id": "27c17450b16245519e0c16327c6c8c13",
       "version_major": 2,
       "version_minor": 0
      },
      "text/plain": [
       "Generating sample 9/16:   0%|          | 0/50 [00:00<?, ?it/s]"
      ]
     },
     "metadata": {},
     "output_type": "display_data"
    },
    {
     "data": {
      "application/vnd.jupyter.widget-view+json": {
       "model_id": "30b248e30ee4437ba76be9789c6b01b0",
       "version_major": 2,
       "version_minor": 0
      },
      "text/plain": [
       "Generating sample 10/16:   0%|          | 0/50 [00:00<?, ?it/s]"
      ]
     },
     "metadata": {},
     "output_type": "display_data"
    },
    {
     "data": {
      "application/vnd.jupyter.widget-view+json": {
       "model_id": "07308d8e7439463290ba2d9767729185",
       "version_major": 2,
       "version_minor": 0
      },
      "text/plain": [
       "Generating sample 11/16:   0%|          | 0/50 [00:00<?, ?it/s]"
      ]
     },
     "metadata": {},
     "output_type": "display_data"
    },
    {
     "data": {
      "application/vnd.jupyter.widget-view+json": {
       "model_id": "45ee64c373264af68509f188732a3fbf",
       "version_major": 2,
       "version_minor": 0
      },
      "text/plain": [
       "Generating sample 12/16:   0%|          | 0/50 [00:00<?, ?it/s]"
      ]
     },
     "metadata": {},
     "output_type": "display_data"
    },
    {
     "data": {
      "application/vnd.jupyter.widget-view+json": {
       "model_id": "956b95e6d392473d87a1ead12ac69d87",
       "version_major": 2,
       "version_minor": 0
      },
      "text/plain": [
       "Generating sample 13/16:   0%|          | 0/50 [00:00<?, ?it/s]"
      ]
     },
     "metadata": {},
     "output_type": "display_data"
    },
    {
     "data": {
      "application/vnd.jupyter.widget-view+json": {
       "model_id": "5a3bbfabe1fa4654b67323338a1a50d6",
       "version_major": 2,
       "version_minor": 0
      },
      "text/plain": [
       "Generating sample 14/16:   0%|          | 0/50 [00:00<?, ?it/s]"
      ]
     },
     "metadata": {},
     "output_type": "display_data"
    },
    {
     "data": {
      "application/vnd.jupyter.widget-view+json": {
       "model_id": "8e9ef8a73d724e31b30b75686c8a8213",
       "version_major": 2,
       "version_minor": 0
      },
      "text/plain": [
       "Generating sample 15/16:   0%|          | 0/50 [00:00<?, ?it/s]"
      ]
     },
     "metadata": {},
     "output_type": "display_data"
    },
    {
     "data": {
      "application/vnd.jupyter.widget-view+json": {
       "model_id": "5b1d2746b82d49c28d498f332c4f5fb0",
       "version_major": 2,
       "version_minor": 0
      },
      "text/plain": [
       "Generating sample 16/16:   0%|          | 0/50 [00:00<?, ?it/s]"
      ]
     },
     "metadata": {},
     "output_type": "display_data"
    },
    {
     "name": "stdout",
     "output_type": "stream",
     "text": [
      "Saved sample grid to output/samples/samples_epoch_12.png\n"
     ]
    },
    {
     "data": {
      "application/vnd.jupyter.widget-view+json": {
       "model_id": "6b3f54d4b77943128b75503fba44d922",
       "version_major": 2,
       "version_minor": 0
      },
      "text/plain": [
       "  0%|          | 0/12078 [00:00<?, ?it/s]"
      ]
     },
     "metadata": {},
     "output_type": "display_data"
    },
    {
     "name": "stdout",
     "output_type": "stream",
     "text": [
      "Epoch 13/20 - Avg loss: 0.081481, Avg PSNR: 25.70\n",
      "Saving model to output/best/best_model.safetensors\n",
      "New best model with loss: 0.081481\n",
      "Saving model to output/checkpoints/epoch_13_model.safetensors\n",
      "Generating validation samples for epoch 13...\n"
     ]
    },
    {
     "data": {
      "application/vnd.jupyter.widget-view+json": {
       "model_id": "6b01df9388f245d4bb1fed7cc214ca78",
       "version_major": 2,
       "version_minor": 0
      },
      "text/plain": [
       "Generating sample 1/16:   0%|          | 0/50 [00:00<?, ?it/s]"
      ]
     },
     "metadata": {},
     "output_type": "display_data"
    },
    {
     "data": {
      "application/vnd.jupyter.widget-view+json": {
       "model_id": "5171f8e723dc46aaa7ae42d4407f9b38",
       "version_major": 2,
       "version_minor": 0
      },
      "text/plain": [
       "Generating sample 2/16:   0%|          | 0/50 [00:00<?, ?it/s]"
      ]
     },
     "metadata": {},
     "output_type": "display_data"
    },
    {
     "data": {
      "application/vnd.jupyter.widget-view+json": {
       "model_id": "54979010487846f586b451f54eb097dc",
       "version_major": 2,
       "version_minor": 0
      },
      "text/plain": [
       "Generating sample 3/16:   0%|          | 0/50 [00:00<?, ?it/s]"
      ]
     },
     "metadata": {},
     "output_type": "display_data"
    },
    {
     "data": {
      "application/vnd.jupyter.widget-view+json": {
       "model_id": "055a13ca083e4b6ca3f5ef3bcbfe019d",
       "version_major": 2,
       "version_minor": 0
      },
      "text/plain": [
       "Generating sample 4/16:   0%|          | 0/50 [00:00<?, ?it/s]"
      ]
     },
     "metadata": {},
     "output_type": "display_data"
    },
    {
     "data": {
      "application/vnd.jupyter.widget-view+json": {
       "model_id": "6e1d8748048a403b869eae653f7bb0e1",
       "version_major": 2,
       "version_minor": 0
      },
      "text/plain": [
       "Generating sample 5/16:   0%|          | 0/50 [00:00<?, ?it/s]"
      ]
     },
     "metadata": {},
     "output_type": "display_data"
    },
    {
     "data": {
      "application/vnd.jupyter.widget-view+json": {
       "model_id": "54b5b5e273fb4ecb9a2958b7821837d7",
       "version_major": 2,
       "version_minor": 0
      },
      "text/plain": [
       "Generating sample 6/16:   0%|          | 0/50 [00:00<?, ?it/s]"
      ]
     },
     "metadata": {},
     "output_type": "display_data"
    },
    {
     "data": {
      "application/vnd.jupyter.widget-view+json": {
       "model_id": "e2a3ef424a974811834ec0d94b2ada7d",
       "version_major": 2,
       "version_minor": 0
      },
      "text/plain": [
       "Generating sample 7/16:   0%|          | 0/50 [00:00<?, ?it/s]"
      ]
     },
     "metadata": {},
     "output_type": "display_data"
    },
    {
     "data": {
      "application/vnd.jupyter.widget-view+json": {
       "model_id": "a2c1f8e25e5a42de9f2738d12b57f1da",
       "version_major": 2,
       "version_minor": 0
      },
      "text/plain": [
       "Generating sample 8/16:   0%|          | 0/50 [00:00<?, ?it/s]"
      ]
     },
     "metadata": {},
     "output_type": "display_data"
    },
    {
     "data": {
      "application/vnd.jupyter.widget-view+json": {
       "model_id": "85ecf0b4a7a54a9ead7d923ebab684e9",
       "version_major": 2,
       "version_minor": 0
      },
      "text/plain": [
       "Generating sample 9/16:   0%|          | 0/50 [00:00<?, ?it/s]"
      ]
     },
     "metadata": {},
     "output_type": "display_data"
    },
    {
     "data": {
      "application/vnd.jupyter.widget-view+json": {
       "model_id": "43198ce96248471ca55ad691ede7a8c9",
       "version_major": 2,
       "version_minor": 0
      },
      "text/plain": [
       "Generating sample 10/16:   0%|          | 0/50 [00:00<?, ?it/s]"
      ]
     },
     "metadata": {},
     "output_type": "display_data"
    },
    {
     "data": {
      "application/vnd.jupyter.widget-view+json": {
       "model_id": "450f7ccf86ee4f18a6006011f503f8d3",
       "version_major": 2,
       "version_minor": 0
      },
      "text/plain": [
       "Generating sample 11/16:   0%|          | 0/50 [00:00<?, ?it/s]"
      ]
     },
     "metadata": {},
     "output_type": "display_data"
    },
    {
     "data": {
      "application/vnd.jupyter.widget-view+json": {
       "model_id": "9f0de749032945fc9d902619ed54d1a6",
       "version_major": 2,
       "version_minor": 0
      },
      "text/plain": [
       "Generating sample 12/16:   0%|          | 0/50 [00:00<?, ?it/s]"
      ]
     },
     "metadata": {},
     "output_type": "display_data"
    },
    {
     "data": {
      "application/vnd.jupyter.widget-view+json": {
       "model_id": "711df5b68acf4fb2bde9fd450819f2e5",
       "version_major": 2,
       "version_minor": 0
      },
      "text/plain": [
       "Generating sample 13/16:   0%|          | 0/50 [00:00<?, ?it/s]"
      ]
     },
     "metadata": {},
     "output_type": "display_data"
    },
    {
     "data": {
      "application/vnd.jupyter.widget-view+json": {
       "model_id": "d0582a084b3243ef84bded38257eb51d",
       "version_major": 2,
       "version_minor": 0
      },
      "text/plain": [
       "Generating sample 14/16:   0%|          | 0/50 [00:00<?, ?it/s]"
      ]
     },
     "metadata": {},
     "output_type": "display_data"
    },
    {
     "data": {
      "application/vnd.jupyter.widget-view+json": {
       "model_id": "92f80507a53c4bf281984b989d11ec4c",
       "version_major": 2,
       "version_minor": 0
      },
      "text/plain": [
       "Generating sample 15/16:   0%|          | 0/50 [00:00<?, ?it/s]"
      ]
     },
     "metadata": {},
     "output_type": "display_data"
    },
    {
     "data": {
      "application/vnd.jupyter.widget-view+json": {
       "model_id": "4cf4a90ab48d4375b219317f94b1a153",
       "version_major": 2,
       "version_minor": 0
      },
      "text/plain": [
       "Generating sample 16/16:   0%|          | 0/50 [00:00<?, ?it/s]"
      ]
     },
     "metadata": {},
     "output_type": "display_data"
    },
    {
     "name": "stdout",
     "output_type": "stream",
     "text": [
      "Saved sample grid to output/samples/samples_epoch_13.png\n"
     ]
    },
    {
     "data": {
      "application/vnd.jupyter.widget-view+json": {
       "model_id": "c8ffe2bd849e49eea1412dfa9d90dea1",
       "version_major": 2,
       "version_minor": 0
      },
      "text/plain": [
       "  0%|          | 0/12078 [00:00<?, ?it/s]"
      ]
     },
     "metadata": {},
     "output_type": "display_data"
    },
    {
     "name": "stdout",
     "output_type": "stream",
     "text": [
      "Epoch 14/20 - Avg loss: 0.081358, Avg PSNR: 25.75\n",
      "Saving model to output/best/best_model.safetensors\n",
      "New best model with loss: 0.081358\n",
      "Saving model to output/checkpoints/epoch_14_model.safetensors\n",
      "Generating validation samples for epoch 14...\n"
     ]
    },
    {
     "data": {
      "application/vnd.jupyter.widget-view+json": {
       "model_id": "9f6723d0fa8c41338651c6a00d9e5d03",
       "version_major": 2,
       "version_minor": 0
      },
      "text/plain": [
       "Generating sample 1/16:   0%|          | 0/50 [00:00<?, ?it/s]"
      ]
     },
     "metadata": {},
     "output_type": "display_data"
    },
    {
     "data": {
      "application/vnd.jupyter.widget-view+json": {
       "model_id": "fff2eb71329d466dbabd140d12f3e934",
       "version_major": 2,
       "version_minor": 0
      },
      "text/plain": [
       "Generating sample 2/16:   0%|          | 0/50 [00:00<?, ?it/s]"
      ]
     },
     "metadata": {},
     "output_type": "display_data"
    },
    {
     "data": {
      "application/vnd.jupyter.widget-view+json": {
       "model_id": "db3c8d17dc384f15b451f9b044af4c73",
       "version_major": 2,
       "version_minor": 0
      },
      "text/plain": [
       "Generating sample 3/16:   0%|          | 0/50 [00:00<?, ?it/s]"
      ]
     },
     "metadata": {},
     "output_type": "display_data"
    },
    {
     "data": {
      "application/vnd.jupyter.widget-view+json": {
       "model_id": "9bb515637dec404f98aa14a5224d4350",
       "version_major": 2,
       "version_minor": 0
      },
      "text/plain": [
       "Generating sample 4/16:   0%|          | 0/50 [00:00<?, ?it/s]"
      ]
     },
     "metadata": {},
     "output_type": "display_data"
    },
    {
     "data": {
      "application/vnd.jupyter.widget-view+json": {
       "model_id": "3c2ffb85bc614c298cbdec40ade26bd0",
       "version_major": 2,
       "version_minor": 0
      },
      "text/plain": [
       "Generating sample 5/16:   0%|          | 0/50 [00:00<?, ?it/s]"
      ]
     },
     "metadata": {},
     "output_type": "display_data"
    },
    {
     "data": {
      "application/vnd.jupyter.widget-view+json": {
       "model_id": "14ce44a3e46e4554b9daa7282b64d859",
       "version_major": 2,
       "version_minor": 0
      },
      "text/plain": [
       "Generating sample 6/16:   0%|          | 0/50 [00:00<?, ?it/s]"
      ]
     },
     "metadata": {},
     "output_type": "display_data"
    },
    {
     "data": {
      "application/vnd.jupyter.widget-view+json": {
       "model_id": "3e1c50aaf08f4341b8a1489e5d5cb862",
       "version_major": 2,
       "version_minor": 0
      },
      "text/plain": [
       "Generating sample 7/16:   0%|          | 0/50 [00:00<?, ?it/s]"
      ]
     },
     "metadata": {},
     "output_type": "display_data"
    },
    {
     "data": {
      "application/vnd.jupyter.widget-view+json": {
       "model_id": "f4701d399feb4dbe90d2566ac5c9ed5c",
       "version_major": 2,
       "version_minor": 0
      },
      "text/plain": [
       "Generating sample 8/16:   0%|          | 0/50 [00:00<?, ?it/s]"
      ]
     },
     "metadata": {},
     "output_type": "display_data"
    },
    {
     "data": {
      "application/vnd.jupyter.widget-view+json": {
       "model_id": "6d8422bb04d440a49d2712df70ab694f",
       "version_major": 2,
       "version_minor": 0
      },
      "text/plain": [
       "Generating sample 9/16:   0%|          | 0/50 [00:00<?, ?it/s]"
      ]
     },
     "metadata": {},
     "output_type": "display_data"
    },
    {
     "data": {
      "application/vnd.jupyter.widget-view+json": {
       "model_id": "8fcc55908bf44c5ebc7df5fd057d111c",
       "version_major": 2,
       "version_minor": 0
      },
      "text/plain": [
       "Generating sample 10/16:   0%|          | 0/50 [00:00<?, ?it/s]"
      ]
     },
     "metadata": {},
     "output_type": "display_data"
    },
    {
     "data": {
      "application/vnd.jupyter.widget-view+json": {
       "model_id": "629f3196b1b34333a09413cfe2fbcb0b",
       "version_major": 2,
       "version_minor": 0
      },
      "text/plain": [
       "Generating sample 11/16:   0%|          | 0/50 [00:00<?, ?it/s]"
      ]
     },
     "metadata": {},
     "output_type": "display_data"
    },
    {
     "data": {
      "application/vnd.jupyter.widget-view+json": {
       "model_id": "e5242a9e68e9477ebbb51b290a456093",
       "version_major": 2,
       "version_minor": 0
      },
      "text/plain": [
       "Generating sample 12/16:   0%|          | 0/50 [00:00<?, ?it/s]"
      ]
     },
     "metadata": {},
     "output_type": "display_data"
    },
    {
     "data": {
      "application/vnd.jupyter.widget-view+json": {
       "model_id": "5a6b8f6db5164f77aaf6ad91dc51d582",
       "version_major": 2,
       "version_minor": 0
      },
      "text/plain": [
       "Generating sample 13/16:   0%|          | 0/50 [00:00<?, ?it/s]"
      ]
     },
     "metadata": {},
     "output_type": "display_data"
    },
    {
     "data": {
      "application/vnd.jupyter.widget-view+json": {
       "model_id": "8432d8fe78214137b65050d14298747b",
       "version_major": 2,
       "version_minor": 0
      },
      "text/plain": [
       "Generating sample 14/16:   0%|          | 0/50 [00:00<?, ?it/s]"
      ]
     },
     "metadata": {},
     "output_type": "display_data"
    },
    {
     "data": {
      "application/vnd.jupyter.widget-view+json": {
       "model_id": "5a5208f47adf489ca57f1d65e0bb8b23",
       "version_major": 2,
       "version_minor": 0
      },
      "text/plain": [
       "Generating sample 15/16:   0%|          | 0/50 [00:00<?, ?it/s]"
      ]
     },
     "metadata": {},
     "output_type": "display_data"
    },
    {
     "data": {
      "application/vnd.jupyter.widget-view+json": {
       "model_id": "06a3ed4050be4e11b0aadd8bf2c17912",
       "version_major": 2,
       "version_minor": 0
      },
      "text/plain": [
       "Generating sample 16/16:   0%|          | 0/50 [00:00<?, ?it/s]"
      ]
     },
     "metadata": {},
     "output_type": "display_data"
    },
    {
     "name": "stdout",
     "output_type": "stream",
     "text": [
      "Saved sample grid to output/samples/samples_epoch_14.png\n"
     ]
    },
    {
     "data": {
      "application/vnd.jupyter.widget-view+json": {
       "model_id": "0b33714dc78c41bc969c75091e33fda7",
       "version_major": 2,
       "version_minor": 0
      },
      "text/plain": [
       "  0%|          | 0/12078 [00:00<?, ?it/s]"
      ]
     },
     "metadata": {},
     "output_type": "display_data"
    },
    {
     "name": "stdout",
     "output_type": "stream",
     "text": [
      "Epoch 15/20 - Avg loss: 0.081085, Avg PSNR: 25.70\n",
      "Saving model to output/best/best_model.safetensors\n",
      "New best model with loss: 0.081085\n",
      "Saving model to output/checkpoints/epoch_15_model.safetensors\n",
      "Generating validation samples for epoch 15...\n"
     ]
    },
    {
     "data": {
      "application/vnd.jupyter.widget-view+json": {
       "model_id": "d7d2f62a6d96416ca6a6c72d6a07ca47",
       "version_major": 2,
       "version_minor": 0
      },
      "text/plain": [
       "Generating sample 1/16:   0%|          | 0/50 [00:00<?, ?it/s]"
      ]
     },
     "metadata": {},
     "output_type": "display_data"
    },
    {
     "data": {
      "application/vnd.jupyter.widget-view+json": {
       "model_id": "0a723433962f43b0ad5bb3330b274f20",
       "version_major": 2,
       "version_minor": 0
      },
      "text/plain": [
       "Generating sample 2/16:   0%|          | 0/50 [00:00<?, ?it/s]"
      ]
     },
     "metadata": {},
     "output_type": "display_data"
    },
    {
     "data": {
      "application/vnd.jupyter.widget-view+json": {
       "model_id": "a15277ff9512437bad66b7e5ee4af9cd",
       "version_major": 2,
       "version_minor": 0
      },
      "text/plain": [
       "Generating sample 3/16:   0%|          | 0/50 [00:00<?, ?it/s]"
      ]
     },
     "metadata": {},
     "output_type": "display_data"
    },
    {
     "data": {
      "application/vnd.jupyter.widget-view+json": {
       "model_id": "698c8de604354fdcae103f9c1b2e1b7b",
       "version_major": 2,
       "version_minor": 0
      },
      "text/plain": [
       "Generating sample 4/16:   0%|          | 0/50 [00:00<?, ?it/s]"
      ]
     },
     "metadata": {},
     "output_type": "display_data"
    },
    {
     "data": {
      "application/vnd.jupyter.widget-view+json": {
       "model_id": "c3445a1608dc405e94ad9dc7424892c8",
       "version_major": 2,
       "version_minor": 0
      },
      "text/plain": [
       "Generating sample 5/16:   0%|          | 0/50 [00:00<?, ?it/s]"
      ]
     },
     "metadata": {},
     "output_type": "display_data"
    },
    {
     "data": {
      "application/vnd.jupyter.widget-view+json": {
       "model_id": "07c68c2bac0747ba97795f5910551a75",
       "version_major": 2,
       "version_minor": 0
      },
      "text/plain": [
       "Generating sample 6/16:   0%|          | 0/50 [00:00<?, ?it/s]"
      ]
     },
     "metadata": {},
     "output_type": "display_data"
    },
    {
     "data": {
      "application/vnd.jupyter.widget-view+json": {
       "model_id": "581a19112fa445c5962f59c981a4477a",
       "version_major": 2,
       "version_minor": 0
      },
      "text/plain": [
       "Generating sample 7/16:   0%|          | 0/50 [00:00<?, ?it/s]"
      ]
     },
     "metadata": {},
     "output_type": "display_data"
    },
    {
     "data": {
      "application/vnd.jupyter.widget-view+json": {
       "model_id": "fe88034429a84156b25bf944d9b72dcf",
       "version_major": 2,
       "version_minor": 0
      },
      "text/plain": [
       "Generating sample 8/16:   0%|          | 0/50 [00:00<?, ?it/s]"
      ]
     },
     "metadata": {},
     "output_type": "display_data"
    },
    {
     "data": {
      "application/vnd.jupyter.widget-view+json": {
       "model_id": "8dfadc471d464d1f9ec8af299120bf34",
       "version_major": 2,
       "version_minor": 0
      },
      "text/plain": [
       "Generating sample 9/16:   0%|          | 0/50 [00:00<?, ?it/s]"
      ]
     },
     "metadata": {},
     "output_type": "display_data"
    },
    {
     "data": {
      "application/vnd.jupyter.widget-view+json": {
       "model_id": "ada9843805564ba98ea7f98b6fd1e344",
       "version_major": 2,
       "version_minor": 0
      },
      "text/plain": [
       "Generating sample 10/16:   0%|          | 0/50 [00:00<?, ?it/s]"
      ]
     },
     "metadata": {},
     "output_type": "display_data"
    },
    {
     "data": {
      "application/vnd.jupyter.widget-view+json": {
       "model_id": "281b23026cc241059fbdc2ffa47bc586",
       "version_major": 2,
       "version_minor": 0
      },
      "text/plain": [
       "Generating sample 11/16:   0%|          | 0/50 [00:00<?, ?it/s]"
      ]
     },
     "metadata": {},
     "output_type": "display_data"
    },
    {
     "data": {
      "application/vnd.jupyter.widget-view+json": {
       "model_id": "d51e0cc6cfdf403399bfb930cbd6487b",
       "version_major": 2,
       "version_minor": 0
      },
      "text/plain": [
       "Generating sample 12/16:   0%|          | 0/50 [00:00<?, ?it/s]"
      ]
     },
     "metadata": {},
     "output_type": "display_data"
    },
    {
     "data": {
      "application/vnd.jupyter.widget-view+json": {
       "model_id": "6ec73ee2f4e74a36b03f845be03d9c32",
       "version_major": 2,
       "version_minor": 0
      },
      "text/plain": [
       "Generating sample 13/16:   0%|          | 0/50 [00:00<?, ?it/s]"
      ]
     },
     "metadata": {},
     "output_type": "display_data"
    },
    {
     "data": {
      "application/vnd.jupyter.widget-view+json": {
       "model_id": "1d3b370408684341b25b7f96490129fb",
       "version_major": 2,
       "version_minor": 0
      },
      "text/plain": [
       "Generating sample 14/16:   0%|          | 0/50 [00:00<?, ?it/s]"
      ]
     },
     "metadata": {},
     "output_type": "display_data"
    },
    {
     "data": {
      "application/vnd.jupyter.widget-view+json": {
       "model_id": "52333abbd0504b13b9f6d502f639a847",
       "version_major": 2,
       "version_minor": 0
      },
      "text/plain": [
       "Generating sample 15/16:   0%|          | 0/50 [00:00<?, ?it/s]"
      ]
     },
     "metadata": {},
     "output_type": "display_data"
    },
    {
     "data": {
      "application/vnd.jupyter.widget-view+json": {
       "model_id": "a01bc1e71c84463b90e1c8f9b07e470e",
       "version_major": 2,
       "version_minor": 0
      },
      "text/plain": [
       "Generating sample 16/16:   0%|          | 0/50 [00:00<?, ?it/s]"
      ]
     },
     "metadata": {},
     "output_type": "display_data"
    },
    {
     "name": "stdout",
     "output_type": "stream",
     "text": [
      "Saved sample grid to output/samples/samples_epoch_15.png\n"
     ]
    },
    {
     "data": {
      "application/vnd.jupyter.widget-view+json": {
       "model_id": "9faa7f0537f9472cab333a851a0bad7e",
       "version_major": 2,
       "version_minor": 0
      },
      "text/plain": [
       "  0%|          | 0/12078 [00:00<?, ?it/s]"
      ]
     },
     "metadata": {},
     "output_type": "display_data"
    },
    {
     "name": "stdout",
     "output_type": "stream",
     "text": [
      "Epoch 16/20 - Avg loss: 0.081104, Avg PSNR: 25.77\n",
      "No improvement. Early stopping counter: 1/5\n",
      "Saving model to output/checkpoints/epoch_16_model.safetensors\n",
      "Generating validation samples for epoch 16...\n"
     ]
    },
    {
     "data": {
      "application/vnd.jupyter.widget-view+json": {
       "model_id": "9707c2fb9d144a4ab9bfa71e9848b346",
       "version_major": 2,
       "version_minor": 0
      },
      "text/plain": [
       "Generating sample 1/16:   0%|          | 0/50 [00:00<?, ?it/s]"
      ]
     },
     "metadata": {},
     "output_type": "display_data"
    },
    {
     "data": {
      "application/vnd.jupyter.widget-view+json": {
       "model_id": "ca393deaaf394c45b58326e1e471ac3b",
       "version_major": 2,
       "version_minor": 0
      },
      "text/plain": [
       "Generating sample 2/16:   0%|          | 0/50 [00:00<?, ?it/s]"
      ]
     },
     "metadata": {},
     "output_type": "display_data"
    },
    {
     "data": {
      "application/vnd.jupyter.widget-view+json": {
       "model_id": "818d7ab6f0d84831bba0535c6177e721",
       "version_major": 2,
       "version_minor": 0
      },
      "text/plain": [
       "Generating sample 3/16:   0%|          | 0/50 [00:00<?, ?it/s]"
      ]
     },
     "metadata": {},
     "output_type": "display_data"
    },
    {
     "data": {
      "application/vnd.jupyter.widget-view+json": {
       "model_id": "7ef47d37efbc469d98bf3b07c1ffd6cc",
       "version_major": 2,
       "version_minor": 0
      },
      "text/plain": [
       "Generating sample 4/16:   0%|          | 0/50 [00:00<?, ?it/s]"
      ]
     },
     "metadata": {},
     "output_type": "display_data"
    },
    {
     "data": {
      "application/vnd.jupyter.widget-view+json": {
       "model_id": "2208acaa46ef4052b77f34d94c521a72",
       "version_major": 2,
       "version_minor": 0
      },
      "text/plain": [
       "Generating sample 5/16:   0%|          | 0/50 [00:00<?, ?it/s]"
      ]
     },
     "metadata": {},
     "output_type": "display_data"
    },
    {
     "data": {
      "application/vnd.jupyter.widget-view+json": {
       "model_id": "72c5420e62e94072a91d71cfb2a60f0d",
       "version_major": 2,
       "version_minor": 0
      },
      "text/plain": [
       "Generating sample 6/16:   0%|          | 0/50 [00:00<?, ?it/s]"
      ]
     },
     "metadata": {},
     "output_type": "display_data"
    },
    {
     "data": {
      "application/vnd.jupyter.widget-view+json": {
       "model_id": "e7da6146172c414f9152b792e5cb1077",
       "version_major": 2,
       "version_minor": 0
      },
      "text/plain": [
       "Generating sample 7/16:   0%|          | 0/50 [00:00<?, ?it/s]"
      ]
     },
     "metadata": {},
     "output_type": "display_data"
    },
    {
     "data": {
      "application/vnd.jupyter.widget-view+json": {
       "model_id": "3eae1f9602234f4cadfc03ef7a21a88b",
       "version_major": 2,
       "version_minor": 0
      },
      "text/plain": [
       "Generating sample 8/16:   0%|          | 0/50 [00:00<?, ?it/s]"
      ]
     },
     "metadata": {},
     "output_type": "display_data"
    },
    {
     "data": {
      "application/vnd.jupyter.widget-view+json": {
       "model_id": "55ed07b5cced4c02b23a80df95a1c706",
       "version_major": 2,
       "version_minor": 0
      },
      "text/plain": [
       "Generating sample 9/16:   0%|          | 0/50 [00:00<?, ?it/s]"
      ]
     },
     "metadata": {},
     "output_type": "display_data"
    },
    {
     "data": {
      "application/vnd.jupyter.widget-view+json": {
       "model_id": "e06ae16b263f4bb3aa3d9a116655b7a9",
       "version_major": 2,
       "version_minor": 0
      },
      "text/plain": [
       "Generating sample 10/16:   0%|          | 0/50 [00:00<?, ?it/s]"
      ]
     },
     "metadata": {},
     "output_type": "display_data"
    },
    {
     "data": {
      "application/vnd.jupyter.widget-view+json": {
       "model_id": "778c050aac904bad82d66fc7dee1f3bd",
       "version_major": 2,
       "version_minor": 0
      },
      "text/plain": [
       "Generating sample 11/16:   0%|          | 0/50 [00:00<?, ?it/s]"
      ]
     },
     "metadata": {},
     "output_type": "display_data"
    },
    {
     "data": {
      "application/vnd.jupyter.widget-view+json": {
       "model_id": "5d618624b33b4da9bf5411a77ac40337",
       "version_major": 2,
       "version_minor": 0
      },
      "text/plain": [
       "Generating sample 12/16:   0%|          | 0/50 [00:00<?, ?it/s]"
      ]
     },
     "metadata": {},
     "output_type": "display_data"
    },
    {
     "data": {
      "application/vnd.jupyter.widget-view+json": {
       "model_id": "5d4523af2f8e4eee964e9876be34bea0",
       "version_major": 2,
       "version_minor": 0
      },
      "text/plain": [
       "Generating sample 13/16:   0%|          | 0/50 [00:00<?, ?it/s]"
      ]
     },
     "metadata": {},
     "output_type": "display_data"
    },
    {
     "data": {
      "application/vnd.jupyter.widget-view+json": {
       "model_id": "c731f7f314db4b7f899907f38a6350f4",
       "version_major": 2,
       "version_minor": 0
      },
      "text/plain": [
       "Generating sample 14/16:   0%|          | 0/50 [00:00<?, ?it/s]"
      ]
     },
     "metadata": {},
     "output_type": "display_data"
    },
    {
     "data": {
      "application/vnd.jupyter.widget-view+json": {
       "model_id": "688fba4e5df9443c9c1862733b04bfa8",
       "version_major": 2,
       "version_minor": 0
      },
      "text/plain": [
       "Generating sample 15/16:   0%|          | 0/50 [00:00<?, ?it/s]"
      ]
     },
     "metadata": {},
     "output_type": "display_data"
    },
    {
     "data": {
      "application/vnd.jupyter.widget-view+json": {
       "model_id": "fe61c67d53a342979f5086c4d410c96d",
       "version_major": 2,
       "version_minor": 0
      },
      "text/plain": [
       "Generating sample 16/16:   0%|          | 0/50 [00:00<?, ?it/s]"
      ]
     },
     "metadata": {},
     "output_type": "display_data"
    },
    {
     "name": "stdout",
     "output_type": "stream",
     "text": [
      "Saved sample grid to output/samples/samples_epoch_16.png\n"
     ]
    },
    {
     "data": {
      "application/vnd.jupyter.widget-view+json": {
       "model_id": "9a1d5d1a52cd49bea44645a18653f12a",
       "version_major": 2,
       "version_minor": 0
      },
      "text/plain": [
       "  0%|          | 0/12078 [00:00<?, ?it/s]"
      ]
     },
     "metadata": {},
     "output_type": "display_data"
    },
    {
     "name": "stdout",
     "output_type": "stream",
     "text": [
      "Epoch 17/20 - Avg loss: 0.080542, Avg PSNR: 25.74\n",
      "Saving model to output/best/best_model.safetensors\n",
      "New best model with loss: 0.080542\n",
      "Saving model to output/checkpoints/epoch_17_model.safetensors\n",
      "Generating validation samples for epoch 17...\n"
     ]
    },
    {
     "data": {
      "application/vnd.jupyter.widget-view+json": {
       "model_id": "c3c5f95c21164646b545dedadc67892c",
       "version_major": 2,
       "version_minor": 0
      },
      "text/plain": [
       "Generating sample 1/16:   0%|          | 0/50 [00:00<?, ?it/s]"
      ]
     },
     "metadata": {},
     "output_type": "display_data"
    },
    {
     "data": {
      "application/vnd.jupyter.widget-view+json": {
       "model_id": "094798e872be49a2bd7a7f60d0c8840e",
       "version_major": 2,
       "version_minor": 0
      },
      "text/plain": [
       "Generating sample 2/16:   0%|          | 0/50 [00:00<?, ?it/s]"
      ]
     },
     "metadata": {},
     "output_type": "display_data"
    },
    {
     "data": {
      "application/vnd.jupyter.widget-view+json": {
       "model_id": "e41c0d35f16b4f359878850b8437493d",
       "version_major": 2,
       "version_minor": 0
      },
      "text/plain": [
       "Generating sample 3/16:   0%|          | 0/50 [00:00<?, ?it/s]"
      ]
     },
     "metadata": {},
     "output_type": "display_data"
    },
    {
     "data": {
      "application/vnd.jupyter.widget-view+json": {
       "model_id": "c53919a0ae914660a61eaa62e216509f",
       "version_major": 2,
       "version_minor": 0
      },
      "text/plain": [
       "Generating sample 4/16:   0%|          | 0/50 [00:00<?, ?it/s]"
      ]
     },
     "metadata": {},
     "output_type": "display_data"
    },
    {
     "data": {
      "application/vnd.jupyter.widget-view+json": {
       "model_id": "a7320b8c3b7f497db991a68b900caf6a",
       "version_major": 2,
       "version_minor": 0
      },
      "text/plain": [
       "Generating sample 5/16:   0%|          | 0/50 [00:00<?, ?it/s]"
      ]
     },
     "metadata": {},
     "output_type": "display_data"
    },
    {
     "data": {
      "application/vnd.jupyter.widget-view+json": {
       "model_id": "732bf276beff43429c8f9b0dbac0773d",
       "version_major": 2,
       "version_minor": 0
      },
      "text/plain": [
       "Generating sample 6/16:   0%|          | 0/50 [00:00<?, ?it/s]"
      ]
     },
     "metadata": {},
     "output_type": "display_data"
    },
    {
     "data": {
      "application/vnd.jupyter.widget-view+json": {
       "model_id": "3f31ef8beec445c2997e9e661eeb9dd0",
       "version_major": 2,
       "version_minor": 0
      },
      "text/plain": [
       "Generating sample 7/16:   0%|          | 0/50 [00:00<?, ?it/s]"
      ]
     },
     "metadata": {},
     "output_type": "display_data"
    },
    {
     "data": {
      "application/vnd.jupyter.widget-view+json": {
       "model_id": "5e7774eb4cbe469591ecb1da16576f98",
       "version_major": 2,
       "version_minor": 0
      },
      "text/plain": [
       "Generating sample 8/16:   0%|          | 0/50 [00:00<?, ?it/s]"
      ]
     },
     "metadata": {},
     "output_type": "display_data"
    },
    {
     "data": {
      "application/vnd.jupyter.widget-view+json": {
       "model_id": "d4a43e7ffcaf42d7a29c243d2ca04e88",
       "version_major": 2,
       "version_minor": 0
      },
      "text/plain": [
       "Generating sample 9/16:   0%|          | 0/50 [00:00<?, ?it/s]"
      ]
     },
     "metadata": {},
     "output_type": "display_data"
    },
    {
     "data": {
      "application/vnd.jupyter.widget-view+json": {
       "model_id": "38fa1badb43548fca97e2d95641f255c",
       "version_major": 2,
       "version_minor": 0
      },
      "text/plain": [
       "Generating sample 10/16:   0%|          | 0/50 [00:00<?, ?it/s]"
      ]
     },
     "metadata": {},
     "output_type": "display_data"
    },
    {
     "data": {
      "application/vnd.jupyter.widget-view+json": {
       "model_id": "d3c854840ae6405da2c931d0c644f5f7",
       "version_major": 2,
       "version_minor": 0
      },
      "text/plain": [
       "Generating sample 11/16:   0%|          | 0/50 [00:00<?, ?it/s]"
      ]
     },
     "metadata": {},
     "output_type": "display_data"
    },
    {
     "data": {
      "application/vnd.jupyter.widget-view+json": {
       "model_id": "ea001e6054a04fce8746503d0b43d258",
       "version_major": 2,
       "version_minor": 0
      },
      "text/plain": [
       "Generating sample 12/16:   0%|          | 0/50 [00:00<?, ?it/s]"
      ]
     },
     "metadata": {},
     "output_type": "display_data"
    },
    {
     "data": {
      "application/vnd.jupyter.widget-view+json": {
       "model_id": "343278efaf4a4010828c033739040899",
       "version_major": 2,
       "version_minor": 0
      },
      "text/plain": [
       "Generating sample 13/16:   0%|          | 0/50 [00:00<?, ?it/s]"
      ]
     },
     "metadata": {},
     "output_type": "display_data"
    },
    {
     "data": {
      "application/vnd.jupyter.widget-view+json": {
       "model_id": "8fa5436188e447e3ba0bd8a45ad605c5",
       "version_major": 2,
       "version_minor": 0
      },
      "text/plain": [
       "Generating sample 14/16:   0%|          | 0/50 [00:00<?, ?it/s]"
      ]
     },
     "metadata": {},
     "output_type": "display_data"
    },
    {
     "data": {
      "application/vnd.jupyter.widget-view+json": {
       "model_id": "d7914c9cb1c74715ba8a18ff2396f98b",
       "version_major": 2,
       "version_minor": 0
      },
      "text/plain": [
       "Generating sample 15/16:   0%|          | 0/50 [00:00<?, ?it/s]"
      ]
     },
     "metadata": {},
     "output_type": "display_data"
    },
    {
     "data": {
      "application/vnd.jupyter.widget-view+json": {
       "model_id": "682d385627e244d3bf75fdd3060816ff",
       "version_major": 2,
       "version_minor": 0
      },
      "text/plain": [
       "Generating sample 16/16:   0%|          | 0/50 [00:00<?, ?it/s]"
      ]
     },
     "metadata": {},
     "output_type": "display_data"
    },
    {
     "name": "stdout",
     "output_type": "stream",
     "text": [
      "Saved sample grid to output/samples/samples_epoch_17.png\n"
     ]
    },
    {
     "data": {
      "application/vnd.jupyter.widget-view+json": {
       "model_id": "e3e1a55f473447d687e86d29a91938d0",
       "version_major": 2,
       "version_minor": 0
      },
      "text/plain": [
       "  0%|          | 0/12078 [00:00<?, ?it/s]"
      ]
     },
     "metadata": {},
     "output_type": "display_data"
    },
    {
     "name": "stdout",
     "output_type": "stream",
     "text": [
      "Epoch 18/20 - Avg loss: 0.080303, Avg PSNR: 25.79\n",
      "Saving model to output/best/best_model.safetensors\n",
      "New best model with loss: 0.080303\n",
      "Saving model to output/checkpoints/epoch_18_model.safetensors\n",
      "Generating validation samples for epoch 18...\n"
     ]
    },
    {
     "data": {
      "application/vnd.jupyter.widget-view+json": {
       "model_id": "0b4c18f51af14d44b52b82108d10aac0",
       "version_major": 2,
       "version_minor": 0
      },
      "text/plain": [
       "Generating sample 1/16:   0%|          | 0/50 [00:00<?, ?it/s]"
      ]
     },
     "metadata": {},
     "output_type": "display_data"
    },
    {
     "data": {
      "application/vnd.jupyter.widget-view+json": {
       "model_id": "3d840625fd454810928ac51b84067d50",
       "version_major": 2,
       "version_minor": 0
      },
      "text/plain": [
       "Generating sample 2/16:   0%|          | 0/50 [00:00<?, ?it/s]"
      ]
     },
     "metadata": {},
     "output_type": "display_data"
    },
    {
     "data": {
      "application/vnd.jupyter.widget-view+json": {
       "model_id": "de6f8b198c9b4363b620d9fb864a659b",
       "version_major": 2,
       "version_minor": 0
      },
      "text/plain": [
       "Generating sample 3/16:   0%|          | 0/50 [00:00<?, ?it/s]"
      ]
     },
     "metadata": {},
     "output_type": "display_data"
    },
    {
     "data": {
      "application/vnd.jupyter.widget-view+json": {
       "model_id": "b69741446a76429da452e7601d300d62",
       "version_major": 2,
       "version_minor": 0
      },
      "text/plain": [
       "Generating sample 4/16:   0%|          | 0/50 [00:00<?, ?it/s]"
      ]
     },
     "metadata": {},
     "output_type": "display_data"
    },
    {
     "data": {
      "application/vnd.jupyter.widget-view+json": {
       "model_id": "88ca8ea5b87847fab402b6c243f0888f",
       "version_major": 2,
       "version_minor": 0
      },
      "text/plain": [
       "Generating sample 5/16:   0%|          | 0/50 [00:00<?, ?it/s]"
      ]
     },
     "metadata": {},
     "output_type": "display_data"
    },
    {
     "data": {
      "application/vnd.jupyter.widget-view+json": {
       "model_id": "d0d6b0ee936d4d8d9254457632448b3c",
       "version_major": 2,
       "version_minor": 0
      },
      "text/plain": [
       "Generating sample 6/16:   0%|          | 0/50 [00:00<?, ?it/s]"
      ]
     },
     "metadata": {},
     "output_type": "display_data"
    },
    {
     "data": {
      "application/vnd.jupyter.widget-view+json": {
       "model_id": "1c49c3c269a04c428970f6c1e18458a0",
       "version_major": 2,
       "version_minor": 0
      },
      "text/plain": [
       "Generating sample 7/16:   0%|          | 0/50 [00:00<?, ?it/s]"
      ]
     },
     "metadata": {},
     "output_type": "display_data"
    },
    {
     "data": {
      "application/vnd.jupyter.widget-view+json": {
       "model_id": "71405a1006cb4ded8f6b0412501b4147",
       "version_major": 2,
       "version_minor": 0
      },
      "text/plain": [
       "Generating sample 8/16:   0%|          | 0/50 [00:00<?, ?it/s]"
      ]
     },
     "metadata": {},
     "output_type": "display_data"
    },
    {
     "data": {
      "application/vnd.jupyter.widget-view+json": {
       "model_id": "ae577c695239485494b299458a11ebe7",
       "version_major": 2,
       "version_minor": 0
      },
      "text/plain": [
       "Generating sample 9/16:   0%|          | 0/50 [00:00<?, ?it/s]"
      ]
     },
     "metadata": {},
     "output_type": "display_data"
    },
    {
     "data": {
      "application/vnd.jupyter.widget-view+json": {
       "model_id": "c5aa871d5a864c5b8c616876ab91cb0b",
       "version_major": 2,
       "version_minor": 0
      },
      "text/plain": [
       "Generating sample 10/16:   0%|          | 0/50 [00:00<?, ?it/s]"
      ]
     },
     "metadata": {},
     "output_type": "display_data"
    },
    {
     "data": {
      "application/vnd.jupyter.widget-view+json": {
       "model_id": "d88c8b572f43427ab1e0bb0933ff048b",
       "version_major": 2,
       "version_minor": 0
      },
      "text/plain": [
       "Generating sample 11/16:   0%|          | 0/50 [00:00<?, ?it/s]"
      ]
     },
     "metadata": {},
     "output_type": "display_data"
    },
    {
     "data": {
      "application/vnd.jupyter.widget-view+json": {
       "model_id": "f61288dc69b04e0a8a752de030d0ae78",
       "version_major": 2,
       "version_minor": 0
      },
      "text/plain": [
       "Generating sample 12/16:   0%|          | 0/50 [00:00<?, ?it/s]"
      ]
     },
     "metadata": {},
     "output_type": "display_data"
    },
    {
     "data": {
      "application/vnd.jupyter.widget-view+json": {
       "model_id": "ab6e6fbd385045969aae9f2321fbecab",
       "version_major": 2,
       "version_minor": 0
      },
      "text/plain": [
       "Generating sample 13/16:   0%|          | 0/50 [00:00<?, ?it/s]"
      ]
     },
     "metadata": {},
     "output_type": "display_data"
    },
    {
     "data": {
      "application/vnd.jupyter.widget-view+json": {
       "model_id": "3a6b3c4563734611956fc78457849c64",
       "version_major": 2,
       "version_minor": 0
      },
      "text/plain": [
       "Generating sample 14/16:   0%|          | 0/50 [00:00<?, ?it/s]"
      ]
     },
     "metadata": {},
     "output_type": "display_data"
    },
    {
     "data": {
      "application/vnd.jupyter.widget-view+json": {
       "model_id": "099a35c21cc946a58acd69881470cf2b",
       "version_major": 2,
       "version_minor": 0
      },
      "text/plain": [
       "Generating sample 15/16:   0%|          | 0/50 [00:00<?, ?it/s]"
      ]
     },
     "metadata": {},
     "output_type": "display_data"
    },
    {
     "data": {
      "application/vnd.jupyter.widget-view+json": {
       "model_id": "896534a304934dfbaa21c3743ea38e13",
       "version_major": 2,
       "version_minor": 0
      },
      "text/plain": [
       "Generating sample 16/16:   0%|          | 0/50 [00:00<?, ?it/s]"
      ]
     },
     "metadata": {},
     "output_type": "display_data"
    },
    {
     "name": "stdout",
     "output_type": "stream",
     "text": [
      "Saved sample grid to output/samples/samples_epoch_18.png\n"
     ]
    },
    {
     "data": {
      "application/vnd.jupyter.widget-view+json": {
       "model_id": "bf996a64779749a3a8ce003fad0e4b43",
       "version_major": 2,
       "version_minor": 0
      },
      "text/plain": [
       "  0%|          | 0/12078 [00:00<?, ?it/s]"
      ]
     },
     "metadata": {},
     "output_type": "display_data"
    },
    {
     "name": "stdout",
     "output_type": "stream",
     "text": [
      "Epoch 19/20 - Avg loss: 0.079257, Avg PSNR: 25.90\n",
      "Saving model to output/best/best_model.safetensors\n",
      "New best model with loss: 0.079257\n",
      "Saving model to output/checkpoints/epoch_19_model.safetensors\n",
      "Generating validation samples for epoch 19...\n"
     ]
    },
    {
     "data": {
      "application/vnd.jupyter.widget-view+json": {
       "model_id": "434d1a59238948aa8f4746db2ededec1",
       "version_major": 2,
       "version_minor": 0
      },
      "text/plain": [
       "Generating sample 1/16:   0%|          | 0/50 [00:00<?, ?it/s]"
      ]
     },
     "metadata": {},
     "output_type": "display_data"
    },
    {
     "data": {
      "application/vnd.jupyter.widget-view+json": {
       "model_id": "fed163cc6ca94acc85b6a5eb0f541953",
       "version_major": 2,
       "version_minor": 0
      },
      "text/plain": [
       "Generating sample 2/16:   0%|          | 0/50 [00:00<?, ?it/s]"
      ]
     },
     "metadata": {},
     "output_type": "display_data"
    },
    {
     "data": {
      "application/vnd.jupyter.widget-view+json": {
       "model_id": "732a56b79f2543ecb07e05b4fe4d59df",
       "version_major": 2,
       "version_minor": 0
      },
      "text/plain": [
       "Generating sample 3/16:   0%|          | 0/50 [00:00<?, ?it/s]"
      ]
     },
     "metadata": {},
     "output_type": "display_data"
    },
    {
     "data": {
      "application/vnd.jupyter.widget-view+json": {
       "model_id": "789628a276d843458e01c694d2fdaae1",
       "version_major": 2,
       "version_minor": 0
      },
      "text/plain": [
       "Generating sample 4/16:   0%|          | 0/50 [00:00<?, ?it/s]"
      ]
     },
     "metadata": {},
     "output_type": "display_data"
    },
    {
     "data": {
      "application/vnd.jupyter.widget-view+json": {
       "model_id": "a50c9723507d4b3fa6d7c76fd0c9be3c",
       "version_major": 2,
       "version_minor": 0
      },
      "text/plain": [
       "Generating sample 5/16:   0%|          | 0/50 [00:00<?, ?it/s]"
      ]
     },
     "metadata": {},
     "output_type": "display_data"
    },
    {
     "data": {
      "application/vnd.jupyter.widget-view+json": {
       "model_id": "d46c4c130c8f406182c48dd8f8396bc6",
       "version_major": 2,
       "version_minor": 0
      },
      "text/plain": [
       "Generating sample 6/16:   0%|          | 0/50 [00:00<?, ?it/s]"
      ]
     },
     "metadata": {},
     "output_type": "display_data"
    },
    {
     "data": {
      "application/vnd.jupyter.widget-view+json": {
       "model_id": "cba96ae43a7d4c78ab4b7dd07e259233",
       "version_major": 2,
       "version_minor": 0
      },
      "text/plain": [
       "Generating sample 7/16:   0%|          | 0/50 [00:00<?, ?it/s]"
      ]
     },
     "metadata": {},
     "output_type": "display_data"
    },
    {
     "data": {
      "application/vnd.jupyter.widget-view+json": {
       "model_id": "998ed1860f2441809d28675b5446a49b",
       "version_major": 2,
       "version_minor": 0
      },
      "text/plain": [
       "Generating sample 8/16:   0%|          | 0/50 [00:00<?, ?it/s]"
      ]
     },
     "metadata": {},
     "output_type": "display_data"
    },
    {
     "data": {
      "application/vnd.jupyter.widget-view+json": {
       "model_id": "ef2236a55a5840a58df93beb6e56b22f",
       "version_major": 2,
       "version_minor": 0
      },
      "text/plain": [
       "Generating sample 9/16:   0%|          | 0/50 [00:00<?, ?it/s]"
      ]
     },
     "metadata": {},
     "output_type": "display_data"
    },
    {
     "data": {
      "application/vnd.jupyter.widget-view+json": {
       "model_id": "a26449cb0f1f44a18d81e1368971072a",
       "version_major": 2,
       "version_minor": 0
      },
      "text/plain": [
       "Generating sample 10/16:   0%|          | 0/50 [00:00<?, ?it/s]"
      ]
     },
     "metadata": {},
     "output_type": "display_data"
    },
    {
     "data": {
      "application/vnd.jupyter.widget-view+json": {
       "model_id": "7bd9f8d0005d4f139cae421803c10955",
       "version_major": 2,
       "version_minor": 0
      },
      "text/plain": [
       "Generating sample 11/16:   0%|          | 0/50 [00:00<?, ?it/s]"
      ]
     },
     "metadata": {},
     "output_type": "display_data"
    },
    {
     "data": {
      "application/vnd.jupyter.widget-view+json": {
       "model_id": "60a171d3cc9a4ab397ff27c2cc03c67c",
       "version_major": 2,
       "version_minor": 0
      },
      "text/plain": [
       "Generating sample 12/16:   0%|          | 0/50 [00:00<?, ?it/s]"
      ]
     },
     "metadata": {},
     "output_type": "display_data"
    },
    {
     "data": {
      "application/vnd.jupyter.widget-view+json": {
       "model_id": "b36d7a7cb5c04654a8fffcd2df3905e5",
       "version_major": 2,
       "version_minor": 0
      },
      "text/plain": [
       "Generating sample 13/16:   0%|          | 0/50 [00:00<?, ?it/s]"
      ]
     },
     "metadata": {},
     "output_type": "display_data"
    },
    {
     "data": {
      "application/vnd.jupyter.widget-view+json": {
       "model_id": "185a323474864fcd9e97385f53242fa7",
       "version_major": 2,
       "version_minor": 0
      },
      "text/plain": [
       "Generating sample 14/16:   0%|          | 0/50 [00:00<?, ?it/s]"
      ]
     },
     "metadata": {},
     "output_type": "display_data"
    },
    {
     "data": {
      "application/vnd.jupyter.widget-view+json": {
       "model_id": "e348dfbc1399403da3bd3f44a005430e",
       "version_major": 2,
       "version_minor": 0
      },
      "text/plain": [
       "Generating sample 15/16:   0%|          | 0/50 [00:00<?, ?it/s]"
      ]
     },
     "metadata": {},
     "output_type": "display_data"
    },
    {
     "data": {
      "application/vnd.jupyter.widget-view+json": {
       "model_id": "9b0a3cdb50d24007bfe05674a110d2bd",
       "version_major": 2,
       "version_minor": 0
      },
      "text/plain": [
       "Generating sample 16/16:   0%|          | 0/50 [00:00<?, ?it/s]"
      ]
     },
     "metadata": {},
     "output_type": "display_data"
    },
    {
     "name": "stdout",
     "output_type": "stream",
     "text": [
      "Saved sample grid to output/samples/samples_epoch_19.png\n"
     ]
    },
    {
     "data": {
      "application/vnd.jupyter.widget-view+json": {
       "model_id": "91d58eb266594a6fb422ed753283288c",
       "version_major": 2,
       "version_minor": 0
      },
      "text/plain": [
       "  0%|          | 0/12078 [00:00<?, ?it/s]"
      ]
     },
     "metadata": {},
     "output_type": "display_data"
    },
    {
     "name": "stdout",
     "output_type": "stream",
     "text": [
      "Epoch 20/20 - Avg loss: 0.079546, Avg PSNR: 25.86\n",
      "No improvement. Early stopping counter: 1/5\n",
      "Saving model to output/checkpoints/epoch_20_model.safetensors\n",
      "Generating validation samples for epoch 20...\n"
     ]
    },
    {
     "data": {
      "application/vnd.jupyter.widget-view+json": {
       "model_id": "e597740080f743179b2d43d11aecde3c",
       "version_major": 2,
       "version_minor": 0
      },
      "text/plain": [
       "Generating sample 1/16:   0%|          | 0/50 [00:00<?, ?it/s]"
      ]
     },
     "metadata": {},
     "output_type": "display_data"
    },
    {
     "data": {
      "application/vnd.jupyter.widget-view+json": {
       "model_id": "8b34c375e9b44837b3565a23bc999296",
       "version_major": 2,
       "version_minor": 0
      },
      "text/plain": [
       "Generating sample 2/16:   0%|          | 0/50 [00:00<?, ?it/s]"
      ]
     },
     "metadata": {},
     "output_type": "display_data"
    },
    {
     "data": {
      "application/vnd.jupyter.widget-view+json": {
       "model_id": "dba17f6c3d2a45e382337c5fcbe5091d",
       "version_major": 2,
       "version_minor": 0
      },
      "text/plain": [
       "Generating sample 3/16:   0%|          | 0/50 [00:00<?, ?it/s]"
      ]
     },
     "metadata": {},
     "output_type": "display_data"
    },
    {
     "data": {
      "application/vnd.jupyter.widget-view+json": {
       "model_id": "854d67e6513a41619e46bb49ac3743c8",
       "version_major": 2,
       "version_minor": 0
      },
      "text/plain": [
       "Generating sample 4/16:   0%|          | 0/50 [00:00<?, ?it/s]"
      ]
     },
     "metadata": {},
     "output_type": "display_data"
    },
    {
     "data": {
      "application/vnd.jupyter.widget-view+json": {
       "model_id": "feee941d9977453c8e6a43349ffc7db5",
       "version_major": 2,
       "version_minor": 0
      },
      "text/plain": [
       "Generating sample 5/16:   0%|          | 0/50 [00:00<?, ?it/s]"
      ]
     },
     "metadata": {},
     "output_type": "display_data"
    },
    {
     "data": {
      "application/vnd.jupyter.widget-view+json": {
       "model_id": "88ff4baa55224fdd907ee7e87ee8e08a",
       "version_major": 2,
       "version_minor": 0
      },
      "text/plain": [
       "Generating sample 6/16:   0%|          | 0/50 [00:00<?, ?it/s]"
      ]
     },
     "metadata": {},
     "output_type": "display_data"
    },
    {
     "data": {
      "application/vnd.jupyter.widget-view+json": {
       "model_id": "084f2f6f1bc44f149c07d7c7aab682d4",
       "version_major": 2,
       "version_minor": 0
      },
      "text/plain": [
       "Generating sample 7/16:   0%|          | 0/50 [00:00<?, ?it/s]"
      ]
     },
     "metadata": {},
     "output_type": "display_data"
    },
    {
     "data": {
      "application/vnd.jupyter.widget-view+json": {
       "model_id": "9a0b11bf389e4790909999adda58b813",
       "version_major": 2,
       "version_minor": 0
      },
      "text/plain": [
       "Generating sample 8/16:   0%|          | 0/50 [00:00<?, ?it/s]"
      ]
     },
     "metadata": {},
     "output_type": "display_data"
    },
    {
     "data": {
      "application/vnd.jupyter.widget-view+json": {
       "model_id": "663d003f5e66411db7c8704e86ee7fa0",
       "version_major": 2,
       "version_minor": 0
      },
      "text/plain": [
       "Generating sample 9/16:   0%|          | 0/50 [00:00<?, ?it/s]"
      ]
     },
     "metadata": {},
     "output_type": "display_data"
    },
    {
     "data": {
      "application/vnd.jupyter.widget-view+json": {
       "model_id": "cfd4812031734fd6a7ee37d79030f837",
       "version_major": 2,
       "version_minor": 0
      },
      "text/plain": [
       "Generating sample 10/16:   0%|          | 0/50 [00:00<?, ?it/s]"
      ]
     },
     "metadata": {},
     "output_type": "display_data"
    },
    {
     "data": {
      "application/vnd.jupyter.widget-view+json": {
       "model_id": "7f26c7fe9c694c34b888e2d7da3d8f29",
       "version_major": 2,
       "version_minor": 0
      },
      "text/plain": [
       "Generating sample 11/16:   0%|          | 0/50 [00:00<?, ?it/s]"
      ]
     },
     "metadata": {},
     "output_type": "display_data"
    },
    {
     "data": {
      "application/vnd.jupyter.widget-view+json": {
       "model_id": "ec9ddad6442b417ca02bb8259a0eb81f",
       "version_major": 2,
       "version_minor": 0
      },
      "text/plain": [
       "Generating sample 12/16:   0%|          | 0/50 [00:00<?, ?it/s]"
      ]
     },
     "metadata": {},
     "output_type": "display_data"
    },
    {
     "data": {
      "application/vnd.jupyter.widget-view+json": {
       "model_id": "71024bcddd8a4867afcfe7a6feee5f61",
       "version_major": 2,
       "version_minor": 0
      },
      "text/plain": [
       "Generating sample 13/16:   0%|          | 0/50 [00:00<?, ?it/s]"
      ]
     },
     "metadata": {},
     "output_type": "display_data"
    },
    {
     "data": {
      "application/vnd.jupyter.widget-view+json": {
       "model_id": "cfdfbdba48ae4259b245caffa257eea3",
       "version_major": 2,
       "version_minor": 0
      },
      "text/plain": [
       "Generating sample 14/16:   0%|          | 0/50 [00:00<?, ?it/s]"
      ]
     },
     "metadata": {},
     "output_type": "display_data"
    },
    {
     "data": {
      "application/vnd.jupyter.widget-view+json": {
       "model_id": "51fc1318c3a04a36b50ea0c800fde8e4",
       "version_major": 2,
       "version_minor": 0
      },
      "text/plain": [
       "Generating sample 15/16:   0%|          | 0/50 [00:00<?, ?it/s]"
      ]
     },
     "metadata": {},
     "output_type": "display_data"
    },
    {
     "data": {
      "application/vnd.jupyter.widget-view+json": {
       "model_id": "5a5547552cef46699412a2f11285ae26",
       "version_major": 2,
       "version_minor": 0
      },
      "text/plain": [
       "Generating sample 16/16:   0%|          | 0/50 [00:00<?, ?it/s]"
      ]
     },
     "metadata": {},
     "output_type": "display_data"
    },
    {
     "name": "stdout",
     "output_type": "stream",
     "text": [
      "Saved sample grid to output/samples/samples_epoch_20.png\n",
      "Saving model to output/final_model.safetensors\n",
      "Generating samples with final model...\n"
     ]
    },
    {
     "data": {
      "application/vnd.jupyter.widget-view+json": {
       "model_id": "6efbaceecc974c6c87147ef9c9a25a15",
       "version_major": 2,
       "version_minor": 0
      },
      "text/plain": [
       "Generating sample 1/16:   0%|          | 0/50 [00:00<?, ?it/s]"
      ]
     },
     "metadata": {},
     "output_type": "display_data"
    },
    {
     "data": {
      "application/vnd.jupyter.widget-view+json": {
       "model_id": "d98944204fb34dc2bb61f9b108c09c3f",
       "version_major": 2,
       "version_minor": 0
      },
      "text/plain": [
       "Generating sample 2/16:   0%|          | 0/50 [00:00<?, ?it/s]"
      ]
     },
     "metadata": {},
     "output_type": "display_data"
    },
    {
     "data": {
      "application/vnd.jupyter.widget-view+json": {
       "model_id": "545916d938394f5a95db10a69f9881b4",
       "version_major": 2,
       "version_minor": 0
      },
      "text/plain": [
       "Generating sample 3/16:   0%|          | 0/50 [00:00<?, ?it/s]"
      ]
     },
     "metadata": {},
     "output_type": "display_data"
    },
    {
     "data": {
      "application/vnd.jupyter.widget-view+json": {
       "model_id": "a0ea92df63354bbdb7ab336b9cb51ce3",
       "version_major": 2,
       "version_minor": 0
      },
      "text/plain": [
       "Generating sample 4/16:   0%|          | 0/50 [00:00<?, ?it/s]"
      ]
     },
     "metadata": {},
     "output_type": "display_data"
    },
    {
     "data": {
      "application/vnd.jupyter.widget-view+json": {
       "model_id": "0fb4a2a72e6e4aa590e08b4f91154ea2",
       "version_major": 2,
       "version_minor": 0
      },
      "text/plain": [
       "Generating sample 5/16:   0%|          | 0/50 [00:00<?, ?it/s]"
      ]
     },
     "metadata": {},
     "output_type": "display_data"
    },
    {
     "data": {
      "application/vnd.jupyter.widget-view+json": {
       "model_id": "23008d615b7242a1aecb85a5133011c7",
       "version_major": 2,
       "version_minor": 0
      },
      "text/plain": [
       "Generating sample 6/16:   0%|          | 0/50 [00:00<?, ?it/s]"
      ]
     },
     "metadata": {},
     "output_type": "display_data"
    },
    {
     "data": {
      "application/vnd.jupyter.widget-view+json": {
       "model_id": "fe7a987a1f4d4b9f9bae34bc0ac612a2",
       "version_major": 2,
       "version_minor": 0
      },
      "text/plain": [
       "Generating sample 7/16:   0%|          | 0/50 [00:00<?, ?it/s]"
      ]
     },
     "metadata": {},
     "output_type": "display_data"
    },
    {
     "data": {
      "application/vnd.jupyter.widget-view+json": {
       "model_id": "bc2f80fb24e24adabaedfa83bab90826",
       "version_major": 2,
       "version_minor": 0
      },
      "text/plain": [
       "Generating sample 8/16:   0%|          | 0/50 [00:00<?, ?it/s]"
      ]
     },
     "metadata": {},
     "output_type": "display_data"
    },
    {
     "data": {
      "application/vnd.jupyter.widget-view+json": {
       "model_id": "7557e5fad2544fd5b4aa72ff1c96623d",
       "version_major": 2,
       "version_minor": 0
      },
      "text/plain": [
       "Generating sample 9/16:   0%|          | 0/50 [00:00<?, ?it/s]"
      ]
     },
     "metadata": {},
     "output_type": "display_data"
    },
    {
     "data": {
      "application/vnd.jupyter.widget-view+json": {
       "model_id": "9f1ce8deff41481f9c75f0349329d555",
       "version_major": 2,
       "version_minor": 0
      },
      "text/plain": [
       "Generating sample 10/16:   0%|          | 0/50 [00:00<?, ?it/s]"
      ]
     },
     "metadata": {},
     "output_type": "display_data"
    },
    {
     "data": {
      "application/vnd.jupyter.widget-view+json": {
       "model_id": "a75e580f2b454eb59c53ebafde40ede2",
       "version_major": 2,
       "version_minor": 0
      },
      "text/plain": [
       "Generating sample 11/16:   0%|          | 0/50 [00:00<?, ?it/s]"
      ]
     },
     "metadata": {},
     "output_type": "display_data"
    },
    {
     "data": {
      "application/vnd.jupyter.widget-view+json": {
       "model_id": "0186ed333c1144bda959ea82af09fd78",
       "version_major": 2,
       "version_minor": 0
      },
      "text/plain": [
       "Generating sample 12/16:   0%|          | 0/50 [00:00<?, ?it/s]"
      ]
     },
     "metadata": {},
     "output_type": "display_data"
    },
    {
     "data": {
      "application/vnd.jupyter.widget-view+json": {
       "model_id": "3a954fcc14ee48a1b5d13bf788f24628",
       "version_major": 2,
       "version_minor": 0
      },
      "text/plain": [
       "Generating sample 13/16:   0%|          | 0/50 [00:00<?, ?it/s]"
      ]
     },
     "metadata": {},
     "output_type": "display_data"
    },
    {
     "data": {
      "application/vnd.jupyter.widget-view+json": {
       "model_id": "ae8bb11aa93240dfbdcbf765f10661a6",
       "version_major": 2,
       "version_minor": 0
      },
      "text/plain": [
       "Generating sample 14/16:   0%|          | 0/50 [00:00<?, ?it/s]"
      ]
     },
     "metadata": {},
     "output_type": "display_data"
    },
    {
     "data": {
      "application/vnd.jupyter.widget-view+json": {
       "model_id": "7d67d3f79d4f4ef0a6381bc52a3276b2",
       "version_major": 2,
       "version_minor": 0
      },
      "text/plain": [
       "Generating sample 15/16:   0%|          | 0/50 [00:00<?, ?it/s]"
      ]
     },
     "metadata": {},
     "output_type": "display_data"
    },
    {
     "data": {
      "application/vnd.jupyter.widget-view+json": {
       "model_id": "c06dbf293f074ebfb24bf5a179114f52",
       "version_major": 2,
       "version_minor": 0
      },
      "text/plain": [
       "Generating sample 16/16:   0%|          | 0/50 [00:00<?, ?it/s]"
      ]
     },
     "metadata": {},
     "output_type": "display_data"
    },
    {
     "name": "stdout",
     "output_type": "stream",
     "text": [
      "Saved sample grid to output/samples/final_samples.png\n",
      "Loading best model\n",
      "Loaded model from output/best/best_model.safetensors\n",
      "Resuming from epoch 18, global step 229482\n"
     ]
    },
    {
     "data": {
      "text/plain": [
       "UNet2DConditionModel(\n",
       "  (conv_in): Conv2d(4, 320, kernel_size=(3, 3), stride=(1, 1), padding=(1, 1))\n",
       "  (time_proj): Timesteps()\n",
       "  (time_embedding): TimestepEmbedding(\n",
       "    (linear_1): Linear(in_features=320, out_features=1280, bias=True)\n",
       "    (act): SiLU()\n",
       "    (linear_2): Linear(in_features=1280, out_features=1280, bias=True)\n",
       "  )\n",
       "  (down_blocks): ModuleList(\n",
       "    (0): CrossAttnDownBlock2D(\n",
       "      (attentions): ModuleList(\n",
       "        (0-1): 2 x Transformer2DModel(\n",
       "          (norm): GroupNorm(32, 320, eps=1e-06, affine=True)\n",
       "          (proj_in): Conv2d(320, 320, kernel_size=(1, 1), stride=(1, 1))\n",
       "          (transformer_blocks): ModuleList(\n",
       "            (0): BasicTransformerBlock(\n",
       "              (norm1): LayerNorm((320,), eps=1e-05, elementwise_affine=True)\n",
       "              (attn1): Attention(\n",
       "                (to_q): Linear(in_features=320, out_features=320, bias=False)\n",
       "                (to_k): Linear(in_features=320, out_features=320, bias=False)\n",
       "                (to_v): Linear(in_features=320, out_features=320, bias=False)\n",
       "                (to_out): ModuleList(\n",
       "                  (0): Linear(in_features=320, out_features=320, bias=True)\n",
       "                  (1): Dropout(p=0.0, inplace=False)\n",
       "                )\n",
       "              )\n",
       "              (norm2): LayerNorm((320,), eps=1e-05, elementwise_affine=True)\n",
       "              (attn2): Attention(\n",
       "                (to_q): Linear(in_features=320, out_features=320, bias=False)\n",
       "                (to_k): Linear(in_features=768, out_features=320, bias=False)\n",
       "                (to_v): Linear(in_features=768, out_features=320, bias=False)\n",
       "                (to_out): ModuleList(\n",
       "                  (0): Linear(in_features=320, out_features=320, bias=True)\n",
       "                  (1): Dropout(p=0.0, inplace=False)\n",
       "                )\n",
       "              )\n",
       "              (norm3): LayerNorm((320,), eps=1e-05, elementwise_affine=True)\n",
       "              (ff): FeedForward(\n",
       "                (net): ModuleList(\n",
       "                  (0): GEGLU(\n",
       "                    (proj): Linear(in_features=320, out_features=2560, bias=True)\n",
       "                  )\n",
       "                  (1): Dropout(p=0.0, inplace=False)\n",
       "                  (2): Linear(in_features=1280, out_features=320, bias=True)\n",
       "                )\n",
       "              )\n",
       "            )\n",
       "          )\n",
       "          (proj_out): Conv2d(320, 320, kernel_size=(1, 1), stride=(1, 1))\n",
       "        )\n",
       "      )\n",
       "      (resnets): ModuleList(\n",
       "        (0-1): 2 x ResnetBlock2D(\n",
       "          (norm1): GroupNorm(32, 320, eps=1e-05, affine=True)\n",
       "          (conv1): Conv2d(320, 320, kernel_size=(3, 3), stride=(1, 1), padding=(1, 1))\n",
       "          (time_emb_proj): Linear(in_features=1280, out_features=320, bias=True)\n",
       "          (norm2): GroupNorm(32, 320, eps=1e-05, affine=True)\n",
       "          (dropout): Dropout(p=0.0, inplace=False)\n",
       "          (conv2): Conv2d(320, 320, kernel_size=(3, 3), stride=(1, 1), padding=(1, 1))\n",
       "          (nonlinearity): SiLU()\n",
       "        )\n",
       "      )\n",
       "      (downsamplers): ModuleList(\n",
       "        (0): Downsample2D(\n",
       "          (conv): Conv2d(320, 320, kernel_size=(3, 3), stride=(2, 2), padding=(1, 1))\n",
       "        )\n",
       "      )\n",
       "    )\n",
       "    (1): CrossAttnDownBlock2D(\n",
       "      (attentions): ModuleList(\n",
       "        (0-1): 2 x Transformer2DModel(\n",
       "          (norm): GroupNorm(32, 640, eps=1e-06, affine=True)\n",
       "          (proj_in): Conv2d(640, 640, kernel_size=(1, 1), stride=(1, 1))\n",
       "          (transformer_blocks): ModuleList(\n",
       "            (0): BasicTransformerBlock(\n",
       "              (norm1): LayerNorm((640,), eps=1e-05, elementwise_affine=True)\n",
       "              (attn1): Attention(\n",
       "                (to_q): Linear(in_features=640, out_features=640, bias=False)\n",
       "                (to_k): Linear(in_features=640, out_features=640, bias=False)\n",
       "                (to_v): Linear(in_features=640, out_features=640, bias=False)\n",
       "                (to_out): ModuleList(\n",
       "                  (0): Linear(in_features=640, out_features=640, bias=True)\n",
       "                  (1): Dropout(p=0.0, inplace=False)\n",
       "                )\n",
       "              )\n",
       "              (norm2): LayerNorm((640,), eps=1e-05, elementwise_affine=True)\n",
       "              (attn2): Attention(\n",
       "                (to_q): Linear(in_features=640, out_features=640, bias=False)\n",
       "                (to_k): Linear(in_features=768, out_features=640, bias=False)\n",
       "                (to_v): Linear(in_features=768, out_features=640, bias=False)\n",
       "                (to_out): ModuleList(\n",
       "                  (0): Linear(in_features=640, out_features=640, bias=True)\n",
       "                  (1): Dropout(p=0.0, inplace=False)\n",
       "                )\n",
       "              )\n",
       "              (norm3): LayerNorm((640,), eps=1e-05, elementwise_affine=True)\n",
       "              (ff): FeedForward(\n",
       "                (net): ModuleList(\n",
       "                  (0): GEGLU(\n",
       "                    (proj): Linear(in_features=640, out_features=5120, bias=True)\n",
       "                  )\n",
       "                  (1): Dropout(p=0.0, inplace=False)\n",
       "                  (2): Linear(in_features=2560, out_features=640, bias=True)\n",
       "                )\n",
       "              )\n",
       "            )\n",
       "          )\n",
       "          (proj_out): Conv2d(640, 640, kernel_size=(1, 1), stride=(1, 1))\n",
       "        )\n",
       "      )\n",
       "      (resnets): ModuleList(\n",
       "        (0): ResnetBlock2D(\n",
       "          (norm1): GroupNorm(32, 320, eps=1e-05, affine=True)\n",
       "          (conv1): Conv2d(320, 640, kernel_size=(3, 3), stride=(1, 1), padding=(1, 1))\n",
       "          (time_emb_proj): Linear(in_features=1280, out_features=640, bias=True)\n",
       "          (norm2): GroupNorm(32, 640, eps=1e-05, affine=True)\n",
       "          (dropout): Dropout(p=0.0, inplace=False)\n",
       "          (conv2): Conv2d(640, 640, kernel_size=(3, 3), stride=(1, 1), padding=(1, 1))\n",
       "          (nonlinearity): SiLU()\n",
       "          (conv_shortcut): Conv2d(320, 640, kernel_size=(1, 1), stride=(1, 1))\n",
       "        )\n",
       "        (1): ResnetBlock2D(\n",
       "          (norm1): GroupNorm(32, 640, eps=1e-05, affine=True)\n",
       "          (conv1): Conv2d(640, 640, kernel_size=(3, 3), stride=(1, 1), padding=(1, 1))\n",
       "          (time_emb_proj): Linear(in_features=1280, out_features=640, bias=True)\n",
       "          (norm2): GroupNorm(32, 640, eps=1e-05, affine=True)\n",
       "          (dropout): Dropout(p=0.0, inplace=False)\n",
       "          (conv2): Conv2d(640, 640, kernel_size=(3, 3), stride=(1, 1), padding=(1, 1))\n",
       "          (nonlinearity): SiLU()\n",
       "        )\n",
       "      )\n",
       "      (downsamplers): ModuleList(\n",
       "        (0): Downsample2D(\n",
       "          (conv): Conv2d(640, 640, kernel_size=(3, 3), stride=(2, 2), padding=(1, 1))\n",
       "        )\n",
       "      )\n",
       "    )\n",
       "    (2): CrossAttnDownBlock2D(\n",
       "      (attentions): ModuleList(\n",
       "        (0-1): 2 x Transformer2DModel(\n",
       "          (norm): GroupNorm(32, 1280, eps=1e-06, affine=True)\n",
       "          (proj_in): Conv2d(1280, 1280, kernel_size=(1, 1), stride=(1, 1))\n",
       "          (transformer_blocks): ModuleList(\n",
       "            (0): BasicTransformerBlock(\n",
       "              (norm1): LayerNorm((1280,), eps=1e-05, elementwise_affine=True)\n",
       "              (attn1): Attention(\n",
       "                (to_q): Linear(in_features=1280, out_features=1280, bias=False)\n",
       "                (to_k): Linear(in_features=1280, out_features=1280, bias=False)\n",
       "                (to_v): Linear(in_features=1280, out_features=1280, bias=False)\n",
       "                (to_out): ModuleList(\n",
       "                  (0): Linear(in_features=1280, out_features=1280, bias=True)\n",
       "                  (1): Dropout(p=0.0, inplace=False)\n",
       "                )\n",
       "              )\n",
       "              (norm2): LayerNorm((1280,), eps=1e-05, elementwise_affine=True)\n",
       "              (attn2): Attention(\n",
       "                (to_q): Linear(in_features=1280, out_features=1280, bias=False)\n",
       "                (to_k): Linear(in_features=768, out_features=1280, bias=False)\n",
       "                (to_v): Linear(in_features=768, out_features=1280, bias=False)\n",
       "                (to_out): ModuleList(\n",
       "                  (0): Linear(in_features=1280, out_features=1280, bias=True)\n",
       "                  (1): Dropout(p=0.0, inplace=False)\n",
       "                )\n",
       "              )\n",
       "              (norm3): LayerNorm((1280,), eps=1e-05, elementwise_affine=True)\n",
       "              (ff): FeedForward(\n",
       "                (net): ModuleList(\n",
       "                  (0): GEGLU(\n",
       "                    (proj): Linear(in_features=1280, out_features=10240, bias=True)\n",
       "                  )\n",
       "                  (1): Dropout(p=0.0, inplace=False)\n",
       "                  (2): Linear(in_features=5120, out_features=1280, bias=True)\n",
       "                )\n",
       "              )\n",
       "            )\n",
       "          )\n",
       "          (proj_out): Conv2d(1280, 1280, kernel_size=(1, 1), stride=(1, 1))\n",
       "        )\n",
       "      )\n",
       "      (resnets): ModuleList(\n",
       "        (0): ResnetBlock2D(\n",
       "          (norm1): GroupNorm(32, 640, eps=1e-05, affine=True)\n",
       "          (conv1): Conv2d(640, 1280, kernel_size=(3, 3), stride=(1, 1), padding=(1, 1))\n",
       "          (time_emb_proj): Linear(in_features=1280, out_features=1280, bias=True)\n",
       "          (norm2): GroupNorm(32, 1280, eps=1e-05, affine=True)\n",
       "          (dropout): Dropout(p=0.0, inplace=False)\n",
       "          (conv2): Conv2d(1280, 1280, kernel_size=(3, 3), stride=(1, 1), padding=(1, 1))\n",
       "          (nonlinearity): SiLU()\n",
       "          (conv_shortcut): Conv2d(640, 1280, kernel_size=(1, 1), stride=(1, 1))\n",
       "        )\n",
       "        (1): ResnetBlock2D(\n",
       "          (norm1): GroupNorm(32, 1280, eps=1e-05, affine=True)\n",
       "          (conv1): Conv2d(1280, 1280, kernel_size=(3, 3), stride=(1, 1), padding=(1, 1))\n",
       "          (time_emb_proj): Linear(in_features=1280, out_features=1280, bias=True)\n",
       "          (norm2): GroupNorm(32, 1280, eps=1e-05, affine=True)\n",
       "          (dropout): Dropout(p=0.0, inplace=False)\n",
       "          (conv2): Conv2d(1280, 1280, kernel_size=(3, 3), stride=(1, 1), padding=(1, 1))\n",
       "          (nonlinearity): SiLU()\n",
       "        )\n",
       "      )\n",
       "      (downsamplers): ModuleList(\n",
       "        (0): Downsample2D(\n",
       "          (conv): Conv2d(1280, 1280, kernel_size=(3, 3), stride=(2, 2), padding=(1, 1))\n",
       "        )\n",
       "      )\n",
       "    )\n",
       "    (3): DownBlock2D(\n",
       "      (resnets): ModuleList(\n",
       "        (0-1): 2 x ResnetBlock2D(\n",
       "          (norm1): GroupNorm(32, 1280, eps=1e-05, affine=True)\n",
       "          (conv1): Conv2d(1280, 1280, kernel_size=(3, 3), stride=(1, 1), padding=(1, 1))\n",
       "          (time_emb_proj): Linear(in_features=1280, out_features=1280, bias=True)\n",
       "          (norm2): GroupNorm(32, 1280, eps=1e-05, affine=True)\n",
       "          (dropout): Dropout(p=0.0, inplace=False)\n",
       "          (conv2): Conv2d(1280, 1280, kernel_size=(3, 3), stride=(1, 1), padding=(1, 1))\n",
       "          (nonlinearity): SiLU()\n",
       "        )\n",
       "      )\n",
       "    )\n",
       "  )\n",
       "  (up_blocks): ModuleList(\n",
       "    (0): UpBlock2D(\n",
       "      (resnets): ModuleList(\n",
       "        (0-2): 3 x ResnetBlock2D(\n",
       "          (norm1): GroupNorm(32, 2560, eps=1e-05, affine=True)\n",
       "          (conv1): Conv2d(2560, 1280, kernel_size=(3, 3), stride=(1, 1), padding=(1, 1))\n",
       "          (time_emb_proj): Linear(in_features=1280, out_features=1280, bias=True)\n",
       "          (norm2): GroupNorm(32, 1280, eps=1e-05, affine=True)\n",
       "          (dropout): Dropout(p=0.0, inplace=False)\n",
       "          (conv2): Conv2d(1280, 1280, kernel_size=(3, 3), stride=(1, 1), padding=(1, 1))\n",
       "          (nonlinearity): SiLU()\n",
       "          (conv_shortcut): Conv2d(2560, 1280, kernel_size=(1, 1), stride=(1, 1))\n",
       "        )\n",
       "      )\n",
       "      (upsamplers): ModuleList(\n",
       "        (0): Upsample2D(\n",
       "          (conv): Conv2d(1280, 1280, kernel_size=(3, 3), stride=(1, 1), padding=(1, 1))\n",
       "        )\n",
       "      )\n",
       "    )\n",
       "    (1): CrossAttnUpBlock2D(\n",
       "      (attentions): ModuleList(\n",
       "        (0-2): 3 x Transformer2DModel(\n",
       "          (norm): GroupNorm(32, 1280, eps=1e-06, affine=True)\n",
       "          (proj_in): Conv2d(1280, 1280, kernel_size=(1, 1), stride=(1, 1))\n",
       "          (transformer_blocks): ModuleList(\n",
       "            (0): BasicTransformerBlock(\n",
       "              (norm1): LayerNorm((1280,), eps=1e-05, elementwise_affine=True)\n",
       "              (attn1): Attention(\n",
       "                (to_q): Linear(in_features=1280, out_features=1280, bias=False)\n",
       "                (to_k): Linear(in_features=1280, out_features=1280, bias=False)\n",
       "                (to_v): Linear(in_features=1280, out_features=1280, bias=False)\n",
       "                (to_out): ModuleList(\n",
       "                  (0): Linear(in_features=1280, out_features=1280, bias=True)\n",
       "                  (1): Dropout(p=0.0, inplace=False)\n",
       "                )\n",
       "              )\n",
       "              (norm2): LayerNorm((1280,), eps=1e-05, elementwise_affine=True)\n",
       "              (attn2): Attention(\n",
       "                (to_q): Linear(in_features=1280, out_features=1280, bias=False)\n",
       "                (to_k): Linear(in_features=768, out_features=1280, bias=False)\n",
       "                (to_v): Linear(in_features=768, out_features=1280, bias=False)\n",
       "                (to_out): ModuleList(\n",
       "                  (0): Linear(in_features=1280, out_features=1280, bias=True)\n",
       "                  (1): Dropout(p=0.0, inplace=False)\n",
       "                )\n",
       "              )\n",
       "              (norm3): LayerNorm((1280,), eps=1e-05, elementwise_affine=True)\n",
       "              (ff): FeedForward(\n",
       "                (net): ModuleList(\n",
       "                  (0): GEGLU(\n",
       "                    (proj): Linear(in_features=1280, out_features=10240, bias=True)\n",
       "                  )\n",
       "                  (1): Dropout(p=0.0, inplace=False)\n",
       "                  (2): Linear(in_features=5120, out_features=1280, bias=True)\n",
       "                )\n",
       "              )\n",
       "            )\n",
       "          )\n",
       "          (proj_out): Conv2d(1280, 1280, kernel_size=(1, 1), stride=(1, 1))\n",
       "        )\n",
       "      )\n",
       "      (resnets): ModuleList(\n",
       "        (0-1): 2 x ResnetBlock2D(\n",
       "          (norm1): GroupNorm(32, 2560, eps=1e-05, affine=True)\n",
       "          (conv1): Conv2d(2560, 1280, kernel_size=(3, 3), stride=(1, 1), padding=(1, 1))\n",
       "          (time_emb_proj): Linear(in_features=1280, out_features=1280, bias=True)\n",
       "          (norm2): GroupNorm(32, 1280, eps=1e-05, affine=True)\n",
       "          (dropout): Dropout(p=0.0, inplace=False)\n",
       "          (conv2): Conv2d(1280, 1280, kernel_size=(3, 3), stride=(1, 1), padding=(1, 1))\n",
       "          (nonlinearity): SiLU()\n",
       "          (conv_shortcut): Conv2d(2560, 1280, kernel_size=(1, 1), stride=(1, 1))\n",
       "        )\n",
       "        (2): ResnetBlock2D(\n",
       "          (norm1): GroupNorm(32, 1920, eps=1e-05, affine=True)\n",
       "          (conv1): Conv2d(1920, 1280, kernel_size=(3, 3), stride=(1, 1), padding=(1, 1))\n",
       "          (time_emb_proj): Linear(in_features=1280, out_features=1280, bias=True)\n",
       "          (norm2): GroupNorm(32, 1280, eps=1e-05, affine=True)\n",
       "          (dropout): Dropout(p=0.0, inplace=False)\n",
       "          (conv2): Conv2d(1280, 1280, kernel_size=(3, 3), stride=(1, 1), padding=(1, 1))\n",
       "          (nonlinearity): SiLU()\n",
       "          (conv_shortcut): Conv2d(1920, 1280, kernel_size=(1, 1), stride=(1, 1))\n",
       "        )\n",
       "      )\n",
       "      (upsamplers): ModuleList(\n",
       "        (0): Upsample2D(\n",
       "          (conv): Conv2d(1280, 1280, kernel_size=(3, 3), stride=(1, 1), padding=(1, 1))\n",
       "        )\n",
       "      )\n",
       "    )\n",
       "    (2): CrossAttnUpBlock2D(\n",
       "      (attentions): ModuleList(\n",
       "        (0-2): 3 x Transformer2DModel(\n",
       "          (norm): GroupNorm(32, 640, eps=1e-06, affine=True)\n",
       "          (proj_in): Conv2d(640, 640, kernel_size=(1, 1), stride=(1, 1))\n",
       "          (transformer_blocks): ModuleList(\n",
       "            (0): BasicTransformerBlock(\n",
       "              (norm1): LayerNorm((640,), eps=1e-05, elementwise_affine=True)\n",
       "              (attn1): Attention(\n",
       "                (to_q): Linear(in_features=640, out_features=640, bias=False)\n",
       "                (to_k): Linear(in_features=640, out_features=640, bias=False)\n",
       "                (to_v): Linear(in_features=640, out_features=640, bias=False)\n",
       "                (to_out): ModuleList(\n",
       "                  (0): Linear(in_features=640, out_features=640, bias=True)\n",
       "                  (1): Dropout(p=0.0, inplace=False)\n",
       "                )\n",
       "              )\n",
       "              (norm2): LayerNorm((640,), eps=1e-05, elementwise_affine=True)\n",
       "              (attn2): Attention(\n",
       "                (to_q): Linear(in_features=640, out_features=640, bias=False)\n",
       "                (to_k): Linear(in_features=768, out_features=640, bias=False)\n",
       "                (to_v): Linear(in_features=768, out_features=640, bias=False)\n",
       "                (to_out): ModuleList(\n",
       "                  (0): Linear(in_features=640, out_features=640, bias=True)\n",
       "                  (1): Dropout(p=0.0, inplace=False)\n",
       "                )\n",
       "              )\n",
       "              (norm3): LayerNorm((640,), eps=1e-05, elementwise_affine=True)\n",
       "              (ff): FeedForward(\n",
       "                (net): ModuleList(\n",
       "                  (0): GEGLU(\n",
       "                    (proj): Linear(in_features=640, out_features=5120, bias=True)\n",
       "                  )\n",
       "                  (1): Dropout(p=0.0, inplace=False)\n",
       "                  (2): Linear(in_features=2560, out_features=640, bias=True)\n",
       "                )\n",
       "              )\n",
       "            )\n",
       "          )\n",
       "          (proj_out): Conv2d(640, 640, kernel_size=(1, 1), stride=(1, 1))\n",
       "        )\n",
       "      )\n",
       "      (resnets): ModuleList(\n",
       "        (0): ResnetBlock2D(\n",
       "          (norm1): GroupNorm(32, 1920, eps=1e-05, affine=True)\n",
       "          (conv1): Conv2d(1920, 640, kernel_size=(3, 3), stride=(1, 1), padding=(1, 1))\n",
       "          (time_emb_proj): Linear(in_features=1280, out_features=640, bias=True)\n",
       "          (norm2): GroupNorm(32, 640, eps=1e-05, affine=True)\n",
       "          (dropout): Dropout(p=0.0, inplace=False)\n",
       "          (conv2): Conv2d(640, 640, kernel_size=(3, 3), stride=(1, 1), padding=(1, 1))\n",
       "          (nonlinearity): SiLU()\n",
       "          (conv_shortcut): Conv2d(1920, 640, kernel_size=(1, 1), stride=(1, 1))\n",
       "        )\n",
       "        (1): ResnetBlock2D(\n",
       "          (norm1): GroupNorm(32, 1280, eps=1e-05, affine=True)\n",
       "          (conv1): Conv2d(1280, 640, kernel_size=(3, 3), stride=(1, 1), padding=(1, 1))\n",
       "          (time_emb_proj): Linear(in_features=1280, out_features=640, bias=True)\n",
       "          (norm2): GroupNorm(32, 640, eps=1e-05, affine=True)\n",
       "          (dropout): Dropout(p=0.0, inplace=False)\n",
       "          (conv2): Conv2d(640, 640, kernel_size=(3, 3), stride=(1, 1), padding=(1, 1))\n",
       "          (nonlinearity): SiLU()\n",
       "          (conv_shortcut): Conv2d(1280, 640, kernel_size=(1, 1), stride=(1, 1))\n",
       "        )\n",
       "        (2): ResnetBlock2D(\n",
       "          (norm1): GroupNorm(32, 960, eps=1e-05, affine=True)\n",
       "          (conv1): Conv2d(960, 640, kernel_size=(3, 3), stride=(1, 1), padding=(1, 1))\n",
       "          (time_emb_proj): Linear(in_features=1280, out_features=640, bias=True)\n",
       "          (norm2): GroupNorm(32, 640, eps=1e-05, affine=True)\n",
       "          (dropout): Dropout(p=0.0, inplace=False)\n",
       "          (conv2): Conv2d(640, 640, kernel_size=(3, 3), stride=(1, 1), padding=(1, 1))\n",
       "          (nonlinearity): SiLU()\n",
       "          (conv_shortcut): Conv2d(960, 640, kernel_size=(1, 1), stride=(1, 1))\n",
       "        )\n",
       "      )\n",
       "      (upsamplers): ModuleList(\n",
       "        (0): Upsample2D(\n",
       "          (conv): Conv2d(640, 640, kernel_size=(3, 3), stride=(1, 1), padding=(1, 1))\n",
       "        )\n",
       "      )\n",
       "    )\n",
       "    (3): CrossAttnUpBlock2D(\n",
       "      (attentions): ModuleList(\n",
       "        (0-2): 3 x Transformer2DModel(\n",
       "          (norm): GroupNorm(32, 320, eps=1e-06, affine=True)\n",
       "          (proj_in): Conv2d(320, 320, kernel_size=(1, 1), stride=(1, 1))\n",
       "          (transformer_blocks): ModuleList(\n",
       "            (0): BasicTransformerBlock(\n",
       "              (norm1): LayerNorm((320,), eps=1e-05, elementwise_affine=True)\n",
       "              (attn1): Attention(\n",
       "                (to_q): Linear(in_features=320, out_features=320, bias=False)\n",
       "                (to_k): Linear(in_features=320, out_features=320, bias=False)\n",
       "                (to_v): Linear(in_features=320, out_features=320, bias=False)\n",
       "                (to_out): ModuleList(\n",
       "                  (0): Linear(in_features=320, out_features=320, bias=True)\n",
       "                  (1): Dropout(p=0.0, inplace=False)\n",
       "                )\n",
       "              )\n",
       "              (norm2): LayerNorm((320,), eps=1e-05, elementwise_affine=True)\n",
       "              (attn2): Attention(\n",
       "                (to_q): Linear(in_features=320, out_features=320, bias=False)\n",
       "                (to_k): Linear(in_features=768, out_features=320, bias=False)\n",
       "                (to_v): Linear(in_features=768, out_features=320, bias=False)\n",
       "                (to_out): ModuleList(\n",
       "                  (0): Linear(in_features=320, out_features=320, bias=True)\n",
       "                  (1): Dropout(p=0.0, inplace=False)\n",
       "                )\n",
       "              )\n",
       "              (norm3): LayerNorm((320,), eps=1e-05, elementwise_affine=True)\n",
       "              (ff): FeedForward(\n",
       "                (net): ModuleList(\n",
       "                  (0): GEGLU(\n",
       "                    (proj): Linear(in_features=320, out_features=2560, bias=True)\n",
       "                  )\n",
       "                  (1): Dropout(p=0.0, inplace=False)\n",
       "                  (2): Linear(in_features=1280, out_features=320, bias=True)\n",
       "                )\n",
       "              )\n",
       "            )\n",
       "          )\n",
       "          (proj_out): Conv2d(320, 320, kernel_size=(1, 1), stride=(1, 1))\n",
       "        )\n",
       "      )\n",
       "      (resnets): ModuleList(\n",
       "        (0): ResnetBlock2D(\n",
       "          (norm1): GroupNorm(32, 960, eps=1e-05, affine=True)\n",
       "          (conv1): Conv2d(960, 320, kernel_size=(3, 3), stride=(1, 1), padding=(1, 1))\n",
       "          (time_emb_proj): Linear(in_features=1280, out_features=320, bias=True)\n",
       "          (norm2): GroupNorm(32, 320, eps=1e-05, affine=True)\n",
       "          (dropout): Dropout(p=0.0, inplace=False)\n",
       "          (conv2): Conv2d(320, 320, kernel_size=(3, 3), stride=(1, 1), padding=(1, 1))\n",
       "          (nonlinearity): SiLU()\n",
       "          (conv_shortcut): Conv2d(960, 320, kernel_size=(1, 1), stride=(1, 1))\n",
       "        )\n",
       "        (1-2): 2 x ResnetBlock2D(\n",
       "          (norm1): GroupNorm(32, 640, eps=1e-05, affine=True)\n",
       "          (conv1): Conv2d(640, 320, kernel_size=(3, 3), stride=(1, 1), padding=(1, 1))\n",
       "          (time_emb_proj): Linear(in_features=1280, out_features=320, bias=True)\n",
       "          (norm2): GroupNorm(32, 320, eps=1e-05, affine=True)\n",
       "          (dropout): Dropout(p=0.0, inplace=False)\n",
       "          (conv2): Conv2d(320, 320, kernel_size=(3, 3), stride=(1, 1), padding=(1, 1))\n",
       "          (nonlinearity): SiLU()\n",
       "          (conv_shortcut): Conv2d(640, 320, kernel_size=(1, 1), stride=(1, 1))\n",
       "        )\n",
       "      )\n",
       "    )\n",
       "  )\n",
       "  (mid_block): UNetMidBlock2DCrossAttn(\n",
       "    (attentions): ModuleList(\n",
       "      (0): Transformer2DModel(\n",
       "        (norm): GroupNorm(32, 1280, eps=1e-06, affine=True)\n",
       "        (proj_in): Conv2d(1280, 1280, kernel_size=(1, 1), stride=(1, 1))\n",
       "        (transformer_blocks): ModuleList(\n",
       "          (0): BasicTransformerBlock(\n",
       "            (norm1): LayerNorm((1280,), eps=1e-05, elementwise_affine=True)\n",
       "            (attn1): Attention(\n",
       "              (to_q): Linear(in_features=1280, out_features=1280, bias=False)\n",
       "              (to_k): Linear(in_features=1280, out_features=1280, bias=False)\n",
       "              (to_v): Linear(in_features=1280, out_features=1280, bias=False)\n",
       "              (to_out): ModuleList(\n",
       "                (0): Linear(in_features=1280, out_features=1280, bias=True)\n",
       "                (1): Dropout(p=0.0, inplace=False)\n",
       "              )\n",
       "            )\n",
       "            (norm2): LayerNorm((1280,), eps=1e-05, elementwise_affine=True)\n",
       "            (attn2): Attention(\n",
       "              (to_q): Linear(in_features=1280, out_features=1280, bias=False)\n",
       "              (to_k): Linear(in_features=768, out_features=1280, bias=False)\n",
       "              (to_v): Linear(in_features=768, out_features=1280, bias=False)\n",
       "              (to_out): ModuleList(\n",
       "                (0): Linear(in_features=1280, out_features=1280, bias=True)\n",
       "                (1): Dropout(p=0.0, inplace=False)\n",
       "              )\n",
       "            )\n",
       "            (norm3): LayerNorm((1280,), eps=1e-05, elementwise_affine=True)\n",
       "            (ff): FeedForward(\n",
       "              (net): ModuleList(\n",
       "                (0): GEGLU(\n",
       "                  (proj): Linear(in_features=1280, out_features=10240, bias=True)\n",
       "                )\n",
       "                (1): Dropout(p=0.0, inplace=False)\n",
       "                (2): Linear(in_features=5120, out_features=1280, bias=True)\n",
       "              )\n",
       "            )\n",
       "          )\n",
       "        )\n",
       "        (proj_out): Conv2d(1280, 1280, kernel_size=(1, 1), stride=(1, 1))\n",
       "      )\n",
       "    )\n",
       "    (resnets): ModuleList(\n",
       "      (0-1): 2 x ResnetBlock2D(\n",
       "        (norm1): GroupNorm(32, 1280, eps=1e-05, affine=True)\n",
       "        (conv1): Conv2d(1280, 1280, kernel_size=(3, 3), stride=(1, 1), padding=(1, 1))\n",
       "        (time_emb_proj): Linear(in_features=1280, out_features=1280, bias=True)\n",
       "        (norm2): GroupNorm(32, 1280, eps=1e-05, affine=True)\n",
       "        (dropout): Dropout(p=0.0, inplace=False)\n",
       "        (conv2): Conv2d(1280, 1280, kernel_size=(3, 3), stride=(1, 1), padding=(1, 1))\n",
       "        (nonlinearity): SiLU()\n",
       "      )\n",
       "    )\n",
       "  )\n",
       "  (conv_norm_out): GroupNorm(32, 320, eps=1e-05, affine=True)\n",
       "  (conv_act): SiLU()\n",
       "  (conv_out): Conv2d(320, 4, kernel_size=(3, 3), stride=(1, 1), padding=(1, 1))\n",
       ")"
      ]
     },
     "execution_count": 12,
     "metadata": {},
     "output_type": "execute_result"
    },
    {
     "ename": "",
     "evalue": "",
     "output_type": "error",
     "traceback": [
      "\u001b[1;31mThe Kernel crashed while executing code in the current cell or a previous cell. \n",
      "\u001b[1;31mPlease review the code in the cell(s) to identify a possible cause of the failure. \n",
      "\u001b[1;31mClick <a href='https://aka.ms/vscodeJupyterKernelCrash'>here</a> for more info. \n",
      "\u001b[1;31mView Jupyter <a href='command:jupyter.viewOutput'>log</a> for further details."
     ]
    }
   ],
   "source": [
    "trainer.train(dataloader = train_dataloader,  validation_samples = validation_samples)"
   ]
  },
  {
   "cell_type": "code",
   "execution_count": null,
   "metadata": {},
   "outputs": [],
   "source": []
  }
 ],
 "metadata": {
  "kernelspec": {
   "display_name": ".venv",
   "language": "python",
   "name": "python3"
  },
  "language_info": {
   "codemirror_mode": {
    "name": "ipython",
    "version": 3
   },
   "file_extension": ".py",
   "mimetype": "text/x-python",
   "name": "python",
   "nbconvert_exporter": "python",
   "pygments_lexer": "ipython3",
   "version": "3.10.12"
  }
 },
 "nbformat": 4,
 "nbformat_minor": 2
}
