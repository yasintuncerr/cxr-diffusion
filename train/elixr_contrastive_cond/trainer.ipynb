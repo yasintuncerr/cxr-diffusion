{
 "cells": [
  {
   "cell_type": "markdown",
   "metadata": {},
   "source": [
    "# ELIXRB 32x768 BASED"
   ]
  },
  {
   "cell_type": "code",
   "execution_count": 2,
   "metadata": {},
   "outputs": [
    {
     "name": "stdout",
     "output_type": "stream",
     "text": [
      "/home/yasin/Lfstorage/datasets/nih-cxr14/elixr\n"
     ]
    }
   ],
   "source": [
    "import os\n",
    "import sys\n",
    "from dotenv import load_dotenv \n",
    "from pathlib import Path\n",
    "\n",
    "project_root = Path(os.path.abspath('')).parent.parent\n",
    "sys.path.append(str(project_root))\n",
    "\n",
    "\n",
    "\n",
    "load_dotenv()\n",
    "\n",
    "NIH_CXR14_ELIXR_DIR = os.getenv(\"NIH_CXR14_ELIXR_DIR\")\n",
    "INTERMEDIATE_DATA_DIR = project_root / \"data\"\n",
    "print(NIH_CXR14_ELIXR_DIR)\n",
    "os.environ['CUDA_VISIBLE_DEVICES'] = '0' \n"
   ]
  },
  {
   "cell_type": "code",
   "execution_count": 3,
   "metadata": {},
   "outputs": [],
   "source": [
    "import h5py\n",
    "import pickle\n",
    "import numpy as np\n",
    "import pandas as pd\n"
   ]
  },
  {
   "cell_type": "code",
   "execution_count": 4,
   "metadata": {},
   "outputs": [],
   "source": [
    "import torch\n",
    "import torch.optim as optim\n",
    "from torch.utils.data import Dataset\n"
   ]
  },
  {
   "cell_type": "code",
   "execution_count": 5,
   "metadata": {},
   "outputs": [
    {
     "name": "stderr",
     "output_type": "stream",
     "text": [
      "/home/yasin/Lfstorage/Projects/cxr-diffusion/.venv/lib/python3.10/site-packages/transformers/utils/hub.py:106: FutureWarning: Using `TRANSFORMERS_CACHE` is deprecated and will be removed in v5 of Transformers. Use `HF_HOME` instead.\n",
      "  warnings.warn(\n",
      "2025-03-13 00:00:08.937758: E external/local_xla/xla/stream_executor/cuda/cuda_fft.cc:477] Unable to register cuFFT factory: Attempting to register factory for plugin cuFFT when one has already been registered\n",
      "WARNING: All log messages before absl::InitializeLog() is called are written to STDERR\n",
      "E0000 00:00:1741813208.962628 2234473 cuda_dnn.cc:8310] Unable to register cuDNN factory: Attempting to register factory for plugin cuDNN when one has already been registered\n",
      "E0000 00:00:1741813208.970421 2234473 cuda_blas.cc:1418] Unable to register cuBLAS factory: Attempting to register factory for plugin cuBLAS when one has already been registered\n",
      "2025-03-13 00:00:08.996827: I tensorflow/core/platform/cpu_feature_guard.cc:210] This TensorFlow binary is optimized to use available CPU instructions in performance-critical operations.\n",
      "To enable the following instructions: AVX2 FMA, in other operations, rebuild TensorFlow with the appropriate compiler flags.\n"
     ]
    }
   ],
   "source": [
    "from diffusers import DDPMScheduler, UNet2DConditionModel\n",
    "from src.utils import Unet2DConditionalTrainer, TrainConfig, get_validation_samples, create_validation_dataloader\n"
   ]
  },
  {
   "cell_type": "markdown",
   "metadata": {},
   "source": [
    "## Prepara Dataset"
   ]
  },
  {
   "cell_type": "code",
   "execution_count": 6,
   "metadata": {},
   "outputs": [
    {
     "name": "stdout",
     "output_type": "stream",
     "text": [
      "['Image Index', 'all_contrastive_img_emb', 'contrastive_img_emb', 'contrastive_txt_emb']\n"
     ]
    }
   ],
   "source": [
    "from src.datasets import EmbeddingDataset\n",
    "\n",
    "contrastive_dataset = EmbeddingDataset(root = NIH_CXR14_ELIXR_DIR + \"/elixrb/contrastive\",name=\"contrastive\", use_cache=True)\n",
    "\n",
    "print(contrastive_dataset.list_columns())"
   ]
  },
  {
   "cell_type": "code",
   "execution_count": 7,
   "metadata": {},
   "outputs": [
    {
     "name": "stdout",
     "output_type": "stream",
     "text": [
      "['Image Index', 'all_contrastive_img_emb']\n",
      "112120\n"
     ]
    }
   ],
   "source": [
    "contrastive_dataset.set_active_columns([\"Image Index\", \"all_contrastive_img_emb\"])\n",
    "print(contrastive_dataset.list_columns())\n",
    "print(len(contrastive_dataset))"
   ]
  },
  {
   "cell_type": "code",
   "execution_count": 10,
   "metadata": {},
   "outputs": [],
   "source": [
    "filtered_df = pd.read_csv(INTERMEDIATE_DATA_DIR / \"filtered_nihcxr14.csv\")\n",
    "filtered_idxs = filtered_df[\"Image Index\"].values\n",
    "\n",
    "with open(INTERMEDIATE_DATA_DIR / \"latents_64.pkl\", \"rb\") as f:\n",
    "    latents = pickle.load(f)\n",
    "\n",
    "    "
   ]
  },
  {
   "cell_type": "code",
   "execution_count": 11,
   "metadata": {},
   "outputs": [
    {
     "name": "stdout",
     "output_type": "stream",
     "text": [
      "48311\n"
     ]
    }
   ],
   "source": [
    "class CustomDataset(Dataset):\n",
    "    def __init__(self, latents, contrastive_dataset, filtered_idxs):\n",
    "        self.latents = latents\n",
    "        self.contrastive_dataset = contrastive_dataset\n",
    "        self.filtered_idxs = filtered_idxs\n",
    "\n",
    "    def __len__(self):\n",
    "        return len(self.filtered_idxs)\n",
    "\n",
    "    def __getitem__(self, idx):\n",
    "        if idx >= len(self):\n",
    "            raise IndexError\n",
    "        \n",
    "        img_idx = self.filtered_idxs[idx]\n",
    "        item = self.contrastive_dataset[img_idx]\n",
    "        cond_embed = item[\"all_contrastive_img_emb\"]\n",
    "        img_idx = item[\"Image Index\"][0]\n",
    "        cond_embed = item[\"all_contrastive_img_emb\"]\n",
    "        latent = self.latents[img_idx]\n",
    "\n",
    "        latent_tensor = torch.tensor(latent, dtype=torch.float32)\n",
    "        cond_embed_tensor = torch.tensor(cond_embed, dtype=torch.float32)\n",
    "        return latent_tensor, cond_embed_tensor\n",
    "    \n",
    "    \n",
    "\n",
    "dataset = CustomDataset(latents=latents,\n",
    "                        contrastive_dataset=contrastive_dataset,\n",
    "                        filtered_idxs=filtered_idxs)\n",
    "\n",
    "\n",
    "print(len(dataset))\n"
   ]
  },
  {
   "cell_type": "code",
   "execution_count": 12,
   "metadata": {},
   "outputs": [
    {
     "name": "stdout",
     "output_type": "stream",
     "text": [
      "torch.Size([4, 64, 64])\n",
      "torch.Size([32, 128])\n"
     ]
    }
   ],
   "source": [
    "sample_latent, sample_cond_embed = dataset[0]\n",
    "print(sample_latent.shape)\n",
    "print(sample_cond_embed.shape)"
   ]
  },
  {
   "cell_type": "code",
   "execution_count": 13,
   "metadata": {},
   "outputs": [],
   "source": [
    "config = TrainConfig(\n",
    "    batch_size=4,\n",
    "    num_workers=24,\n",
    "    mixed_precision=True,\n",
    "    learning_rate=1e-5,\n",
    "    weight_decay=1e-6,\n",
    "    num_epochs=20,\n",
    "    gradient_accumulation_steps=64,  # Effective batch size of 128\n",
    "    scheduler_type=\"cosine\",\n",
    "    early_stopping_patience=5,\n",
    "    use_timestep_weights=True\n",
    ")"
   ]
  },
  {
   "cell_type": "code",
   "execution_count": 14,
   "metadata": {},
   "outputs": [],
   "source": [
    "unet = UNet2DConditionModel(act_fn=\"silu\",\n",
    "                                    attention_head_dim=8,\n",
    "                                    center_input_sample=False,\n",
    "                                    downsample_padding=1,\n",
    "                                    flip_sin_to_cos=True,\n",
    "                                    freq_shift=0,\n",
    "                                    mid_block_scale_factor=1,\n",
    "                                    norm_eps=1e-05,\n",
    "                                    norm_num_groups=32,\n",
    "                                    sample_size=64, # generated samples are 512x512\n",
    "                                    in_channels=4, \n",
    "                                    out_channels=4, \n",
    "                                    layers_per_block=2, \n",
    "                                    block_out_channels=(320, 640, 1280, 1280), \n",
    "                                    down_block_types=(\n",
    "                                    \"CrossAttnDownBlock2D\",\n",
    "                                    \"CrossAttnDownBlock2D\",\n",
    "                                    \"CrossAttnDownBlock2D\",\n",
    "                                    \"DownBlock2D\"), \n",
    "                                    up_block_types=(\"UpBlock2D\",\n",
    "                                    \"CrossAttnUpBlock2D\",\n",
    "                                    \"CrossAttnUpBlock2D\",\n",
    "                                    \"CrossAttnUpBlock2D\"),\n",
    "                                    cross_attention_dim=128\n",
    "                                )"
   ]
  },
  {
   "cell_type": "code",
   "execution_count": 15,
   "metadata": {},
   "outputs": [],
   "source": [
    "optimizer = torch.optim.AdamW(unet.parameters(), lr=config.learning_rate)\n",
    "noise_scheduler = DDPMScheduler(num_train_timesteps=1000)"
   ]
  },
  {
   "cell_type": "code",
   "execution_count": 16,
   "metadata": {},
   "outputs": [],
   "source": [
    "train_dataloader = torch.utils.data.DataLoader(dataset, batch_size=config.batch_size, num_workers=config.num_workers, shuffle=True, pin_memory=True)\n"
   ]
  },
  {
   "cell_type": "code",
   "execution_count": 19,
   "metadata": {},
   "outputs": [],
   "source": [
    "validation_samples = get_validation_samples(dataset, num_samples=16, max_seq_len=32)"
   ]
  },
  {
   "cell_type": "code",
   "execution_count": 20,
   "metadata": {},
   "outputs": [
    {
     "name": "stdout",
     "output_type": "stream",
     "text": [
      "torch.Size([32, 768])\n"
     ]
    }
   ],
   "source": [
    "print(validation_samples[0].shape)"
   ]
  },
  {
   "cell_type": "code",
   "execution_count": 21,
   "metadata": {},
   "outputs": [
    {
     "name": "stdout",
     "output_type": "stream",
     "text": [
      "Log directory is output/logs\n",
      "Output directory is output\n"
     ]
    }
   ],
   "source": [
    "import tensorboard\n",
    "trainer = Unet2DConditionalTrainer(\n",
    "    unet=unet,\n",
    "    train_config=config,\n",
    "    noise_scheduler=noise_scheduler,\n",
    "    optimizer=optimizer)"
   ]
  },
  {
   "cell_type": "code",
   "execution_count": null,
   "metadata": {},
   "outputs": [
    {
     "data": {
      "application/vnd.jupyter.widget-view+json": {
       "model_id": "d9bb1a655ff543de9a04ea0d0fa7e946",
       "version_major": 2,
       "version_minor": 0
      },
      "text/plain": [
       "  0%|          | 0/20 [00:00<?, ?it/s]"
      ]
     },
     "metadata": {},
     "output_type": "display_data"
    },
    {
     "data": {
      "application/vnd.jupyter.widget-view+json": {
       "model_id": "e9a6a771de4543469dc4deb13adaaa09",
       "version_major": 2,
       "version_minor": 0
      },
      "text/plain": [
       "  0%|          | 0/12078 [00:00<?, ?it/s]"
      ]
     },
     "metadata": {},
     "output_type": "display_data"
    }
   ],
   "source": [
    "trainer.train(dataloader = train_dataloader,  \n",
    "              validation_samples = validation_samples\n",
    ")"
   ]
  },
  {
   "cell_type": "code",
   "execution_count": null,
   "metadata": {},
   "outputs": [],
   "source": []
  }
 ],
 "metadata": {
  "kernelspec": {
   "display_name": ".venv",
   "language": "python",
   "name": "python3"
  },
  "language_info": {
   "codemirror_mode": {
    "name": "ipython",
    "version": 3
   },
   "file_extension": ".py",
   "mimetype": "text/x-python",
   "name": "python",
   "nbconvert_exporter": "python",
   "pygments_lexer": "ipython3",
   "version": "3.10.12"
  }
 },
 "nbformat": 4,
 "nbformat_minor": 2
}
