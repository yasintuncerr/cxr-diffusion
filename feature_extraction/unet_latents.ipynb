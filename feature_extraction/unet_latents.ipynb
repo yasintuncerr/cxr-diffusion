{
 "cells": [
  {
   "cell_type": "code",
   "execution_count": 1,
   "metadata": {},
   "outputs": [],
   "source": [
    "import os\n",
    "import sys\n",
    "import numpy as np\n",
    "import pandas as pd\n",
    "from torch.utils.data import DataLoader\n"
   ]
  },
  {
   "cell_type": "code",
   "execution_count": 2,
   "metadata": {},
   "outputs": [],
   "source": [
    "from dotenv import load_dotenv \n",
    "from pathlib import Path\n",
    "load_dotenv()\n",
    "\n",
    "project_root = Path(os.path.abspath('')).parent\n",
    "sys.path.append(str(project_root))"
   ]
  },
  {
   "cell_type": "code",
   "execution_count": 3,
   "metadata": {},
   "outputs": [
    {
     "name": "stdout",
     "output_type": "stream",
     "text": [
      "/home/yasin/Lfstorage/datasets/nih-cxr14/original\n",
      "./data\n"
     ]
    }
   ],
   "source": [
    "INTERMEDIATE_DATA_DIR = os.getenv(\"INTERMEDIATE_DATA_DIR\")\n",
    "NIH_CXR14_DATASET_DIR = os.getenv(\"NIH_CXR14_DATASET_DIR\") + \"/original\"\n",
    "print(NIH_CXR14_DATASET_DIR)\n",
    "print(INTERMEDIATE_DATA_DIR)"
   ]
  },
  {
   "cell_type": "code",
   "execution_count": 4,
   "metadata": {},
   "outputs": [
    {
     "name": "stderr",
     "output_type": "stream",
     "text": [
      "/home/yasin/Lfstorage/Projects/cxr-diffusion/.venv/lib/python3.10/site-packages/transformers/utils/hub.py:106: FutureWarning: Using `TRANSFORMERS_CACHE` is deprecated and will be removed in v5 of Transformers. Use `HF_HOME` instead.\n",
      "  warnings.warn(\n",
      "2025-03-10 04:08:24.518877: E external/local_xla/xla/stream_executor/cuda/cuda_fft.cc:477] Unable to register cuFFT factory: Attempting to register factory for plugin cuFFT when one has already been registered\n",
      "WARNING: All log messages before absl::InitializeLog() is called are written to STDERR\n",
      "E0000 00:00:1741568904.541563 1521762 cuda_dnn.cc:8310] Unable to register cuDNN factory: Attempting to register factory for plugin cuDNN when one has already been registered\n",
      "E0000 00:00:1741568904.548443 1521762 cuda_blas.cc:1418] Unable to register cuBLAS factory: Attempting to register factory for plugin cuBLAS when one has already been registered\n",
      "2025-03-10 04:08:24.575010: I tensorflow/core/platform/cpu_feature_guard.cc:210] This TensorFlow binary is optimized to use available CPU instructions in performance-critical operations.\n",
      "To enable the following instructions: AVX2 FMA, in other operations, rebuild TensorFlow with the appropriate compiler flags.\n"
     ]
    }
   ],
   "source": [
    "from src.utils import VaeFeatureExtractor\n",
    "from src.datasets import NIHImageDataset\n",
    "from src.pipelines import VaeProcessor\n"
   ]
  },
  {
   "cell_type": "code",
   "execution_count": 5,
   "metadata": {},
   "outputs": [],
   "source": [
    "device = \"cuda:0\"\n",
    "batch_size = 16\n",
    "num_workers = 24\n",
    "size = 512\n",
    "save_dir = INTERMEDIATE_DATA_DIR + f\"/{size}_vae_features\""
   ]
  },
  {
   "cell_type": "code",
   "execution_count": 15,
   "metadata": {},
   "outputs": [],
   "source": [
    "vae_processor = VaeProcessor(device=device)\n",
    "\n",
    "def transform(image):\n",
    "    output = vae_processor.image_processor.preprocess(image=image, width=size, height=size)\n",
    "    output = output.squeeze(0)\n",
    "    return output\n",
    "dataset = NIHImageDataset(NIH_CXR14_DATASET_DIR , transform=transform)\n",
    "\n",
    "\n",
    "dataloader = DataLoader(dataset, batch_size=batch_size, num_workers=num_workers, shuffle=False)"
   ]
  },
  {
   "cell_type": "code",
   "execution_count": 16,
   "metadata": {},
   "outputs": [
    {
     "data": {
      "text/plain": [
       "torch.Size([16, 3, 512, 512])"
      ]
     },
     "execution_count": 16,
     "metadata": {},
     "output_type": "execute_result"
    }
   ],
   "source": [
    "sample = next(iter(dataloader))\n",
    "sample[1].shape\n"
   ]
  },
  {
   "cell_type": "code",
   "execution_count": null,
   "metadata": {},
   "outputs": [],
   "source": [
    "from tqdm.auto import tqdm\n",
    "\n",
    "for i, batch in enumerate(tqdm(dataloader)):\n",
    "    print(i)\n",
    "    print(type(batch))\n",
    "    print(len(batch))\n",
    "    print(type(batch[0]))\n",
    "    print(len(batch[0]))\n",
    "    break\n"
   ]
  },
  {
   "cell_type": "code",
   "execution_count": null,
   "metadata": {},
   "outputs": [],
   "source": [
    "\n",
    "feature_extractor = VaeFeatureExtractor(\n",
    "    processor=vae_processor,\n",
    "    dataloader=dataloader,\n",
    "    save_dir=save_dir,\n",
    "    save_name=\"feature\",\n",
    "    chunk_size=100\n",
    ")   \n",
    "\n"
   ]
  },
  {
   "cell_type": "code",
   "execution_count": null,
   "metadata": {},
   "outputs": [],
   "source": [
    "feature_extractor.run()"
   ]
  }
 ],
 "metadata": {
  "kernelspec": {
   "display_name": ".venv",
   "language": "python",
   "name": "python3"
  },
  "language_info": {
   "codemirror_mode": {
    "name": "ipython",
    "version": 3
   },
   "file_extension": ".py",
   "mimetype": "text/x-python",
   "name": "python",
   "nbconvert_exporter": "python",
   "pygments_lexer": "ipython3",
   "version": "3.10.12"
  }
 },
 "nbformat": 4,
 "nbformat_minor": 2
}
