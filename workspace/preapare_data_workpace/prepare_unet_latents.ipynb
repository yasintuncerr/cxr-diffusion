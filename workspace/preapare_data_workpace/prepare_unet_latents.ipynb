{
 "cells": [
  {
   "cell_type": "code",
   "execution_count": null,
   "metadata": {},
   "outputs": [],
   "source": [
    "import sys\n",
    "import os\n",
    "from pathlib import Path\n",
    "\n",
    "# Get absolute path to project root\n",
    "project_root = Path(os.path.abspath('')).parent.parent\n",
    "sys.path.append(str(project_root))\n",
    "\n",
    "from dotenv import load_dotenv\n",
    "load_dotenv()\n",
    "\n",
    "nih_dataset_root_dir = os.getenv(\"NIH_CXR14_DATASET_DIR\")\n",
    "\n",
    "main_output_dir = \"../data\"\n",
    "os.makedirs(main_output_dir, exist_ok=True)"
   ]
  },
  {
   "cell_type": "code",
   "execution_count": 2,
   "metadata": {},
   "outputs": [
    {
     "name": "stdout",
     "output_type": "stream",
     "text": [
      "(tensor([0., 0., 1., 0., 0.], dtype=torch.float64), '00000001_002.png', ['Infiltration', 'No Finding', 'Effusion', 'Nodule/Mass', 'Atelectasis'])\n"
     ]
    }
   ],
   "source": [
    "from src.datasets import NIHImageDataset, NIHFindingLabels\n",
    "\n",
    "\n",
    "nih_finding_labels = NIHFindingLabels.load_from_processed(main_output_dir)\n",
    "\n",
    "\n",
    "#print sample of the labels\n",
    "\n",
    "sample = nih_finding_labels[0]\n",
    "\n",
    "print(sample)\n"
   ]
  },
  {
   "cell_type": "code",
   "execution_count": 3,
   "metadata": {},
   "outputs": [],
   "source": [
    "import torchvision.transforms as transforms\n",
    "\n",
    "\n",
    "img_size = 224\n",
    "\n",
    "# Image transformations\n",
    "image_transform = transforms.Compose([\n",
    "    transforms.ToTensor(),\n",
    "    transforms.Normalize([0.5], [0.5])\n",
    "])\n",
    "\n",
    "nih_image_dataset = NIHImageDataset(root_dir=nih_dataset_root_dir,\n",
    "                              img_size = img_size,\n",
    "                              transform=image_transform\n",
    ")\n",
    "\n"
   ]
  },
  {
   "cell_type": "code",
   "execution_count": 4,
   "metadata": {},
   "outputs": [],
   "source": [
    "from torch.utils.data import Dataset, DataLoader\n",
    "\n",
    "class CustomDataset(Dataset):\n",
    "    def __init__(self, image_dataset, finding_labels):\n",
    "        self.image_dataset = image_dataset\n",
    "        self.finding_labels = finding_labels\n",
    "\n",
    "    def __len__(self):\n",
    "        return len(self.finding_labels)\n",
    "    \n",
    "    def __getitem__(self, idx):\n",
    "        # Get labels, image_id and label names from finding_labels\n",
    "        _, image_id, _ = self.finding_labels[idx]\n",
    "        \n",
    "        # Get image using string-based lookup (image_id is already a string)\n",
    "        image, _ = self.image_dataset[image_id]\n",
    "        \n",
    "        return image_id, image"
   ]
  },
  {
   "cell_type": "code",
   "execution_count": 5,
   "metadata": {},
   "outputs": [],
   "source": [
    "\n",
    "device = \"cuda\"\n",
    "batch_size = 32\n",
    "num_workers = 4\n",
    "\n",
    "\n",
    "custom_dataset = CustomDataset(nih_image_dataset, nih_finding_labels)\n",
    "custom_dataloader = DataLoader(\n",
    "    custom_dataset,\n",
    "    batch_size=batch_size,\n",
    "    shuffle=False,\n",
    "    num_workers=num_workers,\n",
    "    pin_memory=True\n",
    ")"
   ]
  },
  {
   "cell_type": "code",
   "execution_count": 6,
   "metadata": {},
   "outputs": [
    {
     "name": "stderr",
     "output_type": "stream",
     "text": [
      "/home/yasin/Lfstorage/Projects/cxr-diffusion/.venv/lib/python3.10/site-packages/transformers/utils/hub.py:128: FutureWarning: Using `TRANSFORMERS_CACHE` is deprecated and will be removed in v5 of Transformers. Use `HF_HOME` instead.\n",
      "  warnings.warn(\n"
     ]
    }
   ],
   "source": [
    "from src.pipelines import VaeProcessor\n",
    "\n",
    "vae_processor = VaeProcessor(device= device)\n"
   ]
  },
  {
   "cell_type": "code",
   "execution_count": 7,
   "metadata": {},
   "outputs": [],
   "source": [
    "import pickle\n",
    "import os\n",
    "\n",
    "def update_pickle(pickle_file, data):\n",
    "    \n",
    "    try:\n",
    "        # If file exists, load and update\n",
    "        if os.path.exists(pickle_file):\n",
    "            with open(pickle_file, 'rb') as f:\n",
    "                old_data = pickle.load(f)\n",
    "            old_data.update(data)\n",
    "        else:\n",
    "            # If file doesn't exist, use new data directly\n",
    "            old_data = data\n",
    "        \n",
    "        # Save updated data\n",
    "        with open(pickle_file, 'wb') as f:\n",
    "            pickle.dump(old_data, f)\n",
    "            \n",
    "        return True\n",
    "        \n",
    "    except Exception as e:\n",
    "        raise Exception(f\"Error updating pickle file: {str(e)}\")"
   ]
  },
  {
   "cell_type": "code",
   "execution_count": 8,
   "metadata": {},
   "outputs": [
    {
     "data": {
      "application/vnd.jupyter.widget-view+json": {
       "model_id": "6a85a2d33be2426e844b972b6ce3b605",
       "version_major": 2,
       "version_minor": 0
      },
      "text/plain": [
       "  0%|          | 0/1510 [00:00<?, ?it/s]"
      ]
     },
     "metadata": {},
     "output_type": "display_data"
    }
   ],
   "source": [
    "from tqdm.notebook import tqdm\n",
    "import os\n",
    "import torch\n",
    "\n",
    "# Dictionary to store all latents\n",
    "latents_dict = {}\n",
    "\n",
    "try:\n",
    "    for image_ids, input_tensors in tqdm(custom_dataloader):\n",
    "\n",
    "        input_tensors = input_tensors.to(device)\n",
    "        \n",
    "        with torch.no_grad():\n",
    "            batch_latents = vae_processor.prepare_latent(image=input_tensors)\n",
    "        \n",
    "        for i, image_id in enumerate(image_ids):\n",
    "            latents_dict[image_id] = batch_latents[i].detach().cpu()\n",
    "        \n",
    "        if len(latents_dict) >= 1000:\n",
    "            update_pickle(\"latents.pkl\", latents_dict)\n",
    "            latents_dict = {}\n",
    "    if len(latents_dict) > 0:\n",
    "        update_pickle(\"latents.pkl\", latents_dict)\n",
    "        latents_dict = {}\n",
    "\n",
    "except Exception as e:\n",
    "    print(f\"Error: {str(e)}\")\n",
    "    update_pickle(\"latents.pkl\", latents_dict)\n",
    "    latents_dict = {}\n"
   ]
  },
  {
   "cell_type": "code",
   "execution_count": null,
   "metadata": {},
   "outputs": [],
   "source": []
  }
 ],
 "metadata": {
  "kernelspec": {
   "display_name": ".venv",
   "language": "python",
   "name": "python3"
  },
  "language_info": {
   "codemirror_mode": {
    "name": "ipython",
    "version": 3
   },
   "file_extension": ".py",
   "mimetype": "text/x-python",
   "name": "python",
   "nbconvert_exporter": "python",
   "pygments_lexer": "ipython3",
   "version": "3.10.12"
  }
 },
 "nbformat": 4,
 "nbformat_minor": 2
}
