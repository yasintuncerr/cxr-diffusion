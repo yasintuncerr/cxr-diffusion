{
 "cells": [
  {
   "cell_type": "code",
   "execution_count": null,
   "metadata": {},
   "outputs": [],
   "source": [
    "import sys\n",
    "import os\n",
    "from pathlib import Path\n",
    "\n",
    "# Get absolute path to project root\n",
    "project_root = Path(os.path.abspath('')).parent.parent\n",
    "sys.path.append(str(project_root))\n",
    "\n",
    "from dotenv import load_dotenv\n",
    "load_dotenv()\n",
    "\n",
    "nih_dataset_root_dir = os.getenv(\"NIH_CXR14_DATASET_DIR\")\n",
    "\n",
    "main_output_dir = \"../data\"\n",
    "os.makedirs(main_output_dir, exist_ok=True)"
   ]
  },
  {
   "cell_type": "code",
   "execution_count": 2,
   "metadata": {},
   "outputs": [
    {
     "name": "stdout",
     "output_type": "stream",
     "text": [
      "Label                | Count     \n",
      "--------------------------------\n",
      "No Finding           | 60361     \n",
      "Infiltration         | 19894     \n",
      "Effusion             | 13317     \n",
      "Atelectasis          | 11559     \n",
      "Nodule               | 6331      \n",
      "Mass                 | 5782      \n",
      "Pneumothorax         | 5302      \n",
      "Consolidation        | 4667      \n",
      "Pleural_Thickening   | 3385      \n",
      "Cardiomegaly         | 2776      \n",
      "Emphysema            | 2516      \n",
      "Edema                | 2303      \n",
      "Fibrosis             | 1686      \n",
      "Pneumonia            | 1431      \n",
      "Hernia               | 227       \n",
      "None\n",
      "NIH-CXR14 Data Entries:  112120\n",
      "NIH-CXR14 Data Entries Sample:  (tensor([0., 0., 0., 0., 0., 0., 0., 0., 0., 1., 0., 0., 0., 0., 0.],\n",
      "       dtype=torch.float64), '00000001_000.png', ['No Finding', 'Infiltration', 'Effusion', 'Atelectasis', 'Nodule', 'Mass', 'Pneumothorax', 'Consolidation', 'Pleural_Thickening', 'Cardiomegaly', 'Emphysema', 'Edema', 'Fibrosis', 'Pneumonia', 'Hernia'])\n"
     ]
    }
   ],
   "source": [
    "## Load the NIH data Entries\n",
    "\n",
    "from src.datasets import NIHFindingLabels\n",
    "from src.utils import print_dict_as_table\n",
    "\n",
    "\n",
    "nih_finding_labels = NIHFindingLabels(nih_dataset_root_dir)\n",
    "\n",
    "\n",
    "label_counts = nih_finding_labels.label_counts\n",
    "print(print_dict_as_table(label_counts, [\"Label\", \"Count\"]))\n",
    "\n",
    "print(\"NIH-CXR14 Data Entries: \", len(nih_finding_labels))\n",
    "\n",
    "\n",
    "print(\"NIH-CXR14 Data Entries Sample: \", nih_finding_labels[0])\n"
   ]
  },
  {
   "cell_type": "code",
   "execution_count": 3,
   "metadata": {},
   "outputs": [],
   "source": [
    "## merge the labels\n",
    "\n",
    "labels_to_merge = [\"Nodule\", \"Mass\"]\n",
    "\n",
    "new_label = \"Nodule/Mass\"\n",
    "nih_finding_labels = nih_finding_labels.merge_labels(labels_to_merge, new_label)\n"
   ]
  },
  {
   "cell_type": "code",
   "execution_count": 4,
   "metadata": {},
   "outputs": [
    {
     "name": "stdout",
     "output_type": "stream",
     "text": [
      "Label                | Count     \n",
      "--------------------------------\n",
      "No Finding           | 60361     \n",
      "Infiltration         | 19894     \n",
      "Effusion             | 13317     \n",
      "Atelectasis          | 11559     \n",
      "Nodule/Mass          | 11207     \n",
      "None\n",
      "Top K Labels:  dict_keys(['No Finding', 'Infiltration', 'Effusion', 'Atelectasis', 'Nodule/Mass'])\n",
      "Top K Data Entries:  102566\n"
     ]
    }
   ],
   "source": [
    "## filter by top k labels\n",
    "top_k = 5\n",
    "\n",
    "top_k_labels = nih_finding_labels.create_top_k_dataset(top_k)\n",
    "\n",
    "label_counts = top_k_labels.label_counts\n",
    "\n",
    "print(print_dict_as_table(label_counts, [\"Label\", \"Count\"]))\n",
    "print(\"Top K Labels: \", top_k_labels.label_counts.keys())\n",
    "print(\"Top K Data Entries: \", len(top_k_labels))\n",
    "\n",
    "\n"
   ]
  },
  {
   "cell_type": "code",
   "execution_count": 5,
   "metadata": {},
   "outputs": [
    {
     "name": "stdout",
     "output_type": "stream",
     "text": [
      "Label                | Count     \n",
      "--------------------------------\n",
      "Infiltration         | 13000     \n",
      "No Finding           | 13000     \n",
      "Effusion             | 9651      \n",
      "Nodule/Mass          | 8947      \n",
      "Atelectasis          | 8591      \n",
      "None\n",
      "Top K Labels:  dict_keys(['Infiltration', 'No Finding', 'Effusion', 'Nodule/Mass', 'Atelectasis'])\n",
      "Top K Data Entries:  48311\n"
     ]
    }
   ],
   "source": [
    "## balance the label distribution\n",
    "\n",
    "balanced_labels = top_k_labels.balance_labels(13000)\n",
    "\n",
    "label_counts = balanced_labels.label_counts\n",
    "\n",
    "print(print_dict_as_table(label_counts, [\"Label\", \"Count\"]))\n",
    "print(\"Top K Labels: \", label_counts.keys())\n",
    "print(\"Top K Data Entries: \", len(balanced_labels))\n",
    "\n",
    "\n",
    "\n"
   ]
  },
  {
   "cell_type": "code",
   "execution_count": 6,
   "metadata": {},
   "outputs": [],
   "source": [
    "## save the data entries\n",
    "\n",
    "balanced_labels.save(main_output_dir)"
   ]
  },
  {
   "cell_type": "code",
   "execution_count": null,
   "metadata": {},
   "outputs": [],
   "source": []
  }
 ],
 "metadata": {
  "kernelspec": {
   "display_name": ".venv",
   "language": "python",
   "name": "python3"
  },
  "language_info": {
   "codemirror_mode": {
    "name": "ipython",
    "version": 3
   },
   "file_extension": ".py",
   "mimetype": "text/x-python",
   "name": "python",
   "nbconvert_exporter": "python",
   "pygments_lexer": "ipython3",
   "version": "3.10.12"
  }
 },
 "nbformat": 4,
 "nbformat_minor": 2
}
