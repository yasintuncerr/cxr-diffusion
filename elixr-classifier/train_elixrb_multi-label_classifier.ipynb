{
 "cells": [
  {
   "cell_type": "code",
   "execution_count": null,
   "metadata": {},
   "outputs": [],
   "source": [
    "import sys\n",
    "import os\n",
    "sys.path.append(os.path.abspath(\"..\")) \n",
    "\n",
    "from dotenv import load_dotenv\n",
    "load_dotenv()"
   ]
  },
  {
   "cell_type": "code",
   "execution_count": 1,
   "metadata": {},
   "outputs": [],
   "source": [
    "import os\n",
    "import json\n",
    "import pickle\n",
    "\n",
    "from tqdm.notebook import tqdm\n",
    "from dotenv import load_dotenv\n",
    "\n",
    "import torch \n",
    "import torch.nn as nn\n",
    "import torch.optim as optim\n",
    "import torch.nn.functional as F\n",
    "\n",
    "from torch.utils.data import DataLoader\n",
    "\n",
    "from src.models import ElixrbClassifier"
   ]
  },
  {
   "cell_type": "markdown",
   "metadata": {},
   "source": [
    "# HELPER FUNCTIONS"
   ]
  },
  {
   "cell_type": "code",
   "execution_count": 2,
   "metadata": {},
   "outputs": [],
   "source": [
    "\n",
    "\n",
    "def _prepare_output_dir(output_dir):\n",
    "    if not os.path.exists(output_dir):\n",
    "        os.makedirs(output_dir)\n",
    "        \n",
    "    output_dir = os.path.join(output_dir, 'elixrb-classifier')\n",
    "    if not os.path.exists(output_dir):\n",
    "        os.makedirs(output_dir)\n",
    "    \n",
    "    return output_dir\n",
    "\n",
    "def _save_model_and_config(model, config:dict = None, output_dir=None):\n",
    "    if output_dir is None:\n",
    "        output_dir = 'output'\n",
    "        \n",
    "    output_dir = _prepare_output_dir(output_dir)\n",
    "    \n",
    "    torch.save(model.state_dict(), os.path.join(output_dir, 'model.pth'))\n",
    "        \n",
    "    if config is not None:\n",
    "        if not isinstance(config, dict):\n",
    "            raise ValueError(\"config should be a dictionary\")\n",
    "            \n",
    "        if os.path.exists(os.path.join(output_dir, 'config.json')):\n",
    "            os.remove(os.path.join(output_dir, 'config.json'))\n",
    "            \n",
    "        with open(os.path.join(output_dir, 'config.json'), 'w') as f:\n",
    "            json.dump(config, f)"
   ]
  },
  {
   "cell_type": "markdown",
   "metadata": {},
   "source": [
    "# Trainer and Evaution Code Block"
   ]
  },
  {
   "cell_type": "code",
   "execution_count": 3,
   "metadata": {},
   "outputs": [],
   "source": [
    "\n",
    "\n",
    "\n",
    "def train_model(model, train_loader, num_epochs=100, learning_rate=0.001, \n",
    "                weight_decay=0.01, output_dir=None, device=None):\n",
    "    criterion = nn.CrossEntropyLoss()\n",
    "    optimizer = optim.AdamW(model.parameters(), lr=learning_rate, weight_decay=0.01)\n",
    "    scheduler = optim.lr_scheduler.ReduceLROnPlateau(optimizer, mode='min', \n",
    "                                                    factor=0.5, patience=3, verbose=True)\n",
    "    \n",
    "    device = device\n",
    "    model = model.to(device)\n",
    "    \n",
    "    config = {\n",
    "        \"num_epochs\": num_epochs,\n",
    "        \"learning_rate\": learning_rate,\n",
    "        \"optimizer\": optimizer.__class__.__name__,\n",
    "        \"weight_decay\": weight_decay,\n",
    "        \"criterion\": criterion.__class__.__name__,\n",
    "        \"scheduler\": scheduler.__class__.__name__\n",
    "    }\n",
    "    \n",
    "    best_loss = float('inf')\n",
    "    \n",
    "    # Ana epoch döngüsü için tqdm\n",
    "    epoch_pbar = tqdm(range(num_epochs), desc='Training', unit='epoch')\n",
    "    \n",
    "    for epoch in epoch_pbar:\n",
    "        model.train()\n",
    "        running_loss = 0.0\n",
    "        \n",
    "        # Batch döngüsü için tqdm\n",
    "        batch_pbar = tqdm(train_loader, desc=f'Epoch {epoch+1}/{num_epochs}', \n",
    "                         leave=False, unit='batch')\n",
    "        \n",
    "        for features, labels in batch_pbar:\n",
    "            features, labels = features.to(device), labels.to(device)\n",
    "            \n",
    "            optimizer.zero_grad()\n",
    "            logits, _ = model(features)\n",
    "            loss = criterion(logits, labels)\n",
    "            loss.backward()\n",
    "            optimizer.step()\n",
    "            \n",
    "            running_loss += loss.item()\n",
    "            \n",
    "            # Batch progress bar'ı güncelle\n",
    "            batch_pbar.set_postfix({'batch_loss': f'{loss.item():.4f}'})\n",
    "        \n",
    "        epoch_loss = running_loss / len(train_loader)\n",
    "        scheduler.step(epoch_loss)\n",
    "        \n",
    "        if epoch_loss < best_loss:\n",
    "            best_loss = epoch_loss\n",
    "            config[\"best_epoch\"] = epoch\n",
    "            config[\"best_loss\"] = best_loss\n",
    "            _save_model_and_config(model, config, output_dir)\n",
    "        \n",
    "        # Epoch progress bar'ı güncelle\n",
    "        epoch_pbar.set_postfix({\n",
    "            'loss': f'{epoch_loss:.4f}',\n",
    "            'best_loss': f'{best_loss:.4f}',\n",
    "            'lr': f'{optimizer.param_groups[0][\"lr\"]:.6f}'\n",
    "        })\n",
    "        \n",
    "        if (epoch + 1) % 5 == 0:\n",
    "            print(f'\\nEpoch [{epoch+1}/{num_epochs}], Loss: {epoch_loss:.4f}')\n",
    "    \n",
    "    return model, config\n",
    "\n",
    "def evaluate_model(model, test_loader, device):\n",
    "    device = device\n",
    "    model = model.to(device)\n",
    "    model.eval()\n",
    "    \n",
    "    correct = 0\n",
    "    total = 0\n",
    "    class_correct = [0] * 14\n",
    "    class_total = [0] * 14\n",
    "    \n",
    "    # Test için tqdm ekle\n",
    "    test_pbar = tqdm(test_loader, desc='Evaluating', unit='batch')\n",
    "    \n",
    "    with torch.no_grad():\n",
    "        for features, labels in test_pbar:\n",
    "            features, labels = features.to(device), labels.to(device)\n",
    "            logits, _ = model(features)\n",
    "            _, predicted = torch.max(logits.data, 1)\n",
    "            total += labels.size(0)\n",
    "            correct += (predicted == labels).sum().item()\n",
    "            \n",
    "            for i in range(len(labels)):\n",
    "                label = labels[i]\n",
    "                class_correct[label] += (predicted[i] == label).item()\n",
    "                class_total[label] += 1\n",
    "            \n",
    "            # Progress bar'ı güncelle\n",
    "            current_acc = 100 * correct / total\n",
    "            test_pbar.set_postfix({'accuracy': f'{current_acc:.2f}%'})\n",
    "    \n",
    "    accuracy = 100 * correct / total\n",
    "    print(f'\\nGenel Test Doğruluğu: {accuracy:.2f}%')\n",
    "    \n",
    "    print('\\nSınıf Bazında Doğruluk:')\n",
    "    for i in range(14):\n",
    "        if class_total[i] > 0:\n",
    "            class_acc = 100 * class_correct[i] / class_total[i]\n",
    "            print(f'Sınıf {i}: {class_acc:.2f}%')\n",
    "    \n",
    "    return accuracy"
   ]
  },
  {
   "cell_type": "code",
   "execution_count": 4,
   "metadata": {},
   "outputs": [],
   "source": [
    "\n",
    "load_dotenv()\n",
    "\n",
    "dataset_path = os.getenv('SMOTE_RESAMPLED_DATASET_PATH')\n",
    "\n",
    "with open(dataset_path, 'rb') as f:\n",
    "    data = pickle.load(f)\n",
    "\n",
    "\n",
    "embeddings = data['X_resampled']\n",
    "labels = data['y_resampled']\n",
    "mlb = data['mlb']"
   ]
  },
  {
   "cell_type": "code",
   "execution_count": 5,
   "metadata": {},
   "outputs": [
    {
     "name": "stdout",
     "output_type": "stream",
     "text": [
      "embeddings shape: (268980, 32, 128)\n",
      "labels shape: (268980, 15)\n",
      "labels: ['Atelectasis' 'Cardiomegaly' 'Consolidation' 'Edema' 'Effusion'\n",
      " 'Emphysema' 'Fibrosis' 'Hernia' 'Infiltration' 'Mass' 'No Finding'\n",
      " 'Nodule' 'Pleural_Thickening' 'Pneumonia' 'Pneumothorax']\n",
      "Number of classes: 15\n",
      "sample binarized labels:  [1. 0. 0. 0. 0. 0. 0. 0. 0. 0. 0. 0. 0. 0. 0.]\n",
      "sample embeddings:  [[-0.13627037 -0.05453796 -0.12541597 ...  0.06783227 -0.117041\n",
      "  -0.0268871 ]\n",
      " [ 0.05250404  0.0477107  -0.06727851 ...  0.0846091  -0.06936242\n",
      "  -0.01200239]\n",
      " [-0.1040024   0.02110123 -0.01501682 ...  0.16914235 -0.15074338\n",
      "   0.04070614]\n",
      " ...\n",
      " [ 0.1983867   0.1267138   0.04158648 ... -0.16025399  0.06184255\n",
      "   0.04785817]\n",
      " [ 0.06910649  0.0430859  -0.06436938 ...  0.07458547 -0.03532307\n",
      "  -0.00727787]\n",
      " [ 0.07154053  0.19609863  0.02250194 ... -0.00234656  0.08438659\n",
      "   0.09025895]]\n"
     ]
    }
   ],
   "source": [
    "print(f'embeddings shape: {embeddings.shape}')\n",
    "print(f'labels shape: {labels.shape}')\n",
    "\n",
    "print(f'labels: {mlb}')\n",
    "\n",
    "print(f'Number of classes: {len(mlb)}')\n",
    "\n",
    "print(\"sample binarized labels: \", labels[0])\n",
    "\n",
    "print(\"sample embeddings: \", embeddings[0])\n"
   ]
  },
  {
   "cell_type": "code",
   "execution_count": 6,
   "metadata": {},
   "outputs": [],
   "source": [
    "train_val_ratio = 0.8\n",
    "batch_size = 512\n",
    "epochs = 200\n",
    "learning_rate = 0.003\n",
    "weight_decay = 0.01\n",
    "device = 'cuda:2' if torch.cuda.is_available() else 'cpu'\n",
    "\n"
   ]
  },
  {
   "cell_type": "code",
   "execution_count": 7,
   "metadata": {},
   "outputs": [],
   "source": [
    "class ElixrbDataset(torch.utils.data.Dataset):\n",
    "    def __init__(self, features, labels):\n",
    "        self.features = features\n",
    "        self.labels = labels\n",
    "    \n",
    "    def __len__(self):\n",
    "        return len(self.features)\n",
    "    \n",
    "    def __getitem__(self, idx):\n",
    "        return self.features[idx], self.labels[idx]\n",
    "\n",
    "train_val_size = int(len(embeddings) * train_val_ratio)\n",
    "\n",
    "train_features = embeddings[:train_val_size]\n",
    "\n",
    "train_labels = labels[:train_val_size]\n",
    "\n",
    "val_features = embeddings[train_val_size:]\n",
    "\n",
    "val_labels = labels[train_val_size:]\n",
    "\n",
    "\n",
    "\n",
    "train_dataset = ElixrbDataset(train_features, train_labels)\n",
    "\n",
    "val_dataset = ElixrbDataset(val_features, val_labels)\n",
    "\n",
    "train_loader = DataLoader(train_dataset, batch_size=batch_size, shuffle=True)\n",
    "\n",
    "val_loader = DataLoader(val_dataset, batch_size=batch_size, shuffle=False)\n",
    "\n"
   ]
  },
  {
   "cell_type": "code",
   "execution_count": 8,
   "metadata": {},
   "outputs": [
    {
     "name": "stderr",
     "output_type": "stream",
     "text": [
      "/home/yasin/Projects/elixr-diffusion/.venv/lib/python3.10/site-packages/torch/optim/lr_scheduler.py:62: UserWarning: The verbose parameter is deprecated. Please use get_last_lr() to access the learning rate.\n",
      "  warnings.warn(\n"
     ]
    },
    {
     "data": {
      "application/vnd.jupyter.widget-view+json": {
       "model_id": "6eead9505c5b43d4b8ea499d4c686785",
       "version_major": 2,
       "version_minor": 0
      },
      "text/plain": [
       "Training:   0%|          | 0/200 [00:00<?, ?epoch/s]"
      ]
     },
     "metadata": {},
     "output_type": "display_data"
    },
    {
     "data": {
      "application/vnd.jupyter.widget-view+json": {
       "model_id": "e055574b229848d5a678da723e7eba96",
       "version_major": 2,
       "version_minor": 0
      },
      "text/plain": [
       "Epoch 1/200:   0%|          | 0/421 [00:00<?, ?batch/s]"
      ]
     },
     "metadata": {},
     "output_type": "display_data"
    },
    {
     "data": {
      "application/vnd.jupyter.widget-view+json": {
       "model_id": "3b2e23926e6c4e258d8ec22c0c6be9da",
       "version_major": 2,
       "version_minor": 0
      },
      "text/plain": [
       "Epoch 2/200:   0%|          | 0/421 [00:00<?, ?batch/s]"
      ]
     },
     "metadata": {},
     "output_type": "display_data"
    },
    {
     "data": {
      "application/vnd.jupyter.widget-view+json": {
       "model_id": "124d1cef0f8b4929a2dcc2797439cc4b",
       "version_major": 2,
       "version_minor": 0
      },
      "text/plain": [
       "Epoch 3/200:   0%|          | 0/421 [00:00<?, ?batch/s]"
      ]
     },
     "metadata": {},
     "output_type": "display_data"
    },
    {
     "data": {
      "application/vnd.jupyter.widget-view+json": {
       "model_id": "88dc7ffebe584c74b9a1e076305c85d8",
       "version_major": 2,
       "version_minor": 0
      },
      "text/plain": [
       "Epoch 4/200:   0%|          | 0/421 [00:00<?, ?batch/s]"
      ]
     },
     "metadata": {},
     "output_type": "display_data"
    },
    {
     "data": {
      "application/vnd.jupyter.widget-view+json": {
       "model_id": "bc7cf1478e024a5e92cfbd212e37b471",
       "version_major": 2,
       "version_minor": 0
      },
      "text/plain": [
       "Epoch 5/200:   0%|          | 0/421 [00:00<?, ?batch/s]"
      ]
     },
     "metadata": {},
     "output_type": "display_data"
    },
    {
     "name": "stdout",
     "output_type": "stream",
     "text": [
      "\n",
      "Epoch [5/200], Loss: 1.3557\n"
     ]
    },
    {
     "data": {
      "application/vnd.jupyter.widget-view+json": {
       "model_id": "149f555e78624c86a69ddf9a4b4500b2",
       "version_major": 2,
       "version_minor": 0
      },
      "text/plain": [
       "Epoch 6/200:   0%|          | 0/421 [00:00<?, ?batch/s]"
      ]
     },
     "metadata": {},
     "output_type": "display_data"
    },
    {
     "data": {
      "application/vnd.jupyter.widget-view+json": {
       "model_id": "edaf3d484c7f40efb2dd8993d80963fe",
       "version_major": 2,
       "version_minor": 0
      },
      "text/plain": [
       "Epoch 7/200:   0%|          | 0/421 [00:00<?, ?batch/s]"
      ]
     },
     "metadata": {},
     "output_type": "display_data"
    },
    {
     "data": {
      "application/vnd.jupyter.widget-view+json": {
       "model_id": "6b71dbe47a9e4081ac1e9ac5774ab1b7",
       "version_major": 2,
       "version_minor": 0
      },
      "text/plain": [
       "Epoch 8/200:   0%|          | 0/421 [00:00<?, ?batch/s]"
      ]
     },
     "metadata": {},
     "output_type": "display_data"
    },
    {
     "data": {
      "application/vnd.jupyter.widget-view+json": {
       "model_id": "4e7e9cc1f4a143e8b41bbbac31e35183",
       "version_major": 2,
       "version_minor": 0
      },
      "text/plain": [
       "Epoch 9/200:   0%|          | 0/421 [00:00<?, ?batch/s]"
      ]
     },
     "metadata": {},
     "output_type": "display_data"
    },
    {
     "data": {
      "application/vnd.jupyter.widget-view+json": {
       "model_id": "6a48c273f6504aa2b3228b9d07aa1a3a",
       "version_major": 2,
       "version_minor": 0
      },
      "text/plain": [
       "Epoch 10/200:   0%|          | 0/421 [00:00<?, ?batch/s]"
      ]
     },
     "metadata": {},
     "output_type": "display_data"
    },
    {
     "name": "stdout",
     "output_type": "stream",
     "text": [
      "\n",
      "Epoch [10/200], Loss: 1.2280\n"
     ]
    },
    {
     "data": {
      "application/vnd.jupyter.widget-view+json": {
       "model_id": "17595dec382a4ca0903ebc64f30ebcd8",
       "version_major": 2,
       "version_minor": 0
      },
      "text/plain": [
       "Epoch 11/200:   0%|          | 0/421 [00:00<?, ?batch/s]"
      ]
     },
     "metadata": {},
     "output_type": "display_data"
    },
    {
     "data": {
      "application/vnd.jupyter.widget-view+json": {
       "model_id": "d80f48df9dac442f93dc148f940a9cc3",
       "version_major": 2,
       "version_minor": 0
      },
      "text/plain": [
       "Epoch 12/200:   0%|          | 0/421 [00:00<?, ?batch/s]"
      ]
     },
     "metadata": {},
     "output_type": "display_data"
    },
    {
     "data": {
      "application/vnd.jupyter.widget-view+json": {
       "model_id": "aa59ac96219946f5a533fd633b4d5094",
       "version_major": 2,
       "version_minor": 0
      },
      "text/plain": [
       "Epoch 13/200:   0%|          | 0/421 [00:00<?, ?batch/s]"
      ]
     },
     "metadata": {},
     "output_type": "display_data"
    },
    {
     "data": {
      "application/vnd.jupyter.widget-view+json": {
       "model_id": "e8faa7bb2ae8476ca4ea2af73e003b25",
       "version_major": 2,
       "version_minor": 0
      },
      "text/plain": [
       "Epoch 14/200:   0%|          | 0/421 [00:00<?, ?batch/s]"
      ]
     },
     "metadata": {},
     "output_type": "display_data"
    },
    {
     "data": {
      "application/vnd.jupyter.widget-view+json": {
       "model_id": "7fff06277173472fb78480263603fede",
       "version_major": 2,
       "version_minor": 0
      },
      "text/plain": [
       "Epoch 15/200:   0%|          | 0/421 [00:00<?, ?batch/s]"
      ]
     },
     "metadata": {},
     "output_type": "display_data"
    },
    {
     "name": "stdout",
     "output_type": "stream",
     "text": [
      "\n",
      "Epoch [15/200], Loss: 1.2213\n"
     ]
    },
    {
     "data": {
      "application/vnd.jupyter.widget-view+json": {
       "model_id": "813bbb874d9e40d8b163976140a6c5b9",
       "version_major": 2,
       "version_minor": 0
      },
      "text/plain": [
       "Epoch 16/200:   0%|          | 0/421 [00:00<?, ?batch/s]"
      ]
     },
     "metadata": {},
     "output_type": "display_data"
    },
    {
     "data": {
      "application/vnd.jupyter.widget-view+json": {
       "model_id": "1c65fb7597784452a6ea6c715c6dcea8",
       "version_major": 2,
       "version_minor": 0
      },
      "text/plain": [
       "Epoch 17/200:   0%|          | 0/421 [00:00<?, ?batch/s]"
      ]
     },
     "metadata": {},
     "output_type": "display_data"
    },
    {
     "data": {
      "application/vnd.jupyter.widget-view+json": {
       "model_id": "29424c254bf44f4a85e31dc317a9032e",
       "version_major": 2,
       "version_minor": 0
      },
      "text/plain": [
       "Epoch 18/200:   0%|          | 0/421 [00:00<?, ?batch/s]"
      ]
     },
     "metadata": {},
     "output_type": "display_data"
    },
    {
     "data": {
      "application/vnd.jupyter.widget-view+json": {
       "model_id": "210e91464d2c48acbf2adf23a07cdbd9",
       "version_major": 2,
       "version_minor": 0
      },
      "text/plain": [
       "Epoch 19/200:   0%|          | 0/421 [00:00<?, ?batch/s]"
      ]
     },
     "metadata": {},
     "output_type": "display_data"
    },
    {
     "data": {
      "application/vnd.jupyter.widget-view+json": {
       "model_id": "13d2b876dd7246248965536a0fcb102b",
       "version_major": 2,
       "version_minor": 0
      },
      "text/plain": [
       "Epoch 20/200:   0%|          | 0/421 [00:00<?, ?batch/s]"
      ]
     },
     "metadata": {},
     "output_type": "display_data"
    },
    {
     "name": "stdout",
     "output_type": "stream",
     "text": [
      "\n",
      "Epoch [20/200], Loss: 1.2165\n"
     ]
    },
    {
     "data": {
      "application/vnd.jupyter.widget-view+json": {
       "model_id": "da9a2cab053b4e56ae424cd315294f9c",
       "version_major": 2,
       "version_minor": 0
      },
      "text/plain": [
       "Epoch 21/200:   0%|          | 0/421 [00:00<?, ?batch/s]"
      ]
     },
     "metadata": {},
     "output_type": "display_data"
    },
    {
     "data": {
      "application/vnd.jupyter.widget-view+json": {
       "model_id": "851269c603b64742a3bf9f244f153366",
       "version_major": 2,
       "version_minor": 0
      },
      "text/plain": [
       "Epoch 22/200:   0%|          | 0/421 [00:00<?, ?batch/s]"
      ]
     },
     "metadata": {},
     "output_type": "display_data"
    },
    {
     "data": {
      "application/vnd.jupyter.widget-view+json": {
       "model_id": "28a5fefcc4e54cbead82eb93a34edbdd",
       "version_major": 2,
       "version_minor": 0
      },
      "text/plain": [
       "Epoch 23/200:   0%|          | 0/421 [00:00<?, ?batch/s]"
      ]
     },
     "metadata": {},
     "output_type": "display_data"
    },
    {
     "data": {
      "application/vnd.jupyter.widget-view+json": {
       "model_id": "c9bbdd3c71c448c2b654763f7ebc7bc5",
       "version_major": 2,
       "version_minor": 0
      },
      "text/plain": [
       "Epoch 24/200:   0%|          | 0/421 [00:00<?, ?batch/s]"
      ]
     },
     "metadata": {},
     "output_type": "display_data"
    },
    {
     "data": {
      "application/vnd.jupyter.widget-view+json": {
       "model_id": "36400a5826d74cbba3485a1ad9bef765",
       "version_major": 2,
       "version_minor": 0
      },
      "text/plain": [
       "Epoch 25/200:   0%|          | 0/421 [00:00<?, ?batch/s]"
      ]
     },
     "metadata": {},
     "output_type": "display_data"
    },
    {
     "name": "stdout",
     "output_type": "stream",
     "text": [
      "\n",
      "Epoch [25/200], Loss: 1.2121\n"
     ]
    },
    {
     "data": {
      "application/vnd.jupyter.widget-view+json": {
       "model_id": "fd94a61ac7d148a6a026f4a6c9f14776",
       "version_major": 2,
       "version_minor": 0
      },
      "text/plain": [
       "Epoch 26/200:   0%|          | 0/421 [00:00<?, ?batch/s]"
      ]
     },
     "metadata": {},
     "output_type": "display_data"
    },
    {
     "data": {
      "application/vnd.jupyter.widget-view+json": {
       "model_id": "ab394b29b1d24bc2acb651a84669f9d5",
       "version_major": 2,
       "version_minor": 0
      },
      "text/plain": [
       "Epoch 27/200:   0%|          | 0/421 [00:00<?, ?batch/s]"
      ]
     },
     "metadata": {},
     "output_type": "display_data"
    },
    {
     "data": {
      "application/vnd.jupyter.widget-view+json": {
       "model_id": "87916910fa35427e919b775a3fa95634",
       "version_major": 2,
       "version_minor": 0
      },
      "text/plain": [
       "Epoch 28/200:   0%|          | 0/421 [00:00<?, ?batch/s]"
      ]
     },
     "metadata": {},
     "output_type": "display_data"
    },
    {
     "data": {
      "application/vnd.jupyter.widget-view+json": {
       "model_id": "1371d3a1734c4de88bb047b290e725f0",
       "version_major": 2,
       "version_minor": 0
      },
      "text/plain": [
       "Epoch 29/200:   0%|          | 0/421 [00:00<?, ?batch/s]"
      ]
     },
     "metadata": {},
     "output_type": "display_data"
    },
    {
     "data": {
      "application/vnd.jupyter.widget-view+json": {
       "model_id": "9a287805e0b74db1b4182f9c42279f4a",
       "version_major": 2,
       "version_minor": 0
      },
      "text/plain": [
       "Epoch 30/200:   0%|          | 0/421 [00:00<?, ?batch/s]"
      ]
     },
     "metadata": {},
     "output_type": "display_data"
    },
    {
     "name": "stdout",
     "output_type": "stream",
     "text": [
      "\n",
      "Epoch [30/200], Loss: 1.2113\n"
     ]
    },
    {
     "data": {
      "application/vnd.jupyter.widget-view+json": {
       "model_id": "f903ca62e198466b87e2200a901d4e37",
       "version_major": 2,
       "version_minor": 0
      },
      "text/plain": [
       "Epoch 31/200:   0%|          | 0/421 [00:00<?, ?batch/s]"
      ]
     },
     "metadata": {},
     "output_type": "display_data"
    },
    {
     "data": {
      "application/vnd.jupyter.widget-view+json": {
       "model_id": "4450a8e6ddee411ebf4bc7ee67b7dd63",
       "version_major": 2,
       "version_minor": 0
      },
      "text/plain": [
       "Epoch 32/200:   0%|          | 0/421 [00:00<?, ?batch/s]"
      ]
     },
     "metadata": {},
     "output_type": "display_data"
    },
    {
     "data": {
      "application/vnd.jupyter.widget-view+json": {
       "model_id": "1ac52cc231dc40c38cd6072a2ba73ac1",
       "version_major": 2,
       "version_minor": 0
      },
      "text/plain": [
       "Epoch 33/200:   0%|          | 0/421 [00:00<?, ?batch/s]"
      ]
     },
     "metadata": {},
     "output_type": "display_data"
    },
    {
     "data": {
      "application/vnd.jupyter.widget-view+json": {
       "model_id": "6cd4dc5bf2944be5801eac0a26bf2f27",
       "version_major": 2,
       "version_minor": 0
      },
      "text/plain": [
       "Epoch 34/200:   0%|          | 0/421 [00:00<?, ?batch/s]"
      ]
     },
     "metadata": {},
     "output_type": "display_data"
    },
    {
     "data": {
      "application/vnd.jupyter.widget-view+json": {
       "model_id": "0a320d8f15f04f48bc410828529b01d6",
       "version_major": 2,
       "version_minor": 0
      },
      "text/plain": [
       "Epoch 35/200:   0%|          | 0/421 [00:00<?, ?batch/s]"
      ]
     },
     "metadata": {},
     "output_type": "display_data"
    },
    {
     "name": "stdout",
     "output_type": "stream",
     "text": [
      "\n",
      "Epoch [35/200], Loss: 1.1358\n"
     ]
    },
    {
     "data": {
      "application/vnd.jupyter.widget-view+json": {
       "model_id": "3ce2af4f6beb46fdbcc7609abe415a11",
       "version_major": 2,
       "version_minor": 0
      },
      "text/plain": [
       "Epoch 36/200:   0%|          | 0/421 [00:00<?, ?batch/s]"
      ]
     },
     "metadata": {},
     "output_type": "display_data"
    },
    {
     "data": {
      "application/vnd.jupyter.widget-view+json": {
       "model_id": "1bc2d6e004814a9c8028a03c38015262",
       "version_major": 2,
       "version_minor": 0
      },
      "text/plain": [
       "Epoch 37/200:   0%|          | 0/421 [00:00<?, ?batch/s]"
      ]
     },
     "metadata": {},
     "output_type": "display_data"
    },
    {
     "data": {
      "application/vnd.jupyter.widget-view+json": {
       "model_id": "e7b7477e6c634e09ad1249bef3dbeddb",
       "version_major": 2,
       "version_minor": 0
      },
      "text/plain": [
       "Epoch 38/200:   0%|          | 0/421 [00:00<?, ?batch/s]"
      ]
     },
     "metadata": {},
     "output_type": "display_data"
    },
    {
     "data": {
      "application/vnd.jupyter.widget-view+json": {
       "model_id": "c9508c6916f744d0bc214157194c55d2",
       "version_major": 2,
       "version_minor": 0
      },
      "text/plain": [
       "Epoch 39/200:   0%|          | 0/421 [00:00<?, ?batch/s]"
      ]
     },
     "metadata": {},
     "output_type": "display_data"
    },
    {
     "data": {
      "application/vnd.jupyter.widget-view+json": {
       "model_id": "e22d2a03bc03468a9d236378902d4f0a",
       "version_major": 2,
       "version_minor": 0
      },
      "text/plain": [
       "Epoch 40/200:   0%|          | 0/421 [00:00<?, ?batch/s]"
      ]
     },
     "metadata": {},
     "output_type": "display_data"
    },
    {
     "name": "stdout",
     "output_type": "stream",
     "text": [
      "\n",
      "Epoch [40/200], Loss: 1.1281\n"
     ]
    },
    {
     "data": {
      "application/vnd.jupyter.widget-view+json": {
       "model_id": "2109a322f6b844c2bb832d1e6d1fcc9c",
       "version_major": 2,
       "version_minor": 0
      },
      "text/plain": [
       "Epoch 41/200:   0%|          | 0/421 [00:00<?, ?batch/s]"
      ]
     },
     "metadata": {},
     "output_type": "display_data"
    },
    {
     "data": {
      "application/vnd.jupyter.widget-view+json": {
       "model_id": "5f366a2343ab41b39da8131854d38bc7",
       "version_major": 2,
       "version_minor": 0
      },
      "text/plain": [
       "Epoch 42/200:   0%|          | 0/421 [00:00<?, ?batch/s]"
      ]
     },
     "metadata": {},
     "output_type": "display_data"
    },
    {
     "data": {
      "application/vnd.jupyter.widget-view+json": {
       "model_id": "61b1c9a37770485183a42d35995f752f",
       "version_major": 2,
       "version_minor": 0
      },
      "text/plain": [
       "Epoch 43/200:   0%|          | 0/421 [00:00<?, ?batch/s]"
      ]
     },
     "metadata": {},
     "output_type": "display_data"
    },
    {
     "data": {
      "application/vnd.jupyter.widget-view+json": {
       "model_id": "e17df3ca8eab44efb25ba42503fc5a1f",
       "version_major": 2,
       "version_minor": 0
      },
      "text/plain": [
       "Epoch 44/200:   0%|          | 0/421 [00:00<?, ?batch/s]"
      ]
     },
     "metadata": {},
     "output_type": "display_data"
    },
    {
     "data": {
      "application/vnd.jupyter.widget-view+json": {
       "model_id": "6b77df2629b04750bff36ecbd766b248",
       "version_major": 2,
       "version_minor": 0
      },
      "text/plain": [
       "Epoch 45/200:   0%|          | 0/421 [00:00<?, ?batch/s]"
      ]
     },
     "metadata": {},
     "output_type": "display_data"
    },
    {
     "name": "stdout",
     "output_type": "stream",
     "text": [
      "\n",
      "Epoch [45/200], Loss: 1.1251\n"
     ]
    },
    {
     "data": {
      "application/vnd.jupyter.widget-view+json": {
       "model_id": "c8876aa0d95c42bda6d7eec9ef23bb56",
       "version_major": 2,
       "version_minor": 0
      },
      "text/plain": [
       "Epoch 46/200:   0%|          | 0/421 [00:00<?, ?batch/s]"
      ]
     },
     "metadata": {},
     "output_type": "display_data"
    },
    {
     "data": {
      "application/vnd.jupyter.widget-view+json": {
       "model_id": "bfbd5cae74fb4e6788830e772d4e1754",
       "version_major": 2,
       "version_minor": 0
      },
      "text/plain": [
       "Epoch 47/200:   0%|          | 0/421 [00:00<?, ?batch/s]"
      ]
     },
     "metadata": {},
     "output_type": "display_data"
    },
    {
     "data": {
      "application/vnd.jupyter.widget-view+json": {
       "model_id": "ab46b13e3bae4846bc0d02ce192c9b79",
       "version_major": 2,
       "version_minor": 0
      },
      "text/plain": [
       "Epoch 48/200:   0%|          | 0/421 [00:00<?, ?batch/s]"
      ]
     },
     "metadata": {},
     "output_type": "display_data"
    },
    {
     "data": {
      "application/vnd.jupyter.widget-view+json": {
       "model_id": "45371e38b9bc476285bb1d549f8112d8",
       "version_major": 2,
       "version_minor": 0
      },
      "text/plain": [
       "Epoch 49/200:   0%|          | 0/421 [00:00<?, ?batch/s]"
      ]
     },
     "metadata": {},
     "output_type": "display_data"
    },
    {
     "data": {
      "application/vnd.jupyter.widget-view+json": {
       "model_id": "b29d737ca281479a9c5db95cc490a1f7",
       "version_major": 2,
       "version_minor": 0
      },
      "text/plain": [
       "Epoch 50/200:   0%|          | 0/421 [00:00<?, ?batch/s]"
      ]
     },
     "metadata": {},
     "output_type": "display_data"
    },
    {
     "name": "stdout",
     "output_type": "stream",
     "text": [
      "\n",
      "Epoch [50/200], Loss: 1.1194\n"
     ]
    },
    {
     "data": {
      "application/vnd.jupyter.widget-view+json": {
       "model_id": "999c63bd472d4c70b104061cf0384126",
       "version_major": 2,
       "version_minor": 0
      },
      "text/plain": [
       "Epoch 51/200:   0%|          | 0/421 [00:00<?, ?batch/s]"
      ]
     },
     "metadata": {},
     "output_type": "display_data"
    },
    {
     "data": {
      "application/vnd.jupyter.widget-view+json": {
       "model_id": "31efe2b807394f16911f522f18ec9717",
       "version_major": 2,
       "version_minor": 0
      },
      "text/plain": [
       "Epoch 52/200:   0%|          | 0/421 [00:00<?, ?batch/s]"
      ]
     },
     "metadata": {},
     "output_type": "display_data"
    },
    {
     "data": {
      "application/vnd.jupyter.widget-view+json": {
       "model_id": "5fe944c9178141c984aafe380b30f78c",
       "version_major": 2,
       "version_minor": 0
      },
      "text/plain": [
       "Epoch 53/200:   0%|          | 0/421 [00:00<?, ?batch/s]"
      ]
     },
     "metadata": {},
     "output_type": "display_data"
    },
    {
     "data": {
      "application/vnd.jupyter.widget-view+json": {
       "model_id": "09904faa560b45349218912066ce267f",
       "version_major": 2,
       "version_minor": 0
      },
      "text/plain": [
       "Epoch 54/200:   0%|          | 0/421 [00:00<?, ?batch/s]"
      ]
     },
     "metadata": {},
     "output_type": "display_data"
    },
    {
     "data": {
      "application/vnd.jupyter.widget-view+json": {
       "model_id": "6b2fafe11f1b4b9f9088ff6feaf9dcc5",
       "version_major": 2,
       "version_minor": 0
      },
      "text/plain": [
       "Epoch 55/200:   0%|          | 0/421 [00:00<?, ?batch/s]"
      ]
     },
     "metadata": {},
     "output_type": "display_data"
    },
    {
     "name": "stdout",
     "output_type": "stream",
     "text": [
      "\n",
      "Epoch [55/200], Loss: 1.1166\n"
     ]
    },
    {
     "data": {
      "application/vnd.jupyter.widget-view+json": {
       "model_id": "a5642b59ccf64406a98bdab0e0982ffd",
       "version_major": 2,
       "version_minor": 0
      },
      "text/plain": [
       "Epoch 56/200:   0%|          | 0/421 [00:00<?, ?batch/s]"
      ]
     },
     "metadata": {},
     "output_type": "display_data"
    },
    {
     "data": {
      "application/vnd.jupyter.widget-view+json": {
       "model_id": "edd0d97d3b89478aad1efc4283a2f3c4",
       "version_major": 2,
       "version_minor": 0
      },
      "text/plain": [
       "Epoch 57/200:   0%|          | 0/421 [00:00<?, ?batch/s]"
      ]
     },
     "metadata": {},
     "output_type": "display_data"
    },
    {
     "data": {
      "application/vnd.jupyter.widget-view+json": {
       "model_id": "32a806a5c32b40a982a6f7dadfaf4c6b",
       "version_major": 2,
       "version_minor": 0
      },
      "text/plain": [
       "Epoch 58/200:   0%|          | 0/421 [00:00<?, ?batch/s]"
      ]
     },
     "metadata": {},
     "output_type": "display_data"
    },
    {
     "data": {
      "application/vnd.jupyter.widget-view+json": {
       "model_id": "b7ce615ecaa24d0ead79e54de409d0b5",
       "version_major": 2,
       "version_minor": 0
      },
      "text/plain": [
       "Epoch 59/200:   0%|          | 0/421 [00:00<?, ?batch/s]"
      ]
     },
     "metadata": {},
     "output_type": "display_data"
    },
    {
     "data": {
      "application/vnd.jupyter.widget-view+json": {
       "model_id": "719c158091de4b4fb75912534c6bb72a",
       "version_major": 2,
       "version_minor": 0
      },
      "text/plain": [
       "Epoch 60/200:   0%|          | 0/421 [00:00<?, ?batch/s]"
      ]
     },
     "metadata": {},
     "output_type": "display_data"
    },
    {
     "name": "stdout",
     "output_type": "stream",
     "text": [
      "\n",
      "Epoch [60/200], Loss: 1.1157\n"
     ]
    },
    {
     "data": {
      "application/vnd.jupyter.widget-view+json": {
       "model_id": "1d3f50ca673c4d5490cc3c5c1e97a51d",
       "version_major": 2,
       "version_minor": 0
      },
      "text/plain": [
       "Epoch 61/200:   0%|          | 0/421 [00:00<?, ?batch/s]"
      ]
     },
     "metadata": {},
     "output_type": "display_data"
    },
    {
     "data": {
      "application/vnd.jupyter.widget-view+json": {
       "model_id": "dd98d02a33a34e2a9d86fef5002f2821",
       "version_major": 2,
       "version_minor": 0
      },
      "text/plain": [
       "Epoch 62/200:   0%|          | 0/421 [00:00<?, ?batch/s]"
      ]
     },
     "metadata": {},
     "output_type": "display_data"
    },
    {
     "data": {
      "application/vnd.jupyter.widget-view+json": {
       "model_id": "43133067fb1547d29234d211cf197890",
       "version_major": 2,
       "version_minor": 0
      },
      "text/plain": [
       "Epoch 63/200:   0%|          | 0/421 [00:00<?, ?batch/s]"
      ]
     },
     "metadata": {},
     "output_type": "display_data"
    },
    {
     "data": {
      "application/vnd.jupyter.widget-view+json": {
       "model_id": "0e1a5946733a4f57aa8441c9d1cb819f",
       "version_major": 2,
       "version_minor": 0
      },
      "text/plain": [
       "Epoch 64/200:   0%|          | 0/421 [00:00<?, ?batch/s]"
      ]
     },
     "metadata": {},
     "output_type": "display_data"
    },
    {
     "data": {
      "application/vnd.jupyter.widget-view+json": {
       "model_id": "662a98fdd1d744879cc6c307f468655d",
       "version_major": 2,
       "version_minor": 0
      },
      "text/plain": [
       "Epoch 65/200:   0%|          | 0/421 [00:00<?, ?batch/s]"
      ]
     },
     "metadata": {},
     "output_type": "display_data"
    },
    {
     "name": "stdout",
     "output_type": "stream",
     "text": [
      "\n",
      "Epoch [65/200], Loss: 1.1104\n"
     ]
    },
    {
     "data": {
      "application/vnd.jupyter.widget-view+json": {
       "model_id": "436a8ec2c8a44076a9a106bf95b9e55a",
       "version_major": 2,
       "version_minor": 0
      },
      "text/plain": [
       "Epoch 66/200:   0%|          | 0/421 [00:00<?, ?batch/s]"
      ]
     },
     "metadata": {},
     "output_type": "display_data"
    },
    {
     "data": {
      "application/vnd.jupyter.widget-view+json": {
       "model_id": "f83eac9294da4e7e93b92438b8d12358",
       "version_major": 2,
       "version_minor": 0
      },
      "text/plain": [
       "Epoch 67/200:   0%|          | 0/421 [00:00<?, ?batch/s]"
      ]
     },
     "metadata": {},
     "output_type": "display_data"
    },
    {
     "data": {
      "application/vnd.jupyter.widget-view+json": {
       "model_id": "6f9184ff023249c88511b0c61bd5f8e0",
       "version_major": 2,
       "version_minor": 0
      },
      "text/plain": [
       "Epoch 68/200:   0%|          | 0/421 [00:00<?, ?batch/s]"
      ]
     },
     "metadata": {},
     "output_type": "display_data"
    },
    {
     "data": {
      "application/vnd.jupyter.widget-view+json": {
       "model_id": "cecb62e3ee254d5aaca6a7afe3995ba0",
       "version_major": 2,
       "version_minor": 0
      },
      "text/plain": [
       "Epoch 69/200:   0%|          | 0/421 [00:00<?, ?batch/s]"
      ]
     },
     "metadata": {},
     "output_type": "display_data"
    },
    {
     "data": {
      "application/vnd.jupyter.widget-view+json": {
       "model_id": "1ea775388cfd457d9be99ca824970281",
       "version_major": 2,
       "version_minor": 0
      },
      "text/plain": [
       "Epoch 70/200:   0%|          | 0/421 [00:00<?, ?batch/s]"
      ]
     },
     "metadata": {},
     "output_type": "display_data"
    },
    {
     "name": "stdout",
     "output_type": "stream",
     "text": [
      "\n",
      "Epoch [70/200], Loss: 1.1077\n"
     ]
    },
    {
     "data": {
      "application/vnd.jupyter.widget-view+json": {
       "model_id": "ccbe3e1cec4b4b1ca302e4a3cbd25060",
       "version_major": 2,
       "version_minor": 0
      },
      "text/plain": [
       "Epoch 71/200:   0%|          | 0/421 [00:00<?, ?batch/s]"
      ]
     },
     "metadata": {},
     "output_type": "display_data"
    },
    {
     "data": {
      "application/vnd.jupyter.widget-view+json": {
       "model_id": "05c434eeb47640a19c01d5a754309f0d",
       "version_major": 2,
       "version_minor": 0
      },
      "text/plain": [
       "Epoch 72/200:   0%|          | 0/421 [00:00<?, ?batch/s]"
      ]
     },
     "metadata": {},
     "output_type": "display_data"
    },
    {
     "data": {
      "application/vnd.jupyter.widget-view+json": {
       "model_id": "0d7f2f97a43b4a4892cf9545e0a2e242",
       "version_major": 2,
       "version_minor": 0
      },
      "text/plain": [
       "Epoch 73/200:   0%|          | 0/421 [00:00<?, ?batch/s]"
      ]
     },
     "metadata": {},
     "output_type": "display_data"
    },
    {
     "data": {
      "application/vnd.jupyter.widget-view+json": {
       "model_id": "d73e916990904e5380d3d08452c9d069",
       "version_major": 2,
       "version_minor": 0
      },
      "text/plain": [
       "Epoch 74/200:   0%|          | 0/421 [00:00<?, ?batch/s]"
      ]
     },
     "metadata": {},
     "output_type": "display_data"
    },
    {
     "data": {
      "application/vnd.jupyter.widget-view+json": {
       "model_id": "8e4203585b1e4ace9149c589e91014be",
       "version_major": 2,
       "version_minor": 0
      },
      "text/plain": [
       "Epoch 75/200:   0%|          | 0/421 [00:00<?, ?batch/s]"
      ]
     },
     "metadata": {},
     "output_type": "display_data"
    },
    {
     "name": "stdout",
     "output_type": "stream",
     "text": [
      "\n",
      "Epoch [75/200], Loss: 1.1046\n"
     ]
    },
    {
     "data": {
      "application/vnd.jupyter.widget-view+json": {
       "model_id": "52cd73d371df4d71a7870cc5eeb2bd8e",
       "version_major": 2,
       "version_minor": 0
      },
      "text/plain": [
       "Epoch 76/200:   0%|          | 0/421 [00:00<?, ?batch/s]"
      ]
     },
     "metadata": {},
     "output_type": "display_data"
    },
    {
     "data": {
      "application/vnd.jupyter.widget-view+json": {
       "model_id": "401b91b9c36f4f0ab019bdc4ddd0fe5a",
       "version_major": 2,
       "version_minor": 0
      },
      "text/plain": [
       "Epoch 77/200:   0%|          | 0/421 [00:00<?, ?batch/s]"
      ]
     },
     "metadata": {},
     "output_type": "display_data"
    },
    {
     "data": {
      "application/vnd.jupyter.widget-view+json": {
       "model_id": "9df07bf6a3d4485f9235b03c80c607d3",
       "version_major": 2,
       "version_minor": 0
      },
      "text/plain": [
       "Epoch 78/200:   0%|          | 0/421 [00:00<?, ?batch/s]"
      ]
     },
     "metadata": {},
     "output_type": "display_data"
    },
    {
     "data": {
      "application/vnd.jupyter.widget-view+json": {
       "model_id": "0cc1bfe166234c5eb935b9a800270f8e",
       "version_major": 2,
       "version_minor": 0
      },
      "text/plain": [
       "Epoch 79/200:   0%|          | 0/421 [00:00<?, ?batch/s]"
      ]
     },
     "metadata": {},
     "output_type": "display_data"
    },
    {
     "data": {
      "application/vnd.jupyter.widget-view+json": {
       "model_id": "d63e2164cf484a1c87abfd471b257aa8",
       "version_major": 2,
       "version_minor": 0
      },
      "text/plain": [
       "Epoch 80/200:   0%|          | 0/421 [00:00<?, ?batch/s]"
      ]
     },
     "metadata": {},
     "output_type": "display_data"
    },
    {
     "name": "stdout",
     "output_type": "stream",
     "text": [
      "\n",
      "Epoch [80/200], Loss: 1.1030\n"
     ]
    },
    {
     "data": {
      "application/vnd.jupyter.widget-view+json": {
       "model_id": "db6de0c2c1da4a76b17aa7dc4c39b71a",
       "version_major": 2,
       "version_minor": 0
      },
      "text/plain": [
       "Epoch 81/200:   0%|          | 0/421 [00:00<?, ?batch/s]"
      ]
     },
     "metadata": {},
     "output_type": "display_data"
    },
    {
     "data": {
      "application/vnd.jupyter.widget-view+json": {
       "model_id": "b58b17bed81c497e8805225404db24da",
       "version_major": 2,
       "version_minor": 0
      },
      "text/plain": [
       "Epoch 82/200:   0%|          | 0/421 [00:00<?, ?batch/s]"
      ]
     },
     "metadata": {},
     "output_type": "display_data"
    },
    {
     "data": {
      "application/vnd.jupyter.widget-view+json": {
       "model_id": "fa89e5ce807c44e295d76cb316ddadcf",
       "version_major": 2,
       "version_minor": 0
      },
      "text/plain": [
       "Epoch 83/200:   0%|          | 0/421 [00:00<?, ?batch/s]"
      ]
     },
     "metadata": {},
     "output_type": "display_data"
    },
    {
     "data": {
      "application/vnd.jupyter.widget-view+json": {
       "model_id": "c719d338abc94fffb9cdd5e4319be665",
       "version_major": 2,
       "version_minor": 0
      },
      "text/plain": [
       "Epoch 84/200:   0%|          | 0/421 [00:00<?, ?batch/s]"
      ]
     },
     "metadata": {},
     "output_type": "display_data"
    },
    {
     "data": {
      "application/vnd.jupyter.widget-view+json": {
       "model_id": "cf81dff922914daa88b2e684214b6f18",
       "version_major": 2,
       "version_minor": 0
      },
      "text/plain": [
       "Epoch 85/200:   0%|          | 0/421 [00:00<?, ?batch/s]"
      ]
     },
     "metadata": {},
     "output_type": "display_data"
    },
    {
     "name": "stdout",
     "output_type": "stream",
     "text": [
      "\n",
      "Epoch [85/200], Loss: 1.0596\n"
     ]
    },
    {
     "data": {
      "application/vnd.jupyter.widget-view+json": {
       "model_id": "76f413abab624216805c23470cac39e8",
       "version_major": 2,
       "version_minor": 0
      },
      "text/plain": [
       "Epoch 86/200:   0%|          | 0/421 [00:00<?, ?batch/s]"
      ]
     },
     "metadata": {},
     "output_type": "display_data"
    },
    {
     "data": {
      "application/vnd.jupyter.widget-view+json": {
       "model_id": "c5346f573fce41a7b70d7a3a14710c7a",
       "version_major": 2,
       "version_minor": 0
      },
      "text/plain": [
       "Epoch 87/200:   0%|          | 0/421 [00:00<?, ?batch/s]"
      ]
     },
     "metadata": {},
     "output_type": "display_data"
    },
    {
     "data": {
      "application/vnd.jupyter.widget-view+json": {
       "model_id": "6d893c2168504b0caa6dde8292596ea0",
       "version_major": 2,
       "version_minor": 0
      },
      "text/plain": [
       "Epoch 88/200:   0%|          | 0/421 [00:00<?, ?batch/s]"
      ]
     },
     "metadata": {},
     "output_type": "display_data"
    },
    {
     "data": {
      "application/vnd.jupyter.widget-view+json": {
       "model_id": "7d159a4b227e45e394b3946e0288b5df",
       "version_major": 2,
       "version_minor": 0
      },
      "text/plain": [
       "Epoch 89/200:   0%|          | 0/421 [00:00<?, ?batch/s]"
      ]
     },
     "metadata": {},
     "output_type": "display_data"
    },
    {
     "data": {
      "application/vnd.jupyter.widget-view+json": {
       "model_id": "10874cacf4214f139cfa789bddb893e2",
       "version_major": 2,
       "version_minor": 0
      },
      "text/plain": [
       "Epoch 90/200:   0%|          | 0/421 [00:00<?, ?batch/s]"
      ]
     },
     "metadata": {},
     "output_type": "display_data"
    },
    {
     "name": "stdout",
     "output_type": "stream",
     "text": [
      "\n",
      "Epoch [90/200], Loss: 1.0565\n"
     ]
    },
    {
     "data": {
      "application/vnd.jupyter.widget-view+json": {
       "model_id": "f02335539be344ecac16b6c94088ff3e",
       "version_major": 2,
       "version_minor": 0
      },
      "text/plain": [
       "Epoch 91/200:   0%|          | 0/421 [00:00<?, ?batch/s]"
      ]
     },
     "metadata": {},
     "output_type": "display_data"
    },
    {
     "data": {
      "application/vnd.jupyter.widget-view+json": {
       "model_id": "28fd5b41bc1b43c28c335f9805a8c905",
       "version_major": 2,
       "version_minor": 0
      },
      "text/plain": [
       "Epoch 92/200:   0%|          | 0/421 [00:00<?, ?batch/s]"
      ]
     },
     "metadata": {},
     "output_type": "display_data"
    },
    {
     "data": {
      "application/vnd.jupyter.widget-view+json": {
       "model_id": "a4e17821ca9b4c08ab209a56755b5c5c",
       "version_major": 2,
       "version_minor": 0
      },
      "text/plain": [
       "Epoch 93/200:   0%|          | 0/421 [00:00<?, ?batch/s]"
      ]
     },
     "metadata": {},
     "output_type": "display_data"
    },
    {
     "data": {
      "application/vnd.jupyter.widget-view+json": {
       "model_id": "5c63fe4b4f19444aa85bc398558f6b16",
       "version_major": 2,
       "version_minor": 0
      },
      "text/plain": [
       "Epoch 94/200:   0%|          | 0/421 [00:00<?, ?batch/s]"
      ]
     },
     "metadata": {},
     "output_type": "display_data"
    },
    {
     "data": {
      "application/vnd.jupyter.widget-view+json": {
       "model_id": "e03a4fa2e27c4118b39ee5a9fe7457fe",
       "version_major": 2,
       "version_minor": 0
      },
      "text/plain": [
       "Epoch 95/200:   0%|          | 0/421 [00:00<?, ?batch/s]"
      ]
     },
     "metadata": {},
     "output_type": "display_data"
    },
    {
     "name": "stdout",
     "output_type": "stream",
     "text": [
      "\n",
      "Epoch [95/200], Loss: 1.0360\n"
     ]
    },
    {
     "data": {
      "application/vnd.jupyter.widget-view+json": {
       "model_id": "f1b2cf4208474805b6c33bfa7a4151dc",
       "version_major": 2,
       "version_minor": 0
      },
      "text/plain": [
       "Epoch 96/200:   0%|          | 0/421 [00:00<?, ?batch/s]"
      ]
     },
     "metadata": {},
     "output_type": "display_data"
    },
    {
     "data": {
      "application/vnd.jupyter.widget-view+json": {
       "model_id": "59c301f55a2146d295479ded6957a2f3",
       "version_major": 2,
       "version_minor": 0
      },
      "text/plain": [
       "Epoch 97/200:   0%|          | 0/421 [00:00<?, ?batch/s]"
      ]
     },
     "metadata": {},
     "output_type": "display_data"
    },
    {
     "data": {
      "application/vnd.jupyter.widget-view+json": {
       "model_id": "9ecb24773cc34f17af5d4266f8c36ddc",
       "version_major": 2,
       "version_minor": 0
      },
      "text/plain": [
       "Epoch 98/200:   0%|          | 0/421 [00:00<?, ?batch/s]"
      ]
     },
     "metadata": {},
     "output_type": "display_data"
    },
    {
     "data": {
      "application/vnd.jupyter.widget-view+json": {
       "model_id": "6e736b7750744cb4946f6ce364b7cb25",
       "version_major": 2,
       "version_minor": 0
      },
      "text/plain": [
       "Epoch 99/200:   0%|          | 0/421 [00:00<?, ?batch/s]"
      ]
     },
     "metadata": {},
     "output_type": "display_data"
    },
    {
     "data": {
      "application/vnd.jupyter.widget-view+json": {
       "model_id": "feaddd3c508640a8875d3aca50199353",
       "version_major": 2,
       "version_minor": 0
      },
      "text/plain": [
       "Epoch 100/200:   0%|          | 0/421 [00:00<?, ?batch/s]"
      ]
     },
     "metadata": {},
     "output_type": "display_data"
    },
    {
     "name": "stdout",
     "output_type": "stream",
     "text": [
      "\n",
      "Epoch [100/200], Loss: 1.0305\n"
     ]
    },
    {
     "data": {
      "application/vnd.jupyter.widget-view+json": {
       "model_id": "36d4c52a52e8473893f56c77404584fa",
       "version_major": 2,
       "version_minor": 0
      },
      "text/plain": [
       "Epoch 101/200:   0%|          | 0/421 [00:00<?, ?batch/s]"
      ]
     },
     "metadata": {},
     "output_type": "display_data"
    },
    {
     "data": {
      "application/vnd.jupyter.widget-view+json": {
       "model_id": "4602f894a40349e89c317a2cef0a90ba",
       "version_major": 2,
       "version_minor": 0
      },
      "text/plain": [
       "Epoch 102/200:   0%|          | 0/421 [00:00<?, ?batch/s]"
      ]
     },
     "metadata": {},
     "output_type": "display_data"
    },
    {
     "data": {
      "application/vnd.jupyter.widget-view+json": {
       "model_id": "014a5d86684845a682c6c34df068f0f6",
       "version_major": 2,
       "version_minor": 0
      },
      "text/plain": [
       "Epoch 103/200:   0%|          | 0/421 [00:00<?, ?batch/s]"
      ]
     },
     "metadata": {},
     "output_type": "display_data"
    },
    {
     "data": {
      "application/vnd.jupyter.widget-view+json": {
       "model_id": "5087941b84c04206a080a55808d79ed8",
       "version_major": 2,
       "version_minor": 0
      },
      "text/plain": [
       "Epoch 104/200:   0%|          | 0/421 [00:00<?, ?batch/s]"
      ]
     },
     "metadata": {},
     "output_type": "display_data"
    },
    {
     "data": {
      "application/vnd.jupyter.widget-view+json": {
       "model_id": "8af5cb36683f4f64b1a5dea163c9355e",
       "version_major": 2,
       "version_minor": 0
      },
      "text/plain": [
       "Epoch 105/200:   0%|          | 0/421 [00:00<?, ?batch/s]"
      ]
     },
     "metadata": {},
     "output_type": "display_data"
    },
    {
     "name": "stdout",
     "output_type": "stream",
     "text": [
      "\n",
      "Epoch [105/200], Loss: 1.0295\n"
     ]
    },
    {
     "data": {
      "application/vnd.jupyter.widget-view+json": {
       "model_id": "581562c98590495f89ba0d3c78a0253c",
       "version_major": 2,
       "version_minor": 0
      },
      "text/plain": [
       "Epoch 106/200:   0%|          | 0/421 [00:00<?, ?batch/s]"
      ]
     },
     "metadata": {},
     "output_type": "display_data"
    },
    {
     "data": {
      "application/vnd.jupyter.widget-view+json": {
       "model_id": "7d29e7bc2be2425b9c53cf7a77b42fa4",
       "version_major": 2,
       "version_minor": 0
      },
      "text/plain": [
       "Epoch 107/200:   0%|          | 0/421 [00:00<?, ?batch/s]"
      ]
     },
     "metadata": {},
     "output_type": "display_data"
    },
    {
     "data": {
      "application/vnd.jupyter.widget-view+json": {
       "model_id": "500430849ddc4e4d87025e3daf99d578",
       "version_major": 2,
       "version_minor": 0
      },
      "text/plain": [
       "Epoch 108/200:   0%|          | 0/421 [00:00<?, ?batch/s]"
      ]
     },
     "metadata": {},
     "output_type": "display_data"
    },
    {
     "data": {
      "application/vnd.jupyter.widget-view+json": {
       "model_id": "416918eb590e47aaa269a3954a1dc118",
       "version_major": 2,
       "version_minor": 0
      },
      "text/plain": [
       "Epoch 109/200:   0%|          | 0/421 [00:00<?, ?batch/s]"
      ]
     },
     "metadata": {},
     "output_type": "display_data"
    },
    {
     "data": {
      "application/vnd.jupyter.widget-view+json": {
       "model_id": "22c0cbea51374cac96ba1ae71be34cbb",
       "version_major": 2,
       "version_minor": 0
      },
      "text/plain": [
       "Epoch 110/200:   0%|          | 0/421 [00:00<?, ?batch/s]"
      ]
     },
     "metadata": {},
     "output_type": "display_data"
    },
    {
     "name": "stdout",
     "output_type": "stream",
     "text": [
      "\n",
      "Epoch [110/200], Loss: 1.0258\n"
     ]
    },
    {
     "data": {
      "application/vnd.jupyter.widget-view+json": {
       "model_id": "5f6ae89f37a743f5857ccad9d8562d1b",
       "version_major": 2,
       "version_minor": 0
      },
      "text/plain": [
       "Epoch 111/200:   0%|          | 0/421 [00:00<?, ?batch/s]"
      ]
     },
     "metadata": {},
     "output_type": "display_data"
    },
    {
     "data": {
      "application/vnd.jupyter.widget-view+json": {
       "model_id": "4f9c87a3681a4e1db10a30a8b7591aaa",
       "version_major": 2,
       "version_minor": 0
      },
      "text/plain": [
       "Epoch 112/200:   0%|          | 0/421 [00:00<?, ?batch/s]"
      ]
     },
     "metadata": {},
     "output_type": "display_data"
    },
    {
     "data": {
      "application/vnd.jupyter.widget-view+json": {
       "model_id": "d7edbf35e1bd4e4b8ebd796065fed9af",
       "version_major": 2,
       "version_minor": 0
      },
      "text/plain": [
       "Epoch 113/200:   0%|          | 0/421 [00:00<?, ?batch/s]"
      ]
     },
     "metadata": {},
     "output_type": "display_data"
    },
    {
     "data": {
      "application/vnd.jupyter.widget-view+json": {
       "model_id": "dc868bdbf44d451098bf1fa89e379ef9",
       "version_major": 2,
       "version_minor": 0
      },
      "text/plain": [
       "Epoch 114/200:   0%|          | 0/421 [00:00<?, ?batch/s]"
      ]
     },
     "metadata": {},
     "output_type": "display_data"
    },
    {
     "data": {
      "application/vnd.jupyter.widget-view+json": {
       "model_id": "3f2f107d9f6946499d196f0506ab1c54",
       "version_major": 2,
       "version_minor": 0
      },
      "text/plain": [
       "Epoch 115/200:   0%|          | 0/421 [00:00<?, ?batch/s]"
      ]
     },
     "metadata": {},
     "output_type": "display_data"
    },
    {
     "name": "stdout",
     "output_type": "stream",
     "text": [
      "\n",
      "Epoch [115/200], Loss: 1.0214\n"
     ]
    },
    {
     "data": {
      "application/vnd.jupyter.widget-view+json": {
       "model_id": "bb17417d389345359f2324f9f929ddd6",
       "version_major": 2,
       "version_minor": 0
      },
      "text/plain": [
       "Epoch 116/200:   0%|          | 0/421 [00:00<?, ?batch/s]"
      ]
     },
     "metadata": {},
     "output_type": "display_data"
    },
    {
     "data": {
      "application/vnd.jupyter.widget-view+json": {
       "model_id": "2763defeb0f8407da09ea3a9e5f3b8b4",
       "version_major": 2,
       "version_minor": 0
      },
      "text/plain": [
       "Epoch 117/200:   0%|          | 0/421 [00:00<?, ?batch/s]"
      ]
     },
     "metadata": {},
     "output_type": "display_data"
    },
    {
     "data": {
      "application/vnd.jupyter.widget-view+json": {
       "model_id": "f346cc6bf2184102a139f7714424ff7b",
       "version_major": 2,
       "version_minor": 0
      },
      "text/plain": [
       "Epoch 118/200:   0%|          | 0/421 [00:00<?, ?batch/s]"
      ]
     },
     "metadata": {},
     "output_type": "display_data"
    },
    {
     "data": {
      "application/vnd.jupyter.widget-view+json": {
       "model_id": "cd11ce89d98241b99c42d6f415088427",
       "version_major": 2,
       "version_minor": 0
      },
      "text/plain": [
       "Epoch 119/200:   0%|          | 0/421 [00:00<?, ?batch/s]"
      ]
     },
     "metadata": {},
     "output_type": "display_data"
    },
    {
     "data": {
      "application/vnd.jupyter.widget-view+json": {
       "model_id": "ad634485c298446fb2bdd9c1ecc577e4",
       "version_major": 2,
       "version_minor": 0
      },
      "text/plain": [
       "Epoch 120/200:   0%|          | 0/421 [00:00<?, ?batch/s]"
      ]
     },
     "metadata": {},
     "output_type": "display_data"
    },
    {
     "name": "stdout",
     "output_type": "stream",
     "text": [
      "\n",
      "Epoch [120/200], Loss: 1.0146\n"
     ]
    },
    {
     "data": {
      "application/vnd.jupyter.widget-view+json": {
       "model_id": "bbbd4882505142d9b2c03e0e761d9190",
       "version_major": 2,
       "version_minor": 0
      },
      "text/plain": [
       "Epoch 121/200:   0%|          | 0/421 [00:00<?, ?batch/s]"
      ]
     },
     "metadata": {},
     "output_type": "display_data"
    },
    {
     "data": {
      "application/vnd.jupyter.widget-view+json": {
       "model_id": "c57ef642e0204188ad2f0a111e7b1afa",
       "version_major": 2,
       "version_minor": 0
      },
      "text/plain": [
       "Epoch 122/200:   0%|          | 0/421 [00:00<?, ?batch/s]"
      ]
     },
     "metadata": {},
     "output_type": "display_data"
    },
    {
     "data": {
      "application/vnd.jupyter.widget-view+json": {
       "model_id": "afcd70fa11e049a4ae0b6857b29e53a4",
       "version_major": 2,
       "version_minor": 0
      },
      "text/plain": [
       "Epoch 123/200:   0%|          | 0/421 [00:00<?, ?batch/s]"
      ]
     },
     "metadata": {},
     "output_type": "display_data"
    },
    {
     "data": {
      "application/vnd.jupyter.widget-view+json": {
       "model_id": "68b598a218a3433991475619a7160f77",
       "version_major": 2,
       "version_minor": 0
      },
      "text/plain": [
       "Epoch 124/200:   0%|          | 0/421 [00:00<?, ?batch/s]"
      ]
     },
     "metadata": {},
     "output_type": "display_data"
    },
    {
     "data": {
      "application/vnd.jupyter.widget-view+json": {
       "model_id": "60c622a8f08247c39a4e1a1321586b0c",
       "version_major": 2,
       "version_minor": 0
      },
      "text/plain": [
       "Epoch 125/200:   0%|          | 0/421 [00:00<?, ?batch/s]"
      ]
     },
     "metadata": {},
     "output_type": "display_data"
    },
    {
     "name": "stdout",
     "output_type": "stream",
     "text": [
      "\n",
      "Epoch [125/200], Loss: 1.0099\n"
     ]
    },
    {
     "data": {
      "application/vnd.jupyter.widget-view+json": {
       "model_id": "9d2e7748fa78475b824583a0f5b06dba",
       "version_major": 2,
       "version_minor": 0
      },
      "text/plain": [
       "Epoch 126/200:   0%|          | 0/421 [00:00<?, ?batch/s]"
      ]
     },
     "metadata": {},
     "output_type": "display_data"
    },
    {
     "data": {
      "application/vnd.jupyter.widget-view+json": {
       "model_id": "e831ef0da2b2493087d6b2370f8c146a",
       "version_major": 2,
       "version_minor": 0
      },
      "text/plain": [
       "Epoch 127/200:   0%|          | 0/421 [00:00<?, ?batch/s]"
      ]
     },
     "metadata": {},
     "output_type": "display_data"
    },
    {
     "data": {
      "application/vnd.jupyter.widget-view+json": {
       "model_id": "38d2799e992f4e02b222ed523b04654d",
       "version_major": 2,
       "version_minor": 0
      },
      "text/plain": [
       "Epoch 128/200:   0%|          | 0/421 [00:00<?, ?batch/s]"
      ]
     },
     "metadata": {},
     "output_type": "display_data"
    },
    {
     "data": {
      "application/vnd.jupyter.widget-view+json": {
       "model_id": "6792a321a6034700923eee639fbbc4ab",
       "version_major": 2,
       "version_minor": 0
      },
      "text/plain": [
       "Epoch 129/200:   0%|          | 0/421 [00:00<?, ?batch/s]"
      ]
     },
     "metadata": {},
     "output_type": "display_data"
    },
    {
     "data": {
      "application/vnd.jupyter.widget-view+json": {
       "model_id": "c98dece1055f4641ad08fc4aabe791dd",
       "version_major": 2,
       "version_minor": 0
      },
      "text/plain": [
       "Epoch 130/200:   0%|          | 0/421 [00:00<?, ?batch/s]"
      ]
     },
     "metadata": {},
     "output_type": "display_data"
    },
    {
     "name": "stdout",
     "output_type": "stream",
     "text": [
      "\n",
      "Epoch [130/200], Loss: 1.0084\n"
     ]
    },
    {
     "data": {
      "application/vnd.jupyter.widget-view+json": {
       "model_id": "dd786bd13fae4b0c96830043a701912c",
       "version_major": 2,
       "version_minor": 0
      },
      "text/plain": [
       "Epoch 131/200:   0%|          | 0/421 [00:00<?, ?batch/s]"
      ]
     },
     "metadata": {},
     "output_type": "display_data"
    },
    {
     "data": {
      "application/vnd.jupyter.widget-view+json": {
       "model_id": "ce143aaf40c64ddbaf50c139f245e4f8",
       "version_major": 2,
       "version_minor": 0
      },
      "text/plain": [
       "Epoch 132/200:   0%|          | 0/421 [00:00<?, ?batch/s]"
      ]
     },
     "metadata": {},
     "output_type": "display_data"
    },
    {
     "data": {
      "application/vnd.jupyter.widget-view+json": {
       "model_id": "0d57870599e9417692d27495a70fc415",
       "version_major": 2,
       "version_minor": 0
      },
      "text/plain": [
       "Epoch 133/200:   0%|          | 0/421 [00:00<?, ?batch/s]"
      ]
     },
     "metadata": {},
     "output_type": "display_data"
    },
    {
     "data": {
      "application/vnd.jupyter.widget-view+json": {
       "model_id": "39cad6721b5b4e5986293487ecdc0918",
       "version_major": 2,
       "version_minor": 0
      },
      "text/plain": [
       "Epoch 134/200:   0%|          | 0/421 [00:00<?, ?batch/s]"
      ]
     },
     "metadata": {},
     "output_type": "display_data"
    },
    {
     "data": {
      "application/vnd.jupyter.widget-view+json": {
       "model_id": "5268357089344ca798230eb2c0c83436",
       "version_major": 2,
       "version_minor": 0
      },
      "text/plain": [
       "Epoch 135/200:   0%|          | 0/421 [00:00<?, ?batch/s]"
      ]
     },
     "metadata": {},
     "output_type": "display_data"
    },
    {
     "name": "stdout",
     "output_type": "stream",
     "text": [
      "\n",
      "Epoch [135/200], Loss: 1.0049\n"
     ]
    },
    {
     "data": {
      "application/vnd.jupyter.widget-view+json": {
       "model_id": "e5eafcd1aa4a4115bace502a24fad16a",
       "version_major": 2,
       "version_minor": 0
      },
      "text/plain": [
       "Epoch 136/200:   0%|          | 0/421 [00:00<?, ?batch/s]"
      ]
     },
     "metadata": {},
     "output_type": "display_data"
    },
    {
     "data": {
      "application/vnd.jupyter.widget-view+json": {
       "model_id": "2cff58eaf0324f0dbb65c64dbef02478",
       "version_major": 2,
       "version_minor": 0
      },
      "text/plain": [
       "Epoch 137/200:   0%|          | 0/421 [00:00<?, ?batch/s]"
      ]
     },
     "metadata": {},
     "output_type": "display_data"
    },
    {
     "data": {
      "application/vnd.jupyter.widget-view+json": {
       "model_id": "b7ab71c45d144ca0a979cdecee28a3d9",
       "version_major": 2,
       "version_minor": 0
      },
      "text/plain": [
       "Epoch 138/200:   0%|          | 0/421 [00:00<?, ?batch/s]"
      ]
     },
     "metadata": {},
     "output_type": "display_data"
    },
    {
     "data": {
      "application/vnd.jupyter.widget-view+json": {
       "model_id": "35255051ce10415f8cb0d1aa5c318af8",
       "version_major": 2,
       "version_minor": 0
      },
      "text/plain": [
       "Epoch 139/200:   0%|          | 0/421 [00:00<?, ?batch/s]"
      ]
     },
     "metadata": {},
     "output_type": "display_data"
    },
    {
     "data": {
      "application/vnd.jupyter.widget-view+json": {
       "model_id": "420d56fff59347c18513ac5ca9a48425",
       "version_major": 2,
       "version_minor": 0
      },
      "text/plain": [
       "Epoch 140/200:   0%|          | 0/421 [00:00<?, ?batch/s]"
      ]
     },
     "metadata": {},
     "output_type": "display_data"
    },
    {
     "name": "stdout",
     "output_type": "stream",
     "text": [
      "\n",
      "Epoch [140/200], Loss: 1.0027\n"
     ]
    },
    {
     "data": {
      "application/vnd.jupyter.widget-view+json": {
       "model_id": "af4e4e2e08364852a1d6f96f695ac8e7",
       "version_major": 2,
       "version_minor": 0
      },
      "text/plain": [
       "Epoch 141/200:   0%|          | 0/421 [00:00<?, ?batch/s]"
      ]
     },
     "metadata": {},
     "output_type": "display_data"
    },
    {
     "data": {
      "application/vnd.jupyter.widget-view+json": {
       "model_id": "c1d69527e8394595a610d31deebd26e1",
       "version_major": 2,
       "version_minor": 0
      },
      "text/plain": [
       "Epoch 142/200:   0%|          | 0/421 [00:00<?, ?batch/s]"
      ]
     },
     "metadata": {},
     "output_type": "display_data"
    },
    {
     "data": {
      "application/vnd.jupyter.widget-view+json": {
       "model_id": "cfc5cfd9a04940abbb8b89af90a48939",
       "version_major": 2,
       "version_minor": 0
      },
      "text/plain": [
       "Epoch 143/200:   0%|          | 0/421 [00:00<?, ?batch/s]"
      ]
     },
     "metadata": {},
     "output_type": "display_data"
    },
    {
     "data": {
      "application/vnd.jupyter.widget-view+json": {
       "model_id": "e015f9cca24546b3906b8d06563354d6",
       "version_major": 2,
       "version_minor": 0
      },
      "text/plain": [
       "Epoch 144/200:   0%|          | 0/421 [00:00<?, ?batch/s]"
      ]
     },
     "metadata": {},
     "output_type": "display_data"
    },
    {
     "data": {
      "application/vnd.jupyter.widget-view+json": {
       "model_id": "21c3d3f248084367b731d01d0e8df72f",
       "version_major": 2,
       "version_minor": 0
      },
      "text/plain": [
       "Epoch 145/200:   0%|          | 0/421 [00:00<?, ?batch/s]"
      ]
     },
     "metadata": {},
     "output_type": "display_data"
    },
    {
     "name": "stdout",
     "output_type": "stream",
     "text": [
      "\n",
      "Epoch [145/200], Loss: 1.0011\n"
     ]
    },
    {
     "data": {
      "application/vnd.jupyter.widget-view+json": {
       "model_id": "99735277bb704a34b1d16025aba09237",
       "version_major": 2,
       "version_minor": 0
      },
      "text/plain": [
       "Epoch 146/200:   0%|          | 0/421 [00:00<?, ?batch/s]"
      ]
     },
     "metadata": {},
     "output_type": "display_data"
    },
    {
     "data": {
      "application/vnd.jupyter.widget-view+json": {
       "model_id": "b87f167ffb444fd5aef18f01620a7185",
       "version_major": 2,
       "version_minor": 0
      },
      "text/plain": [
       "Epoch 147/200:   0%|          | 0/421 [00:00<?, ?batch/s]"
      ]
     },
     "metadata": {},
     "output_type": "display_data"
    },
    {
     "data": {
      "application/vnd.jupyter.widget-view+json": {
       "model_id": "9d63dff6c5d24ea5b10adbe5ed625db7",
       "version_major": 2,
       "version_minor": 0
      },
      "text/plain": [
       "Epoch 148/200:   0%|          | 0/421 [00:00<?, ?batch/s]"
      ]
     },
     "metadata": {},
     "output_type": "display_data"
    },
    {
     "data": {
      "application/vnd.jupyter.widget-view+json": {
       "model_id": "85e1dd09e4a3463984b6ad18b8d91934",
       "version_major": 2,
       "version_minor": 0
      },
      "text/plain": [
       "Epoch 149/200:   0%|          | 0/421 [00:00<?, ?batch/s]"
      ]
     },
     "metadata": {},
     "output_type": "display_data"
    },
    {
     "data": {
      "application/vnd.jupyter.widget-view+json": {
       "model_id": "2a2ee149702b4cf79d94e27fdf0394df",
       "version_major": 2,
       "version_minor": 0
      },
      "text/plain": [
       "Epoch 150/200:   0%|          | 0/421 [00:00<?, ?batch/s]"
      ]
     },
     "metadata": {},
     "output_type": "display_data"
    },
    {
     "name": "stdout",
     "output_type": "stream",
     "text": [
      "\n",
      "Epoch [150/200], Loss: 0.9998\n"
     ]
    },
    {
     "data": {
      "application/vnd.jupyter.widget-view+json": {
       "model_id": "1969039088c84cc19134846d1700bc69",
       "version_major": 2,
       "version_minor": 0
      },
      "text/plain": [
       "Epoch 151/200:   0%|          | 0/421 [00:00<?, ?batch/s]"
      ]
     },
     "metadata": {},
     "output_type": "display_data"
    },
    {
     "data": {
      "application/vnd.jupyter.widget-view+json": {
       "model_id": "577d61835ef5440bb58a1098e784c201",
       "version_major": 2,
       "version_minor": 0
      },
      "text/plain": [
       "Epoch 152/200:   0%|          | 0/421 [00:00<?, ?batch/s]"
      ]
     },
     "metadata": {},
     "output_type": "display_data"
    },
    {
     "data": {
      "application/vnd.jupyter.widget-view+json": {
       "model_id": "05e188bd1b2b44678f738b8f0e35e808",
       "version_major": 2,
       "version_minor": 0
      },
      "text/plain": [
       "Epoch 153/200:   0%|          | 0/421 [00:00<?, ?batch/s]"
      ]
     },
     "metadata": {},
     "output_type": "display_data"
    },
    {
     "data": {
      "application/vnd.jupyter.widget-view+json": {
       "model_id": "8c984e8f05144ac492ef018d5b33ce3d",
       "version_major": 2,
       "version_minor": 0
      },
      "text/plain": [
       "Epoch 154/200:   0%|          | 0/421 [00:00<?, ?batch/s]"
      ]
     },
     "metadata": {},
     "output_type": "display_data"
    },
    {
     "data": {
      "application/vnd.jupyter.widget-view+json": {
       "model_id": "56bcf10d9cd249198f266c64538c0c19",
       "version_major": 2,
       "version_minor": 0
      },
      "text/plain": [
       "Epoch 155/200:   0%|          | 0/421 [00:00<?, ?batch/s]"
      ]
     },
     "metadata": {},
     "output_type": "display_data"
    },
    {
     "name": "stdout",
     "output_type": "stream",
     "text": [
      "\n",
      "Epoch [155/200], Loss: 0.9984\n"
     ]
    },
    {
     "data": {
      "application/vnd.jupyter.widget-view+json": {
       "model_id": "8143e80302164133bc0984e652b47c3c",
       "version_major": 2,
       "version_minor": 0
      },
      "text/plain": [
       "Epoch 156/200:   0%|          | 0/421 [00:00<?, ?batch/s]"
      ]
     },
     "metadata": {},
     "output_type": "display_data"
    },
    {
     "data": {
      "application/vnd.jupyter.widget-view+json": {
       "model_id": "dacea3fb94e548ad8c2cd99e2bea8e0d",
       "version_major": 2,
       "version_minor": 0
      },
      "text/plain": [
       "Epoch 157/200:   0%|          | 0/421 [00:00<?, ?batch/s]"
      ]
     },
     "metadata": {},
     "output_type": "display_data"
    },
    {
     "data": {
      "application/vnd.jupyter.widget-view+json": {
       "model_id": "15b7cdd6523144c3bcacb3d522ae8edb",
       "version_major": 2,
       "version_minor": 0
      },
      "text/plain": [
       "Epoch 158/200:   0%|          | 0/421 [00:00<?, ?batch/s]"
      ]
     },
     "metadata": {},
     "output_type": "display_data"
    },
    {
     "data": {
      "application/vnd.jupyter.widget-view+json": {
       "model_id": "9d1d873422a24601ab33049d233cb893",
       "version_major": 2,
       "version_minor": 0
      },
      "text/plain": [
       "Epoch 159/200:   0%|          | 0/421 [00:00<?, ?batch/s]"
      ]
     },
     "metadata": {},
     "output_type": "display_data"
    },
    {
     "data": {
      "application/vnd.jupyter.widget-view+json": {
       "model_id": "4215508c7d7743eba3a6674bdb725d60",
       "version_major": 2,
       "version_minor": 0
      },
      "text/plain": [
       "Epoch 160/200:   0%|          | 0/421 [00:00<?, ?batch/s]"
      ]
     },
     "metadata": {},
     "output_type": "display_data"
    },
    {
     "name": "stdout",
     "output_type": "stream",
     "text": [
      "\n",
      "Epoch [160/200], Loss: 0.9982\n"
     ]
    },
    {
     "data": {
      "application/vnd.jupyter.widget-view+json": {
       "model_id": "b6254e7facb04452be419dea53ec7e1a",
       "version_major": 2,
       "version_minor": 0
      },
      "text/plain": [
       "Epoch 161/200:   0%|          | 0/421 [00:00<?, ?batch/s]"
      ]
     },
     "metadata": {},
     "output_type": "display_data"
    },
    {
     "data": {
      "application/vnd.jupyter.widget-view+json": {
       "model_id": "960ceb3f78244eff8750291bce758199",
       "version_major": 2,
       "version_minor": 0
      },
      "text/plain": [
       "Epoch 162/200:   0%|          | 0/421 [00:00<?, ?batch/s]"
      ]
     },
     "metadata": {},
     "output_type": "display_data"
    },
    {
     "data": {
      "application/vnd.jupyter.widget-view+json": {
       "model_id": "cc88a90db19546daa4f1a258d8cff391",
       "version_major": 2,
       "version_minor": 0
      },
      "text/plain": [
       "Epoch 163/200:   0%|          | 0/421 [00:00<?, ?batch/s]"
      ]
     },
     "metadata": {},
     "output_type": "display_data"
    },
    {
     "data": {
      "application/vnd.jupyter.widget-view+json": {
       "model_id": "8be08fb2f1284ad59d2a2cbd7bdbd975",
       "version_major": 2,
       "version_minor": 0
      },
      "text/plain": [
       "Epoch 164/200:   0%|          | 0/421 [00:00<?, ?batch/s]"
      ]
     },
     "metadata": {},
     "output_type": "display_data"
    },
    {
     "data": {
      "application/vnd.jupyter.widget-view+json": {
       "model_id": "cdc8ff8c31484de09ef48b32d0738b79",
       "version_major": 2,
       "version_minor": 0
      },
      "text/plain": [
       "Epoch 165/200:   0%|          | 0/421 [00:00<?, ?batch/s]"
      ]
     },
     "metadata": {},
     "output_type": "display_data"
    },
    {
     "name": "stdout",
     "output_type": "stream",
     "text": [
      "\n",
      "Epoch [165/200], Loss: 0.9954\n"
     ]
    },
    {
     "data": {
      "application/vnd.jupyter.widget-view+json": {
       "model_id": "6aedfbba1770441caac2ee5c54761173",
       "version_major": 2,
       "version_minor": 0
      },
      "text/plain": [
       "Epoch 166/200:   0%|          | 0/421 [00:00<?, ?batch/s]"
      ]
     },
     "metadata": {},
     "output_type": "display_data"
    },
    {
     "data": {
      "application/vnd.jupyter.widget-view+json": {
       "model_id": "b747d1960d7c45afbfbd421e125c259a",
       "version_major": 2,
       "version_minor": 0
      },
      "text/plain": [
       "Epoch 167/200:   0%|          | 0/421 [00:00<?, ?batch/s]"
      ]
     },
     "metadata": {},
     "output_type": "display_data"
    },
    {
     "data": {
      "application/vnd.jupyter.widget-view+json": {
       "model_id": "6a531db55d304bd4a21a4596889dd6d1",
       "version_major": 2,
       "version_minor": 0
      },
      "text/plain": [
       "Epoch 168/200:   0%|          | 0/421 [00:00<?, ?batch/s]"
      ]
     },
     "metadata": {},
     "output_type": "display_data"
    },
    {
     "data": {
      "application/vnd.jupyter.widget-view+json": {
       "model_id": "b47d664ab56142f8bc94e0deb18d2a41",
       "version_major": 2,
       "version_minor": 0
      },
      "text/plain": [
       "Epoch 169/200:   0%|          | 0/421 [00:00<?, ?batch/s]"
      ]
     },
     "metadata": {},
     "output_type": "display_data"
    },
    {
     "data": {
      "application/vnd.jupyter.widget-view+json": {
       "model_id": "7ee1771bcfdb4829aa6083be10508ae8",
       "version_major": 2,
       "version_minor": 0
      },
      "text/plain": [
       "Epoch 170/200:   0%|          | 0/421 [00:00<?, ?batch/s]"
      ]
     },
     "metadata": {},
     "output_type": "display_data"
    },
    {
     "name": "stdout",
     "output_type": "stream",
     "text": [
      "\n",
      "Epoch [170/200], Loss: 0.9984\n"
     ]
    },
    {
     "data": {
      "application/vnd.jupyter.widget-view+json": {
       "model_id": "baeb16a85f8f4e26911833c1b847a7a7",
       "version_major": 2,
       "version_minor": 0
      },
      "text/plain": [
       "Epoch 171/200:   0%|          | 0/421 [00:00<?, ?batch/s]"
      ]
     },
     "metadata": {},
     "output_type": "display_data"
    },
    {
     "data": {
      "application/vnd.jupyter.widget-view+json": {
       "model_id": "30232a906c4947c08d8988b772788f72",
       "version_major": 2,
       "version_minor": 0
      },
      "text/plain": [
       "Epoch 172/200:   0%|          | 0/421 [00:00<?, ?batch/s]"
      ]
     },
     "metadata": {},
     "output_type": "display_data"
    },
    {
     "data": {
      "application/vnd.jupyter.widget-view+json": {
       "model_id": "a0ebc984868846d481880484629749e6",
       "version_major": 2,
       "version_minor": 0
      },
      "text/plain": [
       "Epoch 173/200:   0%|          | 0/421 [00:00<?, ?batch/s]"
      ]
     },
     "metadata": {},
     "output_type": "display_data"
    },
    {
     "data": {
      "application/vnd.jupyter.widget-view+json": {
       "model_id": "8595543bf7274c8d943504bddbfca677",
       "version_major": 2,
       "version_minor": 0
      },
      "text/plain": [
       "Epoch 174/200:   0%|          | 0/421 [00:00<?, ?batch/s]"
      ]
     },
     "metadata": {},
     "output_type": "display_data"
    },
    {
     "data": {
      "application/vnd.jupyter.widget-view+json": {
       "model_id": "0088f92b1c424ace9df60eae35745cf3",
       "version_major": 2,
       "version_minor": 0
      },
      "text/plain": [
       "Epoch 175/200:   0%|          | 0/421 [00:00<?, ?batch/s]"
      ]
     },
     "metadata": {},
     "output_type": "display_data"
    },
    {
     "name": "stdout",
     "output_type": "stream",
     "text": [
      "\n",
      "Epoch [175/200], Loss: 0.9971\n"
     ]
    },
    {
     "data": {
      "application/vnd.jupyter.widget-view+json": {
       "model_id": "8fd7ccaa85684b6980ebd51adc35337a",
       "version_major": 2,
       "version_minor": 0
      },
      "text/plain": [
       "Epoch 176/200:   0%|          | 0/421 [00:00<?, ?batch/s]"
      ]
     },
     "metadata": {},
     "output_type": "display_data"
    },
    {
     "data": {
      "application/vnd.jupyter.widget-view+json": {
       "model_id": "dd82738dea8b49f4b60d9cfd83ca4b98",
       "version_major": 2,
       "version_minor": 0
      },
      "text/plain": [
       "Epoch 177/200:   0%|          | 0/421 [00:00<?, ?batch/s]"
      ]
     },
     "metadata": {},
     "output_type": "display_data"
    },
    {
     "data": {
      "application/vnd.jupyter.widget-view+json": {
       "model_id": "2a36d724aae34eb0b823b923f57591dc",
       "version_major": 2,
       "version_minor": 0
      },
      "text/plain": [
       "Epoch 178/200:   0%|          | 0/421 [00:00<?, ?batch/s]"
      ]
     },
     "metadata": {},
     "output_type": "display_data"
    },
    {
     "data": {
      "application/vnd.jupyter.widget-view+json": {
       "model_id": "022f20bd5cd64b47aebd1f443aa60093",
       "version_major": 2,
       "version_minor": 0
      },
      "text/plain": [
       "Epoch 179/200:   0%|          | 0/421 [00:00<?, ?batch/s]"
      ]
     },
     "metadata": {},
     "output_type": "display_data"
    },
    {
     "data": {
      "application/vnd.jupyter.widget-view+json": {
       "model_id": "0c663a7380c344acb206dc9925a1702b",
       "version_major": 2,
       "version_minor": 0
      },
      "text/plain": [
       "Epoch 180/200:   0%|          | 0/421 [00:00<?, ?batch/s]"
      ]
     },
     "metadata": {},
     "output_type": "display_data"
    },
    {
     "name": "stdout",
     "output_type": "stream",
     "text": [
      "\n",
      "Epoch [180/200], Loss: 0.9957\n"
     ]
    },
    {
     "data": {
      "application/vnd.jupyter.widget-view+json": {
       "model_id": "fdd3e019c48b44eebd6f50336c9ac533",
       "version_major": 2,
       "version_minor": 0
      },
      "text/plain": [
       "Epoch 181/200:   0%|          | 0/421 [00:00<?, ?batch/s]"
      ]
     },
     "metadata": {},
     "output_type": "display_data"
    },
    {
     "data": {
      "application/vnd.jupyter.widget-view+json": {
       "model_id": "fc6733544a1f4de596d82d9b0d35decc",
       "version_major": 2,
       "version_minor": 0
      },
      "text/plain": [
       "Epoch 182/200:   0%|          | 0/421 [00:00<?, ?batch/s]"
      ]
     },
     "metadata": {},
     "output_type": "display_data"
    },
    {
     "data": {
      "application/vnd.jupyter.widget-view+json": {
       "model_id": "ba45f4c61a0941fdba8c07036d25a74d",
       "version_major": 2,
       "version_minor": 0
      },
      "text/plain": [
       "Epoch 183/200:   0%|          | 0/421 [00:00<?, ?batch/s]"
      ]
     },
     "metadata": {},
     "output_type": "display_data"
    },
    {
     "data": {
      "application/vnd.jupyter.widget-view+json": {
       "model_id": "e299aaf34e104fcea9d3f091e6536045",
       "version_major": 2,
       "version_minor": 0
      },
      "text/plain": [
       "Epoch 184/200:   0%|          | 0/421 [00:00<?, ?batch/s]"
      ]
     },
     "metadata": {},
     "output_type": "display_data"
    },
    {
     "data": {
      "application/vnd.jupyter.widget-view+json": {
       "model_id": "e4038fc5461e4412b39cb4aee8fa721a",
       "version_major": 2,
       "version_minor": 0
      },
      "text/plain": [
       "Epoch 185/200:   0%|          | 0/421 [00:00<?, ?batch/s]"
      ]
     },
     "metadata": {},
     "output_type": "display_data"
    },
    {
     "name": "stdout",
     "output_type": "stream",
     "text": [
      "\n",
      "Epoch [185/200], Loss: 0.9973\n"
     ]
    },
    {
     "data": {
      "application/vnd.jupyter.widget-view+json": {
       "model_id": "865df6e17da340d7b9b390f3ea6cf3ad",
       "version_major": 2,
       "version_minor": 0
      },
      "text/plain": [
       "Epoch 186/200:   0%|          | 0/421 [00:00<?, ?batch/s]"
      ]
     },
     "metadata": {},
     "output_type": "display_data"
    },
    {
     "data": {
      "application/vnd.jupyter.widget-view+json": {
       "model_id": "a7061345ed7447ddbba55a8872e9e9aa",
       "version_major": 2,
       "version_minor": 0
      },
      "text/plain": [
       "Epoch 187/200:   0%|          | 0/421 [00:00<?, ?batch/s]"
      ]
     },
     "metadata": {},
     "output_type": "display_data"
    },
    {
     "data": {
      "application/vnd.jupyter.widget-view+json": {
       "model_id": "e6ae386507204918a590c66a929d5f61",
       "version_major": 2,
       "version_minor": 0
      },
      "text/plain": [
       "Epoch 188/200:   0%|          | 0/421 [00:00<?, ?batch/s]"
      ]
     },
     "metadata": {},
     "output_type": "display_data"
    },
    {
     "data": {
      "application/vnd.jupyter.widget-view+json": {
       "model_id": "51d3754288fd4b96b999c516ea4dc218",
       "version_major": 2,
       "version_minor": 0
      },
      "text/plain": [
       "Epoch 189/200:   0%|          | 0/421 [00:00<?, ?batch/s]"
      ]
     },
     "metadata": {},
     "output_type": "display_data"
    },
    {
     "data": {
      "application/vnd.jupyter.widget-view+json": {
       "model_id": "dc1c40227cb645f6a324ae81d20c1b53",
       "version_major": 2,
       "version_minor": 0
      },
      "text/plain": [
       "Epoch 190/200:   0%|          | 0/421 [00:00<?, ?batch/s]"
      ]
     },
     "metadata": {},
     "output_type": "display_data"
    },
    {
     "name": "stdout",
     "output_type": "stream",
     "text": [
      "\n",
      "Epoch [190/200], Loss: 0.9961\n"
     ]
    },
    {
     "data": {
      "application/vnd.jupyter.widget-view+json": {
       "model_id": "02b7835e0095443daa3ddecd23415f3c",
       "version_major": 2,
       "version_minor": 0
      },
      "text/plain": [
       "Epoch 191/200:   0%|          | 0/421 [00:00<?, ?batch/s]"
      ]
     },
     "metadata": {},
     "output_type": "display_data"
    },
    {
     "data": {
      "application/vnd.jupyter.widget-view+json": {
       "model_id": "72e7b433828f41f7be29a18b52dd2a0e",
       "version_major": 2,
       "version_minor": 0
      },
      "text/plain": [
       "Epoch 192/200:   0%|          | 0/421 [00:00<?, ?batch/s]"
      ]
     },
     "metadata": {},
     "output_type": "display_data"
    },
    {
     "data": {
      "application/vnd.jupyter.widget-view+json": {
       "model_id": "d74be5b487e84e57b84765fdf39cfdc5",
       "version_major": 2,
       "version_minor": 0
      },
      "text/plain": [
       "Epoch 193/200:   0%|          | 0/421 [00:00<?, ?batch/s]"
      ]
     },
     "metadata": {},
     "output_type": "display_data"
    },
    {
     "data": {
      "application/vnd.jupyter.widget-view+json": {
       "model_id": "6c4b6e61500844e88708d9117492bd85",
       "version_major": 2,
       "version_minor": 0
      },
      "text/plain": [
       "Epoch 194/200:   0%|          | 0/421 [00:00<?, ?batch/s]"
      ]
     },
     "metadata": {},
     "output_type": "display_data"
    },
    {
     "data": {
      "application/vnd.jupyter.widget-view+json": {
       "model_id": "d3dcd6137d9d4b6aab36ee2158c5a057",
       "version_major": 2,
       "version_minor": 0
      },
      "text/plain": [
       "Epoch 195/200:   0%|          | 0/421 [00:00<?, ?batch/s]"
      ]
     },
     "metadata": {},
     "output_type": "display_data"
    },
    {
     "name": "stdout",
     "output_type": "stream",
     "text": [
      "\n",
      "Epoch [195/200], Loss: 0.9957\n"
     ]
    },
    {
     "data": {
      "application/vnd.jupyter.widget-view+json": {
       "model_id": "c20b60094c494ca7bb3fc5762f2757e8",
       "version_major": 2,
       "version_minor": 0
      },
      "text/plain": [
       "Epoch 196/200:   0%|          | 0/421 [00:00<?, ?batch/s]"
      ]
     },
     "metadata": {},
     "output_type": "display_data"
    },
    {
     "data": {
      "application/vnd.jupyter.widget-view+json": {
       "model_id": "f2e7e73010164da4968c3176fb4a93f4",
       "version_major": 2,
       "version_minor": 0
      },
      "text/plain": [
       "Epoch 197/200:   0%|          | 0/421 [00:00<?, ?batch/s]"
      ]
     },
     "metadata": {},
     "output_type": "display_data"
    },
    {
     "data": {
      "application/vnd.jupyter.widget-view+json": {
       "model_id": "3ee1e491b8d54140b1f6a550828d63c6",
       "version_major": 2,
       "version_minor": 0
      },
      "text/plain": [
       "Epoch 198/200:   0%|          | 0/421 [00:00<?, ?batch/s]"
      ]
     },
     "metadata": {},
     "output_type": "display_data"
    },
    {
     "data": {
      "application/vnd.jupyter.widget-view+json": {
       "model_id": "70f3476e969c4db1a2a5bada5b717024",
       "version_major": 2,
       "version_minor": 0
      },
      "text/plain": [
       "Epoch 199/200:   0%|          | 0/421 [00:00<?, ?batch/s]"
      ]
     },
     "metadata": {},
     "output_type": "display_data"
    },
    {
     "data": {
      "application/vnd.jupyter.widget-view+json": {
       "model_id": "c1da7189c2c94e3fad8a7d6fffdea6f8",
       "version_major": 2,
       "version_minor": 0
      },
      "text/plain": [
       "Epoch 200/200:   0%|          | 0/421 [00:00<?, ?batch/s]"
      ]
     },
     "metadata": {},
     "output_type": "display_data"
    },
    {
     "name": "stdout",
     "output_type": "stream",
     "text": [
      "\n",
      "Epoch [200/200], Loss: 0.9959\n"
     ]
    },
    {
     "ename": "",
     "evalue": "",
     "output_type": "error",
     "traceback": [
      "\u001b[1;31mThe Kernel crashed while executing code in the current cell or a previous cell. \n",
      "\u001b[1;31mPlease review the code in the cell(s) to identify a possible cause of the failure. \n",
      "\u001b[1;31mClick <a href='https://aka.ms/vscodeJupyterKernelCrash'>here</a> for more info. \n",
      "\u001b[1;31mView Jupyter <a href='command:jupyter.viewOutput'>log</a> for further details."
     ]
    }
   ],
   "source": [
    "clip_embed_size = 768\n",
    "input_size = 4096\n",
    "num_classes = len(mlb)\n",
    "\n",
    "model =  ElixrbClassifier(\n",
    "        input_size=input_size,\n",
    "        embedding_dim=clip_embed_size,\n",
    "        num_classes=num_classes)\n",
    "\n",
    "\n",
    "if os.path.exists('./weights/elixrb-classifier/model.pth'):\n",
    "    model.load_state_dict(torch.load('./weights/elixrb-classifier/model.pth'))\n",
    "\n",
    "\n",
    "model, config = train_model(model, train_loader, num_epochs=epochs,learning_rate=learning_rate,weight_decay=weight_decay,output_dir='./weights',device=device)"
   ]
  },
  {
   "cell_type": "code",
   "execution_count": null,
   "metadata": {},
   "outputs": [],
   "source": []
  }
 ],
 "metadata": {
  "kernelspec": {
   "display_name": ".venv",
   "language": "python",
   "name": "python3"
  },
  "language_info": {
   "codemirror_mode": {
    "name": "ipython",
    "version": 3
   },
   "file_extension": ".py",
   "mimetype": "text/x-python",
   "name": "python",
   "nbconvert_exporter": "python",
   "pygments_lexer": "ipython3",
   "version": "3.10.12"
  }
 },
 "nbformat": 4,
 "nbformat_minor": 2
}
