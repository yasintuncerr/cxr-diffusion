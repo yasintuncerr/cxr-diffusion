{
 "cells": [
  {
   "cell_type": "code",
   "execution_count": 1,
   "metadata": {},
   "outputs": [
    {
     "name": "stderr",
     "output_type": "stream",
     "text": [
      "/home/yasin/Projects/cxr-diffusion/.venv/lib/python3.10/site-packages/transformers/utils/hub.py:128: FutureWarning: Using `TRANSFORMERS_CACHE` is deprecated and will be removed in v5 of Transformers. Use `HF_HOME` instead.\n",
      "  warnings.warn(\n"
     ]
    }
   ],
   "source": [
    "import os\n",
    "import sys\n",
    "sys.path.append(os.path.abspath(\"..\")) \n",
    "\n",
    "\n",
    "from tqdm.notebook import tqdm\n",
    "from dataclasses import dataclass\n",
    "from dotenv import load_dotenv\n",
    "load_dotenv()\n",
    "\n",
    "\n",
    "\n",
    "import pickle\n",
    "\n",
    "import torch\n",
    "import torch.nn.functional as F\n",
    "from torch.utils.data import DataLoader,Dataset\n",
    "\n",
    "from diffusers import DDPMScheduler\n",
    "from diffusers.optimization import get_cosine_schedule_with_warmup\n",
    "\n",
    "from src.models import FeatureConditionedUNet, FeatureConditionedUNetConfig"
   ]
  },
  {
   "cell_type": "markdown",
   "metadata": {},
   "source": [
    "## Configurations"
   ]
  },
  {
   "cell_type": "code",
   "execution_count": 2,
   "metadata": {},
   "outputs": [],
   "source": [
    "unet_config = {\n",
    "    # Architecture parameters\n",
    "    \"sample_size\": 28,  # for 224x224 images (224 = 28 * 8)\n",
    "    \"in_channels\": 4,\n",
    "    \"out_channels\": 4,\n",
    "    \"layers_per_block\": 2,\n",
    "    \"block_out_channels\": (320, 640, 1280, 1280),\n",
    "    \"down_block_types\": (\n",
    "        \"CrossAttnDownBlock2D\",\n",
    "        \"CrossAttnDownBlock2D\",\n",
    "        \"CrossAttnDownBlock2D\",\n",
    "        \"DownBlock2D\"\n",
    "    ),\n",
    "    \"up_block_types\": (\n",
    "        \"UpBlock2D\",\n",
    "        \"CrossAttnUpBlock2D\",\n",
    "        \"CrossAttnUpBlock2D\",\n",
    "        \"CrossAttnUpBlock2D\"\n",
    "    ),\n",
    "    \n",
    "    # Attention parameters\n",
    "    \"attention_head_dim\": 8,\n",
    "    \"cross_attention_dim\": 768,\n",
    "    \n",
    "    # Normalization and activation\n",
    "    \"norm_num_groups\": 32,\n",
    "    \"norm_eps\": 1e-05,\n",
    "    \"act_fn\": \"silu\",\n",
    "    \n",
    "    # Additional configuration\n",
    "    \"center_input_sample\": False,\n",
    "    \"downsample_padding\": 1,\n",
    "    \"flip_sin_to_cos\": True,\n",
    "    \"freq_shift\": 0,\n",
    "    \"mid_block_scale_factor\": 1\n",
    "}\n",
    "\n",
    "\n",
    "# To create the model:\n",
    "\n",
    "\n",
    "@dataclass\n",
    "class train_config:\n",
    "    device = \"cuda:2\"\n",
    "    num_workers = 24\n",
    "    batch_size = 16\n",
    "    mixed_precision = \"fp16\"    \n",
    "    output_dir = \"output\"\n",
    "    save_model_epochs = 3\n",
    "    num_epochs = 20\n",
    "    num_train_timesteps = 1000\n",
    "    learning_rate = 1e-5\n",
    "    lr_warmup_steps:int = 500\n",
    "    unet_config = unet_config\n",
    "    feature_dim = 4096\n",
    "    projection_config = {\n",
    "        \"hidden_dim\": 1024,\n",
    "        \"num_hidden_layers\": 2\n",
    "    }\n",
    "\n",
    "\n",
    "config = train_config()"
   ]
  },
  {
   "cell_type": "markdown",
   "metadata": {},
   "source": [
    "# Datasets"
   ]
  },
  {
   "cell_type": "code",
   "execution_count": 3,
   "metadata": {},
   "outputs": [],
   "source": [
    "class LatentCondEmbedingDataset(Dataset):\n",
    "    def __init__(self, latent, condembeds):\n",
    "        self.latent = latent\n",
    "        self.condembeds = condembeds\n",
    "\n",
    "    def __len__(self):\n",
    "        return len(self.latent)\n",
    "\n",
    "    def __getitem__(self, idx):\n",
    "        return self.latent[idx], self.condembeds[idx]\n",
    "    \n",
    "\n",
    "\n",
    "\n",
    "file_path = './data/nih-cxr14-latent-embed.pkl'\n",
    "\n",
    "with open(file_path, 'rb') as f:\n",
    "    data = pickle.load(f)\n",
    "\n",
    "latent = data['latents']\n",
    "condembeds = data['embeddings']\n",
    "\n",
    "\n",
    "dataset = LatentCondEmbedingDataset(latent, condembeds)\n",
    "\n",
    "\n",
    "dataloader = DataLoader(dataset, \n",
    "                        batch_size=config.batch_size, \n",
    "                        shuffle=True,\n",
    "                        num_workers=config.num_workers,\n",
    "                        pin_memory=True,\n",
    "                        )\n",
    "\n",
    "dataset_size = len(dataset)"
   ]
  },
  {
   "cell_type": "markdown",
   "metadata": {},
   "source": [
    "# Creating Model, Noise Scheduler And Optimizer"
   ]
  },
  {
   "cell_type": "code",
   "execution_count": 4,
   "metadata": {},
   "outputs": [],
   "source": [
    "\n",
    "model_config = FeatureConditionedUNetConfig(\n",
    "    feature_dim=config.feature_dim,\n",
    "    unet_config=config.unet_config,\n",
    "    projection_config=config.projection_config\n",
    ")\n",
    "\n",
    "model = FeatureConditionedUNet(model_config)\n",
    "\n",
    "noise_scheduler = DDPMScheduler(num_train_timesteps=config.num_train_timesteps)\n",
    "\n",
    "optimizer = torch.optim.AdamW(model.parameters(), lr=config.learning_rate)\n",
    "\n",
    "\n",
    "lr_scheduler = get_cosine_schedule_with_warmup(\n",
    "    optimizer=optimizer,\n",
    "    num_warmup_steps=config.lr_warmup_steps,\n",
    "    num_training_steps=(dataset_size * config.num_epochs))\n",
    "\n"
   ]
  },
  {
   "cell_type": "code",
   "execution_count": 5,
   "metadata": {},
   "outputs": [],
   "source": [
    "from accelerate import Accelerator\n",
    "import tensorboard\n",
    "\n",
    "torch.cuda.set_device(2)\n",
    "\n",
    "accelerator = Accelerator(\n",
    "    mixed_precision=config.mixed_precision,\n",
    "    gradient_accumulation_steps=1,\n",
    "    log_with='tensorboard',\n",
    "    project_dir=os.path.join(config.output_dir, \"logs\")\n",
    "    )\n",
    "\n",
    "\n",
    "if accelerator.is_main_process:\n",
    "    if not os.path.exists(config.output_dir):\n",
    "        os.makedirs(config.output_dir)\n",
    "    accelerator.init_trackers(\"train_example\")\n",
    "\n",
    "\n",
    "\n",
    "\n",
    "def save_model_checkpoint(model, accelerator, output_dir, epoch):\n",
    "    unwrapped_model = accelerator.unwrap_model(model)\n",
    "\n",
    "    if accelerator.is_main_process:\n",
    "        os.makedirs(os.path.join(output_dir, f\"checkpoint_{epoch:03d}\"), exist_ok=True)\n",
    "\n",
    "        unwrapped_model.save_pretrained(\n",
    "            os.path.join(output_dir, f\"checkpoint_{epoch:03d}\")\n",
    "        )\n",
    "\n",
    "\n",
    "\n"
   ]
  },
  {
   "cell_type": "code",
   "execution_count": 12,
   "metadata": {},
   "outputs": [],
   "source": [
    "def train(config, model, optimizer, noise_scheduler, data_loader, lr_scheduler, accelerator):\n",
    "    \n",
    "    global_step = 0\n",
    "\n",
    "    # Progress bar for epochs\n",
    "    progress_bar = tqdm(range(config.num_epochs), disable=not accelerator.is_local_main_process)\n",
    "    progress_bar.set_description(\"Epochs\")\n",
    "\n",
    "\n",
    "    for epoch in range(config.num_epochs):\n",
    "        model.train()\n",
    "\n",
    "        step_progress_bar = tqdm(total=len(data_loader), disable=not accelerator.is_local_main_process)\n",
    "        step_progress_bar.set_description(f\"Epoch {epoch}\")\n",
    "\n",
    "\n",
    "        for step, batch in enumerate(data_loader):\n",
    "            latents, condembeds = batch\n",
    "\n",
    "            # Reshape condembeds from (1, 32, 128) to (batch_size, 4096)\n",
    "            condembeds = condembeds.reshape(condembeds.shape[0], -1)  # -1 otomatik olarak 32*128=4096 yapacak\n",
    "\n",
    "\n",
    "            noise = torch.rand_like(latents)\n",
    "            timesteps = torch.randint(0, noise_scheduler.num_train_timesteps, (latents.shape[0],), device=latents.device).long()\n",
    "\n",
    "            noisy_latents = noise_scheduler.add_noise(latents, noise, timesteps)\n",
    "            \n",
    "\n",
    "            with accelerator.accumulate(model):\n",
    "                # Predict the noise residual\n",
    "                noise_pred = model(noisy_latents, timesteps, features=condembeds, return_dict=False)[0]\n",
    "                loss = F.mse_loss(noise_pred, noise)\n",
    "\n",
    "            \n",
    "                #Bacpropagation\n",
    "                accelerator.backward(loss)\n",
    "                if accelerator.sync_gradients:\n",
    "                    accelerator.clip_grad_norm_(model.parameters(), 1.0)\n",
    "                optimizer.step()\n",
    "                lr_scheduler.step()\n",
    "                optimizer.zero_grad()\n",
    "            \n",
    "            # Logging\n",
    "            if accelerator.is_main_process:\n",
    "                logs = {\n",
    "                    \"loss\": loss.detach().item(),\n",
    "                    \"lr\": lr_scheduler.get_last_lr()[0],\n",
    "                    \"step\": global_step,\n",
    "                    \"epoch\": epoch,\n",
    "                }\n",
    "                step_progress_bar.set_postfix(**logs)\n",
    "                accelerator.log(logs, step=global_step)\n",
    "\n",
    "            global_step += 1\n",
    "            step_progress_bar.update(1)\n",
    "\n",
    "        # Save checkpoint at specified intervals\n",
    "        if (epoch + 1) % config.save_model_epochs == 0:\n",
    "            save_model_checkpoint(model, accelerator, config.output_dir, epoch + 1)\n",
    "            \n",
    "        step_progress_bar.close()\n",
    "        progress_bar.update(1)\n",
    "    \n",
    "    # Save final model\n",
    "    save_model_checkpoint(model, accelerator, config.output_dir, \"final\")\n",
    "    \n",
    "    return global_step"
   ]
  },
  {
   "cell_type": "code",
   "execution_count": 13,
   "metadata": {},
   "outputs": [],
   "source": [
    "#Move model to accelerator\n",
    "model, optimizer, lr_scheduler, dataloader, accelerator = accelerator.prepare(\n",
    "    model, optimizer, lr_scheduler, dataloader, accelerator\n",
    ")\n",
    "\n",
    "\n"
   ]
  },
  {
   "cell_type": "code",
   "execution_count": 11,
   "metadata": {},
   "outputs": [
    {
     "data": {
      "application/vnd.jupyter.widget-view+json": {
       "model_id": "61eee9e237d340d282f762f148291c4a",
       "version_major": 2,
       "version_minor": 0
      },
      "text/plain": [
       "  0%|          | 0/20 [00:00<?, ?it/s]"
      ]
     },
     "metadata": {},
     "output_type": "display_data"
    },
    {
     "data": {
      "application/vnd.jupyter.widget-view+json": {
       "model_id": "3f47a08f67064216a7c2f879d60214d2",
       "version_major": 2,
       "version_minor": 0
      },
      "text/plain": [
       "  0%|          | 0/1834 [00:00<?, ?it/s]"
      ]
     },
     "metadata": {},
     "output_type": "display_data"
    },
    {
     "data": {
      "application/vnd.jupyter.widget-view+json": {
       "model_id": "3a4d2023b9fe442299d5ebb62d92b80e",
       "version_major": 2,
       "version_minor": 0
      },
      "text/plain": [
       "  0%|          | 0/1834 [00:00<?, ?it/s]"
      ]
     },
     "metadata": {},
     "output_type": "display_data"
    }
   ],
   "source": [
    "train(config, model, optimizer, noise_scheduler, dataloader, lr_scheduler, accelerator)\n"
   ]
  },
  {
   "cell_type": "code",
   "execution_count": null,
   "metadata": {},
   "outputs": [],
   "source": []
  }
 ],
 "metadata": {
  "kernelspec": {
   "display_name": ".venv",
   "language": "python",
   "name": "python3"
  },
  "language_info": {
   "codemirror_mode": {
    "name": "ipython",
    "version": 3
   },
   "file_extension": ".py",
   "mimetype": "text/x-python",
   "name": "python",
   "nbconvert_exporter": "python",
   "pygments_lexer": "ipython3",
   "version": "3.10.12"
  }
 },
 "nbformat": 4,
 "nbformat_minor": 2
}
