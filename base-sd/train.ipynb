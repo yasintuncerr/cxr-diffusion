{
 "cells": [
  {
   "cell_type": "code",
   "execution_count": 1,
   "metadata": {},
   "outputs": [],
   "source": [
    "from dataclasses import dataclass\n",
    "\n",
    "@dataclass\n",
    "class TrainingConfig:\n",
    "    image_size:int =  224\n",
    "    train_batch_size:int =  128\n",
    "    eval_batch_size:int =  128\n",
    "    num_epochs:int =  20\n",
    "    learning_rate:float =  1e-4\n",
    "    lr_warmup_steps:int = 500\n",
    "    save_image_epochs:int = 10\n",
    "    save_model_epochs:int = 10\n",
    "    mixed_precision:str = \"fp16\"\n",
    "    output_dir:str = \"output\"\n",
    "    save_model_epochs: int = 2\n",
    "    gradient_accumulation_steps: int = 1\n",
    "\n",
    "\n",
    "\n",
    "\n",
    "config = TrainingConfig()\n"
   ]
  },
  {
   "cell_type": "code",
   "execution_count": 2,
   "metadata": {},
   "outputs": [],
   "source": [
    "\n",
    "import torch\n",
    "from torch.utils.data import Dataset, DataLoader\n",
    "\n",
    "class TextLatentDataset(Dataset):\n",
    "    def __init__(self, text_embeds, latents):\n",
    "        self.text_embeds = text_embeds\n",
    "        self.latents = latents\n",
    "\n",
    "    def __len__(self):\n",
    "        return len(self.text_embeds)\n",
    "\n",
    "    def __getitem__(self, idx):\n",
    "        # Text embedding al\n",
    "        text_embed = torch.tensor(self.text_embeds[idx], dtype=torch.float32)\n",
    "        \n",
    "        # Eğer 77'den küçükse padding yap\n",
    "        if text_embed.shape[0] < 77:\n",
    "            padding = torch.zeros((77 - text_embed.shape[0], 768), dtype=torch.float32)\n",
    "            text_embed = torch.cat([text_embed, padding], dim=0)\n",
    "        # Eğer 77'den büyükse kes\n",
    "        elif text_embed.shape[0] > 77:\n",
    "            text_embed = text_embed[:77, :]\n",
    "\n",
    "        # Latent al\n",
    "        latent = torch.tensor(self.latents[idx], dtype=torch.float32)\n",
    "        \n",
    "        return text_embed, latent"
   ]
  },
  {
   "cell_type": "code",
   "execution_count": 3,
   "metadata": {},
   "outputs": [],
   "source": [
    "import pickle \n",
    "\n",
    "file_path = \"./data/embeddings.pkl\"\n",
    "\n",
    "with open(file_path, \"rb\") as f:\n",
    "    embeddings = pickle.load(f)\n",
    "\n",
    "text_embeds = embeddings[\"texts\"]\n",
    "latents = embeddings[\"latents\"]\n",
    "\n",
    "# Convert dictionary to list based on sorted keys\n",
    "text_embeds_list = [text_embeds[i] for i in sorted(text_embeds.keys())]\n",
    "latents_list = [latents[i] for i in sorted(latents.keys())]\n",
    "\n",
    "# Now we can slice\n",
    "val_text_embeds = text_embeds_list[0:1000]\n",
    "val_latents = latents_list[0:1000]\n",
    "\n",
    "train_text_embeds = text_embeds_list[1000:]\n",
    "train_latents = latents_list[1000:]\n",
    "\n",
    "train_dataset_len = len(train_text_embeds)\n",
    "\n",
    "train_dataset = TextLatentDataset(train_text_embeds, train_latents)\n",
    "val_dataset = TextLatentDataset(val_text_embeds, val_latents)\n",
    "\n",
    "train_loader = DataLoader(\n",
    "    train_dataset, \n",
    "    batch_size=config.train_batch_size, \n",
    "    shuffle=True, \n",
    "    num_workers=24, \n",
    "    pin_memory=True\n",
    ")\n",
    "val_loader = DataLoader(\n",
    "    val_dataset, \n",
    "    batch_size=config.eval_batch_size, \n",
    "    shuffle=False, \n",
    "    num_workers=24, \n",
    "    pin_memory=True\n",
    ")"
   ]
  },
  {
   "cell_type": "code",
   "execution_count": 4,
   "metadata": {},
   "outputs": [
    {
     "name": "stderr",
     "output_type": "stream",
     "text": [
      "/home/yasin/Projects/elixr-diffusion/.venv/lib/python3.10/site-packages/transformers/utils/hub.py:128: FutureWarning: Using `TRANSFORMERS_CACHE` is deprecated and will be removed in v5 of Transformers. Use `HF_HOME` instead.\n",
      "  warnings.warn(\n"
     ]
    }
   ],
   "source": [
    "from diffusers import UNet2DConditionModel  \n",
    "\n",
    "model = UNet2DConditionModel(\n",
    "    sample_size=config.image_size,\n",
    "    in_channels=4,  # latent channels\n",
    "    out_channels=4, # latent channels\n",
    "    layers_per_block=2,\n",
    "    block_out_channels=(128, 128, 256, 256, 512, 512),\n",
    "    down_block_types=(\n",
    "        \"CrossAttnDownBlock2D\",\n",
    "        \"CrossAttnDownBlock2D\",\n",
    "        \"CrossAttnDownBlock2D\",\n",
    "        \"DownBlock2D\",\n",
    "        \"DownBlock2D\",\n",
    "        \"DownBlock2D\",\n",
    "    ),\n",
    "    up_block_types=(\n",
    "        \"UpBlock2D\",\n",
    "        \"UpBlock2D\",\n",
    "        \"UpBlock2D\",\n",
    "        \"CrossAttnUpBlock2D\",\n",
    "        \"CrossAttnUpBlock2D\",\n",
    "        \"CrossAttnUpBlock2D\",\n",
    "    ),\n",
    "    cross_attention_dim=768,  # CLIP hidden size\n",
    ")"
   ]
  },
  {
   "cell_type": "code",
   "execution_count": 5,
   "metadata": {},
   "outputs": [],
   "source": [
    "\n",
    "from diffusers import DDPMScheduler\n",
    "\n",
    "noise_scheduler = DDPMScheduler(num_train_timesteps=1000)"
   ]
  },
  {
   "cell_type": "code",
   "execution_count": 6,
   "metadata": {},
   "outputs": [],
   "source": [
    "import torch\n",
    "from diffusers.optimization import get_cosine_schedule_with_warmup\n",
    "\n",
    "optimizer = torch.optim.AdamW(model.parameters(), lr=config.learning_rate)\n",
    "lr_scheduler = get_cosine_schedule_with_warmup(\n",
    "    optimizer=optimizer,\n",
    "    num_warmup_steps=config.lr_warmup_steps,\n",
    "    num_training_steps=(train_dataset_len * config.num_epochs),\n",
    ")"
   ]
  },
  {
   "cell_type": "code",
   "execution_count": 7,
   "metadata": {},
   "outputs": [],
   "source": [
    "import os\n",
    "from accelerate import Accelerator\n",
    "import torch\n",
    "import tensorboard  # Add this import\n",
    "\n",
    "torch.cuda.set_device(2) \n",
    "\n",
    "# Initialize accelerator and tensorboard logging\n",
    "accelerator = Accelerator(\n",
    "        mixed_precision=config.mixed_precision,\n",
    "        gradient_accumulation_steps=config.gradient_accumulation_steps,\n",
    "        log_with=\"tensorboard\",\n",
    "        project_dir=os.path.join(config.output_dir, \"logs\"),\n",
    "    )\n",
    "if accelerator.is_main_process:\n",
    "    if config.output_dir is not None:\n",
    "        os.makedirs(config.output_dir, exist_ok=True)\n",
    "    accelerator.init_trackers(\"train_example\")\n",
    "\n",
    "\n",
    "model, optimizer, lr_scheduler, train_loader, val_loader = accelerator.prepare(\n",
    "    model, optimizer, lr_scheduler, train_loader, val_loader\n",
    ")"
   ]
  },
  {
   "cell_type": "code",
   "execution_count": 8,
   "metadata": {},
   "outputs": [],
   "source": [
    "from tqdm.notebook import tqdm\n",
    "import torch.nn.functional as F\n",
    "import os\n",
    "from diffusers import UNet2DModel\n",
    "from accelerate.utils import ProjectConfiguration\n",
    "from huggingface_hub import HfFolder, Repository\n",
    "\n",
    "def save_model_checkpoint(model, accelerator, output_dir, epoch):\n",
    "    # Unwrap the model from accelerator to get the original model\n",
    "    unwrapped_model = accelerator.unwrap_model(model)\n",
    "    \n",
    "    # Save the model state\n",
    "    if accelerator.is_main_process:\n",
    "        # Create pipeline folder\n",
    "        os.makedirs(os.path.join(output_dir, f\"checkpoint-{epoch}\"), exist_ok=True)\n",
    "        \n",
    "        # Save the model in diffusers format\n",
    "        unwrapped_model.save_pretrained(os.path.join(output_dir, f\"checkpoint-{epoch}/unet\"))\n",
    "        \n",
    "        # Save scheduler and other components if needed\n",
    "        # noise_scheduler.save_pretrained(os.path.join(output_dir, f\"checkpoint-{epoch}/scheduler\"))\n",
    "\n",
    "def train_loop(\n",
    "    config,\n",
    "    model,\n",
    "    noise_scheduler,\n",
    "    optimizer,\n",
    "    train_loader,\n",
    "    val_loader,\n",
    "    lr_scheduler,\n",
    "    accelerator\n",
    "):\n",
    "    global_step = 0\n",
    "    \n",
    "    # Progress bar for epochs\n",
    "    progress_bar = tqdm(range(config.num_epochs), disable=not accelerator.is_local_main_process)\n",
    "    progress_bar.set_description(\"Epochs\")\n",
    "\n",
    "    for epoch in range(config.num_epochs):\n",
    "        model.train()\n",
    "        \n",
    "        # Progress bar for steps\n",
    "        step_progress_bar = tqdm(total=len(train_loader), disable=not accelerator.is_local_main_process)\n",
    "        step_progress_bar.set_description(f\"Epoch {epoch}\")\n",
    "\n",
    "        for step, batch in enumerate(train_loader):\n",
    "            encoder_hidden_states, latents = batch\n",
    "\n",
    "            # Generate noise\n",
    "            noise = torch.randn_like(latents)\n",
    "            timesteps = torch.randint(0, noise_scheduler.num_train_timesteps, (latents.shape[0],), device=latents.device).long()\n",
    "\n",
    "            # Add noise to the latents according to the noise magnitude at each timestep\n",
    "            noisy_latents = noise_scheduler.add_noise(latents, noise, timesteps)\n",
    "\n",
    "            with accelerator.accumulate(model):\n",
    "                # Predict the noise residual\n",
    "                noise_pred = model(noisy_latents, timesteps, encoder_hidden_states=encoder_hidden_states, return_dict=False)[0]\n",
    "                loss = F.mse_loss(noise_pred, noise)\n",
    "                \n",
    "                # Backpropagate\n",
    "                accelerator.backward(loss)\n",
    "                if accelerator.sync_gradients:\n",
    "                    accelerator.clip_grad_norm_(model.parameters(), 1.0)\n",
    "                optimizer.step()\n",
    "                lr_scheduler.step()\n",
    "                optimizer.zero_grad()\n",
    "\n",
    "            # Logging\n",
    "            if accelerator.is_main_process:\n",
    "                logs = {\n",
    "                    \"loss\": loss.detach().item(),\n",
    "                    \"lr\": lr_scheduler.get_last_lr()[0],\n",
    "                    \"step\": global_step,\n",
    "                    \"epoch\": epoch,\n",
    "                }\n",
    "                step_progress_bar.set_postfix(**logs)\n",
    "                accelerator.log(logs, step=global_step)\n",
    "\n",
    "            global_step += 1\n",
    "            step_progress_bar.update(1)\n",
    "\n",
    "        # Save checkpoint at specified intervals\n",
    "        if (epoch + 1) % config.save_model_epochs == 0:\n",
    "            save_model_checkpoint(model, accelerator, config.output_dir, epoch + 1)\n",
    "            \n",
    "        step_progress_bar.close()\n",
    "        progress_bar.update(1)\n",
    "    \n",
    "    # Save final model\n",
    "    save_model_checkpoint(model, accelerator, config.output_dir, \"final\")\n",
    "    \n",
    "    return global_step"
   ]
  },
  {
   "cell_type": "code",
   "execution_count": 9,
   "metadata": {},
   "outputs": [
    {
     "data": {
      "application/vnd.jupyter.widget-view+json": {
       "model_id": "cc35c6f03fa4438b8f311ab51bb3867a",
       "version_major": 2,
       "version_minor": 0
      },
      "text/plain": [
       "  0%|          | 0/20 [00:00<?, ?it/s]"
      ]
     },
     "metadata": {},
     "output_type": "display_data"
    },
    {
     "data": {
      "application/vnd.jupyter.widget-view+json": {
       "model_id": "6be2ee9cb87f48ac84222630278fa4d9",
       "version_major": 2,
       "version_minor": 0
      },
      "text/plain": [
       "  0%|          | 0/462 [00:00<?, ?it/s]"
      ]
     },
     "metadata": {},
     "output_type": "display_data"
    },
    {
     "name": "stderr",
     "output_type": "stream",
     "text": [
      "/home/yasin/Projects/elixr-diffusion/.venv/lib/python3.10/site-packages/diffusers/configuration_utils.py:140: FutureWarning: Accessing config attribute `num_train_timesteps` directly via 'DDPMScheduler' object attribute is deprecated. Please access 'num_train_timesteps' over 'DDPMScheduler's config object instead, e.g. 'scheduler.config.num_train_timesteps'.\n",
      "  deprecate(\"direct config name access\", \"1.0.0\", deprecation_message, standard_warn=False)\n"
     ]
    },
    {
     "data": {
      "application/vnd.jupyter.widget-view+json": {
       "model_id": "3f6f90a2831746b9956631e5edc8a156",
       "version_major": 2,
       "version_minor": 0
      },
      "text/plain": [
       "  0%|          | 0/462 [00:00<?, ?it/s]"
      ]
     },
     "metadata": {},
     "output_type": "display_data"
    },
    {
     "data": {
      "application/vnd.jupyter.widget-view+json": {
       "model_id": "f9fbc57b13ff4f5eb4bbb3426c31657b",
       "version_major": 2,
       "version_minor": 0
      },
      "text/plain": [
       "  0%|          | 0/462 [00:00<?, ?it/s]"
      ]
     },
     "metadata": {},
     "output_type": "display_data"
    },
    {
     "data": {
      "application/vnd.jupyter.widget-view+json": {
       "model_id": "9c68f59cda014cceae1992e689b27c69",
       "version_major": 2,
       "version_minor": 0
      },
      "text/plain": [
       "  0%|          | 0/462 [00:00<?, ?it/s]"
      ]
     },
     "metadata": {},
     "output_type": "display_data"
    },
    {
     "data": {
      "application/vnd.jupyter.widget-view+json": {
       "model_id": "65d0ca6dc51c410cb5432fac030210a0",
       "version_major": 2,
       "version_minor": 0
      },
      "text/plain": [
       "  0%|          | 0/462 [00:00<?, ?it/s]"
      ]
     },
     "metadata": {},
     "output_type": "display_data"
    },
    {
     "data": {
      "application/vnd.jupyter.widget-view+json": {
       "model_id": "06f79913a8074030b94f7e0c0bcf1a3d",
       "version_major": 2,
       "version_minor": 0
      },
      "text/plain": [
       "  0%|          | 0/462 [00:00<?, ?it/s]"
      ]
     },
     "metadata": {},
     "output_type": "display_data"
    },
    {
     "data": {
      "application/vnd.jupyter.widget-view+json": {
       "model_id": "9fc9d72282a44d6cbae1188487374c67",
       "version_major": 2,
       "version_minor": 0
      },
      "text/plain": [
       "  0%|          | 0/462 [00:00<?, ?it/s]"
      ]
     },
     "metadata": {},
     "output_type": "display_data"
    },
    {
     "data": {
      "application/vnd.jupyter.widget-view+json": {
       "model_id": "53e294378c6749c9be9a91402c116ec9",
       "version_major": 2,
       "version_minor": 0
      },
      "text/plain": [
       "  0%|          | 0/462 [00:00<?, ?it/s]"
      ]
     },
     "metadata": {},
     "output_type": "display_data"
    },
    {
     "data": {
      "application/vnd.jupyter.widget-view+json": {
       "model_id": "01d1d45dc4d245bcaff4af01d882a623",
       "version_major": 2,
       "version_minor": 0
      },
      "text/plain": [
       "  0%|          | 0/462 [00:00<?, ?it/s]"
      ]
     },
     "metadata": {},
     "output_type": "display_data"
    },
    {
     "data": {
      "application/vnd.jupyter.widget-view+json": {
       "model_id": "a488b643dbf749e6a7a2b96b765145f1",
       "version_major": 2,
       "version_minor": 0
      },
      "text/plain": [
       "  0%|          | 0/462 [00:00<?, ?it/s]"
      ]
     },
     "metadata": {},
     "output_type": "display_data"
    },
    {
     "data": {
      "application/vnd.jupyter.widget-view+json": {
       "model_id": "a8f0390dd7cc41638dc2717094b449aa",
       "version_major": 2,
       "version_minor": 0
      },
      "text/plain": [
       "  0%|          | 0/462 [00:00<?, ?it/s]"
      ]
     },
     "metadata": {},
     "output_type": "display_data"
    },
    {
     "data": {
      "application/vnd.jupyter.widget-view+json": {
       "model_id": "12543a5a6dab40fd8890a7f21a340c3d",
       "version_major": 2,
       "version_minor": 0
      },
      "text/plain": [
       "  0%|          | 0/462 [00:00<?, ?it/s]"
      ]
     },
     "metadata": {},
     "output_type": "display_data"
    },
    {
     "data": {
      "application/vnd.jupyter.widget-view+json": {
       "model_id": "fb3b65f5837c42f685f46d4da62ac69f",
       "version_major": 2,
       "version_minor": 0
      },
      "text/plain": [
       "  0%|          | 0/462 [00:00<?, ?it/s]"
      ]
     },
     "metadata": {},
     "output_type": "display_data"
    },
    {
     "data": {
      "application/vnd.jupyter.widget-view+json": {
       "model_id": "670e057a8b42438d983ceb6d08d285cc",
       "version_major": 2,
       "version_minor": 0
      },
      "text/plain": [
       "  0%|          | 0/462 [00:00<?, ?it/s]"
      ]
     },
     "metadata": {},
     "output_type": "display_data"
    },
    {
     "data": {
      "application/vnd.jupyter.widget-view+json": {
       "model_id": "3436ac485fa34aca9a104f71cfb71626",
       "version_major": 2,
       "version_minor": 0
      },
      "text/plain": [
       "  0%|          | 0/462 [00:00<?, ?it/s]"
      ]
     },
     "metadata": {},
     "output_type": "display_data"
    },
    {
     "data": {
      "application/vnd.jupyter.widget-view+json": {
       "model_id": "7cdbd4a3043e4126a36f8c3dff8a9515",
       "version_major": 2,
       "version_minor": 0
      },
      "text/plain": [
       "  0%|          | 0/462 [00:00<?, ?it/s]"
      ]
     },
     "metadata": {},
     "output_type": "display_data"
    },
    {
     "data": {
      "application/vnd.jupyter.widget-view+json": {
       "model_id": "134e3e350f5f4be6af8877fc161dc52c",
       "version_major": 2,
       "version_minor": 0
      },
      "text/plain": [
       "  0%|          | 0/462 [00:00<?, ?it/s]"
      ]
     },
     "metadata": {},
     "output_type": "display_data"
    },
    {
     "data": {
      "application/vnd.jupyter.widget-view+json": {
       "model_id": "ee459982c5ae4b2781c2e049c109c39a",
       "version_major": 2,
       "version_minor": 0
      },
      "text/plain": [
       "  0%|          | 0/462 [00:00<?, ?it/s]"
      ]
     },
     "metadata": {},
     "output_type": "display_data"
    },
    {
     "data": {
      "application/vnd.jupyter.widget-view+json": {
       "model_id": "1ac401de23514c229f9adfc7e9bb7e29",
       "version_major": 2,
       "version_minor": 0
      },
      "text/plain": [
       "  0%|          | 0/462 [00:00<?, ?it/s]"
      ]
     },
     "metadata": {},
     "output_type": "display_data"
    },
    {
     "data": {
      "application/vnd.jupyter.widget-view+json": {
       "model_id": "67cf3aacf31e479497204e38bdd80d92",
       "version_major": 2,
       "version_minor": 0
      },
      "text/plain": [
       "  0%|          | 0/462 [00:00<?, ?it/s]"
      ]
     },
     "metadata": {},
     "output_type": "display_data"
    }
   ],
   "source": [
    "global_step = train_loop(\n",
    "        config=config,\n",
    "        model=model,\n",
    "        noise_scheduler=noise_scheduler,\n",
    "        optimizer=optimizer,\n",
    "        train_loader=train_loader,\n",
    "        val_loader=val_loader,\n",
    "        lr_scheduler=lr_scheduler,\n",
    "        accelerator=accelerator\n",
    "    )"
   ]
  },
  {
   "cell_type": "code",
   "execution_count": null,
   "metadata": {},
   "outputs": [],
   "source": []
  }
 ],
 "metadata": {
  "kernelspec": {
   "display_name": ".venv",
   "language": "python",
   "name": "python3"
  },
  "language_info": {
   "codemirror_mode": {
    "name": "ipython",
    "version": 3
   },
   "file_extension": ".py",
   "mimetype": "text/x-python",
   "name": "python",
   "nbconvert_exporter": "python",
   "pygments_lexer": "ipython3",
   "version": "3.10.12"
  }
 },
 "nbformat": 4,
 "nbformat_minor": 2
}
